{
 "cells": [
  {
   "cell_type": "markdown",
   "id": "3aa55c9f-1b6f-4828-96b8-7e5b2fbf4a6e",
   "metadata": {},
   "source": [
    "# Data Analysis \n",
    "\n",
    "User Profile of the School of Technology Progra{Maria}"
   ]
  },
  {
   "cell_type": "code",
   "execution_count": 1,
   "id": "d9401417-ceb3-42a8-ac34-7491d182483b",
   "metadata": {
    "tags": []
   },
   "outputs": [],
   "source": [
    "import pandas as pd \n",
    "import matplotlib.pyplot as plt\n",
    "import numpy as np"
   ]
  },
  {
   "cell_type": "markdown",
   "id": "5b19f0b6-9697-4fc4-8e22-64aac00646ab",
   "metadata": {
    "tags": []
   },
   "source": [
    "# 1. Data Processing"
   ]
  },
  {
   "cell_type": "markdown",
   "id": "09326e3c-70fb-4c3d-9a5d-f734d438b4a6",
   "metadata": {
    "tags": []
   },
   "source": [
    "## 1.1. Importing Data"
   ]
  },
  {
   "cell_type": "code",
   "execution_count": 2,
   "id": "6c39825b-1c56-4246-bebb-6d00f885ceca",
   "metadata": {
    "tags": []
   },
   "outputs": [],
   "source": [
    "data = pd.read_excel('/home/apfa/Python Aulas/progMaria/global_atz_progMaria.xlsx')"
   ]
  },
  {
   "cell_type": "code",
   "execution_count": 3,
   "id": "a8d64226-c61f-44ec-9eed-9c370b9bf5c8",
   "metadata": {
    "tags": []
   },
   "outputs": [
    {
     "data": {
      "text/html": [
       "<div>\n",
       "<style scoped>\n",
       "    .dataframe tbody tr th:only-of-type {\n",
       "        vertical-align: middle;\n",
       "    }\n",
       "\n",
       "    .dataframe tbody tr th {\n",
       "        vertical-align: top;\n",
       "    }\n",
       "\n",
       "    .dataframe thead th {\n",
       "        text-align: right;\n",
       "    }\n",
       "</style>\n",
       "<table border=\"1\" class=\"dataframe\">\n",
       "  <thead>\n",
       "    <tr style=\"text-align: right;\">\n",
       "      <th></th>\n",
       "      <th>Unnamed: 0</th>\n",
       "      <th>IDADE</th>\n",
       "      <th>FAIXA IDADE</th>\n",
       "      <th>GENERO</th>\n",
       "      <th>COR/RACA/ETNIA</th>\n",
       "      <th>PCD</th>\n",
       "      <th>EXPERIENCIA_PROFISSIONAL_PREJUDICADA</th>\n",
       "      <th>PREJUDICA?</th>\n",
       "      <th>ASPECTOS_PREJUDICADOS</th>\n",
       "      <th>VIVE_NO_BRASIL</th>\n",
       "      <th>...</th>\n",
       "      <th>GESTOR?</th>\n",
       "      <th>NIVEL</th>\n",
       "      <th>NOVO NÍVEL</th>\n",
       "      <th>CARGO COMO GESTOR</th>\n",
       "      <th>CARGO ATUAL</th>\n",
       "      <th>Unnamed: 26</th>\n",
       "      <th>FAIXA SALARIAL</th>\n",
       "      <th>SALARIO</th>\n",
       "      <th>QUANTO TEMPO DE EXPERIÊNCIA NA ÁREA DE DADOS VOCÊ TEM?</th>\n",
       "      <th>QUANTO TEMPO DE EXPERIÊNCIA NA ÁREA DE TI/ENGENHARIA DE SOFTWARE VOCÊ TEVE ANTES DE COMEÇAR A TRABALHAR NA ÁREA DE DADOS?</th>\n",
       "    </tr>\n",
       "  </thead>\n",
       "  <tbody>\n",
       "    <tr>\n",
       "      <th>0</th>\n",
       "      <td>zzqzz3l9ily8nuo2m7wyzzqzz3w48o96</td>\n",
       "      <td>39.0</td>\n",
       "      <td>35-39</td>\n",
       "      <td>Masculino</td>\n",
       "      <td>Parda</td>\n",
       "      <td>Não</td>\n",
       "      <td>Não acredito que minha experiência profissiona...</td>\n",
       "      <td>FALSO</td>\n",
       "      <td>NaN</td>\n",
       "      <td>True</td>\n",
       "      <td>...</td>\n",
       "      <td>False</td>\n",
       "      <td>Júnior</td>\n",
       "      <td>Júnior</td>\n",
       "      <td>NaN</td>\n",
       "      <td>DBA/Administrador de Banco de Dados</td>\n",
       "      <td>NaN</td>\n",
       "      <td>de R$ 8.001/mês a R$ 12.000/mês</td>\n",
       "      <td>11194.0</td>\n",
       "      <td>de 1 a 2 anos</td>\n",
       "      <td>de 7 a 10 anos</td>\n",
       "    </tr>\n",
       "    <tr>\n",
       "      <th>1</th>\n",
       "      <td>zzls2oftfn9law393oezzls2ofhvfpzd</td>\n",
       "      <td>32.0</td>\n",
       "      <td>30-34</td>\n",
       "      <td>Masculino</td>\n",
       "      <td>Parda</td>\n",
       "      <td>Não</td>\n",
       "      <td>Sim, acredito que a minha a experiência profis...</td>\n",
       "      <td>TRUE</td>\n",
       "      <td>Aprovação em processos seletivos/entrevistas</td>\n",
       "      <td>True</td>\n",
       "      <td>...</td>\n",
       "      <td>True</td>\n",
       "      <td>NaN</td>\n",
       "      <td>Gestora</td>\n",
       "      <td>Supervisor/Coordenador</td>\n",
       "      <td>NaN</td>\n",
       "      <td>NaN</td>\n",
       "      <td>de R$ 4.001/mês a R$ 6.000/mês</td>\n",
       "      <td>4695.0</td>\n",
       "      <td>de 3 a 4 anos</td>\n",
       "      <td>Menos de 1 ano</td>\n",
       "    </tr>\n",
       "    <tr>\n",
       "      <th>2</th>\n",
       "      <td>zzdwqzfqqp1ypc7ps6m0hzzdwqz292yi</td>\n",
       "      <td>53.0</td>\n",
       "      <td>50-54</td>\n",
       "      <td>Masculino</td>\n",
       "      <td>Branca</td>\n",
       "      <td>Não</td>\n",
       "      <td>NaN</td>\n",
       "      <td>FALSO</td>\n",
       "      <td>NaN</td>\n",
       "      <td>True</td>\n",
       "      <td>...</td>\n",
       "      <td>False</td>\n",
       "      <td>Pleno</td>\n",
       "      <td>Pleno</td>\n",
       "      <td>NaN</td>\n",
       "      <td>Desenvolvedor/ Engenheiro de Software/ Analist...</td>\n",
       "      <td>NaN</td>\n",
       "      <td>de R$ 12.001/mês a R$ 16.000/mês</td>\n",
       "      <td>14202.0</td>\n",
       "      <td>de 3 a 4 anos</td>\n",
       "      <td>Mais de 10 anos</td>\n",
       "    </tr>\n",
       "    <tr>\n",
       "      <th>3</th>\n",
       "      <td>zzbqh3uy7yk7k9qmkzzbqtb4s9faqspl</td>\n",
       "      <td>27.0</td>\n",
       "      <td>25-29</td>\n",
       "      <td>Masculino</td>\n",
       "      <td>Branca</td>\n",
       "      <td>Não</td>\n",
       "      <td>NaN</td>\n",
       "      <td>FALSO</td>\n",
       "      <td>NaN</td>\n",
       "      <td>True</td>\n",
       "      <td>...</td>\n",
       "      <td>False</td>\n",
       "      <td>Sênior</td>\n",
       "      <td>Sênior</td>\n",
       "      <td>NaN</td>\n",
       "      <td>Cientista de Dados/Data Scientist</td>\n",
       "      <td>NaN</td>\n",
       "      <td>de R$ 12.001/mês a R$ 16.000/mês</td>\n",
       "      <td>15463.0</td>\n",
       "      <td>de 4 a 6 anos</td>\n",
       "      <td>Não tive experiência na área de TI/Engenharia ...</td>\n",
       "    </tr>\n",
       "    <tr>\n",
       "      <th>4</th>\n",
       "      <td>zzaf1m95yan929rb94wzzaf1mekhvhpg</td>\n",
       "      <td>46.0</td>\n",
       "      <td>45-49</td>\n",
       "      <td>Feminino</td>\n",
       "      <td>Branca</td>\n",
       "      <td>Não</td>\n",
       "      <td>Não acredito que minha experiência profissiona...</td>\n",
       "      <td>FALSO</td>\n",
       "      <td>NaN</td>\n",
       "      <td>True</td>\n",
       "      <td>...</td>\n",
       "      <td>False</td>\n",
       "      <td>Pleno</td>\n",
       "      <td>Pleno</td>\n",
       "      <td>NaN</td>\n",
       "      <td>Desenvolvedor/ Engenheiro de Software/ Analist...</td>\n",
       "      <td>NaN</td>\n",
       "      <td>de R$ 6.001/mês a R$ 8.000/mês</td>\n",
       "      <td>7733.0</td>\n",
       "      <td>Não tenho experiência na área de dados</td>\n",
       "      <td>Mais de 10 anos</td>\n",
       "    </tr>\n",
       "    <tr>\n",
       "      <th>5</th>\n",
       "      <td>zz0nlhbd8oxyiyxzz0nlh7g4xkiaza5v</td>\n",
       "      <td>32.0</td>\n",
       "      <td>30-34</td>\n",
       "      <td>Feminino</td>\n",
       "      <td>Parda</td>\n",
       "      <td>Não</td>\n",
       "      <td>Não acredito que minha experiência profissiona...</td>\n",
       "      <td>FALSO</td>\n",
       "      <td>NaN</td>\n",
       "      <td>True</td>\n",
       "      <td>...</td>\n",
       "      <td>False</td>\n",
       "      <td>Pleno</td>\n",
       "      <td>Pleno</td>\n",
       "      <td>NaN</td>\n",
       "      <td>Professor</td>\n",
       "      <td>NaN</td>\n",
       "      <td>de R$ 2.001/mês a R$ 3.000/mês</td>\n",
       "      <td>2336.0</td>\n",
       "      <td>Não tenho experiência na área de dados</td>\n",
       "      <td>Não tive experiência na área de TI/Engenharia ...</td>\n",
       "    </tr>\n",
       "    <tr>\n",
       "      <th>6</th>\n",
       "      <td>zytlxsdgalh22cgrijvzytlxa49i8yzx</td>\n",
       "      <td>21.0</td>\n",
       "      <td>17-21</td>\n",
       "      <td>Masculino</td>\n",
       "      <td>Parda</td>\n",
       "      <td>Não</td>\n",
       "      <td>Não acredito que minha experiência profissiona...</td>\n",
       "      <td>FALSO</td>\n",
       "      <td>NaN</td>\n",
       "      <td>True</td>\n",
       "      <td>...</td>\n",
       "      <td>False</td>\n",
       "      <td>Júnior</td>\n",
       "      <td>Júnior</td>\n",
       "      <td>NaN</td>\n",
       "      <td>Analista de BI/BI Analyst</td>\n",
       "      <td>NaN</td>\n",
       "      <td>de R$ 4.001/mês a R$ 6.000/mês</td>\n",
       "      <td>4491.0</td>\n",
       "      <td>de 1 a 2 anos</td>\n",
       "      <td>Menos de 1 ano</td>\n",
       "    </tr>\n",
       "    <tr>\n",
       "      <th>7</th>\n",
       "      <td>zyc0twzno2sm5or5ovoxzyc0twz0300d</td>\n",
       "      <td>31.0</td>\n",
       "      <td>30-34</td>\n",
       "      <td>Feminino</td>\n",
       "      <td>Branca</td>\n",
       "      <td>Não</td>\n",
       "      <td>Não acredito que minha experiência profissiona...</td>\n",
       "      <td>FALSO</td>\n",
       "      <td>NaN</td>\n",
       "      <td>True</td>\n",
       "      <td>...</td>\n",
       "      <td>False</td>\n",
       "      <td>Júnior</td>\n",
       "      <td>Júnior</td>\n",
       "      <td>NaN</td>\n",
       "      <td>Desenvolvedor/ Engenheiro de Software/ Analist...</td>\n",
       "      <td>NaN</td>\n",
       "      <td>de R$ 2.001/mês a R$ 3.000/mês</td>\n",
       "      <td>2704.0</td>\n",
       "      <td>Menos de 1 ano</td>\n",
       "      <td>Menos de 1 ano</td>\n",
       "    </tr>\n",
       "    <tr>\n",
       "      <th>8</th>\n",
       "      <td>zy4o5dk6iuxpdwgzy4o58xvd6ykwohrj</td>\n",
       "      <td>33.0</td>\n",
       "      <td>30-34</td>\n",
       "      <td>Masculino</td>\n",
       "      <td>Branca</td>\n",
       "      <td>Não</td>\n",
       "      <td>NaN</td>\n",
       "      <td>FALSO</td>\n",
       "      <td>NaN</td>\n",
       "      <td>True</td>\n",
       "      <td>...</td>\n",
       "      <td>False</td>\n",
       "      <td>Sênior</td>\n",
       "      <td>Sênior</td>\n",
       "      <td>NaN</td>\n",
       "      <td>Analista de BI/BI Analyst</td>\n",
       "      <td>NaN</td>\n",
       "      <td>de R$ 6.001/mês a R$ 8.000/mês</td>\n",
       "      <td>7112.0</td>\n",
       "      <td>Menos de 1 ano</td>\n",
       "      <td>Não tive experiência na área de TI/Engenharia ...</td>\n",
       "    </tr>\n",
       "    <tr>\n",
       "      <th>9</th>\n",
       "      <td>zxc3d314cn1c2ovmzxc34ha7nkw1na3j</td>\n",
       "      <td>NaN</td>\n",
       "      <td>55+</td>\n",
       "      <td>Feminino</td>\n",
       "      <td>Parda</td>\n",
       "      <td>Não</td>\n",
       "      <td>Não acredito que minha experiência profissiona...</td>\n",
       "      <td>FALSO</td>\n",
       "      <td>NaN</td>\n",
       "      <td>True</td>\n",
       "      <td>...</td>\n",
       "      <td>False</td>\n",
       "      <td>Pleno</td>\n",
       "      <td>Pleno</td>\n",
       "      <td>NaN</td>\n",
       "      <td>Professor</td>\n",
       "      <td>NaN</td>\n",
       "      <td>de R$ 8.001/mês a R$ 12.000/mês</td>\n",
       "      <td>10822.0</td>\n",
       "      <td>Mais de 10 anos</td>\n",
       "      <td>Não tive experiência na área de TI/Engenharia ...</td>\n",
       "    </tr>\n",
       "    <tr>\n",
       "      <th>10</th>\n",
       "      <td>zwy34gktg0tfjq2ttjvazwy34gg3g49i</td>\n",
       "      <td>25.0</td>\n",
       "      <td>25-29</td>\n",
       "      <td>Feminino</td>\n",
       "      <td>Parda</td>\n",
       "      <td>Não</td>\n",
       "      <td>Não acredito que minha experiência profissiona...</td>\n",
       "      <td>FALSO</td>\n",
       "      <td>NaN</td>\n",
       "      <td>True</td>\n",
       "      <td>...</td>\n",
       "      <td>False</td>\n",
       "      <td>Júnior</td>\n",
       "      <td>Júnior</td>\n",
       "      <td>NaN</td>\n",
       "      <td>Analista de BI/BI Analyst</td>\n",
       "      <td>NaN</td>\n",
       "      <td>de R$ 3.001/mês a R$ 4.000/mês</td>\n",
       "      <td>3450.0</td>\n",
       "      <td>Menos de 1 ano</td>\n",
       "      <td>Não tive experiência na área de TI/Engenharia ...</td>\n",
       "    </tr>\n",
       "    <tr>\n",
       "      <th>11</th>\n",
       "      <td>zwvpu2ssr2cr6g2jyzwvpu2dl5nfwa1f</td>\n",
       "      <td>33.0</td>\n",
       "      <td>30-34</td>\n",
       "      <td>Masculino</td>\n",
       "      <td>Branca</td>\n",
       "      <td>Não</td>\n",
       "      <td>NaN</td>\n",
       "      <td>FALSO</td>\n",
       "      <td>NaN</td>\n",
       "      <td>True</td>\n",
       "      <td>...</td>\n",
       "      <td>False</td>\n",
       "      <td>Sênior</td>\n",
       "      <td>Sênior</td>\n",
       "      <td>NaN</td>\n",
       "      <td>Analista de Inteligência de Mercado/Market Int...</td>\n",
       "      <td>NaN</td>\n",
       "      <td>de R$ 8.001/mês a R$ 12.000/mês</td>\n",
       "      <td>11625.0</td>\n",
       "      <td>de 1 a 2 anos</td>\n",
       "      <td>Não tive experiência na área de TI/Engenharia ...</td>\n",
       "    </tr>\n",
       "    <tr>\n",
       "      <th>12</th>\n",
       "      <td>zwr9hqcpg513kaopenzwr9hibaqmldto</td>\n",
       "      <td>31.0</td>\n",
       "      <td>30-34</td>\n",
       "      <td>Masculino</td>\n",
       "      <td>Branca</td>\n",
       "      <td>Não</td>\n",
       "      <td>NaN</td>\n",
       "      <td>FALSO</td>\n",
       "      <td>NaN</td>\n",
       "      <td>True</td>\n",
       "      <td>...</td>\n",
       "      <td>NaN</td>\n",
       "      <td>NaN</td>\n",
       "      <td>NaN</td>\n",
       "      <td>NaN</td>\n",
       "      <td>NaN</td>\n",
       "      <td>NaN</td>\n",
       "      <td>NaN</td>\n",
       "      <td>NaN</td>\n",
       "      <td>NaN</td>\n",
       "      <td>NaN</td>\n",
       "    </tr>\n",
       "    <tr>\n",
       "      <th>13</th>\n",
       "      <td>zwh83jpy6x40b95xigsr2zwh83jpflu3</td>\n",
       "      <td>24.0</td>\n",
       "      <td>22-24</td>\n",
       "      <td>Masculino</td>\n",
       "      <td>Amarela</td>\n",
       "      <td>Não</td>\n",
       "      <td>Não acredito que minha experiência profissiona...</td>\n",
       "      <td>FALSO</td>\n",
       "      <td>NaN</td>\n",
       "      <td>True</td>\n",
       "      <td>...</td>\n",
       "      <td>False</td>\n",
       "      <td>Júnior</td>\n",
       "      <td>Júnior</td>\n",
       "      <td>NaN</td>\n",
       "      <td>Analista de Negócios/Business Analyst</td>\n",
       "      <td>NaN</td>\n",
       "      <td>de R$ 4.001/mês a R$ 6.000/mês</td>\n",
       "      <td>5296.0</td>\n",
       "      <td>de 1 a 2 anos</td>\n",
       "      <td>Menos de 1 ano</td>\n",
       "    </tr>\n",
       "    <tr>\n",
       "      <th>14</th>\n",
       "      <td>zwez49k0jhdvfkfst4zwef137uuf4ivy</td>\n",
       "      <td>35.0</td>\n",
       "      <td>35-39</td>\n",
       "      <td>Feminino</td>\n",
       "      <td>Parda</td>\n",
       "      <td>Não</td>\n",
       "      <td>Sim, acredito que a minha a experiência profis...</td>\n",
       "      <td>TRUE</td>\n",
       "      <td>Atenção dada pelas pessoas diante das minhas o...</td>\n",
       "      <td>True</td>\n",
       "      <td>...</td>\n",
       "      <td>False</td>\n",
       "      <td>Pleno</td>\n",
       "      <td>Pleno</td>\n",
       "      <td>NaN</td>\n",
       "      <td>Analista de Negócios/Business Analyst</td>\n",
       "      <td>NaN</td>\n",
       "      <td>de R$ 6.001/mês a R$ 8.000/mês</td>\n",
       "      <td>7416.0</td>\n",
       "      <td>de 1 a 2 anos</td>\n",
       "      <td>Não tive experiência na área de TI/Engenharia ...</td>\n",
       "    </tr>\n",
       "  </tbody>\n",
       "</table>\n",
       "<p>15 rows × 31 columns</p>\n",
       "</div>"
      ],
      "text/plain": [
       "                          Unnamed: 0  IDADE FAIXA IDADE     GENERO  \\\n",
       "0   zzqzz3l9ily8nuo2m7wyzzqzz3w48o96   39.0       35-39  Masculino   \n",
       "1   zzls2oftfn9law393oezzls2ofhvfpzd   32.0       30-34  Masculino   \n",
       "2   zzdwqzfqqp1ypc7ps6m0hzzdwqz292yi   53.0       50-54  Masculino   \n",
       "3   zzbqh3uy7yk7k9qmkzzbqtb4s9faqspl   27.0       25-29  Masculino   \n",
       "4   zzaf1m95yan929rb94wzzaf1mekhvhpg   46.0       45-49   Feminino   \n",
       "5   zz0nlhbd8oxyiyxzz0nlh7g4xkiaza5v   32.0       30-34   Feminino   \n",
       "6   zytlxsdgalh22cgrijvzytlxa49i8yzx   21.0       17-21  Masculino   \n",
       "7   zyc0twzno2sm5or5ovoxzyc0twz0300d   31.0       30-34   Feminino   \n",
       "8   zy4o5dk6iuxpdwgzy4o58xvd6ykwohrj   33.0       30-34  Masculino   \n",
       "9   zxc3d314cn1c2ovmzxc34ha7nkw1na3j    NaN         55+   Feminino   \n",
       "10  zwy34gktg0tfjq2ttjvazwy34gg3g49i   25.0       25-29   Feminino   \n",
       "11  zwvpu2ssr2cr6g2jyzwvpu2dl5nfwa1f   33.0       30-34  Masculino   \n",
       "12  zwr9hqcpg513kaopenzwr9hibaqmldto   31.0       30-34  Masculino   \n",
       "13  zwh83jpy6x40b95xigsr2zwh83jpflu3   24.0       22-24  Masculino   \n",
       "14  zwez49k0jhdvfkfst4zwef137uuf4ivy   35.0       35-39   Feminino   \n",
       "\n",
       "   COR/RACA/ETNIA  PCD               EXPERIENCIA_PROFISSIONAL_PREJUDICADA  \\\n",
       "0           Parda  Não  Não acredito que minha experiência profissiona...   \n",
       "1           Parda  Não  Sim, acredito que a minha a experiência profis...   \n",
       "2          Branca  Não                                                NaN   \n",
       "3          Branca  Não                                                NaN   \n",
       "4          Branca  Não  Não acredito que minha experiência profissiona...   \n",
       "5           Parda  Não  Não acredito que minha experiência profissiona...   \n",
       "6           Parda  Não  Não acredito que minha experiência profissiona...   \n",
       "7          Branca  Não  Não acredito que minha experiência profissiona...   \n",
       "8          Branca  Não                                                NaN   \n",
       "9           Parda  Não  Não acredito que minha experiência profissiona...   \n",
       "10          Parda  Não  Não acredito que minha experiência profissiona...   \n",
       "11         Branca  Não                                                NaN   \n",
       "12         Branca  Não                                                NaN   \n",
       "13        Amarela  Não  Não acredito que minha experiência profissiona...   \n",
       "14          Parda  Não  Sim, acredito que a minha a experiência profis...   \n",
       "\n",
       "   PREJUDICA?                              ASPECTOS_PREJUDICADOS  \\\n",
       "0       FALSO                                                NaN   \n",
       "1        TRUE       Aprovação em processos seletivos/entrevistas   \n",
       "2       FALSO                                                NaN   \n",
       "3       FALSO                                                NaN   \n",
       "4       FALSO                                                NaN   \n",
       "5       FALSO                                                NaN   \n",
       "6       FALSO                                                NaN   \n",
       "7       FALSO                                                NaN   \n",
       "8       FALSO                                                NaN   \n",
       "9       FALSO                                                NaN   \n",
       "10      FALSO                                                NaN   \n",
       "11      FALSO                                                NaN   \n",
       "12      FALSO                                                NaN   \n",
       "13      FALSO                                                NaN   \n",
       "14       TRUE  Atenção dada pelas pessoas diante das minhas o...   \n",
       "\n",
       "    VIVE_NO_BRASIL  ... GESTOR?   NIVEL NOVO NÍVEL       CARGO COMO GESTOR  \\\n",
       "0             True  ...   False  Júnior     Júnior                     NaN   \n",
       "1             True  ...    True     NaN    Gestora  Supervisor/Coordenador   \n",
       "2             True  ...   False   Pleno      Pleno                     NaN   \n",
       "3             True  ...   False  Sênior     Sênior                     NaN   \n",
       "4             True  ...   False   Pleno      Pleno                     NaN   \n",
       "5             True  ...   False   Pleno      Pleno                     NaN   \n",
       "6             True  ...   False  Júnior     Júnior                     NaN   \n",
       "7             True  ...   False  Júnior     Júnior                     NaN   \n",
       "8             True  ...   False  Sênior     Sênior                     NaN   \n",
       "9             True  ...   False   Pleno      Pleno                     NaN   \n",
       "10            True  ...   False  Júnior     Júnior                     NaN   \n",
       "11            True  ...   False  Sênior     Sênior                     NaN   \n",
       "12            True  ...     NaN     NaN        NaN                     NaN   \n",
       "13            True  ...   False  Júnior     Júnior                     NaN   \n",
       "14            True  ...   False   Pleno      Pleno                     NaN   \n",
       "\n",
       "                                          CARGO ATUAL Unnamed: 26  \\\n",
       "0                 DBA/Administrador de Banco de Dados         NaN   \n",
       "1                                                 NaN         NaN   \n",
       "2   Desenvolvedor/ Engenheiro de Software/ Analist...         NaN   \n",
       "3                   Cientista de Dados/Data Scientist         NaN   \n",
       "4   Desenvolvedor/ Engenheiro de Software/ Analist...         NaN   \n",
       "5                                           Professor         NaN   \n",
       "6                           Analista de BI/BI Analyst         NaN   \n",
       "7   Desenvolvedor/ Engenheiro de Software/ Analist...         NaN   \n",
       "8                           Analista de BI/BI Analyst         NaN   \n",
       "9                                           Professor         NaN   \n",
       "10                          Analista de BI/BI Analyst         NaN   \n",
       "11  Analista de Inteligência de Mercado/Market Int...         NaN   \n",
       "12                                                NaN         NaN   \n",
       "13              Analista de Negócios/Business Analyst         NaN   \n",
       "14              Analista de Negócios/Business Analyst         NaN   \n",
       "\n",
       "                      FAIXA SALARIAL  SALARIO  \\\n",
       "0    de R$ 8.001/mês a R$ 12.000/mês  11194.0   \n",
       "1     de R$ 4.001/mês a R$ 6.000/mês   4695.0   \n",
       "2   de R$ 12.001/mês a R$ 16.000/mês  14202.0   \n",
       "3   de R$ 12.001/mês a R$ 16.000/mês  15463.0   \n",
       "4     de R$ 6.001/mês a R$ 8.000/mês   7733.0   \n",
       "5     de R$ 2.001/mês a R$ 3.000/mês   2336.0   \n",
       "6     de R$ 4.001/mês a R$ 6.000/mês   4491.0   \n",
       "7     de R$ 2.001/mês a R$ 3.000/mês   2704.0   \n",
       "8     de R$ 6.001/mês a R$ 8.000/mês   7112.0   \n",
       "9    de R$ 8.001/mês a R$ 12.000/mês  10822.0   \n",
       "10    de R$ 3.001/mês a R$ 4.000/mês   3450.0   \n",
       "11   de R$ 8.001/mês a R$ 12.000/mês  11625.0   \n",
       "12                               NaN      NaN   \n",
       "13    de R$ 4.001/mês a R$ 6.000/mês   5296.0   \n",
       "14    de R$ 6.001/mês a R$ 8.000/mês   7416.0   \n",
       "\n",
       "   QUANTO TEMPO DE EXPERIÊNCIA NA ÁREA DE DADOS VOCÊ TEM?  \\\n",
       "0                                       de 1 a 2 anos       \n",
       "1                                       de 3 a 4 anos       \n",
       "2                                       de 3 a 4 anos       \n",
       "3                                       de 4 a 6 anos       \n",
       "4              Não tenho experiência na área de dados       \n",
       "5              Não tenho experiência na área de dados       \n",
       "6                                       de 1 a 2 anos       \n",
       "7                                      Menos de 1 ano       \n",
       "8                                      Menos de 1 ano       \n",
       "9                                     Mais de 10 anos       \n",
       "10                                     Menos de 1 ano       \n",
       "11                                      de 1 a 2 anos       \n",
       "12                                                NaN       \n",
       "13                                      de 1 a 2 anos       \n",
       "14                                      de 1 a 2 anos       \n",
       "\n",
       "   QUANTO TEMPO DE EXPERIÊNCIA NA ÁREA DE TI/ENGENHARIA DE SOFTWARE VOCÊ TEVE ANTES DE COMEÇAR A TRABALHAR NA ÁREA DE DADOS?  \n",
       "0                                      de 7 a 10 anos                                                                         \n",
       "1                                      Menos de 1 ano                                                                         \n",
       "2                                     Mais de 10 anos                                                                         \n",
       "3   Não tive experiência na área de TI/Engenharia ...                                                                         \n",
       "4                                     Mais de 10 anos                                                                         \n",
       "5   Não tive experiência na área de TI/Engenharia ...                                                                         \n",
       "6                                      Menos de 1 ano                                                                         \n",
       "7                                      Menos de 1 ano                                                                         \n",
       "8   Não tive experiência na área de TI/Engenharia ...                                                                         \n",
       "9   Não tive experiência na área de TI/Engenharia ...                                                                         \n",
       "10  Não tive experiência na área de TI/Engenharia ...                                                                         \n",
       "11  Não tive experiência na área de TI/Engenharia ...                                                                         \n",
       "12                                                NaN                                                                         \n",
       "13                                     Menos de 1 ano                                                                         \n",
       "14  Não tive experiência na área de TI/Engenharia ...                                                                         \n",
       "\n",
       "[15 rows x 31 columns]"
      ]
     },
     "execution_count": 3,
     "metadata": {},
     "output_type": "execute_result"
    }
   ],
   "source": [
    "data.head(15)"
   ]
  },
  {
   "cell_type": "markdown",
   "id": "91a17cec-30bb-4755-9dec-31115816220d",
   "metadata": {
    "jp-MarkdownHeadingCollapsed": true,
    "tags": []
   },
   "source": [
    "## 1.2. Outliers"
   ]
  },
  {
   "cell_type": "markdown",
   "id": "e7e717a4-0a3b-422d-8159-c9861fe4b313",
   "metadata": {},
   "source": [
    "the column use to identify the users 'Unnamed: 0' will be rename to 'ID'"
   ]
  },
  {
   "cell_type": "code",
   "execution_count": 4,
   "id": "53a2007f-6223-4801-a6db-deae8d904b29",
   "metadata": {
    "tags": []
   },
   "outputs": [],
   "source": [
    "data = data.rename(columns={'Unnamed: 0': 'ID'})"
   ]
  },
  {
   "cell_type": "code",
   "execution_count": 5,
   "id": "6a1fcbe2-558f-4cfe-bd2f-209445dd9b7d",
   "metadata": {
    "tags": []
   },
   "outputs": [
    {
     "data": {
      "text/html": [
       "<div>\n",
       "<style scoped>\n",
       "    .dataframe tbody tr th:only-of-type {\n",
       "        vertical-align: middle;\n",
       "    }\n",
       "\n",
       "    .dataframe tbody tr th {\n",
       "        vertical-align: top;\n",
       "    }\n",
       "\n",
       "    .dataframe thead th {\n",
       "        text-align: right;\n",
       "    }\n",
       "</style>\n",
       "<table border=\"1\" class=\"dataframe\">\n",
       "  <thead>\n",
       "    <tr style=\"text-align: right;\">\n",
       "      <th></th>\n",
       "      <th>ID</th>\n",
       "      <th>IDADE</th>\n",
       "      <th>FAIXA IDADE</th>\n",
       "      <th>GENERO</th>\n",
       "      <th>COR/RACA/ETNIA</th>\n",
       "      <th>PCD</th>\n",
       "      <th>EXPERIENCIA_PROFISSIONAL_PREJUDICADA</th>\n",
       "      <th>PREJUDICA?</th>\n",
       "      <th>ASPECTOS_PREJUDICADOS</th>\n",
       "      <th>VIVE_NO_BRASIL</th>\n",
       "      <th>...</th>\n",
       "      <th>GESTOR?</th>\n",
       "      <th>NIVEL</th>\n",
       "      <th>NOVO NÍVEL</th>\n",
       "      <th>CARGO COMO GESTOR</th>\n",
       "      <th>CARGO ATUAL</th>\n",
       "      <th>Unnamed: 26</th>\n",
       "      <th>FAIXA SALARIAL</th>\n",
       "      <th>SALARIO</th>\n",
       "      <th>QUANTO TEMPO DE EXPERIÊNCIA NA ÁREA DE DADOS VOCÊ TEM?</th>\n",
       "      <th>QUANTO TEMPO DE EXPERIÊNCIA NA ÁREA DE TI/ENGENHARIA DE SOFTWARE VOCÊ TEVE ANTES DE COMEÇAR A TRABALHAR NA ÁREA DE DADOS?</th>\n",
       "    </tr>\n",
       "  </thead>\n",
       "  <tbody>\n",
       "  </tbody>\n",
       "</table>\n",
       "<p>0 rows × 31 columns</p>\n",
       "</div>"
      ],
      "text/plain": [
       "Empty DataFrame\n",
       "Columns: [ID, IDADE, FAIXA IDADE, GENERO, COR/RACA/ETNIA, PCD, EXPERIENCIA_PROFISSIONAL_PREJUDICADA, PREJUDICA?, ASPECTOS_PREJUDICADOS, VIVE_NO_BRASIL, ESTADO ONDE MORA, UF ONDE MORA, REGIAO ONDE MORA, MUDOU DE ESTADO?, REGIAO DE ORIGEM, NIVEL DE ENSINO, ÁREA DE FORMAÇÃO, COMPUTAÇÃO?, QUAL SUA SITUAÇÃO ATUAL DE TRABALHO?, SETOR, NUMERO DE FUNCIONARIOS, GESTOR?, NIVEL, NOVO NÍVEL, CARGO COMO GESTOR, CARGO ATUAL, Unnamed: 26, FAIXA SALARIAL, SALARIO, QUANTO TEMPO DE EXPERIÊNCIA NA ÁREA DE DADOS VOCÊ TEM?, QUANTO TEMPO DE EXPERIÊNCIA NA ÁREA DE TI/ENGENHARIA DE SOFTWARE VOCÊ TEVE ANTES DE COMEÇAR A TRABALHAR NA ÁREA DE DADOS?]\n",
       "Index: []\n",
       "\n",
       "[0 rows x 31 columns]"
      ]
     },
     "execution_count": 5,
     "metadata": {},
     "output_type": "execute_result"
    }
   ],
   "source": [
    "data.head(0)"
   ]
  },
  {
   "cell_type": "markdown",
   "id": "cac92040-acb5-44ca-aa55-0bb5c82e92a0",
   "metadata": {
    "jp-MarkdownHeadingCollapsed": true,
    "tags": []
   },
   "source": [
    "### 1.2.1. Age outliers"
   ]
  },
  {
   "cell_type": "markdown",
   "id": "9eb42e52-a5cd-46c9-8aba-a91d70c5bd95",
   "metadata": {},
   "source": [
    "Checking the age data "
   ]
  },
  {
   "cell_type": "code",
   "execution_count": 6,
   "id": "05eeedec-7311-4467-88d3-32fff5589baf",
   "metadata": {
    "tags": []
   },
   "outputs": [
    {
     "data": {
      "text/plain": [
       "IDADE\n",
       "18.0     13\n",
       "19.0     22\n",
       "20.0     33\n",
       "21.0     78\n",
       "22.0    108\n",
       "23.0    145\n",
       "24.0    196\n",
       "25.0    274\n",
       "26.0    281\n",
       "27.0    299\n",
       "28.0    291\n",
       "29.0    253\n",
       "30.0    248\n",
       "31.0    253\n",
       "32.0    225\n",
       "33.0    180\n",
       "34.0    189\n",
       "35.0    145\n",
       "36.0    154\n",
       "37.0    118\n",
       "38.0     78\n",
       "39.0    103\n",
       "40.0     67\n",
       "41.0     63\n",
       "42.0     54\n",
       "43.0     51\n",
       "44.0     42\n",
       "45.0     41\n",
       "46.0     31\n",
       "47.0     32\n",
       "48.0     21\n",
       "49.0     19\n",
       "50.0     34\n",
       "51.0     10\n",
       "52.0     20\n",
       "53.0     12\n",
       "54.0     13\n",
       "NaN      74\n",
       "Name: ID, dtype: int64"
      ]
     },
     "execution_count": 6,
     "metadata": {},
     "output_type": "execute_result"
    }
   ],
   "source": [
    "data.groupby('IDADE', dropna=False)['ID'].nunique()"
   ]
  },
  {
   "cell_type": "markdown",
   "id": "95d8640c-523a-4c54-a33f-ba5bda9f7e81",
   "metadata": {},
   "source": [
    "The query show 74 values = NaN. \n",
    "To solve, the column 'FAIXA IDADE' will be used to identify:\n",
    "- The users age range \n",
    "- Define the mean of that range and replace"
   ]
  },
  {
   "cell_type": "code",
   "execution_count": 7,
   "id": "5a0f7c56-2257-49fd-943e-ea9d7e60a29b",
   "metadata": {
    "tags": []
   },
   "outputs": [
    {
     "data": {
      "text/plain": [
       "IDADE\n",
       "False    4197\n",
       "True       74\n",
       "Name: count, dtype: int64"
      ]
     },
     "execution_count": 7,
     "metadata": {},
     "output_type": "execute_result"
    }
   ],
   "source": [
    "# NaN values at Age\n",
    "\n",
    "data['IDADE'].isnull().value_counts()"
   ]
  },
  {
   "cell_type": "code",
   "execution_count": 8,
   "id": "7df3cdd3-5e10-4337-90a3-133c53118ef0",
   "metadata": {
    "tags": []
   },
   "outputs": [
    {
     "data": {
      "text/plain": [
       "FAIXA IDADE\n",
       "55+      68\n",
       "17-21     6\n",
       "Name: count, dtype: int64"
      ]
     },
     "execution_count": 8,
     "metadata": {},
     "output_type": "execute_result"
    }
   ],
   "source": [
    "# Find the age range \n",
    "\n",
    "data[data['IDADE'].isnull()]['FAIXA IDADE'].value_counts()"
   ]
  },
  {
   "cell_type": "code",
   "execution_count": 9,
   "id": "0cfc6c6c-6d60-4cad-97f4-87e35c396ab0",
   "metadata": {
    "tags": []
   },
   "outputs": [
    {
     "data": {
      "text/plain": [
       "20.205479452054796"
      ]
     },
     "execution_count": 9,
     "metadata": {},
     "output_type": "execute_result"
    }
   ],
   "source": [
    "# Replacing age on 17-21 \n",
    "\n",
    "mean_age_17_21 = data[data['FAIXA IDADE']=='17-21']['IDADE'].mean()\n",
    "mean_age_17_21"
   ]
  },
  {
   "cell_type": "code",
   "execution_count": 10,
   "id": "e743498f-47f0-4e53-807d-99d7be428a3d",
   "metadata": {
    "tags": []
   },
   "outputs": [],
   "source": [
    "# using .loc to replace the values\n",
    "\n",
    "data.loc[(data['FAIXA IDADE']=='17-21')&(data['IDADE'].isnull()),'IDADE'] = mean_age_17_21"
   ]
  },
  {
   "cell_type": "code",
   "execution_count": 11,
   "id": "9c925368-92ca-4033-a29e-585d89e1816c",
   "metadata": {
    "tags": []
   },
   "outputs": [
    {
     "data": {
      "text/plain": [
       "FAIXA IDADE\n",
       "55+    68\n",
       "Name: count, dtype: int64"
      ]
     },
     "execution_count": 11,
     "metadata": {},
     "output_type": "execute_result"
    }
   ],
   "source": [
    "data[data['IDADE'].isnull()]['FAIXA IDADE'].value_counts()"
   ]
  },
  {
   "cell_type": "code",
   "execution_count": 12,
   "id": "ea986d14-8226-4464-b61a-bdcae86164aa",
   "metadata": {
    "tags": []
   },
   "outputs": [
    {
     "data": {
      "text/plain": [
       "nan"
      ]
     },
     "execution_count": 12,
     "metadata": {},
     "output_type": "execute_result"
    }
   ],
   "source": [
    "# replace age on 55+\n",
    "\n",
    "mean_age_55 = data[data['FAIXA IDADE']=='55+']['IDADE'].mean()\n",
    "mean_age_55"
   ]
  },
  {
   "cell_type": "markdown",
   "id": "11ffde45-7d7d-42b7-b8b4-fbae65456cf0",
   "metadata": {},
   "source": [
    "The Users 55+ don't inform the exacly age. \n",
    "So, the values will be replace for the mean age of all the users. "
   ]
  },
  {
   "cell_type": "code",
   "execution_count": 13,
   "id": "174801bf-1739-4f32-bbfd-b3472a6b829f",
   "metadata": {
    "tags": []
   },
   "outputs": [
    {
     "data": {
      "text/plain": [
       "31.153517220250375"
      ]
     },
     "execution_count": 13,
     "metadata": {},
     "output_type": "execute_result"
    }
   ],
   "source": [
    "mean_age = data['IDADE'].mean()\n",
    "mean_age"
   ]
  },
  {
   "cell_type": "code",
   "execution_count": 14,
   "id": "78708f6d-c8b5-4cff-9258-148a4cdc7294",
   "metadata": {
    "tags": []
   },
   "outputs": [],
   "source": [
    "data.loc[(data['FAIXA IDADE']=='55+')&(data['IDADE'].isnull()),'IDADE'] = mean_age"
   ]
  },
  {
   "cell_type": "code",
   "execution_count": 15,
   "id": "8e559b28-48ee-4225-9861-3d0a4d4dc20d",
   "metadata": {
    "tags": []
   },
   "outputs": [
    {
     "data": {
      "text/plain": [
       "Series([], Name: count, dtype: int64)"
      ]
     },
     "execution_count": 15,
     "metadata": {},
     "output_type": "execute_result"
    }
   ],
   "source": [
    "data[data['IDADE'].isnull()]['FAIXA IDADE'].value_counts()"
   ]
  },
  {
   "cell_type": "code",
   "execution_count": 16,
   "id": "8be891d0-4823-49d3-9adc-7ecf72bb0e05",
   "metadata": {
    "tags": []
   },
   "outputs": [
    {
     "data": {
      "text/plain": [
       "{'whiskers': [<matplotlib.lines.Line2D at 0x7b53612fc760>,\n",
       "  <matplotlib.lines.Line2D at 0x7b53612fca30>],\n",
       " 'caps': [<matplotlib.lines.Line2D at 0x7b53612fcd90>,\n",
       "  <matplotlib.lines.Line2D at 0x7b53612fcfd0>],\n",
       " 'boxes': [<matplotlib.lines.Line2D at 0x7b53612fc490>],\n",
       " 'medians': [<matplotlib.lines.Line2D at 0x7b53612fd2a0>],\n",
       " 'fliers': [<matplotlib.lines.Line2D at 0x7b53612fd570>],\n",
       " 'means': []}"
      ]
     },
     "execution_count": 16,
     "metadata": {},
     "output_type": "execute_result"
    },
    {
     "data": {
      "image/png": "[encoded data removed]",
      "text/plain": [
       "<Figure size 432x288 with 1 Axes>"
      ]
     },
     "metadata": {
      "needs_background": "light"
     },
     "output_type": "display_data"
    }
   ],
   "source": [
    "plt.boxplot(data['IDADE'])"
   ]
  },
  {
   "cell_type": "markdown",
   "id": "0de1ac0a-a227-4f82-bec5-6408a48d11c0",
   "metadata": {},
   "source": [
    "Age data issues RESOLVED!\n",
    "\n",
    ":) "
   ]
  },
  {
   "cell_type": "markdown",
   "id": "3e9f69e5-b6b5-409d-b8aa-f7e382ccd607",
   "metadata": {
    "tags": []
   },
   "source": [
    "### 1.2.2 Salary outliers"
   ]
  },
  {
   "cell_type": "code",
   "execution_count": 17,
   "id": "8f223fa9-c7c7-4242-9c15-4002c257416f",
   "metadata": {
    "tags": []
   },
   "outputs": [
    {
     "data": {
      "text/plain": [
       "SALARIO\n",
       "False    3694\n",
       "True      577\n",
       "Name: count, dtype: int64"
      ]
     },
     "execution_count": 17,
     "metadata": {},
     "output_type": "execute_result"
    }
   ],
   "source": [
    "data['SALARIO'].isnull().value_counts()"
   ]
  },
  {
   "cell_type": "code",
   "execution_count": 18,
   "id": "35a3ad79-1d76-4e00-a214-3653b7774a2e",
   "metadata": {
    "tags": []
   },
   "outputs": [
    {
     "data": {
      "text/plain": [
       "Series([], Name: count, dtype: int64)"
      ]
     },
     "execution_count": 18,
     "metadata": {},
     "output_type": "execute_result"
    }
   ],
   "source": [
    "data[data['SALARIO'].isnull()]['FAIXA SALARIAL'].value_counts()"
   ]
  },
  {
   "cell_type": "markdown",
   "id": "857eeead-cc54-409b-bb28-9e65ea07f783",
   "metadata": {},
   "source": [
    "Since salaries have very different values, the median will be used instead of the average."
   ]
  },
  {
   "cell_type": "code",
   "execution_count": 19,
   "id": "b092a83b-2984-4693-bb18-e0ec8e8c248b",
   "metadata": {
    "tags": []
   },
   "outputs": [],
   "source": [
    "median_salary = data['SALARIO'].median()\n",
    "data.loc[data['SALARIO'].isnull(),'SALARIO'] = median_salary"
   ]
  },
  {
   "cell_type": "code",
   "execution_count": 20,
   "id": "46befcb6-71c3-4b25-acd7-517a942a4296",
   "metadata": {
    "tags": []
   },
   "outputs": [
    {
     "data": {
      "text/plain": [
       "10517.53348162023"
      ]
     },
     "execution_count": 20,
     "metadata": {},
     "output_type": "execute_result"
    }
   ],
   "source": [
    "mean_salary = data['SALARIO'].mean()\n",
    "mean_salary"
   ]
  },
  {
   "cell_type": "code",
   "execution_count": 21,
   "id": "5bb8c490-bf75-4992-ba9a-13ef82642dcd",
   "metadata": {
    "tags": []
   },
   "outputs": [
    {
     "data": {
      "text/plain": [
       "18096.21098911858"
      ]
     },
     "execution_count": 21,
     "metadata": {},
     "output_type": "execute_result"
    }
   ],
   "source": [
    "standart_dev_salary = data['SALARIO'].std()\n",
    "standart_dev_salary"
   ]
  },
  {
   "cell_type": "code",
   "execution_count": 22,
   "id": "fb4b9534-ca11-4e0e-8b11-ed8de03039bc",
   "metadata": {
    "tags": []
   },
   "outputs": [
    {
     "data": {
      "text/plain": [
       "4751.5"
      ]
     },
     "execution_count": 22,
     "metadata": {},
     "output_type": "execute_result"
    }
   ],
   "source": [
    "# first quartiler \n",
    "\n",
    "q1 = data['SALARIO'].quantile(0.25)\n",
    "q1"
   ]
  },
  {
   "cell_type": "code",
   "execution_count": 23,
   "id": "58d4eb73-17f8-4245-9909-64f25ffab842",
   "metadata": {
    "tags": []
   },
   "outputs": [
    {
     "data": {
      "text/plain": [
       "11794.5"
      ]
     },
     "execution_count": 23,
     "metadata": {},
     "output_type": "execute_result"
    }
   ],
   "source": [
    "# third quartiler \n",
    "\n",
    "q3 = data['SALARIO'].quantile(0.75)\n",
    "q3"
   ]
  },
  {
   "cell_type": "code",
   "execution_count": 24,
   "id": "6e88635f-0599-4d08-961a-16ee65590c9e",
   "metadata": {
    "tags": []
   },
   "outputs": [
    {
     "data": {
      "text/plain": [
       "7043.0"
      ]
     },
     "execution_count": 24,
     "metadata": {},
     "output_type": "execute_result"
    }
   ],
   "source": [
    "# inter quartilers \n",
    "\n",
    "inter_q = q3 - q1 \n",
    "inter_q"
   ]
  },
  {
   "cell_type": "code",
   "execution_count": 25,
   "id": "5e32d681-cd0b-402d-8309-11268aaf5365",
   "metadata": {
    "tags": []
   },
   "outputs": [
    {
     "data": {
      "text/plain": [
       "64806.166448975964"
      ]
     },
     "execution_count": 25,
     "metadata": {},
     "output_type": "execute_result"
    }
   ],
   "source": [
    "# Upper limit \n",
    "\n",
    "upper_limit_salary = mean_salary + (3 * standart_dev_salary)\n",
    "upper_limit_salary"
   ]
  },
  {
   "cell_type": "code",
   "execution_count": 26,
   "id": "07c3482a-49e8-4350-a6d3-ddc401d839f0",
   "metadata": {
    "tags": []
   },
   "outputs": [
    {
     "data": {
      "text/plain": [
       "-43771.0994857355"
      ]
     },
     "execution_count": 26,
     "metadata": {},
     "output_type": "execute_result"
    }
   ],
   "source": [
    "# lower limit \n",
    "\n",
    "lower_limit_salary = mean_salary - (3 * standart_dev_salary)\n",
    "lower_limit_salary"
   ]
  },
  {
   "cell_type": "code",
   "execution_count": 27,
   "id": "2317705a-66e2-4222-a560-7c610c1eb174",
   "metadata": {
    "tags": []
   },
   "outputs": [],
   "source": [
    "import matplotlib.pyplot as plt\n"
   ]
  },
  {
   "cell_type": "code",
   "execution_count": 28,
   "id": "81d3f4eb-7b13-41b0-a0ad-0c85963ece56",
   "metadata": {
    "tags": []
   },
   "outputs": [
    {
     "data": {
      "text/plain": [
       "{'whiskers': [<matplotlib.lines.Line2D at 0x7b5360f1b250>,\n",
       "  <matplotlib.lines.Line2D at 0x7b5360f1b520>],\n",
       " 'caps': [<matplotlib.lines.Line2D at 0x7b5360f1b6d0>,\n",
       "  <matplotlib.lines.Line2D at 0x7b5360f1b9a0>],\n",
       " 'boxes': [<matplotlib.lines.Line2D at 0x7b5360f1af80>],\n",
       " 'medians': [<matplotlib.lines.Line2D at 0x7b5360f1bc70>],\n",
       " 'fliers': [<matplotlib.lines.Line2D at 0x7b5360f1bf40>],\n",
       " 'means': []}"
      ]
     },
     "execution_count": 28,
     "metadata": {},
     "output_type": "execute_result"
    },
    {
     "data": {
      "image/png": "[encoded data removed]",
      "text/plain": [
       "<Figure size 432x288 with 1 Axes>"
      ]
     },
     "metadata": {
      "needs_background": "light"
     },
     "output_type": "display_data"
    }
   ],
   "source": [
    "plt.boxplot(data['SALARIO'])"
   ]
  },
  {
   "cell_type": "code",
   "execution_count": 29,
   "id": "9252fa40-5be5-4704-8b7d-478c2195defa",
   "metadata": {
    "tags": []
   },
   "outputs": [
    {
     "data": {
      "text/plain": [
       "405               Acima de R$ 40.001/mês\n",
       "443               Acima de R$ 40.001/mês\n",
       "774               Acima de R$ 40.001/mês\n",
       "1265              Acima de R$ 40.001/mês\n",
       "2053    de R$ 30.001/mês a R$ 40.000/mês\n",
       "2211              Acima de R$ 40.001/mês\n",
       "2257    de R$ 30.001/mês a R$ 40.000/mês\n",
       "2662              Acima de R$ 40.001/mês\n",
       "2945              Acima de R$ 40.001/mês\n",
       "2979              Acima de R$ 40.001/mês\n",
       "3016              Acima de R$ 40.001/mês\n",
       "3105              Acima de R$ 40.001/mês\n",
       "3141              Acima de R$ 40.001/mês\n",
       "3146              Acima de R$ 40.001/mês\n",
       "3201    de R$ 30.001/mês a R$ 40.000/mês\n",
       "3452              Acima de R$ 40.001/mês\n",
       "3503              Acima de R$ 40.001/mês\n",
       "3531              Acima de R$ 40.001/mês\n",
       "3771              Acima de R$ 40.001/mês\n",
       "3773              Acima de R$ 40.001/mês\n",
       "3919              Acima de R$ 40.001/mês\n",
       "3962              Acima de R$ 40.001/mês\n",
       "Name: FAIXA SALARIAL, dtype: object"
      ]
     },
     "execution_count": 29,
     "metadata": {},
     "output_type": "execute_result"
    }
   ],
   "source": [
    "# first try to solve outliers problem\n",
    "\n",
    "data[data['SALARIO']>upper_limit_salary]['FAIXA SALARIAL']"
   ]
  },
  {
   "cell_type": "markdown",
   "id": "bb772433-3388-4344-b505-11b1ed706899",
   "metadata": {},
   "source": [
    "- The upper limit salary is RS: 64806.16. \n",
    "- If the user choose the salary range lower than RS: 30000 will be considered a typing mistake. \n",
    "- The average of the salaries between RS 30,000 and RS 40,000 will be used to replace these values. "
   ]
  },
  {
   "cell_type": "code",
   "execution_count": 30,
   "id": "148b7c65-e56c-4ecc-bf24-171ddb22e17a",
   "metadata": {
    "tags": []
   },
   "outputs": [],
   "source": [
    "mean_30_40 = data[(data['FAIXA SALARIAL']=='de R$ 30.001/mês a R$ 40.000/mês')&(data['SALARIO']<upper_limit_salary)]['SALARIO'].mean()"
   ]
  },
  {
   "cell_type": "code",
   "execution_count": 31,
   "id": "a76b5747-8046-4e66-8206-1464c7951e50",
   "metadata": {
    "tags": []
   },
   "outputs": [],
   "source": [
    "data.loc[(data['FAIXA SALARIAL']=='de R$ 30.001/mês a R$ 40.000/mês') & (data['SALARIO']>upper_limit_salary),'SALARIO'] = mean_30_40"
   ]
  },
  {
   "cell_type": "code",
   "execution_count": 32,
   "id": "b921bcc6-2aac-4ccf-8f88-67d1b5c4aff8",
   "metadata": {
    "tags": []
   },
   "outputs": [
    {
     "data": {
      "text/plain": [
       "405     Acima de R$ 40.001/mês\n",
       "443     Acima de R$ 40.001/mês\n",
       "774     Acima de R$ 40.001/mês\n",
       "1265    Acima de R$ 40.001/mês\n",
       "2211    Acima de R$ 40.001/mês\n",
       "2662    Acima de R$ 40.001/mês\n",
       "2945    Acima de R$ 40.001/mês\n",
       "2979    Acima de R$ 40.001/mês\n",
       "3016    Acima de R$ 40.001/mês\n",
       "3105    Acima de R$ 40.001/mês\n",
       "3141    Acima de R$ 40.001/mês\n",
       "3146    Acima de R$ 40.001/mês\n",
       "3452    Acima de R$ 40.001/mês\n",
       "3503    Acima de R$ 40.001/mês\n",
       "3531    Acima de R$ 40.001/mês\n",
       "3771    Acima de R$ 40.001/mês\n",
       "3773    Acima de R$ 40.001/mês\n",
       "3919    Acima de R$ 40.001/mês\n",
       "3962    Acima de R$ 40.001/mês\n",
       "Name: FAIXA SALARIAL, dtype: object"
      ]
     },
     "execution_count": 32,
     "metadata": {},
     "output_type": "execute_result"
    }
   ],
   "source": [
    "data[data['SALARIO']>upper_limit_salary]['FAIXA SALARIAL']"
   ]
  },
  {
   "cell_type": "code",
   "execution_count": 33,
   "id": "65a98de2-a140-4a35-8b8f-4928690f3e3b",
   "metadata": {
    "tags": []
   },
   "outputs": [
    {
     "data": {
      "text/plain": [
       "53127.846153846156"
      ]
     },
     "execution_count": 33,
     "metadata": {},
     "output_type": "execute_result"
    }
   ],
   "source": [
    "mean_salary_plus40 = data[(data['FAIXA SALARIAL']=='Acima de R$ 40.001/mês') & (data['SALARIO']<upper_limit_salary)]['SALARIO'].mean()\n",
    "mean_salary_plus40"
   ]
  },
  {
   "cell_type": "code",
   "execution_count": 34,
   "id": "72d282df-520a-4ec7-92d6-989818f5c403",
   "metadata": {
    "tags": []
   },
   "outputs": [],
   "source": [
    "data.loc[(data['FAIXA SALARIAL']=='Acima de R$ 40.001/mês') & (data['SALARIO']>upper_limit_salary), 'SALARIO'] = mean_salary_plus40"
   ]
  },
  {
   "cell_type": "code",
   "execution_count": 35,
   "id": "0b131184-548e-4031-892c-1330a98c6e4f",
   "metadata": {
    "tags": []
   },
   "outputs": [
    {
     "data": {
      "text/plain": [
       "Series([], Name: FAIXA SALARIAL, dtype: object)"
      ]
     },
     "execution_count": 35,
     "metadata": {},
     "output_type": "execute_result"
    }
   ],
   "source": [
    "data[data['SALARIO']>upper_limit_salary]['FAIXA SALARIAL']"
   ]
  },
  {
   "cell_type": "code",
   "execution_count": 36,
   "id": "b073e125-ecf8-4c7d-ac83-07849c5eca71",
   "metadata": {
    "tags": []
   },
   "outputs": [
    {
     "data": {
      "text/plain": [
       "{'whiskers': [<matplotlib.lines.Line2D at 0x7b53610070d0>,\n",
       "  <matplotlib.lines.Line2D at 0x7b53610073a0>],\n",
       " 'caps': [<matplotlib.lines.Line2D at 0x7b5361007670>,\n",
       "  <matplotlib.lines.Line2D at 0x7b5361007940>],\n",
       " 'boxes': [<matplotlib.lines.Line2D at 0x7b5361006e00>],\n",
       " 'medians': [<matplotlib.lines.Line2D at 0x7b5361007c10>],\n",
       " 'fliers': [<matplotlib.lines.Line2D at 0x7b5361007ee0>],\n",
       " 'means': []}"
      ]
     },
     "execution_count": 36,
     "metadata": {},
     "output_type": "execute_result"
    },
    {
     "data": {
      "image/png": "[encoded data removed]",
      "text/plain": [
       "<Figure size 432x288 with 1 Axes>"
      ]
     },
     "metadata": {
      "needs_background": "light"
     },
     "output_type": "display_data"
    }
   ],
   "source": [
    "plt.boxplot(data['SALARIO'])"
   ]
  },
  {
   "cell_type": "code",
   "execution_count": 37,
   "id": "549df0a4-0e7c-4856-91d8-9dc6b430f78d",
   "metadata": {
    "tags": []
   },
   "outputs": [
    {
     "data": {
      "text/plain": [
       "SALARIO\n",
       "False    4271\n",
       "Name: count, dtype: int64"
      ]
     },
     "execution_count": 37,
     "metadata": {},
     "output_type": "execute_result"
    }
   ],
   "source": [
    "data['SALARIO'].isnull().value_counts()"
   ]
  },
  {
   "cell_type": "markdown",
   "id": "e6796775-cbe5-40f8-9319-335d52b09783",
   "metadata": {},
   "source": [
    "Salary outliers and data issues RESOLVED! \n",
    "\n",
    ":) "
   ]
  },
  {
   "cell_type": "markdown",
   "id": "4b2c4618-beb7-4a4b-a05a-6546b300fbdc",
   "metadata": {
    "tags": []
   },
   "source": [
    "# 2. Data Analysis"
   ]
  },
  {
   "cell_type": "markdown",
   "id": "32104d7b-5b68-4d2a-a797-8a6bb53a6eba",
   "metadata": {
    "jp-MarkdownHeadingCollapsed": true,
    "tags": []
   },
   "source": [
    "## 2.1. Who are our users?"
   ]
  },
  {
   "cell_type": "markdown",
   "id": "71762b13-01a1-409a-a7d8-40c0b1337cb3",
   "metadata": {
    "tags": []
   },
   "source": [
    "### 2.1.1. Users' gender "
   ]
  },
  {
   "cell_type": "markdown",
   "id": "e9a1c6c1-67cb-4e42-9b10-becaf239352d",
   "metadata": {},
   "source": [
    "What is the gender distribution among our users?"
   ]
  },
  {
   "cell_type": "code",
   "execution_count": 38,
   "id": "23b1e71c-541a-4095-8245-3c0becc9018c",
   "metadata": {
    "tags": []
   },
   "outputs": [
    {
     "data": {
      "text/plain": [
       "GENERO\n",
       "Masculino               3194\n",
       "Feminino                1056\n",
       "Prefiro não informar      12\n",
       "Name: count, dtype: int64"
      ]
     },
     "execution_count": 38,
     "metadata": {},
     "output_type": "execute_result"
    }
   ],
   "source": [
    "data['GENERO'].value_counts()"
   ]
  },
  {
   "cell_type": "code",
   "execution_count": 39,
   "id": "ae5ad7bc-9ec0-4d83-8a3a-4b4840a6c2b9",
   "metadata": {
    "tags": []
   },
   "outputs": [
    {
     "name": "stderr",
     "output_type": "stream",
     "text": [
      "findfont: Font family ['Times New Roman'] not found. Falling back to DejaVu Sans.\n",
      "findfont: Font family ['Times New Roman'] not found. Falling back to DejaVu Sans.\n"
     ]
    },
    {
     "data": {
      "image/png": "[encoded data removed]",
      "text/plain": [
       "<Figure size 720x576 with 1 Axes>"
      ]
     },
     "metadata": {},
     "output_type": "display_data"
    }
   ],
   "source": [
    "\n",
    "sizes = data['GENERO'].value_counts() \n",
    "labels = sizes.index  \n",
    "sizes = sizes.values  \n",
    "\n",
    "explode = (0.1,) * len(labels) \n",
    "plt.rcParams['font.family'] = 'Times New Roman'\n",
    "\n",
    "fig, ax = plt.subplots(figsize=(10, 8))  \n",
    "fig.patch.set_facecolor('white')\n",
    "\n",
    "ax.pie(sizes, explode=explode, labels=labels, autopct='%1.1f%%',\n",
    "       shadow=True, startangle=90)\n",
    "\n",
    "plt.title('Users Gender',  fontsize = 20)\n",
    "\n",
    "plt.show()"
   ]
  },
  {
   "cell_type": "markdown",
   "id": "bb5729e5-6624-4a9f-ab6a-01f6843b45d1",
   "metadata": {
    "jp-MarkdownHeadingCollapsed": true,
    "tags": []
   },
   "source": [
    "### 2.1.2. Average age of users"
   ]
  },
  {
   "cell_type": "markdown",
   "id": "12665e20-f7b6-4f1e-b78b-df34636b9747",
   "metadata": {},
   "source": [
    "What is the average age of our users?"
   ]
  },
  {
   "cell_type": "code",
   "execution_count": 40,
   "id": "9e6fd12c-3316-4fc3-8166-5022491b448e",
   "metadata": {
    "tags": []
   },
   "outputs": [
    {
     "data": {
      "text/plain": [
       "31.153517220250375"
      ]
     },
     "execution_count": 40,
     "metadata": {},
     "output_type": "execute_result"
    }
   ],
   "source": [
    "mean_age = data['IDADE'].mean()\n",
    "mean_age "
   ]
  },
  {
   "cell_type": "markdown",
   "id": "94ffc3a6-6b03-4963-ad2a-a332d32255f1",
   "metadata": {},
   "source": [
    "What is the maximum age of our users?"
   ]
  },
  {
   "cell_type": "code",
   "execution_count": 41,
   "id": "90684c68-ff70-47bd-bcd5-aa34ea4e9b4f",
   "metadata": {
    "tags": []
   },
   "outputs": [
    {
     "data": {
      "text/plain": [
       "54.0"
      ]
     },
     "execution_count": 41,
     "metadata": {},
     "output_type": "execute_result"
    }
   ],
   "source": [
    "max_age = data['IDADE'].max()\n",
    "max_age"
   ]
  },
  {
   "cell_type": "markdown",
   "id": "2a97b9d8-1aa3-4dfe-b88b-a216330dac42",
   "metadata": {},
   "source": [
    "What is the minimum age of our users?"
   ]
  },
  {
   "cell_type": "code",
   "execution_count": 42,
   "id": "84e26511-0e87-4c8e-bc56-40868ac209d1",
   "metadata": {
    "tags": []
   },
   "outputs": [
    {
     "data": {
      "text/plain": [
       "18.0"
      ]
     },
     "execution_count": 42,
     "metadata": {},
     "output_type": "execute_result"
    }
   ],
   "source": [
    "min_age = data['IDADE'].min()\n",
    "min_age"
   ]
  },
  {
   "cell_type": "markdown",
   "id": "560406e9-5548-497c-9f45-2b6e77c09788",
   "metadata": {
    "tags": []
   },
   "source": [
    "Is there any significant difference in the average age between genders?"
   ]
  },
  {
   "cell_type": "code",
   "execution_count": 43,
   "id": "3c20258a-624e-417f-9daa-cac29b197d78",
   "metadata": {
    "tags": []
   },
   "outputs": [
    {
     "data": {
      "text/plain": [
       "31.29591437447525"
      ]
     },
     "execution_count": 43,
     "metadata": {},
     "output_type": "execute_result"
    }
   ],
   "source": [
    "mean_age_female = data[data['GENERO']=='Feminino']['IDADE'].mean()\n",
    "mean_age_female"
   ]
  },
  {
   "cell_type": "code",
   "execution_count": 44,
   "id": "19ebc2b2-bebe-45b6-a472-e5bc68a04bad",
   "metadata": {
    "tags": []
   },
   "outputs": [
    {
     "data": {
      "text/plain": [
       "31.13770428039173"
      ]
     },
     "execution_count": 44,
     "metadata": {},
     "output_type": "execute_result"
    }
   ],
   "source": [
    "mean_age_male = data[data['GENERO']=='Masculino']['IDADE'].mean()\n",
    "mean_age_male"
   ]
  },
  {
   "cell_type": "code",
   "execution_count": 45,
   "id": "f906d16c-87a9-4285-81b4-7d44f6fc95c4",
   "metadata": {
    "tags": []
   },
   "outputs": [
    {
     "name": "stdout",
     "output_type": "stream",
     "text": [
      "The average ages of the users are quite similar regardless of gender. \n",
      " Female: 31.30 \n",
      " Male: 31.14 \n"
     ]
    }
   ],
   "source": [
    "print(f'The average ages of the users are quite similar regardless of gender. \\n Female: {mean_age_female:.2f} \\n Male: {mean_age_male:.2f} ')"
   ]
  },
  {
   "cell_type": "markdown",
   "id": "93914b86-28dd-4cf5-bbb6-ee5fe04bc16f",
   "metadata": {
    "jp-MarkdownHeadingCollapsed": true,
    "tags": []
   },
   "source": [
    "### 2.1.3 User Role"
   ]
  },
  {
   "cell_type": "markdown",
   "id": "4a245535-ba5c-4e66-95de-bb4b2e09b379",
   "metadata": {},
   "source": [
    "What are the roles held by our users?"
   ]
  },
  {
   "cell_type": "code",
   "execution_count": 46,
   "id": "d6dce529-bb92-4f82-afb2-fa65b6f011f0",
   "metadata": {
    "tags": []
   },
   "outputs": [
    {
     "data": {
      "text/plain": [
       "NOVO NÍVEL\n",
       "Pleno      1060\n",
       "Júnior     1023\n",
       "Sênior      898\n",
       "Gestora     713\n",
       "Name: count, dtype: int64"
      ]
     },
     "execution_count": 46,
     "metadata": {},
     "output_type": "execute_result"
    }
   ],
   "source": [
    "data['NOVO NÍVEL'].value_counts()"
   ]
  },
  {
   "cell_type": "markdown",
   "id": "cb4ce4a5-fcde-4a9c-ae86-ee3fa41f7fb1",
   "metadata": {},
   "source": [
    "How are the functions distributed among the different genders?"
   ]
  },
  {
   "cell_type": "code",
   "execution_count": 47,
   "id": "c092310a-d13f-4696-96ad-cf44ad1d8ad8",
   "metadata": {
    "tags": []
   },
   "outputs": [
    {
     "data": {
      "text/html": [
       "<div>\n",
       "<style scoped>\n",
       "    .dataframe tbody tr th:only-of-type {\n",
       "        vertical-align: middle;\n",
       "    }\n",
       "\n",
       "    .dataframe tbody tr th {\n",
       "        vertical-align: top;\n",
       "    }\n",
       "\n",
       "    .dataframe thead tr th {\n",
       "        text-align: left;\n",
       "    }\n",
       "\n",
       "    .dataframe thead tr:last-of-type th {\n",
       "        text-align: right;\n",
       "    }\n",
       "</style>\n",
       "<table border=\"1\" class=\"dataframe\">\n",
       "  <thead>\n",
       "    <tr>\n",
       "      <th></th>\n",
       "      <th colspan=\"4\" halign=\"left\">ID</th>\n",
       "    </tr>\n",
       "    <tr>\n",
       "      <th>NOVO NÍVEL</th>\n",
       "      <th>Gestora</th>\n",
       "      <th>Júnior</th>\n",
       "      <th>Pleno</th>\n",
       "      <th>Sênior</th>\n",
       "    </tr>\n",
       "    <tr>\n",
       "      <th>GENERO</th>\n",
       "      <th></th>\n",
       "      <th></th>\n",
       "      <th></th>\n",
       "      <th></th>\n",
       "    </tr>\n",
       "  </thead>\n",
       "  <tbody>\n",
       "    <tr>\n",
       "      <th>Feminino</th>\n",
       "      <td>132</td>\n",
       "      <td>272</td>\n",
       "      <td>295</td>\n",
       "      <td>187</td>\n",
       "    </tr>\n",
       "    <tr>\n",
       "      <th>Masculino</th>\n",
       "      <td>578</td>\n",
       "      <td>743</td>\n",
       "      <td>760</td>\n",
       "      <td>709</td>\n",
       "    </tr>\n",
       "    <tr>\n",
       "      <th>Prefiro não informar</th>\n",
       "      <td>2</td>\n",
       "      <td>4</td>\n",
       "      <td>4</td>\n",
       "      <td>1</td>\n",
       "    </tr>\n",
       "  </tbody>\n",
       "</table>\n",
       "</div>"
      ],
      "text/plain": [
       "                          ID                    \n",
       "NOVO NÍVEL           Gestora Júnior Pleno Sênior\n",
       "GENERO                                          \n",
       "Feminino                 132    272   295    187\n",
       "Masculino                578    743   760    709\n",
       "Prefiro não informar       2      4     4      1"
      ]
     },
     "execution_count": 47,
     "metadata": {},
     "output_type": "execute_result"
    }
   ],
   "source": [
    "# numerical\n",
    "\n",
    "gender_role = pd.pivot_table(data, values=['ID'], index=['GENERO'], columns=['NOVO NÍVEL'], aggfunc='count')\n",
    "gender_role"
   ]
  },
  {
   "cell_type": "code",
   "execution_count": 48,
   "id": "8ef78ceb-a6a3-44ed-901c-3c39b8da4908",
   "metadata": {
    "tags": []
   },
   "outputs": [
    {
     "data": {
      "text/html": [
       "<div>\n",
       "<style scoped>\n",
       "    .dataframe tbody tr th:only-of-type {\n",
       "        vertical-align: middle;\n",
       "    }\n",
       "\n",
       "    .dataframe tbody tr th {\n",
       "        vertical-align: top;\n",
       "    }\n",
       "\n",
       "    .dataframe thead tr th {\n",
       "        text-align: left;\n",
       "    }\n",
       "\n",
       "    .dataframe thead tr:last-of-type th {\n",
       "        text-align: right;\n",
       "    }\n",
       "</style>\n",
       "<table border=\"1\" class=\"dataframe\">\n",
       "  <thead>\n",
       "    <tr>\n",
       "      <th></th>\n",
       "      <th colspan=\"4\" halign=\"left\">ID</th>\n",
       "    </tr>\n",
       "    <tr>\n",
       "      <th>NOVO NÍVEL</th>\n",
       "      <th>Gestora</th>\n",
       "      <th>Júnior</th>\n",
       "      <th>Pleno</th>\n",
       "      <th>Sênior</th>\n",
       "    </tr>\n",
       "    <tr>\n",
       "      <th>GENERO</th>\n",
       "      <th></th>\n",
       "      <th></th>\n",
       "      <th></th>\n",
       "      <th></th>\n",
       "    </tr>\n",
       "  </thead>\n",
       "  <tbody>\n",
       "    <tr>\n",
       "      <th>Feminino</th>\n",
       "      <td>18.539326</td>\n",
       "      <td>26.692836</td>\n",
       "      <td>27.856468</td>\n",
       "      <td>20.847269</td>\n",
       "    </tr>\n",
       "    <tr>\n",
       "      <th>Masculino</th>\n",
       "      <td>81.179775</td>\n",
       "      <td>72.914622</td>\n",
       "      <td>71.765817</td>\n",
       "      <td>79.041249</td>\n",
       "    </tr>\n",
       "    <tr>\n",
       "      <th>Prefiro não informar</th>\n",
       "      <td>0.280899</td>\n",
       "      <td>0.392542</td>\n",
       "      <td>0.377715</td>\n",
       "      <td>0.111483</td>\n",
       "    </tr>\n",
       "  </tbody>\n",
       "</table>\n",
       "</div>"
      ],
      "text/plain": [
       "                             ID                                 \n",
       "NOVO NÍVEL              Gestora     Júnior      Pleno     Sênior\n",
       "GENERO                                                          \n",
       "Feminino              18.539326  26.692836  27.856468  20.847269\n",
       "Masculino             81.179775  72.914622  71.765817  79.041249\n",
       "Prefiro não informar   0.280899   0.392542   0.377715   0.111483"
      ]
     },
     "execution_count": 48,
     "metadata": {},
     "output_type": "execute_result"
    }
   ],
   "source": [
    "#percentual\n",
    "\n",
    "pivot_percent_role = gender_role.apply(lambda x: (x / x.sum()) * 100, axis=0)\n",
    "pivot_percent_role\n"
   ]
  },
  {
   "cell_type": "markdown",
   "id": "29c47091-003a-4099-86ec-64227d2a28c2",
   "metadata": {
    "tags": []
   },
   "source": [
    "#### users' role grafic"
   ]
  },
  {
   "cell_type": "code",
   "execution_count": 49,
   "id": "f5559173-b08e-49d1-8543-e13d8d59d57f",
   "metadata": {
    "tags": []
   },
   "outputs": [
    {
     "data": {
      "text/plain": [
       "743"
      ]
     },
     "execution_count": 49,
     "metadata": {},
     "output_type": "execute_result"
    }
   ],
   "source": [
    "# male junior role\n",
    "\n",
    "male_junior = np.array( data[(data['GENERO']=='Masculino') & (data['NOVO NÍVEL']=='Júnior')]['NOVO NÍVEL'].value_counts())[0]\n",
    "male_junior"
   ]
  },
  {
   "cell_type": "code",
   "execution_count": 50,
   "id": "5e6dcee9-d374-44e9-bdee-287b80b871c7",
   "metadata": {
    "tags": []
   },
   "outputs": [
    {
     "data": {
      "text/plain": [
       "272"
      ]
     },
     "execution_count": 50,
     "metadata": {},
     "output_type": "execute_result"
    }
   ],
   "source": [
    "# female junior role\n",
    "female_junior =  np.array( data[(data['GENERO']=='Feminino') & (data['NOVO NÍVEL']=='Júnior')]['NOVO NÍVEL'].value_counts())[0]\n",
    "female_junior\n"
   ]
  },
  {
   "cell_type": "code",
   "execution_count": 51,
   "id": "5349fe67-c2d5-4c1b-b945-de6b65314883",
   "metadata": {
    "tags": []
   },
   "outputs": [
    {
     "data": {
      "text/plain": [
       "4"
      ]
     },
     "execution_count": 51,
     "metadata": {},
     "output_type": "execute_result"
    }
   ],
   "source": [
    "# not inform junior\n",
    "\n",
    "not_inform_junior = np.array( data[(data['GENERO']=='Prefiro não informar') & (data['NOVO NÍVEL']=='Júnior')]['NOVO NÍVEL'].value_counts())[0]\n",
    "not_inform_junior"
   ]
  },
  {
   "cell_type": "code",
   "execution_count": 52,
   "id": "a8db0aaa-4753-48b2-857c-f778569feb2a",
   "metadata": {
    "tags": []
   },
   "outputs": [
    {
     "data": {
      "text/plain": [
       "760"
      ]
     },
     "execution_count": 52,
     "metadata": {},
     "output_type": "execute_result"
    }
   ],
   "source": [
    "# male Plenor \n",
    "\n",
    "male_plenor_role = np.array( data[(data['GENERO']=='Masculino') & (data['NOVO NÍVEL']=='Pleno')]['NOVO NÍVEL'].value_counts())[0]\n",
    "male_plenor_role"
   ]
  },
  {
   "cell_type": "code",
   "execution_count": 53,
   "id": "5691385f-b8b0-4670-b385-899898b9452e",
   "metadata": {
    "tags": []
   },
   "outputs": [
    {
     "data": {
      "text/plain": [
       "295"
      ]
     },
     "execution_count": 53,
     "metadata": {},
     "output_type": "execute_result"
    }
   ],
   "source": [
    "# female plenor role\n",
    "\n",
    "female_plenor_role = np.array( data[(data['GENERO']=='Feminino') & (data['NOVO NÍVEL']=='Pleno')]['NOVO NÍVEL'].value_counts() )[0]\n",
    "female_plenor_role"
   ]
  },
  {
   "cell_type": "code",
   "execution_count": 54,
   "id": "7533f893-ff4a-41e1-8b93-6f24492f46c2",
   "metadata": {
    "tags": []
   },
   "outputs": [
    {
     "data": {
      "text/plain": [
       "4"
      ]
     },
     "execution_count": 54,
     "metadata": {},
     "output_type": "execute_result"
    }
   ],
   "source": [
    "# not inform gender plenor role\n",
    "\n",
    "notinform_plenor_role = np.array(data[ (data['GENERO']=='Prefiro não informar') & (data['NOVO NÍVEL']=='Pleno')]['NOVO NÍVEL'].value_counts())[0]\n",
    "notinform_plenor_role"
   ]
  },
  {
   "cell_type": "code",
   "execution_count": 55,
   "id": "e79fce81-a964-48b8-a0fa-6d39cdc156e5",
   "metadata": {
    "tags": []
   },
   "outputs": [
    {
     "data": {
      "text/plain": [
       "709"
      ]
     },
     "execution_count": 55,
     "metadata": {},
     "output_type": "execute_result"
    }
   ],
   "source": [
    "# male senior role\n",
    "\n",
    "male_senior_role = np.array(data[(data['GENERO']=='Masculino') & (data['NOVO NÍVEL']=='Sênior') ]['NOVO NÍVEL'].value_counts())[0]\n",
    "male_senior_role"
   ]
  },
  {
   "cell_type": "code",
   "execution_count": 56,
   "id": "def75e3c-9ba7-4dcd-b0e3-e073b1d99246",
   "metadata": {
    "tags": []
   },
   "outputs": [
    {
     "data": {
      "text/plain": [
       "187"
      ]
     },
     "execution_count": 56,
     "metadata": {},
     "output_type": "execute_result"
    }
   ],
   "source": [
    "# female senior role \n",
    "\n",
    "female_senior_role = np.array(data[ (data['GENERO']=='Feminino') & (data['NOVO NÍVEL']=='Sênior')]['NOVO NÍVEL'].value_counts())[0]\n",
    "female_senior_role"
   ]
  },
  {
   "cell_type": "code",
   "execution_count": 57,
   "id": "660c4108-995f-48cc-9d10-feef0a73fadd",
   "metadata": {
    "tags": []
   },
   "outputs": [
    {
     "data": {
      "text/plain": [
       "1"
      ]
     },
     "execution_count": 57,
     "metadata": {},
     "output_type": "execute_result"
    }
   ],
   "source": [
    "# not inform gender senior role \n",
    "\n",
    "notinform_senior_role = np.array(data[ (data['GENERO']=='Prefiro não informar') & (data['NOVO NÍVEL']=='Sênior')]['NOVO NÍVEL'].value_counts())[0]\n",
    "notinform_senior_role"
   ]
  },
  {
   "cell_type": "code",
   "execution_count": 58,
   "id": "57236dac-d93c-4cdb-9e71-f89ebfa135d2",
   "metadata": {
    "tags": []
   },
   "outputs": [
    {
     "data": {
      "text/plain": [
       "578"
      ]
     },
     "execution_count": 58,
     "metadata": {},
     "output_type": "execute_result"
    }
   ],
   "source": [
    "# male manager role\n",
    "\n",
    "male_manager_role = np.array(data[(data['GENERO']=='Masculino') & (data['NOVO NÍVEL']=='Gestora')]['NOVO NÍVEL'].value_counts())[0]\n",
    "male_manager_role"
   ]
  },
  {
   "cell_type": "code",
   "execution_count": 59,
   "id": "7ffa7278-10b7-470e-b2c3-eb0b0197a2e2",
   "metadata": {
    "tags": []
   },
   "outputs": [
    {
     "data": {
      "text/plain": [
       "132"
      ]
     },
     "execution_count": 59,
     "metadata": {},
     "output_type": "execute_result"
    }
   ],
   "source": [
    "# female manager role\n",
    "\n",
    "female_manager_role = np.array(data[(data['GENERO']=='Feminino') & (data['NOVO NÍVEL']=='Gestora')]['NOVO NÍVEL'].value_counts())[0]\n",
    "female_manager_role"
   ]
  },
  {
   "cell_type": "code",
   "execution_count": 60,
   "id": "83c8c099-9373-403a-bef4-fcb18be864d6",
   "metadata": {
    "tags": []
   },
   "outputs": [
    {
     "data": {
      "text/plain": [
       "2"
      ]
     },
     "execution_count": 60,
     "metadata": {},
     "output_type": "execute_result"
    }
   ],
   "source": [
    "# not inform gender manager role\n",
    "\n",
    "notinform_manager_role = np.array(data[(data['GENERO']=='Prefiro não informar') & (data['NOVO NÍVEL']=='Gestora')]['NOVO NÍVEL'].value_counts())[0]\n",
    "notinform_manager_role"
   ]
  },
  {
   "cell_type": "code",
   "execution_count": 61,
   "id": "333658d8-b0d5-477a-af27-1a9f68b2dd4f",
   "metadata": {
    "tags": []
   },
   "outputs": [
    {
     "name": "stderr",
     "output_type": "stream",
     "text": [
      "findfont: Font family ['Times New Roman'] not found. Falling back to DejaVu Sans.\n"
     ]
    },
    {
     "data": {
      "image/png": "[encoded data removed]",
      "text/plain": [
       "<Figure size 1440x720 with 4 Axes>"
      ]
     },
     "metadata": {
      "needs_background": "light"
     },
     "output_type": "display_data"
    }
   ],
   "source": [
    "fig, axs = plt.subplots(2, 2,figsize=(20, 10))\n",
    "\n",
    "bar_labels = 'Feminino', 'Masculino', 'Prefiro não informar'\n",
    "bar_colors = ['tab:purple', 'tab:green', 'tab:red']\n",
    "\n",
    "gender = ['Feminino','Masculino','Prefiro não informar']\n",
    "count_junior = [female_junior,male_junior,not_inform_junior]\n",
    "\n",
    "axs[0, 0].bar(gender, count_junior, label=bar_labels, color=bar_colors,  width = 0.4)\n",
    "axs[0, 0].set_title('Junior gender distribution')\n",
    "\n",
    "count_plenor = [female_plenor_role,male_plenor_role,notinform_plenor_role]\n",
    "axs[0, 1].bar(gender, count_plenor, label=bar_labels, color=bar_colors,  width = 0.4)\n",
    "axs[0, 1].set_title('Plenor gender distribution')\n",
    "\n",
    "count_senior = [female_senior_role,male_senior_role,notinform_senior_role]\n",
    "axs[1, 0].bar(gender, count_senior, label=bar_labels, color=bar_colors,  width = 0.4)\n",
    "axs[1, 0].set_title('Senior gender distribution')\n",
    "\n",
    "count_manager = [female_manager_role,male_manager_role,notinform_manager_role]\n",
    "axs[1, 1].bar(gender, count_manager, label=bar_labels, color=bar_colors,  width = 0.4)\n",
    "axs[1, 1].set_title('Manager gender distribution')\n",
    "\n",
    "for ax in axs.flat:\n",
    "    ax.set(ylabel=\"Users' number\")\n",
    "\n",
    "# Hide x labels and tick labels for top plots and y ticks for right plots.\n",
    "# for ax in axs.flat:\n",
    "#     ax.label_outer()"
   ]
  },
  {
   "cell_type": "markdown",
   "id": "8c98ed2c-ebc8-4f3e-ab55-50619d25c8a7",
   "metadata": {
    "jp-MarkdownHeadingCollapsed": true,
    "tags": []
   },
   "source": [
    "### 2.1.4 Ethnicity of users"
   ]
  },
  {
   "cell_type": "markdown",
   "id": "b56b46e7-8fc4-462e-9842-07fc617d7e0a",
   "metadata": {},
   "source": [
    "What is the ethnic distribution of our users?"
   ]
  },
  {
   "cell_type": "code",
   "execution_count": 62,
   "id": "3549ca21-dcde-47a3-b909-d1aaf6c6c203",
   "metadata": {
    "tags": []
   },
   "outputs": [
    {
     "data": {
      "text/plain": [
       "COR/RACA/ETNIA\n",
       "Branca                  2744\n",
       "Parda                   1054\n",
       "Preta                    291\n",
       "Amarela                  128\n",
       "Prefiro não informar      26\n",
       "Outra                     17\n",
       "Indígena                  11\n",
       "Name: count, dtype: int64"
      ]
     },
     "execution_count": 62,
     "metadata": {},
     "output_type": "execute_result"
    }
   ],
   "source": [
    "data['COR/RACA/ETNIA'].value_counts(dropna=False)"
   ]
  },
  {
   "cell_type": "code",
   "execution_count": 63,
   "id": "86419f2f-e443-4ae9-bbe9-c763c561a3bb",
   "metadata": {
    "tags": []
   },
   "outputs": [
    {
     "data": {
      "image/png": "[encoded data removed]",
      "text/plain": [
       "<Figure size 432x288 with 1 Axes>"
      ]
     },
     "metadata": {},
     "output_type": "display_data"
    }
   ],
   "source": [
    "sizes = data['COR/RACA/ETNIA'].value_counts() \n",
    "labels = sizes.index  \n",
    "sizes = sizes.values  \n",
    "\n",
    "explode = (0.1,) * len(labels) \n",
    "\n",
    "fig, ax = plt.subplots()  \n",
    "fig.patch.set_facecolor('white')\n",
    "\n",
    "ax.pie(sizes, explode=explode, labels=labels, autopct='%1.1f%%',\n",
    "       shadow=True, startangle=90)\n",
    "\n",
    "plt.title('Ethnic distribution of users')\n",
    "\n",
    "plt.show()"
   ]
  },
  {
   "cell_type": "markdown",
   "id": "72dbd5a0-99e1-4399-9d11-8b14310c95fe",
   "metadata": {},
   "source": [
    "How are different ethnic groups distributed across the roles they occupy?"
   ]
  },
  {
   "cell_type": "code",
   "execution_count": 64,
   "id": "a68b07b3-3d8b-4f23-a3bd-c86972141dd5",
   "metadata": {
    "tags": []
   },
   "outputs": [
    {
     "data": {
      "text/html": [
       "<div>\n",
       "<style scoped>\n",
       "    .dataframe tbody tr th:only-of-type {\n",
       "        vertical-align: middle;\n",
       "    }\n",
       "\n",
       "    .dataframe tbody tr th {\n",
       "        vertical-align: top;\n",
       "    }\n",
       "\n",
       "    .dataframe thead tr th {\n",
       "        text-align: left;\n",
       "    }\n",
       "\n",
       "    .dataframe thead tr:last-of-type th {\n",
       "        text-align: right;\n",
       "    }\n",
       "</style>\n",
       "<table border=\"1\" class=\"dataframe\">\n",
       "  <thead>\n",
       "    <tr>\n",
       "      <th></th>\n",
       "      <th colspan=\"4\" halign=\"left\">ID</th>\n",
       "    </tr>\n",
       "    <tr>\n",
       "      <th>NOVO NÍVEL</th>\n",
       "      <th>Gestora</th>\n",
       "      <th>Júnior</th>\n",
       "      <th>Pleno</th>\n",
       "      <th>Sênior</th>\n",
       "    </tr>\n",
       "    <tr>\n",
       "      <th>COR/RACA/ETNIA</th>\n",
       "      <th></th>\n",
       "      <th></th>\n",
       "      <th></th>\n",
       "      <th></th>\n",
       "    </tr>\n",
       "  </thead>\n",
       "  <tbody>\n",
       "    <tr>\n",
       "      <th>Amarela</th>\n",
       "      <td>28</td>\n",
       "      <td>29</td>\n",
       "      <td>27</td>\n",
       "      <td>27</td>\n",
       "    </tr>\n",
       "    <tr>\n",
       "      <th>Branca</th>\n",
       "      <td>480</td>\n",
       "      <td>611</td>\n",
       "      <td>684</td>\n",
       "      <td>622</td>\n",
       "    </tr>\n",
       "    <tr>\n",
       "      <th>Indígena</th>\n",
       "      <td>1</td>\n",
       "      <td>4</td>\n",
       "      <td>3</td>\n",
       "      <td>2</td>\n",
       "    </tr>\n",
       "    <tr>\n",
       "      <th>Outra</th>\n",
       "      <td>5</td>\n",
       "      <td>4</td>\n",
       "      <td>1</td>\n",
       "      <td>3</td>\n",
       "    </tr>\n",
       "    <tr>\n",
       "      <th>Parda</th>\n",
       "      <td>162</td>\n",
       "      <td>267</td>\n",
       "      <td>267</td>\n",
       "      <td>201</td>\n",
       "    </tr>\n",
       "    <tr>\n",
       "      <th>Prefiro não informar</th>\n",
       "      <td>2</td>\n",
       "      <td>10</td>\n",
       "      <td>9</td>\n",
       "      <td>4</td>\n",
       "    </tr>\n",
       "    <tr>\n",
       "      <th>Preta</th>\n",
       "      <td>35</td>\n",
       "      <td>98</td>\n",
       "      <td>69</td>\n",
       "      <td>39</td>\n",
       "    </tr>\n",
       "  </tbody>\n",
       "</table>\n",
       "</div>"
      ],
      "text/plain": [
       "                          ID                    \n",
       "NOVO NÍVEL           Gestora Júnior Pleno Sênior\n",
       "COR/RACA/ETNIA                                  \n",
       "Amarela                   28     29    27     27\n",
       "Branca                   480    611   684    622\n",
       "Indígena                   1      4     3      2\n",
       "Outra                      5      4     1      3\n",
       "Parda                    162    267   267    201\n",
       "Prefiro não informar       2     10     9      4\n",
       "Preta                     35     98    69     39"
      ]
     },
     "execution_count": 64,
     "metadata": {},
     "output_type": "execute_result"
    }
   ],
   "source": [
    "# numerical\n",
    "\n",
    "ethnical_role = pd.pivot_table(data, values=['ID'], index=['COR/RACA/ETNIA'], columns=['NOVO NÍVEL'], aggfunc='count')\n",
    "ethnical_role"
   ]
  },
  {
   "cell_type": "code",
   "execution_count": 65,
   "id": "606d4576-3fd3-4342-af8f-4dff3c6a935a",
   "metadata": {},
   "outputs": [
    {
     "data": {
      "text/html": [
       "<div>\n",
       "<style scoped>\n",
       "    .dataframe tbody tr th:only-of-type {\n",
       "        vertical-align: middle;\n",
       "    }\n",
       "\n",
       "    .dataframe tbody tr th {\n",
       "        vertical-align: top;\n",
       "    }\n",
       "\n",
       "    .dataframe thead tr th {\n",
       "        text-align: left;\n",
       "    }\n",
       "\n",
       "    .dataframe thead tr:last-of-type th {\n",
       "        text-align: right;\n",
       "    }\n",
       "</style>\n",
       "<table border=\"1\" class=\"dataframe\">\n",
       "  <thead>\n",
       "    <tr>\n",
       "      <th></th>\n",
       "      <th colspan=\"4\" halign=\"left\">ID</th>\n",
       "    </tr>\n",
       "    <tr>\n",
       "      <th>NOVO NÍVEL</th>\n",
       "      <th>Gestora</th>\n",
       "      <th>Júnior</th>\n",
       "      <th>Pleno</th>\n",
       "      <th>Sênior</th>\n",
       "    </tr>\n",
       "    <tr>\n",
       "      <th>COR/RACA/ETNIA</th>\n",
       "      <th></th>\n",
       "      <th></th>\n",
       "      <th></th>\n",
       "      <th></th>\n",
       "    </tr>\n",
       "  </thead>\n",
       "  <tbody>\n",
       "    <tr>\n",
       "      <th>Amarela</th>\n",
       "      <td>3.927069</td>\n",
       "      <td>2.834800</td>\n",
       "      <td>2.547170</td>\n",
       "      <td>3.006682</td>\n",
       "    </tr>\n",
       "    <tr>\n",
       "      <th>Branca</th>\n",
       "      <td>67.321178</td>\n",
       "      <td>59.726295</td>\n",
       "      <td>64.528302</td>\n",
       "      <td>69.265033</td>\n",
       "    </tr>\n",
       "    <tr>\n",
       "      <th>Indígena</th>\n",
       "      <td>0.140252</td>\n",
       "      <td>0.391007</td>\n",
       "      <td>0.283019</td>\n",
       "      <td>0.222717</td>\n",
       "    </tr>\n",
       "    <tr>\n",
       "      <th>Outra</th>\n",
       "      <td>0.701262</td>\n",
       "      <td>0.391007</td>\n",
       "      <td>0.094340</td>\n",
       "      <td>0.334076</td>\n",
       "    </tr>\n",
       "    <tr>\n",
       "      <th>Parda</th>\n",
       "      <td>22.720898</td>\n",
       "      <td>26.099707</td>\n",
       "      <td>25.188679</td>\n",
       "      <td>22.383073</td>\n",
       "    </tr>\n",
       "    <tr>\n",
       "      <th>Prefiro não informar</th>\n",
       "      <td>0.280505</td>\n",
       "      <td>0.977517</td>\n",
       "      <td>0.849057</td>\n",
       "      <td>0.445434</td>\n",
       "    </tr>\n",
       "    <tr>\n",
       "      <th>Preta</th>\n",
       "      <td>4.908836</td>\n",
       "      <td>9.579668</td>\n",
       "      <td>6.509434</td>\n",
       "      <td>4.342984</td>\n",
       "    </tr>\n",
       "  </tbody>\n",
       "</table>\n",
       "</div>"
      ],
      "text/plain": [
       "                             ID                                 \n",
       "NOVO NÍVEL              Gestora     Júnior      Pleno     Sênior\n",
       "COR/RACA/ETNIA                                                  \n",
       "Amarela                3.927069   2.834800   2.547170   3.006682\n",
       "Branca                67.321178  59.726295  64.528302  69.265033\n",
       "Indígena               0.140252   0.391007   0.283019   0.222717\n",
       "Outra                  0.701262   0.391007   0.094340   0.334076\n",
       "Parda                 22.720898  26.099707  25.188679  22.383073\n",
       "Prefiro não informar   0.280505   0.977517   0.849057   0.445434\n",
       "Preta                  4.908836   9.579668   6.509434   4.342984"
      ]
     },
     "execution_count": 65,
     "metadata": {},
     "output_type": "execute_result"
    }
   ],
   "source": [
    "# percentual\n",
    "\n",
    "pivot_percent_role_ethnic = ethnical_role.apply(lambda x: (x / x.sum()) * 100, axis=0)\n",
    "pivot_percent_role_ethnic"
   ]
  },
  {
   "cell_type": "markdown",
   "id": "feaafbbe-e475-41c0-8024-0007abdaec96",
   "metadata": {
    "jp-MarkdownHeadingCollapsed": true,
    "tags": []
   },
   "source": [
    "## 2.2. Aspects of diversity and inclusion"
   ]
  },
  {
   "cell_type": "markdown",
   "id": "68696fdf-da7b-4bad-ab0f-a3dc4148e1d2",
   "metadata": {},
   "source": [
    "What is the percentage of users with disabilities?"
   ]
  },
  {
   "cell_type": "code",
   "execution_count": 66,
   "id": "971f9250-f388-45a2-ab79-3bc6f4b637d6",
   "metadata": {
    "tags": []
   },
   "outputs": [
    {
     "data": {
      "text/plain": [
       "PCD\n",
       "Não                     4198\n",
       "Sim                       54\n",
       "Prefiro não informar      19\n",
       "Name: count, dtype: int64"
      ]
     },
     "execution_count": 66,
     "metadata": {},
     "output_type": "execute_result"
    }
   ],
   "source": [
    "data['PCD'].value_counts()"
   ]
  },
  {
   "cell_type": "markdown",
   "id": "6699e590-925d-4e6d-82f2-605aa5e0ebfa",
   "metadata": {
    "tags": []
   },
   "source": [
    "How are users with disabilities distributed across different roles? Is there any role where representation is higher or lower?"
   ]
  },
  {
   "cell_type": "code",
   "execution_count": 67,
   "id": "6aae8fab-771b-4d51-aed8-7ae87aa5b1b0",
   "metadata": {
    "tags": []
   },
   "outputs": [
    {
     "data": {
      "text/plain": [
       "NOVO NÍVEL\n",
       "Júnior     20\n",
       "Sênior     13\n",
       "Pleno      10\n",
       "Gestora     5\n",
       "Name: count, dtype: int64"
      ]
     },
     "execution_count": 67,
     "metadata": {},
     "output_type": "execute_result"
    }
   ],
   "source": [
    "pcd_role = data[(data['PCD']=='Sim') & (data['NOVO NÍVEL'])]['NOVO NÍVEL'].value_counts()\n",
    "pcd_role"
   ]
  },
  {
   "cell_type": "code",
   "execution_count": 68,
   "id": "87bb18d1-fe1b-46e1-9759-c8654a5ed1a9",
   "metadata": {
    "tags": []
   },
   "outputs": [
    {
     "data": {
      "text/plain": [
       "37.03703703703704"
      ]
     },
     "execution_count": 68,
     "metadata": {},
     "output_type": "execute_result"
    }
   ],
   "source": [
    "percetual_pcd_junior = (20/54)*100\n",
    "percetual_pcd_junior\n"
   ]
  },
  {
   "cell_type": "code",
   "execution_count": 69,
   "id": "6ac9448e-559f-4632-8db6-63585623799b",
   "metadata": {
    "tags": []
   },
   "outputs": [
    {
     "data": {
      "text/plain": [
       "20"
      ]
     },
     "execution_count": 69,
     "metadata": {},
     "output_type": "execute_result"
    }
   ],
   "source": [
    "\n",
    "pcd_role_junior = np.array(data[ (data['PCD']=='Sim') & (data['NOVO NÍVEL']=='Júnior') ]['PCD'].value_counts())[0]\n",
    "pcd_role_junior"
   ]
  },
  {
   "cell_type": "code",
   "execution_count": 70,
   "id": "0b520a9a-5a50-49d3-b6bb-726a81585ac8",
   "metadata": {
    "tags": []
   },
   "outputs": [
    {
     "data": {
      "text/plain": [
       "18.51851851851852"
      ]
     },
     "execution_count": 70,
     "metadata": {},
     "output_type": "execute_result"
    }
   ],
   "source": [
    "percetual_pcd_pleno = (10/54)*100\n",
    "percetual_pcd_pleno"
   ]
  },
  {
   "cell_type": "code",
   "execution_count": 71,
   "id": "27cfb7ce-b869-4905-a8e3-0979eb15f177",
   "metadata": {
    "tags": []
   },
   "outputs": [
    {
     "data": {
      "text/plain": [
       "10"
      ]
     },
     "execution_count": 71,
     "metadata": {},
     "output_type": "execute_result"
    }
   ],
   "source": [
    "pcd_role_plenor = np.array(data[ (data['PCD']=='Sim') & (data['NOVO NÍVEL']=='Pleno') ]['PCD'].value_counts())[0]\n",
    "pcd_role_plenor"
   ]
  },
  {
   "cell_type": "code",
   "execution_count": 72,
   "id": "a2e37f24-df73-487c-b809-d06035c6e37c",
   "metadata": {
    "tags": []
   },
   "outputs": [
    {
     "data": {
      "text/plain": [
       "24.074074074074073"
      ]
     },
     "execution_count": 72,
     "metadata": {},
     "output_type": "execute_result"
    }
   ],
   "source": [
    "percetual_pcd_senior = (13/54)*100\n",
    "percetual_pcd_senior"
   ]
  },
  {
   "cell_type": "code",
   "execution_count": 73,
   "id": "8384c523-4d2a-49a4-a18a-8e5a02ad2230",
   "metadata": {
    "tags": []
   },
   "outputs": [
    {
     "data": {
      "text/plain": [
       "13"
      ]
     },
     "execution_count": 73,
     "metadata": {},
     "output_type": "execute_result"
    }
   ],
   "source": [
    "pcd_role_senior = np.array(data[ (data['PCD']=='Sim') & (data['NOVO NÍVEL']=='Sênior') ]['PCD'].value_counts())[0]\n",
    "pcd_role_senior"
   ]
  },
  {
   "cell_type": "code",
   "execution_count": 74,
   "id": "6e03c1cf-211b-4e13-ae74-af5603ad64aa",
   "metadata": {
    "tags": []
   },
   "outputs": [
    {
     "data": {
      "text/plain": [
       "9.25925925925926"
      ]
     },
     "execution_count": 74,
     "metadata": {},
     "output_type": "execute_result"
    }
   ],
   "source": [
    "percetual_pcd_gestor = (5/54)*100\n",
    "percetual_pcd_gestor"
   ]
  },
  {
   "cell_type": "code",
   "execution_count": 75,
   "id": "6b66c44c-ff4e-4caa-b776-940021023766",
   "metadata": {
    "tags": []
   },
   "outputs": [
    {
     "data": {
      "text/plain": [
       "5"
      ]
     },
     "execution_count": 75,
     "metadata": {},
     "output_type": "execute_result"
    }
   ],
   "source": [
    "pcd_role_manager = np.array(data[ (data['PCD']=='Sim') & (data['NOVO NÍVEL']=='Gestora') ]['PCD'].value_counts())[0]\n",
    "pcd_role_manager"
   ]
  },
  {
   "cell_type": "code",
   "execution_count": 76,
   "id": "1878315b-f795-4b9f-b3a5-e3922a038677",
   "metadata": {
    "tags": []
   },
   "outputs": [
    {
     "data": {
      "text/plain": [
       "<matplotlib.legend.Legend at 0x7b5361227580>"
      ]
     },
     "execution_count": 76,
     "metadata": {},
     "output_type": "execute_result"
    },
    {
     "name": "stderr",
     "output_type": "stream",
     "text": [
      "findfont: Font family ['Times New Roman'] not found. Falling back to DejaVu Sans.\n",
      "findfont: Font family ['Times New Roman'] not found. Falling back to DejaVu Sans.\n"
     ]
    },
    {
     "data": {
      "image/png": "[encoded data removed]",
      "text/plain": [
       "<Figure size 1440x720 with 1 Axes>"
      ]
     },
     "metadata": {
      "needs_background": "light"
     },
     "output_type": "display_data"
    }
   ],
   "source": [
    "plt.rcParams['font.family'] = 'Times New Roman'\n",
    "\n",
    "fig, axs = plt.subplots(figsize=(20, 10))\n",
    "\n",
    "bar_labels = 'Júnior', 'Plenor', 'Sênior', 'Gestor'\n",
    "bar_colors = ['tab:purple', 'tab:green', 'tab:orange', 'tab:blue']\n",
    "\n",
    "role_pcd = ['Júnior','Plenor','Sênior', 'Gestor']\n",
    "count_junior = [pcd_role_junior,pcd_role_plenor, pcd_role_senior, pcd_role_manager]\n",
    "\n",
    "axs.bar(role_pcd, count_junior, label=bar_labels, color=bar_colors,  width = 0.4)\n",
    "ax.set_ylabel(\"Total number of users with disabilities.\", fontsize = 20)\n",
    "ax.set_xlabel(\"Users' Role\", fontsize = 20)\n",
    "plt.xticks(fontsize = 15) \n",
    "plt.yticks(fontsize = 13) \n",
    "axs.set_title(\"Users' with disabilities distribuiton by role\", fontsize = 20)\n",
    "ax.legend()"
   ]
  },
  {
   "cell_type": "markdown",
   "id": "d4f8185c-cbf5-473c-86da-63fd8c95600e",
   "metadata": {},
   "source": [
    "Conslusions: \n",
    "- The representation of people with disabilities is extremely low, accounting for only about 1.26% of the total employees. This raises questions about the effectiveness of the company's inclusion and diversity policies. Is the organization truly promoting inclusion, or does this low representation reflect barriers in the recruitment and selection process?\n",
    "\n",
    "- The decision of 19 employees not to disclose whether they are people with disabilities (PWDs) may suggest an organizational environment where individuals do not feel completely safe or comfortable identifying as such. This could indicate that the organizational culture is not yet fully inclusive or that there are concerns about discrimination or stigmatization.\n",
    "\n",
    "Higher Representation:\n",
    "- The Júnior role has the highest representation of users with disabilities (37.03%). This suggests that users with disabilities are more commonly found in entry-level positions.\n",
    "\n",
    "Lower Representation:\n",
    "- The Gestora role has the lowest representation (9.2%). This indicates that users with disabilities are less represented in managerial positions compared to other roles.\n",
    "\n",
    "- The concentration of people with disabilities (PWDs) in lower-level positions (Junior) suggests potential challenges in the professional advancement of these employees. This may indicate a lack of development opportunities or the presence of biases and stigmas that hinder the career progression of PWDs to roles with greater responsibility. Additionally, only 5 PWDs hold management positions, raising concerns about inclusion in leadership roles.\n",
    "\n",
    "\n",
    "Suggestion: \n",
    "\n",
    "- These numbers suggest an urgent need for more robust and focused actions on inclusion and awareness within the company. Professional development programs, inclusive recruitment policies, and awareness campaigns can help balance this distribution and ensure that more people with disabilities have access to all hierarchical levels, including leadership positions."
   ]
  },
  {
   "cell_type": "markdown",
   "id": "9e50100b-2635-4f3d-9ee6-c5e359e407ab",
   "metadata": {
    "tags": []
   },
   "source": [
    "## 2.3. Salary analysis"
   ]
  },
  {
   "cell_type": "markdown",
   "id": "b65f6eb8-ece4-4db2-b36f-9f4c7884459e",
   "metadata": {
    "tags": []
   },
   "source": [
    "### 2.3.1. Averege Salary"
   ]
  },
  {
   "cell_type": "code",
   "execution_count": 77,
   "id": "664a8883-2103-49da-ac42-3eeb73d91372",
   "metadata": {
    "tags": []
   },
   "outputs": [
    {
     "name": "stdout",
     "output_type": "stream",
     "text": [
      "The mean salary of the users is R$9904.39.\n"
     ]
    }
   ],
   "source": [
    "# Mean salary\n",
    "\n",
    "mean_salary_global = data['SALARIO'].mean()\n",
    "print(f'The mean salary of the users is R${mean_salary_global:.2f}.')\n"
   ]
  },
  {
   "cell_type": "markdown",
   "id": "c7443d62-94c2-4ff5-9103-30dbb075f033",
   "metadata": {
    "tags": []
   },
   "source": [
    "### 2.3.2. Averege Salary per gender"
   ]
  },
  {
   "cell_type": "code",
   "execution_count": 78,
   "id": "389e23ee-5b9f-4719-82bd-114ba07ff010",
   "metadata": {
    "tags": []
   },
   "outputs": [
    {
     "data": {
      "text/plain": [
       "10393.555983988348"
      ]
     },
     "execution_count": 78,
     "metadata": {},
     "output_type": "execute_result"
    }
   ],
   "source": [
    "# Men averege salary\n",
    "\n",
    "mean_salary_men = (data[(data['GENERO']=='Masculino') & (data['SALARIO'])]['SALARIO'].mean())\n",
    "mean_salary_men"
   ]
  },
  {
   "cell_type": "code",
   "execution_count": 79,
   "id": "ad2c7d28-8322-4426-8bc7-f162f09d9e5c",
   "metadata": {
    "tags": []
   },
   "outputs": [
    {
     "data": {
      "text/plain": [
       "8482.256483100233"
      ]
     },
     "execution_count": 79,
     "metadata": {},
     "output_type": "execute_result"
    }
   ],
   "source": [
    "# Female averege salary\n",
    "\n",
    "mean_salary_female = (data[(data['GENERO']=='Feminino') & (data['SALARIO'])])['SALARIO'].mean()\n",
    "mean_salary_female"
   ]
  },
  {
   "cell_type": "code",
   "execution_count": 80,
   "id": "edf16085-8af7-4e00-9328-dd1c4eaa02c8",
   "metadata": {
    "tags": []
   },
   "outputs": [
    {
     "name": "stdout",
     "output_type": "stream",
     "text": [
      "The difference in average salary between men and women is 22.53%.\n"
     ]
    }
   ],
   "source": [
    "percent_difer_salary =percentual_diferenca = ((mean_salary_men - mean_salary_female) / mean_salary_female) * 100\n",
    "\n",
    "print(f'The difference in average salary between men and women is {percent_difer_salary:.2f}%.')"
   ]
  },
  {
   "cell_type": "markdown",
   "id": "99bffdb4-b80f-4357-8afd-ff95f5f37b48",
   "metadata": {},
   "source": [
    "Calculating the maximum, minimum and mean salary managers by gender"
   ]
  },
  {
   "cell_type": "markdown",
   "id": "fc1d4e40-672d-46b1-92b1-d7d25f1f0078",
   "metadata": {
    "tags": []
   },
   "source": [
    "MALE"
   ]
  },
  {
   "cell_type": "code",
   "execution_count": 81,
   "id": "8e2e486a-f187-435b-87a2-4ac1c843c51a",
   "metadata": {
    "tags": []
   },
   "outputs": [
    {
     "name": "stderr",
     "output_type": "stream",
     "text": [
      "/tmp/ipykernel_43640/1515062245.py:1: UserWarning: Boolean Series key will be reindexed to match DataFrame index.\n",
      "  salary_mean_male_manager = data[data['GENERO']=='Masculino'][data['NOVO NÍVEL']=='Gestora']['SALARIO'].mean()\n"
     ]
    },
    {
     "data": {
      "text/plain": [
       "18596.085712639884"
      ]
     },
     "execution_count": 81,
     "metadata": {},
     "output_type": "execute_result"
    }
   ],
   "source": [
    "salary_mean_male_manager = data[data['GENERO']=='Masculino'][data['NOVO NÍVEL']=='Gestora']['SALARIO'].mean()\n",
    "salary_mean_male_manager"
   ]
  },
  {
   "cell_type": "code",
   "execution_count": 82,
   "id": "a3ee7a91-8aca-4977-9f12-51c0e0f7fcd2",
   "metadata": {
    "tags": []
   },
   "outputs": [
    {
     "name": "stderr",
     "output_type": "stream",
     "text": [
      "/tmp/ipykernel_43640/3887601213.py:1: UserWarning: Boolean Series key will be reindexed to match DataFrame index.\n",
      "  minimum_salary_male_manager = data[data['GENERO']=='Masculino'][data['NOVO NÍVEL']=='Gestora']['SALARIO'].min()\n"
     ]
    },
    {
     "data": {
      "text/plain": [
       "175.0"
      ]
     },
     "execution_count": 82,
     "metadata": {},
     "output_type": "execute_result"
    }
   ],
   "source": [
    "minimum_salary_male_manager = data[data['GENERO']=='Masculino'][data['NOVO NÍVEL']=='Gestora']['SALARIO'].min()\n",
    "minimum_salary_male_manager"
   ]
  },
  {
   "cell_type": "code",
   "execution_count": 83,
   "id": "5c23a21a-be6f-4ba3-846b-58654bee386a",
   "metadata": {
    "tags": []
   },
   "outputs": [
    {
     "name": "stderr",
     "output_type": "stream",
     "text": [
      "/tmp/ipykernel_43640/2043029575.py:1: UserWarning: Boolean Series key will be reindexed to match DataFrame index.\n",
      "  maximum_salary_male_manager = data[data['GENERO']=='Masculino'][data['NOVO NÍVEL']=='Gestora']['SALARIO'].max()\n"
     ]
    },
    {
     "data": {
      "text/plain": [
       "62309.0"
      ]
     },
     "execution_count": 83,
     "metadata": {},
     "output_type": "execute_result"
    }
   ],
   "source": [
    "maximum_salary_male_manager = data[data['GENERO']=='Masculino'][data['NOVO NÍVEL']=='Gestora']['SALARIO'].max()\n",
    "maximum_salary_male_manager"
   ]
  },
  {
   "cell_type": "markdown",
   "id": "9e24a439-85a2-4e0c-ab63-86043a37679d",
   "metadata": {},
   "source": [
    "FEMALE"
   ]
  },
  {
   "cell_type": "code",
   "execution_count": 84,
   "id": "0b93aa0e-b6f9-4da1-811e-c625d5403549",
   "metadata": {
    "tags": []
   },
   "outputs": [
    {
     "name": "stderr",
     "output_type": "stream",
     "text": [
      "/tmp/ipykernel_43640/2953842121.py:1: UserWarning: Boolean Series key will be reindexed to match DataFrame index.\n",
      "  salary_mean_female_manager = data[data['GENERO']=='Feminino'][data['NOVO NÍVEL']=='Gestora']['SALARIO'].mean()\n"
     ]
    },
    {
     "data": {
      "text/plain": [
       "15183.817016317014"
      ]
     },
     "execution_count": 84,
     "metadata": {},
     "output_type": "execute_result"
    }
   ],
   "source": [
    "salary_mean_female_manager = data[data['GENERO']=='Feminino'][data['NOVO NÍVEL']=='Gestora']['SALARIO'].mean()\n",
    "salary_mean_female_manager"
   ]
  },
  {
   "cell_type": "code",
   "execution_count": 85,
   "id": "d8c418a2-244b-447f-852a-4e6c5d2f4ff9",
   "metadata": {
    "tags": []
   },
   "outputs": [
    {
     "name": "stderr",
     "output_type": "stream",
     "text": [
      "/tmp/ipykernel_43640/277908366.py:1: UserWarning: Boolean Series key will be reindexed to match DataFrame index.\n",
      "  minimum_salary_female_manager = data[data['GENERO']=='Feminino'][data['NOVO NÍVEL']=='Gestora']['SALARIO'].min()\n",
      "/tmp/ipykernel_43640/277908366.py:3: UserWarning: Boolean Series key will be reindexed to match DataFrame index.\n",
      "  plt.boxplot(data[data['GENERO']=='Feminino'][data['NOVO NÍVEL']=='Gestora']['SALARIO'])\n"
     ]
    },
    {
     "data": {
      "text/plain": [
       "{'whiskers': [<matplotlib.lines.Line2D at 0x7b5360dabe50>,\n",
       "  <matplotlib.lines.Line2D at 0x7b5360dd8160>],\n",
       " 'caps': [<matplotlib.lines.Line2D at 0x7b5360dd8430>,\n",
       "  <matplotlib.lines.Line2D at 0x7b5360da8760>],\n",
       " 'boxes': [<matplotlib.lines.Line2D at 0x7b5360dabb80>],\n",
       " 'medians': [<matplotlib.lines.Line2D at 0x7b5360dd88b0>],\n",
       " 'fliers': [<matplotlib.lines.Line2D at 0x7b5360dd8b80>],\n",
       " 'means': []}"
      ]
     },
     "execution_count": 85,
     "metadata": {},
     "output_type": "execute_result"
    },
    {
     "data": {
      "image/png": "[encoded data removed]",
      "text/plain": [
       "<Figure size 432x288 with 1 Axes>"
      ]
     },
     "metadata": {
      "needs_background": "light"
     },
     "output_type": "display_data"
    }
   ],
   "source": [
    "minimum_salary_female_manager = data[data['GENERO']=='Feminino'][data['NOVO NÍVEL']=='Gestora']['SALARIO'].min()\n",
    "minimum_salary_female_manager\n",
    "plt.boxplot(data[data['GENERO']=='Feminino'][data['NOVO NÍVEL']=='Gestora']['SALARIO'])"
   ]
  },
  {
   "cell_type": "code",
   "execution_count": 86,
   "id": "06dc206c-8122-49e4-899a-d585b7e24a3e",
   "metadata": {
    "tags": []
   },
   "outputs": [
    {
     "name": "stderr",
     "output_type": "stream",
     "text": [
      "/tmp/ipykernel_43640/3268487666.py:1: UserWarning: Boolean Series key will be reindexed to match DataFrame index.\n",
      "  maximum_salary_female_manager = data[data['GENERO']=='Feminino'][data['NOVO NÍVEL']=='Gestora']['SALARIO'].max()\n"
     ]
    },
    {
     "data": {
      "text/plain": [
       "58362.0"
      ]
     },
     "execution_count": 86,
     "metadata": {},
     "output_type": "execute_result"
    }
   ],
   "source": [
    "maximum_salary_female_manager = data[data['GENERO']=='Feminino'][data['NOVO NÍVEL']=='Gestora']['SALARIO'].max()\n",
    "maximum_salary_female_manager"
   ]
  },
  {
   "cell_type": "markdown",
   "id": "dc204f78-3f01-426e-9433-3c431c696abe",
   "metadata": {},
   "source": [
    "Confidence interval"
   ]
  },
  {
   "cell_type": "code",
   "execution_count": 87,
   "id": "26dd7e33-37a6-4cdf-ae0c-1ab89c1b0880",
   "metadata": {
    "tags": []
   },
   "outputs": [],
   "source": [
    "# Salary confidance level\n",
    "\n",
    "level_confidance = 0.95"
   ]
  },
  {
   "cell_type": "code",
   "execution_count": 88,
   "id": "a8fc7d80-4e6d-4357-aeca-5dcea34b628b",
   "metadata": {
    "tags": []
   },
   "outputs": [
    {
     "data": {
      "text/plain": [
       "9904.390109813306"
      ]
     },
     "execution_count": 88,
     "metadata": {},
     "output_type": "execute_result"
    }
   ],
   "source": [
    "salary = data['SALARIO']\n",
    "\n",
    "# Salary sample mean\n",
    "sample_mean = np.mean(salary)\n",
    "sample_mean"
   ]
  },
  {
   "cell_type": "code",
   "execution_count": 89,
   "id": "b6f85e18-19d9-450c-b080-00d3e5113a39",
   "metadata": {
    "tags": []
   },
   "outputs": [
    {
     "data": {
      "text/plain": [
       "8306.104872579352"
      ]
     },
     "execution_count": 89,
     "metadata": {},
     "output_type": "execute_result"
    }
   ],
   "source": [
    "# Salary standart dev.\n",
    "standart_sample = np.std(salary)\n",
    "standart_sample"
   ]
  },
  {
   "cell_type": "code",
   "execution_count": 90,
   "id": "f2a87243-a59e-47bc-8de3-edd04e1286fb",
   "metadata": {
    "tags": []
   },
   "outputs": [
    {
     "data": {
      "text/plain": [
       "4271"
      ]
     },
     "execution_count": 90,
     "metadata": {},
     "output_type": "execute_result"
    }
   ],
   "source": [
    "len_sample = len(salary)\n",
    "len_sample"
   ]
  },
  {
   "cell_type": "code",
   "execution_count": 91,
   "id": "4fecfc2b-f1ba-43d5-93f2-c0a333944dd0",
   "metadata": {
    "tags": []
   },
   "outputs": [],
   "source": [
    "from scipy import stats"
   ]
  },
  {
   "cell_type": "code",
   "execution_count": 92,
   "id": "1f4e676b-14d6-45da-b793-ea711ebd4917",
   "metadata": {
    "tags": []
   },
   "outputs": [
    {
     "data": {
      "text/plain": [
       "127.11109872023638"
      ]
     },
     "execution_count": 92,
     "metadata": {},
     "output_type": "execute_result"
    }
   ],
   "source": [
    "# Standart error\n",
    "standart_error = stats.sem(salary)\n",
    "standart_error"
   ]
  },
  {
   "cell_type": "code",
   "execution_count": 93,
   "id": "2dcc4352-2568-4cc6-8d2d-c0a9dec8b154",
   "metadata": {
    "tags": []
   },
   "outputs": [
    {
     "data": {
      "text/plain": [
       "(9655.186295869078, 10153.593923757535)"
      ]
     },
     "execution_count": 93,
     "metadata": {},
     "output_type": "execute_result"
    }
   ],
   "source": [
    "# Confidence level\n",
    "stats.t.interval(level_confidance,len_sample - 1,sample_mean,scale=standart_error)"
   ]
  },
  {
   "cell_type": "markdown",
   "id": "1e944c37-8fcc-40cf-b5fa-ca30be9fbea9",
   "metadata": {},
   "source": [
    "Using a 90% confidence interval, we will obtain the average salary by position and by gender."
   ]
  },
  {
   "cell_type": "code",
   "execution_count": 94,
   "id": "320bdb19-c98f-4e67-9b03-7563abb90ef7",
   "metadata": {
    "tags": []
   },
   "outputs": [],
   "source": [
    "level_conf = 0.90"
   ]
  },
  {
   "cell_type": "code",
   "execution_count": 95,
   "id": "d27d7891-6a09-46ed-a115-e793f6ce8307",
   "metadata": {
    "tags": []
   },
   "outputs": [
    {
     "data": {
      "text/plain": [
       "10393.555983988348"
      ]
     },
     "execution_count": 95,
     "metadata": {},
     "output_type": "execute_result"
    }
   ],
   "source": [
    "# média salárial homens\n",
    "\n",
    "men_salary = (data[(data['GENERO']=='Masculino') & (data['SALARIO'])]['SALARIO'])\n",
    "sample_mean_men = np.mean(men_salary)\n",
    "sample_mean_men\n"
   ]
  },
  {
   "cell_type": "code",
   "execution_count": 96,
   "id": "d86035a5-8157-4065-9664-9b6ad0224232",
   "metadata": {
    "tags": []
   },
   "outputs": [
    {
     "data": {
      "text/plain": [
       "8482.256483100233"
      ]
     },
     "execution_count": 96,
     "metadata": {},
     "output_type": "execute_result"
    }
   ],
   "source": [
    "\n",
    "# média salárial mulheres\n",
    "fema_salary = (data[(data['GENERO']=='Feminino') & (data['SALARIO'])]['SALARIO'])\n",
    "sample_mean_fema = np.mean(fema_salary)\n",
    "sample_mean_fema\n"
   ]
  },
  {
   "cell_type": "code",
   "execution_count": 97,
   "id": "689b22a3-228b-4f4a-a847-44d938c9fc57",
   "metadata": {
    "tags": []
   },
   "outputs": [
    {
     "data": {
      "text/plain": [
       "8851.177579659627"
      ]
     },
     "execution_count": 97,
     "metadata": {},
     "output_type": "execute_result"
    }
   ],
   "source": [
    "# Men Salary standart dev.\n",
    "standart_sample_men = np.std(men_salary)\n",
    "standart_sample_men"
   ]
  },
  {
   "cell_type": "code",
   "execution_count": 98,
   "id": "353adb3a-39dc-4ee3-92a9-3886b4997154",
   "metadata": {
    "tags": []
   },
   "outputs": [
    {
     "data": {
      "text/plain": [
       "6219.175917029193"
      ]
     },
     "execution_count": 98,
     "metadata": {},
     "output_type": "execute_result"
    }
   ],
   "source": [
    "# Female Salary standart dev.\n",
    "standart_sample_fema = np.std(fema_salary)\n",
    "standart_sample_fema"
   ]
  },
  {
   "cell_type": "code",
   "execution_count": 99,
   "id": "97b8767f-b09e-4af1-a54c-beab9f3a9c81",
   "metadata": {
    "tags": []
   },
   "outputs": [
    {
     "data": {
      "text/plain": [
       "3194"
      ]
     },
     "execution_count": 99,
     "metadata": {},
     "output_type": "execute_result"
    }
   ],
   "source": [
    "len_sample_men = len(men_salary)\n",
    "len_sample_men"
   ]
  },
  {
   "cell_type": "code",
   "execution_count": 100,
   "id": "0d888543-40ae-404b-8c12-11d70fd1b150",
   "metadata": {
    "tags": []
   },
   "outputs": [
    {
     "data": {
      "text/plain": [
       "1056"
      ]
     },
     "execution_count": 100,
     "metadata": {},
     "output_type": "execute_result"
    }
   ],
   "source": [
    "len_sample_fema = len(fema_salary)\n",
    "len_sample_fema"
   ]
  },
  {
   "cell_type": "code",
   "execution_count": 101,
   "id": "e65e83f6-45d5-420a-90f7-bde4dcce9472",
   "metadata": {
    "tags": []
   },
   "outputs": [
    {
     "data": {
      "text/plain": [
       "156.63961057139747"
      ]
     },
     "execution_count": 101,
     "metadata": {},
     "output_type": "execute_result"
    }
   ],
   "source": [
    "# Standart error\n",
    "standart_error_men = stats.sem(men_salary)\n",
    "standart_error_men"
   ]
  },
  {
   "cell_type": "code",
   "execution_count": 102,
   "id": "cdc31eb5-ed67-411f-adfa-cb15fd3e05d6",
   "metadata": {
    "tags": []
   },
   "outputs": [
    {
     "data": {
      "text/plain": [
       "191.47258991578335"
      ]
     },
     "execution_count": 102,
     "metadata": {},
     "output_type": "execute_result"
    }
   ],
   "source": [
    "# Standart error\n",
    "standart_error_fema = stats.sem(fema_salary)\n",
    "standart_error_fema"
   ]
  },
  {
   "cell_type": "code",
   "execution_count": 103,
   "id": "67fec674-c0a6-4dc8-8f64-6f2438c3b887",
   "metadata": {
    "tags": []
   },
   "outputs": [
    {
     "data": {
      "text/plain": [
       "(10135.831978757044, 10651.279989219653)"
      ]
     },
     "execution_count": 103,
     "metadata": {},
     "output_type": "execute_result"
    }
   ],
   "source": [
    "# Confidence level\n",
    "mcfs = stats.t.interval(level_conf,len_sample_men - 1,sample_mean_men,scale=standart_error_men)\n",
    "mcfs"
   ]
  },
  {
   "cell_type": "code",
   "execution_count": 104,
   "id": "c0f93816-931e-4a13-9163-ade7382285b2",
   "metadata": {
    "tags": []
   },
   "outputs": [
    {
     "data": {
      "text/plain": [
       "(8167.035304852151, 8797.477661348315)"
      ]
     },
     "execution_count": 104,
     "metadata": {},
     "output_type": "execute_result"
    }
   ],
   "source": [
    "# Confidence level\n",
    "fecfs = stats.t.interval(level_conf,len_sample_fema - 1,sample_mean_fema,scale=standart_error_fema)\n",
    "fecfs"
   ]
  },
  {
   "cell_type": "code",
   "execution_count": 105,
   "id": "f3825ad0-86bc-458c-9dcc-07a308586666",
   "metadata": {
    "tags": []
   },
   "outputs": [
    {
     "name": "stdout",
     "output_type": "stream",
     "text": [
      "With 90% of confidence the men mean salary is (10135.831978757044, 10651.279989219653).\n"
     ]
    }
   ],
   "source": [
    "print(f'With 90% of confidence the men mean salary is {mcfs}.')"
   ]
  },
  {
   "cell_type": "code",
   "execution_count": 106,
   "id": "35f441ab-1a3b-4543-843b-c739b32b46d5",
   "metadata": {
    "tags": []
   },
   "outputs": [
    {
     "name": "stdout",
     "output_type": "stream",
     "text": [
      "With 90% of confidence the female mean salary is (8167.035304852151, 8797.477661348315).\n"
     ]
    }
   ],
   "source": [
    "print(f'With 90% of confidence the female mean salary is {fecfs}.')"
   ]
  },
  {
   "cell_type": "markdown",
   "id": "70b4646d-f58b-475c-a8ef-abeed8498c01",
   "metadata": {},
   "source": [
    "## 2.3.3 Pearson correlation for ages and salaries"
   ]
  },
  {
   "cell_type": "code",
   "execution_count": 107,
   "id": "50effb50-9206-48d4-a648-49d7fc75fbdd",
   "metadata": {
    "tags": []
   },
   "outputs": [
    {
     "data": {
      "text/plain": [
       "0.2887444378270231"
      ]
     },
     "execution_count": 107,
     "metadata": {},
     "output_type": "execute_result"
    }
   ],
   "source": [
    "# Using pandas and Pearson correlation \n",
    "\n",
    "continum_correlation = data['IDADE'].corr(data['SALARIO'])\n",
    "continum_correlation"
   ]
  },
  {
   "cell_type": "code",
   "execution_count": 108,
   "id": "a4ac3778-d6e6-4d09-bcce-a818604a8d80",
   "metadata": {
    "tags": []
   },
   "outputs": [
    {
     "name": "stdout",
     "output_type": "stream",
     "text": [
      "The correlation between ages and salaries is 0.2887. So the age have not a huge influence in salary growth.\n"
     ]
    }
   ],
   "source": [
    "print(f'The correlation between ages and salaries is {continum_correlation:.4f}. So the age have not a huge influence in salary growth.')"
   ]
  },
  {
   "cell_type": "code",
   "execution_count": 109,
   "id": "4574d6c5-dab2-4cd3-a18f-60de9f7e8bf9",
   "metadata": {
    "tags": []
   },
   "outputs": [],
   "source": [
    "from scipy.stats import chi2_contingency"
   ]
  },
  {
   "cell_type": "code",
   "execution_count": 116,
   "id": "ca46aa0c-0a4b-4ae8-819e-53fb18002c42",
   "metadata": {
    "tags": []
   },
   "outputs": [],
   "source": [
    "# To understand better what is the most important correlations to growth salary using Cramer coeficient\n",
    "\n",
    "def cramer_coef(column1, column2):\n",
    "    table_cross = np.array(pd.crosstab(column1,column2))\n",
    "    chi2 = chi2_contingency(table_cross)[0]\n",
    "    suma = np.sum(table_cross)\n",
    "    mini_tb = min(table_cross.shape)-1\n",
    "    cramer = np.sqrt(chi2/(suma*mini_tb))\n",
    "    return cramer"
   ]
  },
  {
   "cell_type": "code",
   "execution_count": 117,
   "id": "4759eeaa-e56e-49aa-b3a9-039c07a4538a",
   "metadata": {
    "tags": []
   },
   "outputs": [
    {
     "data": {
      "text/plain": [
       "0.045033205954189165"
      ]
     },
     "execution_count": 117,
     "metadata": {},
     "output_type": "execute_result"
    }
   ],
   "source": [
    "cramer_coef(data['NIVEL DE ENSINO'], data['COR/RACA/ETNIA'])"
   ]
  },
  {
   "cell_type": "code",
   "execution_count": 120,
   "id": "a758f460-ebad-4f55-ba8a-6d1bae726cff",
   "metadata": {
    "tags": []
   },
   "outputs": [
    {
     "name": "stdout",
     "output_type": "stream",
     "text": [
      "A baixa correlação apresentada pelo coeficiente de Cramer 0.045 leva a entender que não há relação entre etnia e nível de ensino.\n",
      " Entretanto na sociedade esses são fatores fortemente correlacionados. \n",
      "Será que essa baixa correlação de cramer se deve ao fato que a área de TI já é uma área que já exige formação para atuar?\n"
     ]
    }
   ],
   "source": [
    "print(f'A baixa correlação apresentada pelo coeficiente de Cramer 0.045 leva a entender que não há relação entre etnia e nível de ensino.\\n Entretanto na sociedade esses são fatores fortemente correlacionados. \\nSerá que essa baixa correlação de cramer se deve ao fato que a área de TI já é uma área que já exige formação para atuar?')"
   ]
  },
  {
   "cell_type": "code",
   "execution_count": 133,
   "id": "b4323534-7099-4259-aa91-02c41f82f6d7",
   "metadata": {
    "tags": []
   },
   "outputs": [
    {
     "data": {
      "text/plain": [
       "0.867593417262536"
      ]
     },
     "execution_count": 133,
     "metadata": {},
     "output_type": "execute_result"
    }
   ],
   "source": [
    "cramer_coef(data['SALARIO'], data['REGIAO ONDE MORA'])"
   ]
  },
  {
   "cell_type": "code",
   "execution_count": 139,
   "id": "fb9a7d76-f2e0-4308-a197-60154a5ca2c4",
   "metadata": {
    "tags": []
   },
   "outputs": [
    {
     "data": {
      "text/plain": [
       "0.8477907390642432"
      ]
     },
     "execution_count": 139,
     "metadata": {},
     "output_type": "execute_result"
    }
   ],
   "source": [
    "cramer_coef(data['SALARIO'], data['ESTADO ONDE MORA'])"
   ]
  },
  {
   "cell_type": "code",
   "execution_count": 134,
   "id": "94f6cea1-c207-4623-9263-8bda06a65f3a",
   "metadata": {
    "tags": []
   },
   "outputs": [
    {
     "data": {
      "text/plain": [
       "0.8865810024374068"
      ]
     },
     "execution_count": 134,
     "metadata": {},
     "output_type": "execute_result"
    }
   ],
   "source": [
    "cramer_coef(data['SALARIO'], data['MUDOU DE ESTADO?'])"
   ]
  },
  {
   "cell_type": "code",
   "execution_count": 138,
   "id": "391a1d67-389e-4bb1-9cd6-f31684a38d2a",
   "metadata": {
    "tags": []
   },
   "outputs": [
    {
     "data": {
      "text/plain": [
       "0.8402197103836125"
      ]
     },
     "execution_count": 138,
     "metadata": {},
     "output_type": "execute_result"
    }
   ],
   "source": [
    "cramer_coef(data['SALARIO'], data['NIVEL DE ENSINO'])"
   ]
  },
  {
   "cell_type": "code",
   "execution_count": 137,
   "id": "35ab595e-76da-47c4-bbeb-c3e75f4482f7",
   "metadata": {
    "tags": []
   },
   "outputs": [
    {
     "data": {
      "text/plain": [
       "0.951641915563398"
      ]
     },
     "execution_count": 137,
     "metadata": {},
     "output_type": "execute_result"
    }
   ],
   "source": [
    "cramer_coef(data['SALARIO'], data['QUANTO TEMPO DE EXPERIÊNCIA NA ÁREA DE DADOS VOCÊ TEM?'])"
   ]
  },
  {
   "cell_type": "code",
   "execution_count": 140,
   "id": "80edebd4-ea24-4645-b00a-d2671c7a0827",
   "metadata": {
    "tags": []
   },
   "outputs": [
    {
     "data": {
      "text/plain": [
       "0.8635250449572586"
      ]
     },
     "execution_count": 140,
     "metadata": {},
     "output_type": "execute_result"
    }
   ],
   "source": [
    "cramer_coef(data['SALARIO'], data['GENERO'])"
   ]
  },
  {
   "cell_type": "code",
   "execution_count": 124,
   "id": "5c8e3122-5a7a-41b9-a8c1-f702c93b98dc",
   "metadata": {
    "tags": []
   },
   "outputs": [
    {
     "data": {
      "text/plain": [
       "Index(['ID', 'IDADE', 'FAIXA IDADE', 'GENERO', 'COR/RACA/ETNIA', 'PCD',\n",
       "       'EXPERIENCIA_PROFISSIONAL_PREJUDICADA', 'PREJUDICA?',\n",
       "       'ASPECTOS_PREJUDICADOS', 'VIVE_NO_BRASIL', 'ESTADO ONDE MORA',\n",
       "       'UF ONDE MORA', 'REGIAO ONDE MORA', 'MUDOU DE ESTADO?',\n",
       "       'REGIAO DE ORIGEM', 'NIVEL DE ENSINO', 'ÁREA DE FORMAÇÃO',\n",
       "       'COMPUTAÇÃO?', 'QUAL SUA SITUAÇÃO ATUAL DE TRABALHO?', 'SETOR',\n",
       "       'NUMERO DE FUNCIONARIOS', 'GESTOR?', 'NIVEL', 'NOVO NÍVEL',\n",
       "       'CARGO COMO GESTOR', 'CARGO ATUAL', 'Unnamed: 26', 'FAIXA SALARIAL',\n",
       "       'SALARIO', 'QUANTO TEMPO DE EXPERIÊNCIA NA ÁREA DE DADOS VOCÊ TEM?',\n",
       "       'QUANTO TEMPO DE EXPERIÊNCIA NA ÁREA DE TI/ENGENHARIA DE SOFTWARE VOCÊ TEVE ANTES DE COMEÇAR A TRABALHAR NA ÁREA DE DADOS?'],\n",
       "      dtype='object')"
      ]
     },
     "execution_count": 124,
     "metadata": {},
     "output_type": "execute_result"
    }
   ],
   "source": [
    "data.columns"
   ]
  },
  {
   "cell_type": "code",
   "execution_count": null,
   "id": "bea591fa-dec8-4957-adfe-c4d6c9ce805a",
   "metadata": {
    "tags": []
   },
   "outputs": [],
   "source": [
    "table_cross = pd.crosstab(data['NIVEL DE ENSINO'], data['COR/RACA/ETNIA'])\n",
    "table_cross"
   ]
  },
  {
   "cell_type": "code",
   "execution_count": null,
   "id": "f323600a-dfaa-4352-bcc2-06f07aeb50c7",
   "metadata": {
    "tags": []
   },
   "outputs": [],
   "source": [
    "np.array(table_cross)"
   ]
  },
  {
   "cell_type": "code",
   "execution_count": null,
   "id": "5cfe1b3c-1a3d-422e-a201-1b656402cad9",
   "metadata": {
    "tags": []
   },
   "outputs": [],
   "source": [
    "data.columns"
   ]
  },
  {
   "cell_type": "markdown",
   "id": "e7dfbe31-a796-47d9-851b-eb1509047c79",
   "metadata": {
    "tags": []
   },
   "source": [
    "# 3. Featuring Engineering"
   ]
  },
  {
   "cell_type": "code",
   "execution_count": null,
   "id": "ba123840-1e20-4ebd-9e6b-1d746c5578cf",
   "metadata": {
    "tags": []
   },
   "outputs": [],
   "source": [
    "# Preencher nível do cargo \n",
    "\n",
    "def preencher_level(gestor,nível):\n",
    "    if gestor == 1:\n",
    "        return \"Pessoa Gestora\"\n",
    "    else:\n",
    "        return nível\n",
    "    \n",
    "    \n",
    "    "
   ]
  },
  {
   "cell_type": "code",
   "execution_count": null,
   "id": "d0a07453-8665-4fbc-86ef-1f240dfa541e",
   "metadata": {
    "tags": []
   },
   "outputs": [],
   "source": [
    "# Aplicando a função na tabela de dados\n",
    "\n",
    "data['NOVO NÍVEL'] = data.apply(lambda x: preencher_level(x['GESTOR?'], x['NIVEL']), axis=1)"
   ]
  },
  {
   "cell_type": "code",
   "execution_count": null,
   "id": "b74fff36-a259-4c7a-b790-5f52642864ef",
   "metadata": {
    "tags": []
   },
   "outputs": [],
   "source": [
    "# Checando se a coluna está ok? \n",
    "data['NOVO NÍVEL'].value_counts()"
   ]
  },
  {
   "cell_type": "code",
   "execution_count": null,
   "id": "1cead3cb-af4a-4e1a-9e22-d29b28beb474",
   "metadata": {
    "tags": []
   },
   "outputs": [],
   "source": [
    "# Transformando variaveis categorigas em indicadores de 'sim' ou 'não'\n",
    "# Ou seja, criando coluna para cada nível\n",
    "\n",
    "data = pd.get_dummies(data, columns=['NOVO NÍVEL'])\n"
   ]
  },
  {
   "cell_type": "code",
   "execution_count": null,
   "id": "7ce97ca5-f612-4959-9ed6-d33161e0b194",
   "metadata": {
    "tags": []
   },
   "outputs": [],
   "source": [
    "def determinar_geracao(idade):\n",
    "    if 39 < idade <= 58:\n",
    "        return \"Geração X\"\n",
    "    elif 29 < idade <= 39:\n",
    "        return \"Millenium\"\n",
    "    elif 13 < idade <=29:\n",
    "        return \"Geração Z\"\n",
    "    else:\n",
    "        return \"Outra geração\""
   ]
  },
  {
   "cell_type": "code",
   "execution_count": null,
   "id": "795c6a39-f4a7-4fd4-9de3-179bdbddf59b",
   "metadata": {
    "tags": []
   },
   "outputs": [],
   "source": [
    "# Aplicando a função e criando a coluna de geração \n",
    "\n",
    "data['GERAÇÃO'] = data.apply(lambda x: determinar_geracao(x['IDADE']), axis=1)"
   ]
  },
  {
   "cell_type": "code",
   "execution_count": null,
   "id": "a664255b-b2bb-45ed-bc6b-33887e952da6",
   "metadata": {
    "tags": []
   },
   "outputs": [],
   "source": [
    "data['GERAÇÃO'].value_counts()"
   ]
  },
  {
   "cell_type": "code",
   "execution_count": null,
   "id": "398e854a-1809-443e-8cfe-ac37b2ef0a81",
   "metadata": {
    "tags": []
   },
   "outputs": [],
   "source": [
    "data_two = pd.read_excel('/home/apfa/Python Aulas/progMaria/dados_dois_progrmaria.xlsx')"
   ]
  },
  {
   "cell_type": "code",
   "execution_count": null,
   "id": "eecb7c86-ddba-4771-aa64-b400c29b529b",
   "metadata": {
    "tags": []
   },
   "outputs": [],
   "source": [
    "data_two.head()"
   ]
  },
  {
   "cell_type": "code",
   "execution_count": null,
   "id": "fc99a090-39ef-49a3-b260-85354f9f0404",
   "metadata": {
    "tags": []
   },
   "outputs": [],
   "source": [
    "# Connect both tables using the ID column\n",
    "# Now we have a new 'data'\n",
    "data = data.merge(data_two, on='ID', how='left')"
   ]
  },
  {
   "cell_type": "code",
   "execution_count": null,
   "id": "97c79f9e-6300-4c6b-af9a-1495100a4d89",
   "metadata": {
    "tags": []
   },
   "outputs": [],
   "source": [
    "data.columns"
   ]
  },
  {
   "cell_type": "code",
   "execution_count": null,
   "id": "7cf1d754-08dd-4888-a679-4d2867c797d8",
   "metadata": {
    "tags": []
   },
   "outputs": [],
   "source": [
    "data['Você pretende mudar de emprego nos próximos 6 meses?_y'].value_counts()"
   ]
  },
  {
   "cell_type": "code",
   "execution_count": null,
   "id": "55bf4333-50ff-46e8-b9b4-92967f162ba3",
   "metadata": {
    "tags": []
   },
   "outputs": [],
   "source": [
    "# Creating new columns \n",
    "# Using 'contens' to search specific words\n",
    "\n",
    "data['EM BUSCA'] = data['Você pretende mudar de emprego nos próximos 6 meses?_y'].str.contains('em busca', case=False)\n"
   ]
  },
  {
   "cell_type": "code",
   "execution_count": null,
   "id": "231972ad-4054-4f45-8877-87c901fa8a40",
   "metadata": {
    "tags": []
   },
   "outputs": [],
   "source": [
    "data['EM BUSCA'].value_counts()"
   ]
  },
  {
   "cell_type": "code",
   "execution_count": null,
   "id": "fcfe563a-0317-450c-8d3c-86236f75fe35",
   "metadata": {
    "tags": []
   },
   "outputs": [],
   "source": [
    "data['ABERTO A OPORTUNIDADES'] = data['Você pretende mudar de emprego nos próximos 6 meses?_y'].str.contains('aberto', case=False)"
   ]
  },
  {
   "cell_type": "code",
   "execution_count": null,
   "id": "818c9798-2ac6-4783-84e3-9bfe84541b09",
   "metadata": {
    "tags": []
   },
   "outputs": [],
   "source": [
    "data['ABERTO A OPORTUNIDADES'].value_counts()"
   ]
  },
  {
   "cell_type": "code",
   "execution_count": null,
   "id": "dd22fa64-439b-4c8a-ad99-b3268f2c0529",
   "metadata": {
    "tags": []
   },
   "outputs": [],
   "source": [
    "data['Quais das linguagens listadas abaixo você utiliza no trabalho?_y'].value_counts()"
   ]
  },
  {
   "cell_type": "code",
   "execution_count": null,
   "id": "3631515b-6c1b-43db-b281-fd66df1e7ada",
   "metadata": {
    "tags": []
   },
   "outputs": [],
   "source": [
    "data['PYTHON'] = data['Quais das linguagens listadas abaixo você utiliza no trabalho?_y'].str.contains('Python', case=False)"
   ]
  },
  {
   "cell_type": "code",
   "execution_count": null,
   "id": "ac65fa0b-55b0-476a-bb5b-bdda89c7bbae",
   "metadata": {
    "tags": []
   },
   "outputs": [],
   "source": [
    "data['PYTHON'].value_counts()"
   ]
  },
  {
   "cell_type": "code",
   "execution_count": null,
   "id": "9eb5c0c7-2655-40d6-be00-f1b31c2a1845",
   "metadata": {
    "tags": []
   },
   "outputs": [],
   "source": [
    "data['SQL'] = data['Quais das linguagens listadas abaixo você utiliza no trabalho?_y'].str.contains('SQL', case=False)"
   ]
  },
  {
   "cell_type": "code",
   "execution_count": null,
   "id": "3566fed5-87f2-4bee-82fe-0ed21540cd1c",
   "metadata": {
    "tags": []
   },
   "outputs": [],
   "source": [
    "data['SQL'].value_counts()"
   ]
  },
  {
   "cell_type": "code",
   "execution_count": null,
   "id": "4772d5f0-7f22-40a6-a0de-ff4b2d389617",
   "metadata": {},
   "outputs": [],
   "source": []
  }
 ],
 "metadata": {
  "kernelspec": {
   "display_name": "Python 3 (ipykernel)",
   "language": "python",
   "name": "python3"
  },
  "language_info": {
   "codemirror_mode": {
    "name": "ipython",
    "version": 3
   },
   "file_extension": ".py",
   "mimetype": "text/x-python",
   "name": "python",
   "nbconvert_exporter": "python",
   "pygments_lexer": "ipython3",
   "version": "3.10.12"
  }
 },
 "nbformat": 4,
 "nbformat_minor": 5
}
