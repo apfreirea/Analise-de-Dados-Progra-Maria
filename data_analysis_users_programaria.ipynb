{
 "cells": [
  {
   "cell_type": "markdown",
   "metadata": {
    "id": "uDGN10m6Q_uz"
   },
   "source": [
    "# Data Analysis \n",
    "\n",
    "User Profile of the School of Technology Progra{Maria}"
   ]
  },
  {
   "cell_type": "code",
   "execution_count": 1,
   "metadata": {
    "tags": []
   },
   "outputs": [],
   "source": [
    "import pandas as pd \n",
    "import matplotlib.pyplot as plt\n",
    "import numpy as np"
   ]
  },
  {
   "cell_type": "markdown",
   "metadata": {},
   "source": [
    "# 1. Data processing\n",
    "\n",
    "Cleaning, data completion, etc."
   ]
  },
  {
   "cell_type": "code",
   "execution_count": 2,
   "metadata": {
    "id": "IpE5LIP2RJGL",
    "tags": []
   },
   "outputs": [],
   "source": [
    "# Importing data\n",
    "\n",
    "data = pd.read_excel('/home/apfa/Python Aulas/progMaria/global_atz_progMaria.xlsx')"
   ]
  },
  {
   "cell_type": "code",
   "execution_count": 3,
   "metadata": {
    "colab": {
     "base_uri": "https://localhost:8080/",
     "height": 1000
    },
    "id": "1nbrD4qsRSIY",
    "outputId": "3bf9b977-a232-407a-a6f3-ac452b7d413e",
    "tags": []
   },
   "outputs": [
    {
     "data": {
      "text/html": [
       "<div>\n",
       "<style scoped>\n",
       "    .dataframe tbody tr th:only-of-type {\n",
       "        vertical-align: middle;\n",
       "    }\n",
       "\n",
       "    .dataframe tbody tr th {\n",
       "        vertical-align: top;\n",
       "    }\n",
       "\n",
       "    .dataframe thead th {\n",
       "        text-align: right;\n",
       "    }\n",
       "</style>\n",
       "<table border=\"1\" class=\"dataframe\">\n",
       "  <thead>\n",
       "    <tr style=\"text-align: right;\">\n",
       "      <th></th>\n",
       "      <th>Unnamed: 0</th>\n",
       "      <th>IDADE</th>\n",
       "      <th>FAIXA IDADE</th>\n",
       "      <th>GENERO</th>\n",
       "      <th>COR/RACA/ETNIA</th>\n",
       "      <th>PCD</th>\n",
       "      <th>EXPERIENCIA_PROFISSIONAL_PREJUDICADA</th>\n",
       "      <th>PREJUDICA?</th>\n",
       "      <th>ASPECTOS_PREJUDICADOS</th>\n",
       "      <th>VIVE_NO_BRASIL</th>\n",
       "      <th>...</th>\n",
       "      <th>GESTOR?</th>\n",
       "      <th>NIVEL</th>\n",
       "      <th>NOVO NÍVEL</th>\n",
       "      <th>CARGO COMO GESTOR</th>\n",
       "      <th>CARGO ATUAL</th>\n",
       "      <th>Unnamed: 26</th>\n",
       "      <th>FAIXA SALARIAL</th>\n",
       "      <th>SALARIO</th>\n",
       "      <th>QUANTO TEMPO DE EXPERIÊNCIA NA ÁREA DE DADOS VOCÊ TEM?</th>\n",
       "      <th>QUANTO TEMPO DE EXPERIÊNCIA NA ÁREA DE TI/ENGENHARIA DE SOFTWARE VOCÊ TEVE ANTES DE COMEÇAR A TRABALHAR NA ÁREA DE DADOS?</th>\n",
       "    </tr>\n",
       "  </thead>\n",
       "  <tbody>\n",
       "    <tr>\n",
       "      <th>0</th>\n",
       "      <td>zzqzz3l9ily8nuo2m7wyzzqzz3w48o96</td>\n",
       "      <td>39.0</td>\n",
       "      <td>35-39</td>\n",
       "      <td>Masculino</td>\n",
       "      <td>Parda</td>\n",
       "      <td>Não</td>\n",
       "      <td>Não acredito que minha experiência profissiona...</td>\n",
       "      <td>FALSO</td>\n",
       "      <td>NaN</td>\n",
       "      <td>True</td>\n",
       "      <td>...</td>\n",
       "      <td>False</td>\n",
       "      <td>Júnior</td>\n",
       "      <td>Júnior</td>\n",
       "      <td>NaN</td>\n",
       "      <td>DBA/Administrador de Banco de Dados</td>\n",
       "      <td>NaN</td>\n",
       "      <td>de R$ 8.001/mês a R$ 12.000/mês</td>\n",
       "      <td>11194.0</td>\n",
       "      <td>de 1 a 2 anos</td>\n",
       "      <td>de 7 a 10 anos</td>\n",
       "    </tr>\n",
       "    <tr>\n",
       "      <th>1</th>\n",
       "      <td>zzls2oftfn9law393oezzls2ofhvfpzd</td>\n",
       "      <td>32.0</td>\n",
       "      <td>30-34</td>\n",
       "      <td>Masculino</td>\n",
       "      <td>Parda</td>\n",
       "      <td>Não</td>\n",
       "      <td>Sim, acredito que a minha a experiência profis...</td>\n",
       "      <td>TRUE</td>\n",
       "      <td>Aprovação em processos seletivos/entrevistas</td>\n",
       "      <td>True</td>\n",
       "      <td>...</td>\n",
       "      <td>True</td>\n",
       "      <td>NaN</td>\n",
       "      <td>Gestora</td>\n",
       "      <td>Supervisor/Coordenador</td>\n",
       "      <td>NaN</td>\n",
       "      <td>NaN</td>\n",
       "      <td>de R$ 4.001/mês a R$ 6.000/mês</td>\n",
       "      <td>4695.0</td>\n",
       "      <td>de 3 a 4 anos</td>\n",
       "      <td>Menos de 1 ano</td>\n",
       "    </tr>\n",
       "    <tr>\n",
       "      <th>2</th>\n",
       "      <td>zzdwqzfqqp1ypc7ps6m0hzzdwqz292yi</td>\n",
       "      <td>53.0</td>\n",
       "      <td>50-54</td>\n",
       "      <td>Masculino</td>\n",
       "      <td>Branca</td>\n",
       "      <td>Não</td>\n",
       "      <td>NaN</td>\n",
       "      <td>FALSO</td>\n",
       "      <td>NaN</td>\n",
       "      <td>True</td>\n",
       "      <td>...</td>\n",
       "      <td>False</td>\n",
       "      <td>Pleno</td>\n",
       "      <td>Pleno</td>\n",
       "      <td>NaN</td>\n",
       "      <td>Desenvolvedor/ Engenheiro de Software/ Analist...</td>\n",
       "      <td>NaN</td>\n",
       "      <td>de R$ 12.001/mês a R$ 16.000/mês</td>\n",
       "      <td>14202.0</td>\n",
       "      <td>de 3 a 4 anos</td>\n",
       "      <td>Mais de 10 anos</td>\n",
       "    </tr>\n",
       "    <tr>\n",
       "      <th>3</th>\n",
       "      <td>zzbqh3uy7yk7k9qmkzzbqtb4s9faqspl</td>\n",
       "      <td>27.0</td>\n",
       "      <td>25-29</td>\n",
       "      <td>Masculino</td>\n",
       "      <td>Branca</td>\n",
       "      <td>Não</td>\n",
       "      <td>NaN</td>\n",
       "      <td>FALSO</td>\n",
       "      <td>NaN</td>\n",
       "      <td>True</td>\n",
       "      <td>...</td>\n",
       "      <td>False</td>\n",
       "      <td>Sênior</td>\n",
       "      <td>Sênior</td>\n",
       "      <td>NaN</td>\n",
       "      <td>Cientista de Dados/Data Scientist</td>\n",
       "      <td>NaN</td>\n",
       "      <td>de R$ 12.001/mês a R$ 16.000/mês</td>\n",
       "      <td>15463.0</td>\n",
       "      <td>de 4 a 6 anos</td>\n",
       "      <td>Não tive experiência na área de TI/Engenharia ...</td>\n",
       "    </tr>\n",
       "    <tr>\n",
       "      <th>4</th>\n",
       "      <td>zzaf1m95yan929rb94wzzaf1mekhvhpg</td>\n",
       "      <td>46.0</td>\n",
       "      <td>45-49</td>\n",
       "      <td>Feminino</td>\n",
       "      <td>Branca</td>\n",
       "      <td>Não</td>\n",
       "      <td>Não acredito que minha experiência profissiona...</td>\n",
       "      <td>FALSO</td>\n",
       "      <td>NaN</td>\n",
       "      <td>True</td>\n",
       "      <td>...</td>\n",
       "      <td>False</td>\n",
       "      <td>Pleno</td>\n",
       "      <td>Pleno</td>\n",
       "      <td>NaN</td>\n",
       "      <td>Desenvolvedor/ Engenheiro de Software/ Analist...</td>\n",
       "      <td>NaN</td>\n",
       "      <td>de R$ 6.001/mês a R$ 8.000/mês</td>\n",
       "      <td>7733.0</td>\n",
       "      <td>Não tenho experiência na área de dados</td>\n",
       "      <td>Mais de 10 anos</td>\n",
       "    </tr>\n",
       "    <tr>\n",
       "      <th>5</th>\n",
       "      <td>zz0nlhbd8oxyiyxzz0nlh7g4xkiaza5v</td>\n",
       "      <td>32.0</td>\n",
       "      <td>30-34</td>\n",
       "      <td>Feminino</td>\n",
       "      <td>Parda</td>\n",
       "      <td>Não</td>\n",
       "      <td>Não acredito que minha experiência profissiona...</td>\n",
       "      <td>FALSO</td>\n",
       "      <td>NaN</td>\n",
       "      <td>True</td>\n",
       "      <td>...</td>\n",
       "      <td>False</td>\n",
       "      <td>Pleno</td>\n",
       "      <td>Pleno</td>\n",
       "      <td>NaN</td>\n",
       "      <td>Professor</td>\n",
       "      <td>NaN</td>\n",
       "      <td>de R$ 2.001/mês a R$ 3.000/mês</td>\n",
       "      <td>2336.0</td>\n",
       "      <td>Não tenho experiência na área de dados</td>\n",
       "      <td>Não tive experiência na área de TI/Engenharia ...</td>\n",
       "    </tr>\n",
       "    <tr>\n",
       "      <th>6</th>\n",
       "      <td>zytlxsdgalh22cgrijvzytlxa49i8yzx</td>\n",
       "      <td>21.0</td>\n",
       "      <td>17-21</td>\n",
       "      <td>Masculino</td>\n",
       "      <td>Parda</td>\n",
       "      <td>Não</td>\n",
       "      <td>Não acredito que minha experiência profissiona...</td>\n",
       "      <td>FALSO</td>\n",
       "      <td>NaN</td>\n",
       "      <td>True</td>\n",
       "      <td>...</td>\n",
       "      <td>False</td>\n",
       "      <td>Júnior</td>\n",
       "      <td>Júnior</td>\n",
       "      <td>NaN</td>\n",
       "      <td>Analista de BI/BI Analyst</td>\n",
       "      <td>NaN</td>\n",
       "      <td>de R$ 4.001/mês a R$ 6.000/mês</td>\n",
       "      <td>4491.0</td>\n",
       "      <td>de 1 a 2 anos</td>\n",
       "      <td>Menos de 1 ano</td>\n",
       "    </tr>\n",
       "    <tr>\n",
       "      <th>7</th>\n",
       "      <td>zyc0twzno2sm5or5ovoxzyc0twz0300d</td>\n",
       "      <td>31.0</td>\n",
       "      <td>30-34</td>\n",
       "      <td>Feminino</td>\n",
       "      <td>Branca</td>\n",
       "      <td>Não</td>\n",
       "      <td>Não acredito que minha experiência profissiona...</td>\n",
       "      <td>FALSO</td>\n",
       "      <td>NaN</td>\n",
       "      <td>True</td>\n",
       "      <td>...</td>\n",
       "      <td>False</td>\n",
       "      <td>Júnior</td>\n",
       "      <td>Júnior</td>\n",
       "      <td>NaN</td>\n",
       "      <td>Desenvolvedor/ Engenheiro de Software/ Analist...</td>\n",
       "      <td>NaN</td>\n",
       "      <td>de R$ 2.001/mês a R$ 3.000/mês</td>\n",
       "      <td>2704.0</td>\n",
       "      <td>Menos de 1 ano</td>\n",
       "      <td>Menos de 1 ano</td>\n",
       "    </tr>\n",
       "    <tr>\n",
       "      <th>8</th>\n",
       "      <td>zy4o5dk6iuxpdwgzy4o58xvd6ykwohrj</td>\n",
       "      <td>33.0</td>\n",
       "      <td>30-34</td>\n",
       "      <td>Masculino</td>\n",
       "      <td>Branca</td>\n",
       "      <td>Não</td>\n",
       "      <td>NaN</td>\n",
       "      <td>FALSO</td>\n",
       "      <td>NaN</td>\n",
       "      <td>True</td>\n",
       "      <td>...</td>\n",
       "      <td>False</td>\n",
       "      <td>Sênior</td>\n",
       "      <td>Sênior</td>\n",
       "      <td>NaN</td>\n",
       "      <td>Analista de BI/BI Analyst</td>\n",
       "      <td>NaN</td>\n",
       "      <td>de R$ 6.001/mês a R$ 8.000/mês</td>\n",
       "      <td>7112.0</td>\n",
       "      <td>Menos de 1 ano</td>\n",
       "      <td>Não tive experiência na área de TI/Engenharia ...</td>\n",
       "    </tr>\n",
       "    <tr>\n",
       "      <th>9</th>\n",
       "      <td>zxc3d314cn1c2ovmzxc34ha7nkw1na3j</td>\n",
       "      <td>NaN</td>\n",
       "      <td>55+</td>\n",
       "      <td>Feminino</td>\n",
       "      <td>Parda</td>\n",
       "      <td>Não</td>\n",
       "      <td>Não acredito que minha experiência profissiona...</td>\n",
       "      <td>FALSO</td>\n",
       "      <td>NaN</td>\n",
       "      <td>True</td>\n",
       "      <td>...</td>\n",
       "      <td>False</td>\n",
       "      <td>Pleno</td>\n",
       "      <td>Pleno</td>\n",
       "      <td>NaN</td>\n",
       "      <td>Professor</td>\n",
       "      <td>NaN</td>\n",
       "      <td>de R$ 8.001/mês a R$ 12.000/mês</td>\n",
       "      <td>10822.0</td>\n",
       "      <td>Mais de 10 anos</td>\n",
       "      <td>Não tive experiência na área de TI/Engenharia ...</td>\n",
       "    </tr>\n",
       "    <tr>\n",
       "      <th>10</th>\n",
       "      <td>zwy34gktg0tfjq2ttjvazwy34gg3g49i</td>\n",
       "      <td>25.0</td>\n",
       "      <td>25-29</td>\n",
       "      <td>Feminino</td>\n",
       "      <td>Parda</td>\n",
       "      <td>Não</td>\n",
       "      <td>Não acredito que minha experiência profissiona...</td>\n",
       "      <td>FALSO</td>\n",
       "      <td>NaN</td>\n",
       "      <td>True</td>\n",
       "      <td>...</td>\n",
       "      <td>False</td>\n",
       "      <td>Júnior</td>\n",
       "      <td>Júnior</td>\n",
       "      <td>NaN</td>\n",
       "      <td>Analista de BI/BI Analyst</td>\n",
       "      <td>NaN</td>\n",
       "      <td>de R$ 3.001/mês a R$ 4.000/mês</td>\n",
       "      <td>3450.0</td>\n",
       "      <td>Menos de 1 ano</td>\n",
       "      <td>Não tive experiência na área de TI/Engenharia ...</td>\n",
       "    </tr>\n",
       "    <tr>\n",
       "      <th>11</th>\n",
       "      <td>zwvpu2ssr2cr6g2jyzwvpu2dl5nfwa1f</td>\n",
       "      <td>33.0</td>\n",
       "      <td>30-34</td>\n",
       "      <td>Masculino</td>\n",
       "      <td>Branca</td>\n",
       "      <td>Não</td>\n",
       "      <td>NaN</td>\n",
       "      <td>FALSO</td>\n",
       "      <td>NaN</td>\n",
       "      <td>True</td>\n",
       "      <td>...</td>\n",
       "      <td>False</td>\n",
       "      <td>Sênior</td>\n",
       "      <td>Sênior</td>\n",
       "      <td>NaN</td>\n",
       "      <td>Analista de Inteligência de Mercado/Market Int...</td>\n",
       "      <td>NaN</td>\n",
       "      <td>de R$ 8.001/mês a R$ 12.000/mês</td>\n",
       "      <td>11625.0</td>\n",
       "      <td>de 1 a 2 anos</td>\n",
       "      <td>Não tive experiência na área de TI/Engenharia ...</td>\n",
       "    </tr>\n",
       "    <tr>\n",
       "      <th>12</th>\n",
       "      <td>zwr9hqcpg513kaopenzwr9hibaqmldto</td>\n",
       "      <td>31.0</td>\n",
       "      <td>30-34</td>\n",
       "      <td>Masculino</td>\n",
       "      <td>Branca</td>\n",
       "      <td>Não</td>\n",
       "      <td>NaN</td>\n",
       "      <td>FALSO</td>\n",
       "      <td>NaN</td>\n",
       "      <td>True</td>\n",
       "      <td>...</td>\n",
       "      <td>NaN</td>\n",
       "      <td>NaN</td>\n",
       "      <td>NaN</td>\n",
       "      <td>NaN</td>\n",
       "      <td>NaN</td>\n",
       "      <td>NaN</td>\n",
       "      <td>NaN</td>\n",
       "      <td>NaN</td>\n",
       "      <td>NaN</td>\n",
       "      <td>NaN</td>\n",
       "    </tr>\n",
       "    <tr>\n",
       "      <th>13</th>\n",
       "      <td>zwh83jpy6x40b95xigsr2zwh83jpflu3</td>\n",
       "      <td>24.0</td>\n",
       "      <td>22-24</td>\n",
       "      <td>Masculino</td>\n",
       "      <td>Amarela</td>\n",
       "      <td>Não</td>\n",
       "      <td>Não acredito que minha experiência profissiona...</td>\n",
       "      <td>FALSO</td>\n",
       "      <td>NaN</td>\n",
       "      <td>True</td>\n",
       "      <td>...</td>\n",
       "      <td>False</td>\n",
       "      <td>Júnior</td>\n",
       "      <td>Júnior</td>\n",
       "      <td>NaN</td>\n",
       "      <td>Analista de Negócios/Business Analyst</td>\n",
       "      <td>NaN</td>\n",
       "      <td>de R$ 4.001/mês a R$ 6.000/mês</td>\n",
       "      <td>5296.0</td>\n",
       "      <td>de 1 a 2 anos</td>\n",
       "      <td>Menos de 1 ano</td>\n",
       "    </tr>\n",
       "    <tr>\n",
       "      <th>14</th>\n",
       "      <td>zwez49k0jhdvfkfst4zwef137uuf4ivy</td>\n",
       "      <td>35.0</td>\n",
       "      <td>35-39</td>\n",
       "      <td>Feminino</td>\n",
       "      <td>Parda</td>\n",
       "      <td>Não</td>\n",
       "      <td>Sim, acredito que a minha a experiência profis...</td>\n",
       "      <td>TRUE</td>\n",
       "      <td>Atenção dada pelas pessoas diante das minhas o...</td>\n",
       "      <td>True</td>\n",
       "      <td>...</td>\n",
       "      <td>False</td>\n",
       "      <td>Pleno</td>\n",
       "      <td>Pleno</td>\n",
       "      <td>NaN</td>\n",
       "      <td>Analista de Negócios/Business Analyst</td>\n",
       "      <td>NaN</td>\n",
       "      <td>de R$ 6.001/mês a R$ 8.000/mês</td>\n",
       "      <td>7416.0</td>\n",
       "      <td>de 1 a 2 anos</td>\n",
       "      <td>Não tive experiência na área de TI/Engenharia ...</td>\n",
       "    </tr>\n",
       "  </tbody>\n",
       "</table>\n",
       "<p>15 rows × 31 columns</p>\n",
       "</div>"
      ],
      "text/plain": [
       "                          Unnamed: 0  IDADE FAIXA IDADE     GENERO  \\\n",
       "0   zzqzz3l9ily8nuo2m7wyzzqzz3w48o96   39.0       35-39  Masculino   \n",
       "1   zzls2oftfn9law393oezzls2ofhvfpzd   32.0       30-34  Masculino   \n",
       "2   zzdwqzfqqp1ypc7ps6m0hzzdwqz292yi   53.0       50-54  Masculino   \n",
       "3   zzbqh3uy7yk7k9qmkzzbqtb4s9faqspl   27.0       25-29  Masculino   \n",
       "4   zzaf1m95yan929rb94wzzaf1mekhvhpg   46.0       45-49   Feminino   \n",
       "5   zz0nlhbd8oxyiyxzz0nlh7g4xkiaza5v   32.0       30-34   Feminino   \n",
       "6   zytlxsdgalh22cgrijvzytlxa49i8yzx   21.0       17-21  Masculino   \n",
       "7   zyc0twzno2sm5or5ovoxzyc0twz0300d   31.0       30-34   Feminino   \n",
       "8   zy4o5dk6iuxpdwgzy4o58xvd6ykwohrj   33.0       30-34  Masculino   \n",
       "9   zxc3d314cn1c2ovmzxc34ha7nkw1na3j    NaN         55+   Feminino   \n",
       "10  zwy34gktg0tfjq2ttjvazwy34gg3g49i   25.0       25-29   Feminino   \n",
       "11  zwvpu2ssr2cr6g2jyzwvpu2dl5nfwa1f   33.0       30-34  Masculino   \n",
       "12  zwr9hqcpg513kaopenzwr9hibaqmldto   31.0       30-34  Masculino   \n",
       "13  zwh83jpy6x40b95xigsr2zwh83jpflu3   24.0       22-24  Masculino   \n",
       "14  zwez49k0jhdvfkfst4zwef137uuf4ivy   35.0       35-39   Feminino   \n",
       "\n",
       "   COR/RACA/ETNIA  PCD               EXPERIENCIA_PROFISSIONAL_PREJUDICADA  \\\n",
       "0           Parda  Não  Não acredito que minha experiência profissiona...   \n",
       "1           Parda  Não  Sim, acredito que a minha a experiência profis...   \n",
       "2          Branca  Não                                                NaN   \n",
       "3          Branca  Não                                                NaN   \n",
       "4          Branca  Não  Não acredito que minha experiência profissiona...   \n",
       "5           Parda  Não  Não acredito que minha experiência profissiona...   \n",
       "6           Parda  Não  Não acredito que minha experiência profissiona...   \n",
       "7          Branca  Não  Não acredito que minha experiência profissiona...   \n",
       "8          Branca  Não                                                NaN   \n",
       "9           Parda  Não  Não acredito que minha experiência profissiona...   \n",
       "10          Parda  Não  Não acredito que minha experiência profissiona...   \n",
       "11         Branca  Não                                                NaN   \n",
       "12         Branca  Não                                                NaN   \n",
       "13        Amarela  Não  Não acredito que minha experiência profissiona...   \n",
       "14          Parda  Não  Sim, acredito que a minha a experiência profis...   \n",
       "\n",
       "   PREJUDICA?                              ASPECTOS_PREJUDICADOS  \\\n",
       "0       FALSO                                                NaN   \n",
       "1        TRUE       Aprovação em processos seletivos/entrevistas   \n",
       "2       FALSO                                                NaN   \n",
       "3       FALSO                                                NaN   \n",
       "4       FALSO                                                NaN   \n",
       "5       FALSO                                                NaN   \n",
       "6       FALSO                                                NaN   \n",
       "7       FALSO                                                NaN   \n",
       "8       FALSO                                                NaN   \n",
       "9       FALSO                                                NaN   \n",
       "10      FALSO                                                NaN   \n",
       "11      FALSO                                                NaN   \n",
       "12      FALSO                                                NaN   \n",
       "13      FALSO                                                NaN   \n",
       "14       TRUE  Atenção dada pelas pessoas diante das minhas o...   \n",
       "\n",
       "    VIVE_NO_BRASIL  ... GESTOR?   NIVEL NOVO NÍVEL       CARGO COMO GESTOR  \\\n",
       "0             True  ...   False  Júnior     Júnior                     NaN   \n",
       "1             True  ...    True     NaN    Gestora  Supervisor/Coordenador   \n",
       "2             True  ...   False   Pleno      Pleno                     NaN   \n",
       "3             True  ...   False  Sênior     Sênior                     NaN   \n",
       "4             True  ...   False   Pleno      Pleno                     NaN   \n",
       "5             True  ...   False   Pleno      Pleno                     NaN   \n",
       "6             True  ...   False  Júnior     Júnior                     NaN   \n",
       "7             True  ...   False  Júnior     Júnior                     NaN   \n",
       "8             True  ...   False  Sênior     Sênior                     NaN   \n",
       "9             True  ...   False   Pleno      Pleno                     NaN   \n",
       "10            True  ...   False  Júnior     Júnior                     NaN   \n",
       "11            True  ...   False  Sênior     Sênior                     NaN   \n",
       "12            True  ...     NaN     NaN        NaN                     NaN   \n",
       "13            True  ...   False  Júnior     Júnior                     NaN   \n",
       "14            True  ...   False   Pleno      Pleno                     NaN   \n",
       "\n",
       "                                          CARGO ATUAL Unnamed: 26  \\\n",
       "0                 DBA/Administrador de Banco de Dados         NaN   \n",
       "1                                                 NaN         NaN   \n",
       "2   Desenvolvedor/ Engenheiro de Software/ Analist...         NaN   \n",
       "3                   Cientista de Dados/Data Scientist         NaN   \n",
       "4   Desenvolvedor/ Engenheiro de Software/ Analist...         NaN   \n",
       "5                                           Professor         NaN   \n",
       "6                           Analista de BI/BI Analyst         NaN   \n",
       "7   Desenvolvedor/ Engenheiro de Software/ Analist...         NaN   \n",
       "8                           Analista de BI/BI Analyst         NaN   \n",
       "9                                           Professor         NaN   \n",
       "10                          Analista de BI/BI Analyst         NaN   \n",
       "11  Analista de Inteligência de Mercado/Market Int...         NaN   \n",
       "12                                                NaN         NaN   \n",
       "13              Analista de Negócios/Business Analyst         NaN   \n",
       "14              Analista de Negócios/Business Analyst         NaN   \n",
       "\n",
       "                      FAIXA SALARIAL  SALARIO  \\\n",
       "0    de R$ 8.001/mês a R$ 12.000/mês  11194.0   \n",
       "1     de R$ 4.001/mês a R$ 6.000/mês   4695.0   \n",
       "2   de R$ 12.001/mês a R$ 16.000/mês  14202.0   \n",
       "3   de R$ 12.001/mês a R$ 16.000/mês  15463.0   \n",
       "4     de R$ 6.001/mês a R$ 8.000/mês   7733.0   \n",
       "5     de R$ 2.001/mês a R$ 3.000/mês   2336.0   \n",
       "6     de R$ 4.001/mês a R$ 6.000/mês   4491.0   \n",
       "7     de R$ 2.001/mês a R$ 3.000/mês   2704.0   \n",
       "8     de R$ 6.001/mês a R$ 8.000/mês   7112.0   \n",
       "9    de R$ 8.001/mês a R$ 12.000/mês  10822.0   \n",
       "10    de R$ 3.001/mês a R$ 4.000/mês   3450.0   \n",
       "11   de R$ 8.001/mês a R$ 12.000/mês  11625.0   \n",
       "12                               NaN      NaN   \n",
       "13    de R$ 4.001/mês a R$ 6.000/mês   5296.0   \n",
       "14    de R$ 6.001/mês a R$ 8.000/mês   7416.0   \n",
       "\n",
       "   QUANTO TEMPO DE EXPERIÊNCIA NA ÁREA DE DADOS VOCÊ TEM?  \\\n",
       "0                                       de 1 a 2 anos       \n",
       "1                                       de 3 a 4 anos       \n",
       "2                                       de 3 a 4 anos       \n",
       "3                                       de 4 a 6 anos       \n",
       "4              Não tenho experiência na área de dados       \n",
       "5              Não tenho experiência na área de dados       \n",
       "6                                       de 1 a 2 anos       \n",
       "7                                      Menos de 1 ano       \n",
       "8                                      Menos de 1 ano       \n",
       "9                                     Mais de 10 anos       \n",
       "10                                     Menos de 1 ano       \n",
       "11                                      de 1 a 2 anos       \n",
       "12                                                NaN       \n",
       "13                                      de 1 a 2 anos       \n",
       "14                                      de 1 a 2 anos       \n",
       "\n",
       "   QUANTO TEMPO DE EXPERIÊNCIA NA ÁREA DE TI/ENGENHARIA DE SOFTWARE VOCÊ TEVE ANTES DE COMEÇAR A TRABALHAR NA ÁREA DE DADOS?  \n",
       "0                                      de 7 a 10 anos                                                                         \n",
       "1                                      Menos de 1 ano                                                                         \n",
       "2                                     Mais de 10 anos                                                                         \n",
       "3   Não tive experiência na área de TI/Engenharia ...                                                                         \n",
       "4                                     Mais de 10 anos                                                                         \n",
       "5   Não tive experiência na área de TI/Engenharia ...                                                                         \n",
       "6                                      Menos de 1 ano                                                                         \n",
       "7                                      Menos de 1 ano                                                                         \n",
       "8   Não tive experiência na área de TI/Engenharia ...                                                                         \n",
       "9   Não tive experiência na área de TI/Engenharia ...                                                                         \n",
       "10  Não tive experiência na área de TI/Engenharia ...                                                                         \n",
       "11  Não tive experiência na área de TI/Engenharia ...                                                                         \n",
       "12                                                NaN                                                                         \n",
       "13                                     Menos de 1 ano                                                                         \n",
       "14  Não tive experiência na área de TI/Engenharia ...                                                                         \n",
       "\n",
       "[15 rows x 31 columns]"
      ]
     },
     "execution_count": 3,
     "metadata": {},
     "output_type": "execute_result"
    }
   ],
   "source": [
    "data.head(15)"
   ]
  },
  {
   "cell_type": "code",
   "execution_count": 4,
   "metadata": {
    "id": "-nhfHcALqZGP",
    "tags": []
   },
   "outputs": [],
   "source": [
    "# rename column 'Unnamed: 0' to 'ID'\n",
    "\n",
    "data = data.rename(columns={'Unnamed: 0': 'ID'})"
   ]
  },
  {
   "cell_type": "code",
   "execution_count": 5,
   "metadata": {
    "colab": {
     "base_uri": "https://localhost:8080/"
    },
    "id": "HRA_aDLXhy2D",
    "outputId": "00ad7685-5c19-4757-9e3a-183b9d1102d1"
   },
   "outputs": [
    {
     "name": "stdout",
     "output_type": "stream",
     "text": [
      "The minimum users age is 18.0 years old and the maximum age is 54.0 years old.\n"
     ]
    }
   ],
   "source": [
    "# Calculating the users maximum and minimum age\n",
    "\n",
    "max_age = data['IDADE'].max()\n",
    "min_age = data['IDADE'].min()\n",
    "print(f'The minimum users age is {min_age} years old and the maximum age is {max_age} years old.')"
   ]
  },
  {
   "cell_type": "code",
   "execution_count": 6,
   "metadata": {
    "colab": {
     "base_uri": "https://localhost:8080/"
    },
    "id": "tj9VfYhnkFDt",
    "outputId": "ba575bc1-583e-47ae-c4f7-2744c4165b2f"
   },
   "outputs": [
    {
     "name": "stdout",
     "output_type": "stream",
     "text": [
      "The mean age of female users is 31.32 years old.\n",
      "The mean age of male users is 31.15 years old.\n"
     ]
    }
   ],
   "source": [
    "# the mean age of female users\n",
    "\n",
    "fem_mean_age = data[data['GENERO']=='Feminino']['IDADE'].mean()\n",
    "print(f'The mean age of female users is {fem_mean_age:.2f} years old.')\n",
    "\n",
    "# the mean age of male users\n",
    "\n",
    "male_mean_age = data[data['GENERO']=='Masculino']['IDADE'].mean()\n",
    "print(f'The mean age of male users is {male_mean_age:.2f} years old.')\n",
    "\n"
   ]
  },
  {
   "cell_type": "code",
   "execution_count": 7,
   "metadata": {
    "colab": {
     "base_uri": "https://localhost:8080/"
    },
    "id": "dlS53_PJbPiO",
    "outputId": "df7910e2-dc8e-4014-f5af-f8ee674a1700"
   },
   "outputs": [
    {
     "name": "stdout",
     "output_type": "stream",
     "text": [
      "----------------------------------------\n",
      "          ETNICAL DISTRIBUTION          \n",
      "----------------------------------------\n",
      "White users: 2744\n",
      "Black users: 291\n",
      "Asian users: 128\n",
      "Mixed users: 1054\n",
      "Indigenous users: 11\n",
      "----------------------------------------\n"
     ]
    }
   ],
   "source": [
    "# the etnical distribuition ]\n",
    "\n",
    "white = 0;\n",
    "black = 0;\n",
    "asian = 0;\n",
    "mixed = 0;\n",
    "indigenous = 0\n",
    "\n",
    "for i in (data['COR/RACA/ETNIA']):\n",
    "  if i == 'Branca':\n",
    "    white += 1\n",
    "  if i == 'Preta':\n",
    "    black += 1\n",
    "  if i == 'Amarela':\n",
    "    asian += 1\n",
    "  if i == 'Parda':\n",
    "    mixed += 1\n",
    "  if i == 'Indígena':\n",
    "    indigenous += 1\n",
    "\n",
    "print('-'*40)\n",
    "print(f'{\"ETNICAL DISTRIBUTION\":^40}')\n",
    "print('-'*40)\n",
    "print(f'White users: {white}')\n",
    "print(f'Black users: {black}')\n",
    "print(f'Asian users: {asian}')\n",
    "print(f'Mixed users: {mixed}')\n",
    "print(f'Indigenous users: {indigenous}')\n",
    "print('-'*40)"
   ]
  },
  {
   "cell_type": "code",
   "execution_count": 8,
   "metadata": {
    "colab": {
     "base_uri": "https://localhost:8080/"
    },
    "id": "WVhMmknwfy9s",
    "outputId": "06b43967-310a-4a26-f2a7-055af00964e6"
   },
   "outputs": [
    {
     "name": "stdout",
     "output_type": "stream",
     "text": [
      "The number of PWD users is 54.\n",
      "The percentage of PWD users is 1.26%.\n"
     ]
    }
   ],
   "source": [
    "# Persons With Disabilities (PWD)\n",
    "pwd_true = (data['PCD']=='Sim').sum()\n",
    "print(f'The number of PWD users is {pwd_true}.')\n",
    "\n",
    "users = (data['ID']).count()\n",
    "pc_pwd = (pwd_true/users)*100\n",
    "print(f'The percentage of PWD users is {pc_pwd:.2f}%.')"
   ]
  },
  {
   "cell_type": "code",
   "execution_count": 9,
   "metadata": {
    "colab": {
     "base_uri": "https://localhost:8080/",
     "height": 237
    },
    "id": "JIKKsKkTlvBe",
    "outputId": "6aa31a20-b585-4cf6-a103-0cc4234f2bb9"
   },
   "outputs": [
    {
     "data": {
      "text/html": [
       "<div>\n",
       "<style scoped>\n",
       "    .dataframe tbody tr th:only-of-type {\n",
       "        vertical-align: middle;\n",
       "    }\n",
       "\n",
       "    .dataframe tbody tr th {\n",
       "        vertical-align: top;\n",
       "    }\n",
       "\n",
       "    .dataframe thead tr th {\n",
       "        text-align: left;\n",
       "    }\n",
       "\n",
       "    .dataframe thead tr:last-of-type th {\n",
       "        text-align: right;\n",
       "    }\n",
       "</style>\n",
       "<table border=\"1\" class=\"dataframe\">\n",
       "  <thead>\n",
       "    <tr>\n",
       "      <th></th>\n",
       "      <th colspan=\"5\" halign=\"left\">ID</th>\n",
       "    </tr>\n",
       "    <tr>\n",
       "      <th>REGIAO DE ORIGEM</th>\n",
       "      <th>Centro-oeste</th>\n",
       "      <th>Nordeste</th>\n",
       "      <th>Norte</th>\n",
       "      <th>Sudeste</th>\n",
       "      <th>Sul</th>\n",
       "    </tr>\n",
       "    <tr>\n",
       "      <th>NOVO NÍVEL</th>\n",
       "      <th></th>\n",
       "      <th></th>\n",
       "      <th></th>\n",
       "      <th></th>\n",
       "      <th></th>\n",
       "    </tr>\n",
       "  </thead>\n",
       "  <tbody>\n",
       "    <tr>\n",
       "      <th>Gestora</th>\n",
       "      <td>7</td>\n",
       "      <td>30</td>\n",
       "      <td>7</td>\n",
       "      <td>71</td>\n",
       "      <td>30</td>\n",
       "    </tr>\n",
       "    <tr>\n",
       "      <th>Júnior</th>\n",
       "      <td>18</td>\n",
       "      <td>45</td>\n",
       "      <td>15</td>\n",
       "      <td>71</td>\n",
       "      <td>21</td>\n",
       "    </tr>\n",
       "    <tr>\n",
       "      <th>Pleno</th>\n",
       "      <td>15</td>\n",
       "      <td>42</td>\n",
       "      <td>11</td>\n",
       "      <td>93</td>\n",
       "      <td>35</td>\n",
       "    </tr>\n",
       "    <tr>\n",
       "      <th>Sênior</th>\n",
       "      <td>13</td>\n",
       "      <td>48</td>\n",
       "      <td>5</td>\n",
       "      <td>76</td>\n",
       "      <td>23</td>\n",
       "    </tr>\n",
       "  </tbody>\n",
       "</table>\n",
       "</div>"
      ],
      "text/plain": [
       "                           ID                           \n",
       "REGIAO DE ORIGEM Centro-oeste Nordeste Norte Sudeste Sul\n",
       "NOVO NÍVEL                                              \n",
       "Gestora                     7       30     7      71  30\n",
       "Júnior                     18       45    15      71  21\n",
       "Pleno                      15       42    11      93  35\n",
       "Sênior                     13       48     5      76  23"
      ]
     },
     "execution_count": 9,
     "metadata": {},
     "output_type": "execute_result"
    }
   ],
   "source": [
    "# Users in diferents regions per\n",
    "\n",
    "pd.pivot_table(data,values=['ID'],index=['NOVO NÍVEL'],columns=['REGIAO DE ORIGEM'],aggfunc='count')\n"
   ]
  },
  {
   "cell_type": "markdown",
   "metadata": {
    "id": "KpcM-4rflyX6"
   },
   "source": [
    "##### The average age of male and female users is similar. Compared to the general average age of users, which is 31.17 years, the male average of 31.15 years and the female average of 31.32 years are quite similar to the general average."
   ]
  },
  {
   "cell_type": "markdown",
   "metadata": {
    "id": "svn6qgGZJlGl"
   },
   "source": [
    "### Equidade de salário entre gênero e cargos"
   ]
  },
  {
   "cell_type": "code",
   "execution_count": 10,
   "metadata": {
    "colab": {
     "base_uri": "https://localhost:8080/"
    },
    "id": "NmpS_5gCnRcE",
    "outputId": "bdfa52c3-2760-499e-ccfb-28c4b4a657cc"
   },
   "outputs": [
    {
     "name": "stdout",
     "output_type": "stream",
     "text": [
      "The mean salary of the users is R$10969.27.\n",
      "The male manager salary is mean R$20875.69, minimum R$175.0 and maximum R$441190.0.\n",
      "The female manager salary is mean R$15362.22, minimum R$35.0 and maximum R$76677.0.\n",
      "\n",
      "The mean age of male managers is 35.08 years old.\n",
      "The mean age of female managers is 34.25 years old.\n",
      "\n"
     ]
    },
    {
     "name": "stderr",
     "output_type": "stream",
     "text": [
      "/tmp/ipykernel_117420/2233686154.py:9: UserWarning: Boolean Series key will be reindexed to match DataFrame index.\n",
      "  salary_mean_male_manager = data[data['GENERO']=='Masculino'][data['NOVO NÍVEL']=='Gestora']['SALARIO'].mean()\n",
      "/tmp/ipykernel_117420/2233686154.py:10: UserWarning: Boolean Series key will be reindexed to match DataFrame index.\n",
      "  minimum_salary_male_manager = data[data['GENERO']=='Masculino'][data['NOVO NÍVEL']=='Gestora']['SALARIO'].min()\n",
      "/tmp/ipykernel_117420/2233686154.py:11: UserWarning: Boolean Series key will be reindexed to match DataFrame index.\n",
      "  maximum_salary_male_manager = data[data['GENERO']=='Masculino'][data['NOVO NÍVEL']=='Gestora']['SALARIO'].max()\n",
      "/tmp/ipykernel_117420/2233686154.py:13: UserWarning: Boolean Series key will be reindexed to match DataFrame index.\n",
      "  salary_mean_female_manager = data[data['GENERO']=='Feminino'][data['NOVO NÍVEL']=='Gestora']['SALARIO'].mean()\n",
      "/tmp/ipykernel_117420/2233686154.py:14: UserWarning: Boolean Series key will be reindexed to match DataFrame index.\n",
      "  minimum_salary_female_manager = data[data['GENERO']=='Feminino'][data['NOVO NÍVEL']=='Gestora']['SALARIO'].min()\n",
      "/tmp/ipykernel_117420/2233686154.py:15: UserWarning: Boolean Series key will be reindexed to match DataFrame index.\n",
      "  maximum_salary_female_manager = data[data['GENERO']=='Feminino'][data['NOVO NÍVEL']=='Gestora']['SALARIO'].max()\n",
      "/tmp/ipykernel_117420/2233686154.py:24: UserWarning: Boolean Series key will be reindexed to match DataFrame index.\n",
      "  age_mean_manager_male = data[data['GENERO']=='Masculino'][data['NOVO NÍVEL']=='Gestora']['IDADE'].mean()\n",
      "/tmp/ipykernel_117420/2233686154.py:25: UserWarning: Boolean Series key will be reindexed to match DataFrame index.\n",
      "  age_mean_manager_female = data[data['GENERO']=='Feminino'][data['NOVO NÍVEL']=='Gestora']['IDADE'].mean()\n"
     ]
    }
   ],
   "source": [
    "# Mean salary\n",
    "\n",
    "mean_salary_global = data['SALARIO'].mean()\n",
    "print(f'The mean salary of the users is R${mean_salary_global:.2f}.')\n",
    "\n",
    "\n",
    "# Calculating the maximum, minimum and mean salary managers by gender\n",
    "\n",
    "salary_mean_male_manager = data[data['GENERO']=='Masculino'][data['NOVO NÍVEL']=='Gestora']['SALARIO'].mean()\n",
    "minimum_salary_male_manager = data[data['GENERO']=='Masculino'][data['NOVO NÍVEL']=='Gestora']['SALARIO'].min()\n",
    "maximum_salary_male_manager = data[data['GENERO']=='Masculino'][data['NOVO NÍVEL']=='Gestora']['SALARIO'].max()\n",
    "\n",
    "salary_mean_female_manager = data[data['GENERO']=='Feminino'][data['NOVO NÍVEL']=='Gestora']['SALARIO'].mean()\n",
    "minimum_salary_female_manager = data[data['GENERO']=='Feminino'][data['NOVO NÍVEL']=='Gestora']['SALARIO'].min()\n",
    "maximum_salary_female_manager = data[data['GENERO']=='Feminino'][data['NOVO NÍVEL']=='Gestora']['SALARIO'].max()\n",
    "\n",
    "\n",
    "print(f'The male manager salary is mean R${salary_mean_male_manager:.2f}, minimum R${minimum_salary_male_manager} and maximum R${maximum_salary_male_manager}.')\n",
    "print(f'The female manager salary is mean R${salary_mean_female_manager:.2f}, minimum R${minimum_salary_female_manager} and maximum R${maximum_salary_female_manager}.')\n",
    "print()\n",
    "\n",
    "# Calculating the mean age of managers by gender\n",
    "\n",
    "age_mean_manager_male = data[data['GENERO']=='Masculino'][data['NOVO NÍVEL']=='Gestora']['IDADE'].mean()\n",
    "age_mean_manager_female = data[data['GENERO']=='Feminino'][data['NOVO NÍVEL']=='Gestora']['IDADE'].mean()\n",
    "\n",
    "print(f'The mean age of male managers is {age_mean_manager_male:.2f} years old.')\n",
    "print(f'The mean age of female managers is {age_mean_manager_female:.2f} years old.')\n",
    "print()"
   ]
  },
  {
   "cell_type": "code",
   "execution_count": 11,
   "metadata": {
    "colab": {
     "base_uri": "https://localhost:8080/"
    },
    "id": "ublj_i1e-3D4",
    "outputId": "411853fe-2afc-4bba-8654-02e7ebbc77b4"
   },
   "outputs": [
    {
     "name": "stdout",
     "output_type": "stream",
     "text": [
      "Mean male senior salary R$15936.83\n",
      "Mean female senior salary R$11746.87\n",
      "\n",
      "The mean age of male senior is 33.30 years old.\n",
      "The mean age of female senior is 33.22 years old.\n",
      "\n"
     ]
    },
    {
     "name": "stderr",
     "output_type": "stream",
     "text": [
      "/tmp/ipykernel_117420/2328312370.py:3: UserWarning: Boolean Series key will be reindexed to match DataFrame index.\n",
      "  salary_mean_male_senior = data[data['GENERO']=='Masculino'][data['NOVO NÍVEL']=='Sênior']['SALARIO'].mean()\n",
      "/tmp/ipykernel_117420/2328312370.py:4: UserWarning: Boolean Series key will be reindexed to match DataFrame index.\n",
      "  salary_mean_female_senior = data[data['GENERO']=='Feminino'][data['NOVO NÍVEL']=='Sênior']['SALARIO'].mean()\n",
      "/tmp/ipykernel_117420/2328312370.py:12: UserWarning: Boolean Series key will be reindexed to match DataFrame index.\n",
      "  age_mean_senior_male = data[data['GENERO']=='Masculino'][data['NOVO NÍVEL']=='Sênior']['IDADE'].mean()\n",
      "/tmp/ipykernel_117420/2328312370.py:13: UserWarning: Boolean Series key will be reindexed to match DataFrame index.\n",
      "  age_mean_senior_female = data[data['GENERO']=='Feminino'][data['NOVO NÍVEL']=='Sênior']['IDADE'].mean()\n"
     ]
    }
   ],
   "source": [
    "# Calculating the maximum, minimum and mean salary senior by gender\n",
    "\n",
    "salary_mean_male_senior = data[data['GENERO']=='Masculino'][data['NOVO NÍVEL']=='Sênior']['SALARIO'].mean()\n",
    "salary_mean_female_senior = data[data['GENERO']=='Feminino'][data['NOVO NÍVEL']=='Sênior']['SALARIO'].mean()\n",
    "\n",
    "print(f'Mean male senior salary R${salary_mean_male_senior:.2f}')\n",
    "print(f'Mean female senior salary R${salary_mean_female_senior:.2f}')\n",
    "print()\n",
    "\n",
    "# Calculating the mean age of senior by gender\n",
    "\n",
    "age_mean_senior_male = data[data['GENERO']=='Masculino'][data['NOVO NÍVEL']=='Sênior']['IDADE'].mean()\n",
    "age_mean_senior_female = data[data['GENERO']=='Feminino'][data['NOVO NÍVEL']=='Sênior']['IDADE'].mean()\n",
    "\n",
    "print(f'The mean age of male senior is {age_mean_senior_male:.2f} years old.')\n",
    "print(f'The mean age of female senior is {age_mean_senior_female:.2f} years old.')\n",
    "print()"
   ]
  },
  {
   "cell_type": "code",
   "execution_count": 12,
   "metadata": {
    "colab": {
     "base_uri": "https://localhost:8080/"
    },
    "id": "bauAFUrgEPxU",
    "outputId": "5d0f5c53-0d9b-45fd-8828-662a78e7a58e"
   },
   "outputs": [
    {
     "name": "stdout",
     "output_type": "stream",
     "text": [
      "Mean male pleno salary R$8469.88\n",
      "Mean female pleno salary R$8039.93\n",
      "\n",
      "The mean age of male pleno is 30.07 years old.\n",
      "The mean age of female pleno is 30.42 years old.\n",
      "\n"
     ]
    },
    {
     "name": "stderr",
     "output_type": "stream",
     "text": [
      "/tmp/ipykernel_117420/2493101829.py:3: UserWarning: Boolean Series key will be reindexed to match DataFrame index.\n",
      "  salary_mean_male_pleno = data[data['GENERO']=='Masculino'][data['NOVO NÍVEL']=='Pleno']['SALARIO'].mean()\n",
      "/tmp/ipykernel_117420/2493101829.py:4: UserWarning: Boolean Series key will be reindexed to match DataFrame index.\n",
      "  salary_mean_female_pleno = data[data['GENERO']=='Feminino'][data['NOVO NÍVEL']=='Pleno']['SALARIO'].mean()\n",
      "/tmp/ipykernel_117420/2493101829.py:12: UserWarning: Boolean Series key will be reindexed to match DataFrame index.\n",
      "  age_mean_pleno_male = data[data['GENERO']=='Masculino'][data['NOVO NÍVEL']=='Pleno']['IDADE'].mean()\n",
      "/tmp/ipykernel_117420/2493101829.py:13: UserWarning: Boolean Series key will be reindexed to match DataFrame index.\n",
      "  age_mean_pleno_female = data[data['GENERO']=='Feminino'][data['NOVO NÍVEL']=='Pleno']['IDADE'].mean()\n"
     ]
    }
   ],
   "source": [
    "# Calculating the maximum, minimum and mean salary pleno by gender\n",
    "\n",
    "salary_mean_male_pleno = data[data['GENERO']=='Masculino'][data['NOVO NÍVEL']=='Pleno']['SALARIO'].mean()\n",
    "salary_mean_female_pleno = data[data['GENERO']=='Feminino'][data['NOVO NÍVEL']=='Pleno']['SALARIO'].mean()\n",
    "\n",
    "print(f'Mean male pleno salary R${salary_mean_male_pleno:.2f}')\n",
    "print(f'Mean female pleno salary R${salary_mean_female_pleno:.2f}')\n",
    "print()\n",
    "\n",
    "# Calculating the mean age of pleno by gender\n",
    "\n",
    "age_mean_pleno_male = data[data['GENERO']=='Masculino'][data['NOVO NÍVEL']=='Pleno']['IDADE'].mean()\n",
    "age_mean_pleno_female = data[data['GENERO']=='Feminino'][data['NOVO NÍVEL']=='Pleno']['IDADE'].mean()\n",
    "\n",
    "print(f'The mean age of male pleno is {age_mean_pleno_male:.2f} years old.')\n",
    "print(f'The mean age of female pleno is {age_mean_pleno_female:.2f} years old.')\n",
    "print()"
   ]
  },
  {
   "cell_type": "code",
   "execution_count": 13,
   "metadata": {
    "colab": {
     "base_uri": "https://localhost:8080/"
    },
    "id": "tYuGe0PIE0pm",
    "outputId": "41bfd07b-73d7-46fd-e094-c42f2dda567f"
   },
   "outputs": [
    {
     "name": "stdout",
     "output_type": "stream",
     "text": [
      "Mean male junior salary R$3915.25\n",
      "Mean female junior salary R$4000.81\n",
      "\n",
      "The mean age of male junior is 27.46 years old.\n",
      "The mean age of female junior is 29.32 years old.\n",
      "\n"
     ]
    },
    {
     "name": "stderr",
     "output_type": "stream",
     "text": [
      "/tmp/ipykernel_117420/1025234474.py:3: UserWarning: Boolean Series key will be reindexed to match DataFrame index.\n",
      "  salary_mean_male_junior = data[data['GENERO']=='Masculino'][data['NOVO NÍVEL']=='Júnior']['SALARIO'].mean()\n",
      "/tmp/ipykernel_117420/1025234474.py:4: UserWarning: Boolean Series key will be reindexed to match DataFrame index.\n",
      "  salary_mean_female_junior = data[data['GENERO']=='Feminino'][data['NOVO NÍVEL']=='Júnior']['SALARIO'].mean()\n",
      "/tmp/ipykernel_117420/1025234474.py:12: UserWarning: Boolean Series key will be reindexed to match DataFrame index.\n",
      "  age_mean_junior_male = data[data['GENERO']=='Masculino'][data['NOVO NÍVEL']=='Júnior']['IDADE'].mean()\n",
      "/tmp/ipykernel_117420/1025234474.py:13: UserWarning: Boolean Series key will be reindexed to match DataFrame index.\n",
      "  age_mean_junior_female = data[data['GENERO']=='Feminino'][data['NOVO NÍVEL']=='Júnior']['IDADE'].mean()\n"
     ]
    }
   ],
   "source": [
    "# Calculating the maximum, minimum and mean salary junior by gender\n",
    "\n",
    "salary_mean_male_junior = data[data['GENERO']=='Masculino'][data['NOVO NÍVEL']=='Júnior']['SALARIO'].mean()\n",
    "salary_mean_female_junior = data[data['GENERO']=='Feminino'][data['NOVO NÍVEL']=='Júnior']['SALARIO'].mean()\n",
    "\n",
    "print(f'Mean male junior salary R${salary_mean_male_junior:.2f}')\n",
    "print(f'Mean female junior salary R${salary_mean_female_junior:.2f}')\n",
    "print()\n",
    "\n",
    "# Calculating the mean age of junior by gender\n",
    "\n",
    "age_mean_junior_male = data[data['GENERO']=='Masculino'][data['NOVO NÍVEL']=='Júnior']['IDADE'].mean()\n",
    "age_mean_junior_female = data[data['GENERO']=='Feminino'][data['NOVO NÍVEL']=='Júnior']['IDADE'].mean()\n",
    "\n",
    "print(f'The mean age of male junior is {age_mean_junior_male:.2f} years old.')\n",
    "print(f'The mean age of female junior is {age_mean_junior_female:.2f} years old.')\n",
    "print()"
   ]
  },
  {
   "cell_type": "markdown",
   "metadata": {
    "id": "eeWnfsOTIuai"
   },
   "source": [
    "### Conclusões: influência do gênero e idade em cargos e salários"
   ]
  },
  {
   "cell_type": "markdown",
   "metadata": {
    "id": "sKhAoj71JAv_"
   },
   "source": [
    "AV02 - Influência do grau de escolaridade em cada cargo\n",
    "\n",
    "\n",
    "\n",
    "*   Avanço de cargos tem relação com a escolaridade?\n",
    "*   Vale a pena incentivar um funcionário a continuar estudando?\n",
    "\n"
   ]
  },
  {
   "cell_type": "code",
   "execution_count": 14,
   "metadata": {
    "colab": {
     "base_uri": "https://localhost:8080/",
     "height": 331
    },
    "id": "tRjAqGlBFSSm",
    "outputId": "51a9733c-7d09-4311-f233-f2d847187a92"
   },
   "outputs": [
    {
     "data": {
      "text/html": [
       "<div>\n",
       "<style scoped>\n",
       "    .dataframe tbody tr th:only-of-type {\n",
       "        vertical-align: middle;\n",
       "    }\n",
       "\n",
       "    .dataframe tbody tr th {\n",
       "        vertical-align: top;\n",
       "    }\n",
       "\n",
       "    .dataframe thead tr th {\n",
       "        text-align: left;\n",
       "    }\n",
       "\n",
       "    .dataframe thead tr:last-of-type th {\n",
       "        text-align: right;\n",
       "    }\n",
       "</style>\n",
       "<table border=\"1\" class=\"dataframe\">\n",
       "  <thead>\n",
       "    <tr>\n",
       "      <th></th>\n",
       "      <th colspan=\"4\" halign=\"left\">ID</th>\n",
       "    </tr>\n",
       "    <tr>\n",
       "      <th>NOVO NÍVEL</th>\n",
       "      <th>Gestora</th>\n",
       "      <th>Júnior</th>\n",
       "      <th>Pleno</th>\n",
       "      <th>Sênior</th>\n",
       "    </tr>\n",
       "    <tr>\n",
       "      <th>NIVEL DE ENSINO</th>\n",
       "      <th></th>\n",
       "      <th></th>\n",
       "      <th></th>\n",
       "      <th></th>\n",
       "    </tr>\n",
       "  </thead>\n",
       "  <tbody>\n",
       "    <tr>\n",
       "      <th>Doutorado ou Phd</th>\n",
       "      <td>36.0</td>\n",
       "      <td>18.0</td>\n",
       "      <td>35.0</td>\n",
       "      <td>57.0</td>\n",
       "    </tr>\n",
       "    <tr>\n",
       "      <th>Estudante de Graduação</th>\n",
       "      <td>22.0</td>\n",
       "      <td>312.0</td>\n",
       "      <td>92.0</td>\n",
       "      <td>42.0</td>\n",
       "    </tr>\n",
       "    <tr>\n",
       "      <th>Graduação/Bacharelado</th>\n",
       "      <td>185.0</td>\n",
       "      <td>423.0</td>\n",
       "      <td>421.0</td>\n",
       "      <td>299.0</td>\n",
       "    </tr>\n",
       "    <tr>\n",
       "      <th>Mestrado</th>\n",
       "      <td>134.0</td>\n",
       "      <td>64.0</td>\n",
       "      <td>127.0</td>\n",
       "      <td>115.0</td>\n",
       "    </tr>\n",
       "    <tr>\n",
       "      <th>Não tenho graduação formal</th>\n",
       "      <td>19.0</td>\n",
       "      <td>33.0</td>\n",
       "      <td>22.0</td>\n",
       "      <td>10.0</td>\n",
       "    </tr>\n",
       "    <tr>\n",
       "      <th>Prefiro não informar</th>\n",
       "      <td>NaN</td>\n",
       "      <td>5.0</td>\n",
       "      <td>3.0</td>\n",
       "      <td>1.0</td>\n",
       "    </tr>\n",
       "    <tr>\n",
       "      <th>Pós-graduação</th>\n",
       "      <td>317.0</td>\n",
       "      <td>168.0</td>\n",
       "      <td>360.0</td>\n",
       "      <td>374.0</td>\n",
       "    </tr>\n",
       "  </tbody>\n",
       "</table>\n",
       "</div>"
      ],
      "text/plain": [
       "                                ID                     \n",
       "NOVO NÍVEL                 Gestora Júnior  Pleno Sênior\n",
       "NIVEL DE ENSINO                                        \n",
       "Doutorado ou Phd              36.0   18.0   35.0   57.0\n",
       "Estudante de Graduação        22.0  312.0   92.0   42.0\n",
       "Graduação/Bacharelado        185.0  423.0  421.0  299.0\n",
       "Mestrado                     134.0   64.0  127.0  115.0\n",
       "Não tenho graduação formal    19.0   33.0   22.0   10.0\n",
       "Prefiro não informar           NaN    5.0    3.0    1.0\n",
       "Pós-graduação                317.0  168.0  360.0  374.0"
      ]
     },
     "execution_count": 14,
     "metadata": {},
     "output_type": "execute_result"
    }
   ],
   "source": [
    "# Level of education by position\n",
    "\n",
    "pd.pivot_table(data,values=['ID'], index = ['NIVEL DE ENSINO'], columns=['NOVO NÍVEL'],aggfunc='count')\n"
   ]
  },
  {
   "cell_type": "code",
   "execution_count": 15,
   "metadata": {
    "colab": {
     "base_uri": "https://localhost:8080/",
     "height": 802
    },
    "id": "VYtjy6FkP8vp",
    "outputId": "4739f85d-8644-4fc2-981d-b60ab86f570f"
   },
   "outputs": [
    {
     "data": {
      "text/html": [
       "<div>\n",
       "<style scoped>\n",
       "    .dataframe tbody tr th:only-of-type {\n",
       "        vertical-align: middle;\n",
       "    }\n",
       "\n",
       "    .dataframe tbody tr th {\n",
       "        vertical-align: top;\n",
       "    }\n",
       "\n",
       "    .dataframe thead tr th {\n",
       "        text-align: left;\n",
       "    }\n",
       "\n",
       "    .dataframe thead tr:last-of-type th {\n",
       "        text-align: right;\n",
       "    }\n",
       "</style>\n",
       "<table border=\"1\" class=\"dataframe\">\n",
       "  <thead>\n",
       "    <tr>\n",
       "      <th></th>\n",
       "      <th colspan=\"7\" halign=\"left\">ID</th>\n",
       "    </tr>\n",
       "    <tr>\n",
       "      <th>NIVEL DE ENSINO</th>\n",
       "      <th>Doutorado ou Phd</th>\n",
       "      <th>Estudante de Graduação</th>\n",
       "      <th>Graduação/Bacharelado</th>\n",
       "      <th>Mestrado</th>\n",
       "      <th>Não tenho graduação formal</th>\n",
       "      <th>Prefiro não informar</th>\n",
       "      <th>Pós-graduação</th>\n",
       "    </tr>\n",
       "    <tr>\n",
       "      <th>ESTADO ONDE MORA</th>\n",
       "      <th></th>\n",
       "      <th></th>\n",
       "      <th></th>\n",
       "      <th></th>\n",
       "      <th></th>\n",
       "      <th></th>\n",
       "      <th></th>\n",
       "    </tr>\n",
       "  </thead>\n",
       "  <tbody>\n",
       "    <tr>\n",
       "      <th>Alagoas (AL)</th>\n",
       "      <td>2.0</td>\n",
       "      <td>8.0</td>\n",
       "      <td>10.0</td>\n",
       "      <td>4.0</td>\n",
       "      <td>2.0</td>\n",
       "      <td>NaN</td>\n",
       "      <td>6.0</td>\n",
       "    </tr>\n",
       "    <tr>\n",
       "      <th>Amazonas (AM)</th>\n",
       "      <td>NaN</td>\n",
       "      <td>4.0</td>\n",
       "      <td>5.0</td>\n",
       "      <td>5.0</td>\n",
       "      <td>1.0</td>\n",
       "      <td>NaN</td>\n",
       "      <td>11.0</td>\n",
       "    </tr>\n",
       "    <tr>\n",
       "      <th>Bahia (BA)</th>\n",
       "      <td>15.0</td>\n",
       "      <td>32.0</td>\n",
       "      <td>48.0</td>\n",
       "      <td>26.0</td>\n",
       "      <td>6.0</td>\n",
       "      <td>NaN</td>\n",
       "      <td>35.0</td>\n",
       "    </tr>\n",
       "    <tr>\n",
       "      <th>Ceará (CE)</th>\n",
       "      <td>3.0</td>\n",
       "      <td>14.0</td>\n",
       "      <td>36.0</td>\n",
       "      <td>10.0</td>\n",
       "      <td>5.0</td>\n",
       "      <td>NaN</td>\n",
       "      <td>27.0</td>\n",
       "    </tr>\n",
       "    <tr>\n",
       "      <th>Distrito Federal (DF)</th>\n",
       "      <td>6.0</td>\n",
       "      <td>15.0</td>\n",
       "      <td>42.0</td>\n",
       "      <td>20.0</td>\n",
       "      <td>NaN</td>\n",
       "      <td>NaN</td>\n",
       "      <td>49.0</td>\n",
       "    </tr>\n",
       "    <tr>\n",
       "      <th>Espírito Santo (ES)</th>\n",
       "      <td>1.0</td>\n",
       "      <td>18.0</td>\n",
       "      <td>35.0</td>\n",
       "      <td>4.0</td>\n",
       "      <td>1.0</td>\n",
       "      <td>1.0</td>\n",
       "      <td>21.0</td>\n",
       "    </tr>\n",
       "    <tr>\n",
       "      <th>Goiás (GO)</th>\n",
       "      <td>3.0</td>\n",
       "      <td>4.0</td>\n",
       "      <td>26.0</td>\n",
       "      <td>5.0</td>\n",
       "      <td>2.0</td>\n",
       "      <td>NaN</td>\n",
       "      <td>15.0</td>\n",
       "    </tr>\n",
       "    <tr>\n",
       "      <th>Maranhão (MA)</th>\n",
       "      <td>NaN</td>\n",
       "      <td>11.0</td>\n",
       "      <td>6.0</td>\n",
       "      <td>7.0</td>\n",
       "      <td>NaN</td>\n",
       "      <td>NaN</td>\n",
       "      <td>4.0</td>\n",
       "    </tr>\n",
       "    <tr>\n",
       "      <th>Mato Grosso (MT)</th>\n",
       "      <td>1.0</td>\n",
       "      <td>4.0</td>\n",
       "      <td>3.0</td>\n",
       "      <td>3.0</td>\n",
       "      <td>1.0</td>\n",
       "      <td>NaN</td>\n",
       "      <td>7.0</td>\n",
       "    </tr>\n",
       "    <tr>\n",
       "      <th>Mato Grosso do Sul (MS)</th>\n",
       "      <td>NaN</td>\n",
       "      <td>1.0</td>\n",
       "      <td>6.0</td>\n",
       "      <td>2.0</td>\n",
       "      <td>NaN</td>\n",
       "      <td>NaN</td>\n",
       "      <td>7.0</td>\n",
       "    </tr>\n",
       "    <tr>\n",
       "      <th>Minas Gerais (MG)</th>\n",
       "      <td>17.0</td>\n",
       "      <td>72.0</td>\n",
       "      <td>169.0</td>\n",
       "      <td>58.0</td>\n",
       "      <td>14.0</td>\n",
       "      <td>NaN</td>\n",
       "      <td>148.0</td>\n",
       "    </tr>\n",
       "    <tr>\n",
       "      <th>Paraná (PR)</th>\n",
       "      <td>14.0</td>\n",
       "      <td>33.0</td>\n",
       "      <td>87.0</td>\n",
       "      <td>29.0</td>\n",
       "      <td>8.0</td>\n",
       "      <td>NaN</td>\n",
       "      <td>138.0</td>\n",
       "    </tr>\n",
       "    <tr>\n",
       "      <th>Paraíba (PB)</th>\n",
       "      <td>3.0</td>\n",
       "      <td>6.0</td>\n",
       "      <td>20.0</td>\n",
       "      <td>6.0</td>\n",
       "      <td>NaN</td>\n",
       "      <td>NaN</td>\n",
       "      <td>7.0</td>\n",
       "    </tr>\n",
       "    <tr>\n",
       "      <th>Pará (PA)</th>\n",
       "      <td>2.0</td>\n",
       "      <td>9.0</td>\n",
       "      <td>11.0</td>\n",
       "      <td>6.0</td>\n",
       "      <td>3.0</td>\n",
       "      <td>NaN</td>\n",
       "      <td>4.0</td>\n",
       "    </tr>\n",
       "    <tr>\n",
       "      <th>Pernambuco (PE)</th>\n",
       "      <td>4.0</td>\n",
       "      <td>26.0</td>\n",
       "      <td>37.0</td>\n",
       "      <td>26.0</td>\n",
       "      <td>2.0</td>\n",
       "      <td>1.0</td>\n",
       "      <td>24.0</td>\n",
       "    </tr>\n",
       "    <tr>\n",
       "      <th>Piauí (PI)</th>\n",
       "      <td>1.0</td>\n",
       "      <td>2.0</td>\n",
       "      <td>4.0</td>\n",
       "      <td>2.0</td>\n",
       "      <td>1.0</td>\n",
       "      <td>NaN</td>\n",
       "      <td>7.0</td>\n",
       "    </tr>\n",
       "    <tr>\n",
       "      <th>Rio Grande do Norte (RN)</th>\n",
       "      <td>4.0</td>\n",
       "      <td>4.0</td>\n",
       "      <td>16.0</td>\n",
       "      <td>3.0</td>\n",
       "      <td>2.0</td>\n",
       "      <td>NaN</td>\n",
       "      <td>9.0</td>\n",
       "    </tr>\n",
       "    <tr>\n",
       "      <th>Rio Grande do Sul (RS)</th>\n",
       "      <td>16.0</td>\n",
       "      <td>42.0</td>\n",
       "      <td>54.0</td>\n",
       "      <td>32.0</td>\n",
       "      <td>7.0</td>\n",
       "      <td>NaN</td>\n",
       "      <td>53.0</td>\n",
       "    </tr>\n",
       "    <tr>\n",
       "      <th>Rio de Janeiro (RJ)</th>\n",
       "      <td>11.0</td>\n",
       "      <td>56.0</td>\n",
       "      <td>108.0</td>\n",
       "      <td>51.0</td>\n",
       "      <td>7.0</td>\n",
       "      <td>1.0</td>\n",
       "      <td>104.0</td>\n",
       "    </tr>\n",
       "    <tr>\n",
       "      <th>Santa Catarina (SC)</th>\n",
       "      <td>5.0</td>\n",
       "      <td>25.0</td>\n",
       "      <td>59.0</td>\n",
       "      <td>17.0</td>\n",
       "      <td>4.0</td>\n",
       "      <td>NaN</td>\n",
       "      <td>46.0</td>\n",
       "    </tr>\n",
       "    <tr>\n",
       "      <th>Sergipe (SE)</th>\n",
       "      <td>3.0</td>\n",
       "      <td>4.0</td>\n",
       "      <td>8.0</td>\n",
       "      <td>6.0</td>\n",
       "      <td>NaN</td>\n",
       "      <td>NaN</td>\n",
       "      <td>7.0</td>\n",
       "    </tr>\n",
       "    <tr>\n",
       "      <th>São Paulo (SP)</th>\n",
       "      <td>71.0</td>\n",
       "      <td>212.0</td>\n",
       "      <td>691.0</td>\n",
       "      <td>177.0</td>\n",
       "      <td>38.0</td>\n",
       "      <td>7.0</td>\n",
       "      <td>549.0</td>\n",
       "    </tr>\n",
       "  </tbody>\n",
       "</table>\n",
       "</div>"
      ],
      "text/plain": [
       "                                       ID                         \\\n",
       "NIVEL DE ENSINO          Doutorado ou Phd Estudante de Graduação   \n",
       "ESTADO ONDE MORA                                                   \n",
       "Alagoas (AL)                          2.0                    8.0   \n",
       "Amazonas (AM)                         NaN                    4.0   \n",
       "Bahia (BA)                           15.0                   32.0   \n",
       "Ceará (CE)                            3.0                   14.0   \n",
       "Distrito Federal (DF)                 6.0                   15.0   \n",
       "Espírito Santo (ES)                   1.0                   18.0   \n",
       "Goiás (GO)                            3.0                    4.0   \n",
       "Maranhão (MA)                         NaN                   11.0   \n",
       "Mato Grosso (MT)                      1.0                    4.0   \n",
       "Mato Grosso do Sul (MS)               NaN                    1.0   \n",
       "Minas Gerais (MG)                    17.0                   72.0   \n",
       "Paraná (PR)                          14.0                   33.0   \n",
       "Paraíba (PB)                          3.0                    6.0   \n",
       "Pará (PA)                             2.0                    9.0   \n",
       "Pernambuco (PE)                       4.0                   26.0   \n",
       "Piauí (PI)                            1.0                    2.0   \n",
       "Rio Grande do Norte (RN)              4.0                    4.0   \n",
       "Rio Grande do Sul (RS)               16.0                   42.0   \n",
       "Rio de Janeiro (RJ)                  11.0                   56.0   \n",
       "Santa Catarina (SC)                   5.0                   25.0   \n",
       "Sergipe (SE)                          3.0                    4.0   \n",
       "São Paulo (SP)                       71.0                  212.0   \n",
       "\n",
       "                                                         \\\n",
       "NIVEL DE ENSINO          Graduação/Bacharelado Mestrado   \n",
       "ESTADO ONDE MORA                                          \n",
       "Alagoas (AL)                              10.0      4.0   \n",
       "Amazonas (AM)                              5.0      5.0   \n",
       "Bahia (BA)                                48.0     26.0   \n",
       "Ceará (CE)                                36.0     10.0   \n",
       "Distrito Federal (DF)                     42.0     20.0   \n",
       "Espírito Santo (ES)                       35.0      4.0   \n",
       "Goiás (GO)                                26.0      5.0   \n",
       "Maranhão (MA)                              6.0      7.0   \n",
       "Mato Grosso (MT)                           3.0      3.0   \n",
       "Mato Grosso do Sul (MS)                    6.0      2.0   \n",
       "Minas Gerais (MG)                        169.0     58.0   \n",
       "Paraná (PR)                               87.0     29.0   \n",
       "Paraíba (PB)                              20.0      6.0   \n",
       "Pará (PA)                                 11.0      6.0   \n",
       "Pernambuco (PE)                           37.0     26.0   \n",
       "Piauí (PI)                                 4.0      2.0   \n",
       "Rio Grande do Norte (RN)                  16.0      3.0   \n",
       "Rio Grande do Sul (RS)                    54.0     32.0   \n",
       "Rio de Janeiro (RJ)                      108.0     51.0   \n",
       "Santa Catarina (SC)                       59.0     17.0   \n",
       "Sergipe (SE)                               8.0      6.0   \n",
       "São Paulo (SP)                           691.0    177.0   \n",
       "\n",
       "                                                                          \\\n",
       "NIVEL DE ENSINO          Não tenho graduação formal Prefiro não informar   \n",
       "ESTADO ONDE MORA                                                           \n",
       "Alagoas (AL)                                    2.0                  NaN   \n",
       "Amazonas (AM)                                   1.0                  NaN   \n",
       "Bahia (BA)                                      6.0                  NaN   \n",
       "Ceará (CE)                                      5.0                  NaN   \n",
       "Distrito Federal (DF)                           NaN                  NaN   \n",
       "Espírito Santo (ES)                             1.0                  1.0   \n",
       "Goiás (GO)                                      2.0                  NaN   \n",
       "Maranhão (MA)                                   NaN                  NaN   \n",
       "Mato Grosso (MT)                                1.0                  NaN   \n",
       "Mato Grosso do Sul (MS)                         NaN                  NaN   \n",
       "Minas Gerais (MG)                              14.0                  NaN   \n",
       "Paraná (PR)                                     8.0                  NaN   \n",
       "Paraíba (PB)                                    NaN                  NaN   \n",
       "Pará (PA)                                       3.0                  NaN   \n",
       "Pernambuco (PE)                                 2.0                  1.0   \n",
       "Piauí (PI)                                      1.0                  NaN   \n",
       "Rio Grande do Norte (RN)                        2.0                  NaN   \n",
       "Rio Grande do Sul (RS)                          7.0                  NaN   \n",
       "Rio de Janeiro (RJ)                             7.0                  1.0   \n",
       "Santa Catarina (SC)                             4.0                  NaN   \n",
       "Sergipe (SE)                                    NaN                  NaN   \n",
       "São Paulo (SP)                                 38.0                  7.0   \n",
       "\n",
       "                                        \n",
       "NIVEL DE ENSINO          Pós-graduação  \n",
       "ESTADO ONDE MORA                        \n",
       "Alagoas (AL)                       6.0  \n",
       "Amazonas (AM)                     11.0  \n",
       "Bahia (BA)                        35.0  \n",
       "Ceará (CE)                        27.0  \n",
       "Distrito Federal (DF)             49.0  \n",
       "Espírito Santo (ES)               21.0  \n",
       "Goiás (GO)                        15.0  \n",
       "Maranhão (MA)                      4.0  \n",
       "Mato Grosso (MT)                   7.0  \n",
       "Mato Grosso do Sul (MS)            7.0  \n",
       "Minas Gerais (MG)                148.0  \n",
       "Paraná (PR)                      138.0  \n",
       "Paraíba (PB)                       7.0  \n",
       "Pará (PA)                          4.0  \n",
       "Pernambuco (PE)                   24.0  \n",
       "Piauí (PI)                         7.0  \n",
       "Rio Grande do Norte (RN)           9.0  \n",
       "Rio Grande do Sul (RS)            53.0  \n",
       "Rio de Janeiro (RJ)              104.0  \n",
       "Santa Catarina (SC)               46.0  \n",
       "Sergipe (SE)                       7.0  \n",
       "São Paulo (SP)                   549.0  "
      ]
     },
     "execution_count": 15,
     "metadata": {},
     "output_type": "execute_result"
    }
   ],
   "source": [
    "# Position by region\n",
    "\n",
    "pd.pivot_table(data, values=['ID'], index=['ESTADO ONDE MORA'], columns=['NIVEL DE ENSINO'], aggfunc='count')"
   ]
  },
  {
   "cell_type": "code",
   "execution_count": 16,
   "metadata": {
    "colab": {
     "base_uri": "https://localhost:8080/"
    },
    "id": "FZ5T05f3WdYA",
    "outputId": "04b58ab3-d8c9-4c28-8ed9-af6eaa8cf4d9"
   },
   "outputs": [
    {
     "data": {
      "text/plain": [
       "19419.75318876344"
      ]
     },
     "execution_count": 16,
     "metadata": {},
     "output_type": "execute_result"
    }
   ],
   "source": [
    "# Desvio padrão\n",
    "\n",
    "data['SALARIO'].std()"
   ]
  },
  {
   "cell_type": "code",
   "execution_count": 17,
   "metadata": {
    "colab": {
     "base_uri": "https://localhost:8080/"
    },
    "id": "A746G7mKiLWW",
    "outputId": "7f457f2a-37a5-425d-8c10-210219b67630"
   },
   "outputs": [
    {
     "data": {
      "text/plain": [
       "10969.26691932864"
      ]
     },
     "execution_count": 17,
     "metadata": {},
     "output_type": "execute_result"
    }
   ],
   "source": [
    "data['SALARIO'].mean()"
   ]
  },
  {
   "cell_type": "code",
   "execution_count": 18,
   "metadata": {
    "colab": {
     "base_uri": "https://localhost:8080/"
    },
    "id": "qE2SdtDrZR0Z",
    "outputId": "9695a59a-acd8-4e50-fbe3-61ef218867fe"
   },
   "outputs": [
    {
     "data": {
      "text/plain": [
       "485191.0"
      ]
     },
     "execution_count": 18,
     "metadata": {},
     "output_type": "execute_result"
    }
   ],
   "source": [
    "data['SALARIO'].max()"
   ]
  },
  {
   "cell_type": "code",
   "execution_count": 19,
   "metadata": {
    "colab": {
     "base_uri": "https://localhost:8080/"
    },
    "id": "cDYb3U5IiQMi",
    "outputId": "6d39b673-8c56-4f30-f832-2278cb553ac7"
   },
   "outputs": [
    {
     "data": {
      "text/plain": [
       "35.0"
      ]
     },
     "execution_count": 19,
     "metadata": {},
     "output_type": "execute_result"
    }
   ],
   "source": [
    "data['SALARIO'].min()"
   ]
  },
  {
   "cell_type": "code",
   "execution_count": 20,
   "metadata": {
    "colab": {
     "base_uri": "https://localhost:8080/"
    },
    "id": "ROY0R_hSabXc",
    "outputId": "c4100eb2-a046-4c5c-c742-fd407d101244"
   },
   "outputs": [
    {
     "data": {
      "text/plain": [
       "8673.22460496614"
      ]
     },
     "execution_count": 20,
     "metadata": {},
     "output_type": "execute_result"
    }
   ],
   "source": [
    "data[data['GENERO']=='Feminino']['SALARIO'].mean()\n"
   ]
  },
  {
   "cell_type": "code",
   "execution_count": 21,
   "metadata": {
    "colab": {
     "base_uri": "https://localhost:8080/"
    },
    "id": "oe19emAuaaD5",
    "outputId": "aff50d50-22ea-40d3-fb9f-0e74ebfcf096"
   },
   "outputs": [
    {
     "data": {
      "text/plain": [
       "11724.552688172043"
      ]
     },
     "execution_count": 21,
     "metadata": {},
     "output_type": "execute_result"
    }
   ],
   "source": [
    "data[data['GENERO']=='Masculino']['SALARIO'].mean()"
   ]
  },
  {
   "cell_type": "code",
   "execution_count": 22,
   "metadata": {
    "colab": {
     "base_uri": "https://localhost:8080/"
    },
    "id": "80pcwA1XbFAe",
    "outputId": "43c6bd0e-69cf-4ab5-b27d-71d93cbb2b69"
   },
   "outputs": [
    {
     "name": "stdout",
     "output_type": "stream",
     "text": [
      "<class 'pandas.core.frame.DataFrame'>\n",
      "RangeIndex: 4271 entries, 0 to 4270\n",
      "Data columns (total 31 columns):\n",
      " #   Column                                                                                                                     Non-Null Count  Dtype  \n",
      "---  ------                                                                                                                     --------------  -----  \n",
      " 0   ID                                                                                                                         4271 non-null   object \n",
      " 1   IDADE                                                                                                                      4197 non-null   float64\n",
      " 2   FAIXA IDADE                                                                                                                4271 non-null   object \n",
      " 3   GENERO                                                                                                                     4262 non-null   object \n",
      " 4   COR/RACA/ETNIA                                                                                                             4271 non-null   object \n",
      " 5   PCD                                                                                                                        4271 non-null   object \n",
      " 6   EXPERIENCIA_PROFISSIONAL_PREJUDICADA                                                                                       2190 non-null   object \n",
      " 7   PREJUDICA?                                                                                                                 4271 non-null   object \n",
      " 8   ASPECTOS_PREJUDICADOS                                                                                                      837 non-null    object \n",
      " 9   VIVE_NO_BRASIL                                                                                                             4271 non-null   bool   \n",
      " 10  ESTADO ONDE MORA                                                                                                           4156 non-null   object \n",
      " 11  UF ONDE MORA                                                                                                               4156 non-null   object \n",
      " 12  REGIAO ONDE MORA                                                                                                           4171 non-null   object \n",
      " 13  MUDOU DE ESTADO?                                                                                                           4171 non-null   object \n",
      " 14  REGIAO DE ORIGEM                                                                                                           772 non-null    object \n",
      " 15  NIVEL DE ENSINO                                                                                                            4271 non-null   object \n",
      " 16  ÁREA DE FORMAÇÃO                                                                                                           4149 non-null   object \n",
      " 17  COMPUTAÇÃO?                                                                                                                4271 non-null   bool   \n",
      " 18  QUAL SUA SITUAÇÃO ATUAL DE TRABALHO?                                                                                       4271 non-null   object \n",
      " 19  SETOR                                                                                                                      3694 non-null   object \n",
      " 20  NUMERO DE FUNCIONARIOS                                                                                                     3694 non-null   object \n",
      " 21  GESTOR?                                                                                                                    3694 non-null   object \n",
      " 22  NIVEL                                                                                                                      2981 non-null   object \n",
      " 23  NOVO NÍVEL                                                                                                                 3694 non-null   object \n",
      " 24  CARGO COMO GESTOR                                                                                                          713 non-null    object \n",
      " 25  CARGO ATUAL                                                                                                                2981 non-null   object \n",
      " 26  Unnamed: 26                                                                                                                0 non-null      float64\n",
      " 27  FAIXA SALARIAL                                                                                                             3694 non-null   object \n",
      " 28  SALARIO                                                                                                                    3694 non-null   float64\n",
      " 29  QUANTO TEMPO DE EXPERIÊNCIA NA ÁREA DE DADOS VOCÊ TEM?                                                                     3694 non-null   object \n",
      " 30  QUANTO TEMPO DE EXPERIÊNCIA NA ÁREA DE TI/ENGENHARIA DE SOFTWARE VOCÊ TEVE ANTES DE COMEÇAR A TRABALHAR NA ÁREA DE DADOS?  3694 non-null   object \n",
      "dtypes: bool(2), float64(3), object(26)\n",
      "memory usage: 976.1+ KB\n"
     ]
    }
   ],
   "source": [
    "data.info()"
   ]
  },
  {
   "cell_type": "code",
   "execution_count": 23,
   "metadata": {
    "id": "h6STd9xVjXzi"
   },
   "outputs": [],
   "source": [
    "#"
   ]
  },
  {
   "cell_type": "markdown",
   "metadata": {
    "id": "A0cLjB-gFe5s"
   },
   "source": [
    "Testes da aula"
   ]
  },
  {
   "cell_type": "code",
   "execution_count": 24,
   "metadata": {
    "colab": {
     "base_uri": "https://localhost:8080/",
     "height": 241
    },
    "id": "QLzQyHXsFgmj",
    "outputId": "05d55465-7d54-4ef3-ada7-6d286ad7e27f"
   },
   "outputs": [
    {
     "data": {
      "text/plain": [
       "GENERO\n",
       "Feminino                1055\n",
       "Masculino               3194\n",
       "Prefiro não informar      12\n",
       "NaN                        9\n",
       "Name: ID, dtype: int64"
      ]
     },
     "execution_count": 24,
     "metadata": {},
     "output_type": "execute_result"
    }
   ],
   "source": [
    "data.groupby('GENERO', dropna=False)['ID'].nunique()"
   ]
  },
  {
   "cell_type": "markdown",
   "metadata": {
    "id": "26qRkTjxF1MF",
    "tags": []
   },
   "source": [
    "# Tratamento de dados"
   ]
  },
  {
   "cell_type": "markdown",
   "metadata": {
    "id": "tlvq4SOEcuwn",
    "tags": []
   },
   "source": [
    "## Tratamento de dados Idade"
   ]
  },
  {
   "cell_type": "code",
   "execution_count": 25,
   "metadata": {
    "colab": {
     "base_uri": "https://localhost:8080/",
     "height": 241
    },
    "id": "Dp_RthmNGCOg",
    "outputId": "0fde267d-62b9-402b-8aa1-79c2faef780d"
   },
   "outputs": [
    {
     "data": {
      "text/plain": [
       "GENERO\n",
       "Feminino                1055\n",
       "Masculino               3194\n",
       "Prefiro não informar      12\n",
       "NaN                        9\n",
       "Name: ID, dtype: int64"
      ]
     },
     "execution_count": 25,
     "metadata": {},
     "output_type": "execute_result"
    }
   ],
   "source": [
    "# Checando se funcionou\n",
    "\n",
    "data.groupby('GENERO', dropna=False)['ID'].nunique()"
   ]
  },
  {
   "cell_type": "code",
   "execution_count": 26,
   "metadata": {
    "colab": {
     "base_uri": "https://localhost:8080/",
     "height": 1000
    },
    "id": "vZDgqM4DGPN9",
    "outputId": "b95f08af-9d52-4d47-bafc-1d63691b661f"
   },
   "outputs": [
    {
     "data": {
      "text/plain": [
       "IDADE\n",
       "18.0     13\n",
       "19.0     22\n",
       "20.0     33\n",
       "21.0     78\n",
       "22.0    108\n",
       "23.0    145\n",
       "24.0    196\n",
       "25.0    274\n",
       "26.0    281\n",
       "27.0    299\n",
       "28.0    291\n",
       "29.0    253\n",
       "30.0    248\n",
       "31.0    253\n",
       "32.0    225\n",
       "33.0    180\n",
       "34.0    189\n",
       "35.0    145\n",
       "36.0    154\n",
       "37.0    118\n",
       "38.0     78\n",
       "39.0    103\n",
       "40.0     67\n",
       "41.0     63\n",
       "42.0     54\n",
       "43.0     51\n",
       "44.0     42\n",
       "45.0     41\n",
       "46.0     31\n",
       "47.0     32\n",
       "48.0     21\n",
       "49.0     19\n",
       "50.0     34\n",
       "51.0     10\n",
       "52.0     20\n",
       "53.0     12\n",
       "54.0     13\n",
       "NaN      74\n",
       "Name: ID, dtype: int64"
      ]
     },
     "execution_count": 26,
     "metadata": {},
     "output_type": "execute_result"
    }
   ],
   "source": [
    "data.groupby('IDADE', dropna = False)['ID'].nunique()"
   ]
  },
  {
   "cell_type": "markdown",
   "metadata": {
    "id": "xJ0RSx8-Gw15"
   },
   "source": [
    "Trabalhando coluna de idade"
   ]
  },
  {
   "cell_type": "code",
   "execution_count": 27,
   "metadata": {
    "colab": {
     "base_uri": "https://localhost:8080/",
     "height": 178
    },
    "id": "NTaupQxbG3ts",
    "outputId": "9a1c2f1a-d343-4c62-a3be-38d3057ec02c"
   },
   "outputs": [
    {
     "data": {
      "text/plain": [
       "IDADE\n",
       "False    4197\n",
       "True       74\n",
       "Name: count, dtype: int64"
      ]
     },
     "execution_count": 27,
     "metadata": {},
     "output_type": "execute_result"
    }
   ],
   "source": [
    "data['IDADE'].isnull().value_counts()"
   ]
  },
  {
   "cell_type": "code",
   "execution_count": 28,
   "metadata": {
    "colab": {
     "base_uri": "https://localhost:8080/",
     "height": 178
    },
    "id": "ji2Z7kp_G7Of",
    "outputId": "74257361-9022-41aa-eda8-e5572ddd93a7"
   },
   "outputs": [
    {
     "data": {
      "text/plain": [
       "FAIXA IDADE\n",
       "55+      68\n",
       "17-21     6\n",
       "Name: count, dtype: int64"
      ]
     },
     "execution_count": 28,
     "metadata": {},
     "output_type": "execute_result"
    }
   ],
   "source": [
    "data[data['IDADE'].isnull()]['FAIXA IDADE'].value_counts()"
   ]
  },
  {
   "cell_type": "markdown",
   "metadata": {
    "id": "Q2laIVgHH2pA"
   },
   "source": [
    " - Idades entre 17 - 21 serão substituidas pela média = 19\n",
    " - Idades + 55 será substituida pela média das idades + 55 dos usuários"
   ]
  },
  {
   "cell_type": "code",
   "execution_count": 29,
   "metadata": {
    "id": "b1FzG5IBIJjB",
    "tags": []
   },
   "outputs": [],
   "source": [
    "mean_17_21 = data[data['FAIXA IDADE']=='17-21']['IDADE'].mean()"
   ]
  },
  {
   "cell_type": "code",
   "execution_count": 30,
   "metadata": {
    "id": "oLdqrlAJIZ6-",
    "tags": []
   },
   "outputs": [],
   "source": [
    "# Filtrar idades vazias e filtrar faixa hetária 17-21\n",
    "# .loc é o metodo para localizar em linha e coluna\n",
    "# atribuir a média de 17-21\n",
    "\n",
    "data.loc[(data['FAIXA IDADE']=='17-21')&(data['IDADE'].isnull()),'IDADE'] = mean_17_21"
   ]
  },
  {
   "cell_type": "code",
   "execution_count": 31,
   "metadata": {
    "colab": {
     "base_uri": "https://localhost:8080/"
    },
    "id": "x4bUOH5UY48q",
    "outputId": "8a108bbc-0d1b-49d7-c19a-19eedf1c0375",
    "tags": []
   },
   "outputs": [
    {
     "name": "stdout",
     "output_type": "stream",
     "text": [
      "nan\n"
     ]
    }
   ],
   "source": [
    "# Filtrar idades vazias e filtrar faixa hetária +55\n",
    "\n",
    "mean_plus55 = data[data['FAIXA IDADE']=='55+']['IDADE'].mean()\n",
    "print(mean_plus55)\n",
    "\n",
    "# Os usuário +55 não indicaram idade"
   ]
  },
  {
   "cell_type": "code",
   "execution_count": 32,
   "metadata": {
    "tags": []
   },
   "outputs": [
    {
     "data": {
      "text/plain": [
       "FAIXA IDADE\n",
       "55+    68\n",
       "Name: count, dtype: int64"
      ]
     },
     "execution_count": 32,
     "metadata": {},
     "output_type": "execute_result"
    }
   ],
   "source": [
    "data[data['IDADE'].isnull()]['FAIXA IDADE'].value_counts()"
   ]
  },
  {
   "cell_type": "code",
   "execution_count": 33,
   "metadata": {
    "colab": {
     "base_uri": "https://localhost:8080/",
     "height": 458
    },
    "id": "WrARbG5kZR2b",
    "outputId": "29e7c2c2-614d-4c83-fc9d-e0895193118d"
   },
   "outputs": [
    {
     "data": {
      "text/plain": [
       "9        Pleno\n",
       "66      Júnior\n",
       "96       Pleno\n",
       "121      Pleno\n",
       "156     Júnior\n",
       "         ...  \n",
       "4001       NaN\n",
       "4043       NaN\n",
       "4048       NaN\n",
       "4061       NaN\n",
       "4215    Sênior\n",
       "Name: NOVO NÍVEL, Length: 68, dtype: object"
      ]
     },
     "execution_count": 33,
     "metadata": {},
     "output_type": "execute_result"
    }
   ],
   "source": [
    "# Verificando a senioridade dos usuarios 55+\n",
    "\n",
    "data[data['FAIXA IDADE']=='55+']['NOVO NÍVEL']\n",
    "\n"
   ]
  },
  {
   "cell_type": "code",
   "execution_count": 34,
   "metadata": {
    "colab": {
     "base_uri": "https://localhost:8080/"
    },
    "id": "DNp9--4mad_m",
    "outputId": "8c339304-e4af-4130-942f-7b7493e58a90"
   },
   "outputs": [
    {
     "data": {
      "text/plain": [
       "31.153517220250375"
      ]
     },
     "execution_count": 34,
     "metadata": {},
     "output_type": "execute_result"
    }
   ],
   "source": [
    "# média geral de idade dos usuarios\n",
    "\n",
    "geral_mean = data['IDADE'].mean()\n",
    "geral_mean"
   ]
  },
  {
   "cell_type": "code",
   "execution_count": 35,
   "metadata": {
    "id": "eLgOoz0Za1me"
   },
   "outputs": [],
   "source": [
    "# .loc é o metodo para localizar em linha e coluna\n",
    "# atribuir a média de 55+\n",
    "\n",
    "data.loc[(data['FAIXA IDADE']=='55+')&(data['IDADE'].isnull()), 'IDADE'] = geral_mean"
   ]
  },
  {
   "cell_type": "code",
   "execution_count": 36,
   "metadata": {
    "colab": {
     "base_uri": "https://localhost:8080/",
     "height": 84
    },
    "id": "JEpAf-UVbLsy",
    "outputId": "3a19ed9b-39f2-4dad-d5b9-7597258c6e7d"
   },
   "outputs": [
    {
     "data": {
      "text/plain": [
       "Series([], Name: IDADE, dtype: float64)"
      ]
     },
     "execution_count": 36,
     "metadata": {},
     "output_type": "execute_result"
    }
   ],
   "source": [
    "# verificando se a substituição funcionou\n",
    "\n",
    "data.loc[(data['FAIXA IDADE']=='55+')&(data['IDADE'].isnull()),'IDADE']"
   ]
  },
  {
   "cell_type": "code",
   "execution_count": 37,
   "metadata": {
    "colab": {
     "base_uri": "https://localhost:8080/",
     "height": 147
    },
    "id": "EbbyelMobhSu",
    "outputId": "10374127-ca82-4540-a790-a0eb356c2ca8"
   },
   "outputs": [
    {
     "data": {
      "text/plain": [
       "IDADE\n",
       "False    4271\n",
       "Name: count, dtype: int64"
      ]
     },
     "execution_count": 37,
     "metadata": {},
     "output_type": "execute_result"
    }
   ],
   "source": [
    "# Verificando se tratamento de dados faltantes em idades foram solucionados\n",
    "data['IDADE'].isnull().value_counts()\n",
    "\n",
    "# Show! It's working!"
   ]
  },
  {
   "cell_type": "markdown",
   "metadata": {
    "id": "0TEXjx9Oc11v",
    "tags": []
   },
   "source": [
    "## Tratamento de dados Salário"
   ]
  },
  {
   "cell_type": "code",
   "execution_count": 38,
   "metadata": {
    "colab": {
     "base_uri": "https://localhost:8080/",
     "height": 178
    },
    "id": "6SuZ9Vczc5_Q",
    "outputId": "3438bc4e-6de6-4e80-d584-70837881edea"
   },
   "outputs": [
    {
     "data": {
      "text/plain": [
       "SALARIO\n",
       "False    3694\n",
       "True      577\n",
       "Name: count, dtype: int64"
      ]
     },
     "execution_count": 38,
     "metadata": {},
     "output_type": "execute_result"
    }
   ],
   "source": [
    "# Verificando células nulas na coluna de sálario\n",
    "\n",
    "data['SALARIO'].isnull().value_counts()"
   ]
  },
  {
   "cell_type": "code",
   "execution_count": 39,
   "metadata": {
    "colab": {
     "base_uri": "https://localhost:8080/",
     "height": 115
    },
    "id": "sHyUmBFMdS6_",
    "outputId": "87e46666-d1cf-4752-c83f-9ec303851d28"
   },
   "outputs": [
    {
     "data": {
      "text/plain": [
       "Series([], Name: count, dtype: int64)"
      ]
     },
     "execution_count": 39,
     "metadata": {},
     "output_type": "execute_result"
    }
   ],
   "source": [
    "# Tentando localizar por faixa salarial\n",
    "\n",
    "data[data['SALARIO'].isnull()]['FAIXA SALARIAL'].value_counts()"
   ]
  },
  {
   "cell_type": "code",
   "execution_count": 40,
   "metadata": {
    "id": "L8_Vrknydstz"
   },
   "outputs": [],
   "source": [
    "# Como salario possui valores muito diferentes, não será usado média, mas sim mediana.\n",
    "median_salary = data['SALARIO'].median()\n",
    "data.loc[data['SALARIO'].isnull(),'SALARIO'] = median_salary\n"
   ]
  },
  {
   "cell_type": "code",
   "execution_count": 41,
   "metadata": {
    "colab": {
     "base_uri": "https://localhost:8080/",
     "height": 147
    },
    "id": "ExIX1FZdethp",
    "outputId": "0273b912-766b-412c-adda-f1280ffc8524"
   },
   "outputs": [
    {
     "data": {
      "text/plain": [
       "SALARIO\n",
       "False    4271\n",
       "Name: count, dtype: int64"
      ]
     },
     "execution_count": 41,
     "metadata": {},
     "output_type": "execute_result"
    }
   ],
   "source": [
    "# Checando se a substituição foi feita corretamente\n",
    "data['SALARIO'].isnull().value_counts()"
   ]
  },
  {
   "cell_type": "markdown",
   "metadata": {
    "id": "-JVL3sb4gDmP",
    "tags": []
   },
   "source": [
    "## Tratamento de Outliers"
   ]
  },
  {
   "cell_type": "code",
   "execution_count": 42,
   "metadata": {
    "id": "iK9t2yWJe75N"
   },
   "outputs": [],
   "source": [
    "# Obtendo outliers de 'IDADE'\n",
    "\n",
    "# desvio padrão da idade\n",
    "standart_dev_age = data['IDADE'].std()"
   ]
  },
  {
   "cell_type": "code",
   "execution_count": 43,
   "metadata": {
    "colab": {
     "base_uri": "https://localhost:8080/"
    },
    "id": "fH9v7mWrgpEB",
    "outputId": "fb86a19e-ba7c-4ec9-c1d8-a1c850163cde"
   },
   "outputs": [
    {
     "data": {
      "text/plain": [
       "51.71864015458655"
      ]
     },
     "execution_count": 43,
     "metadata": {},
     "output_type": "execute_result"
    }
   ],
   "source": [
    "upper_limit_age = geral_mean + 3*standart_dev_age\n",
    "upper_limit_age"
   ]
  },
  {
   "cell_type": "code",
   "execution_count": 44,
   "metadata": {
    "colab": {
     "base_uri": "https://localhost:8080/"
    },
    "id": "Z-qpp3Ing9kc",
    "outputId": "ad950191-8ac7-4ef6-bc28-141466916e94"
   },
   "outputs": [
    {
     "data": {
      "text/plain": [
       "10.588394285914195"
      ]
     },
     "execution_count": 44,
     "metadata": {},
     "output_type": "execute_result"
    }
   ],
   "source": [
    "lower_limit_age = geral_mean - 3*standart_dev_age\n",
    "lower_limit_age"
   ]
  },
  {
   "cell_type": "code",
   "execution_count": 45,
   "metadata": {
    "id": "98F0Jlzjhxck"
   },
   "outputs": [],
   "source": [
    "import matplotlib.pyplot as plt\n"
   ]
  },
  {
   "cell_type": "code",
   "execution_count": 46,
   "metadata": {
    "colab": {
     "base_uri": "https://localhost:8080/",
     "height": 578
    },
    "id": "aw9BiDFwlI-C",
    "outputId": "4baf6689-4af6-4816-c994-1f117df19f12"
   },
   "outputs": [
    {
     "data": {
      "text/plain": [
       "{'whiskers': [<matplotlib.lines.Line2D at 0x74588cc2d630>,\n",
       "  <matplotlib.lines.Line2D at 0x74588cc2d900>],\n",
       " 'caps': [<matplotlib.lines.Line2D at 0x74588cc2dc60>,\n",
       "  <matplotlib.lines.Line2D at 0x74588cc2dea0>],\n",
       " 'boxes': [<matplotlib.lines.Line2D at 0x74588cc2d360>],\n",
       " 'medians': [<matplotlib.lines.Line2D at 0x74588cc2e170>],\n",
       " 'fliers': [<matplotlib.lines.Line2D at 0x74588cc2e440>],\n",
       " 'means': []}"
      ]
     },
     "execution_count": 46,
     "metadata": {},
     "output_type": "execute_result"
    },
    {
     "data": {
      "image/png": "[encoded data removed]",
      "text/plain": [
       "<Figure size 432x288 with 1 Axes>"
      ]
     },
     "metadata": {
      "needs_background": "light"
     },
     "output_type": "display_data"
    }
   ],
   "source": [
    "plt.boxplot(data['IDADE'])"
   ]
  },
  {
   "cell_type": "code",
   "execution_count": 47,
   "metadata": {
    "id": "5n6tIvNWjEc-"
   },
   "outputs": [],
   "source": [
    "# Outliers Salary\n",
    "# standant dev. salary\n",
    "\n",
    "standart_dev_salary = data['SALARIO'].std()"
   ]
  },
  {
   "cell_type": "code",
   "execution_count": 48,
   "metadata": {
    "colab": {
     "base_uri": "https://localhost:8080/"
    },
    "id": "CnvlA_gajpwD",
    "outputId": "e5d91e3e-cdbc-4ccf-9153-3f29bbdb497e"
   },
   "outputs": [
    {
     "data": {
      "text/plain": [
       "4751.5"
      ]
     },
     "execution_count": 48,
     "metadata": {},
     "output_type": "execute_result"
    }
   ],
   "source": [
    "# First quartiler\n",
    "q1 = data['SALARIO'].quantile(0.25)\n",
    "q1"
   ]
  },
  {
   "cell_type": "code",
   "execution_count": 49,
   "metadata": {
    "colab": {
     "base_uri": "https://localhost:8080/"
    },
    "id": "_n2VGIhvj0j7",
    "outputId": "7806b21a-f08e-4e9a-b97a-d03c3df190bf"
   },
   "outputs": [
    {
     "data": {
      "text/plain": [
       "11794.5"
      ]
     },
     "execution_count": 49,
     "metadata": {},
     "output_type": "execute_result"
    }
   ],
   "source": [
    "# Third quartiler\n",
    "q3 = data['SALARIO'].quantile(0.75)\n",
    "q3"
   ]
  },
  {
   "cell_type": "code",
   "execution_count": 50,
   "metadata": {
    "colab": {
     "base_uri": "https://localhost:8080/"
    },
    "id": "4I3RdNvHkEXa",
    "outputId": "255ae247-608f-4537-9dd8-7e211dc62561"
   },
   "outputs": [
    {
     "data": {
      "text/plain": [
       "7043.0"
      ]
     },
     "execution_count": 50,
     "metadata": {},
     "output_type": "execute_result"
    }
   ],
   "source": [
    "# Inter quartiler\n",
    "inter_q = q3 - q1\n",
    "inter_q"
   ]
  },
  {
   "cell_type": "code",
   "execution_count": 51,
   "metadata": {
    "colab": {
     "base_uri": "https://localhost:8080/"
    },
    "id": "MD55E4FAizY3",
    "outputId": "3e4971d4-ec98-4b1e-b709-11f3463e283f"
   },
   "outputs": [
    {
     "data": {
      "text/plain": [
       "65257.899886684376"
      ]
     },
     "execution_count": 51,
     "metadata": {},
     "output_type": "execute_result"
    }
   ],
   "source": [
    "upper_limit_salary = mean_salary_global + 3*standart_dev_salary\n",
    "upper_limit_salary"
   ]
  },
  {
   "cell_type": "code",
   "execution_count": 52,
   "metadata": {
    "colab": {
     "base_uri": "https://localhost:8080/"
    },
    "id": "SftLu2hTizEu",
    "outputId": "46a30e63-eaee-4389-fd9a-1f70657f58b6"
   },
   "outputs": [
    {
     "data": {
      "text/plain": [
       "-43319.36604802709"
      ]
     },
     "execution_count": 52,
     "metadata": {},
     "output_type": "execute_result"
    }
   ],
   "source": [
    "lower_limit_salary = mean_salary_global - 3*standart_dev_salary\n",
    "lower_limit_salary"
   ]
  },
  {
   "cell_type": "code",
   "execution_count": 53,
   "metadata": {
    "colab": {
     "base_uri": "https://localhost:8080/",
     "height": 578
    },
    "id": "aKCaMVugiO_K",
    "outputId": "c04b49ce-3379-4e58-a223-a871ee7aa2bd",
    "tags": []
   },
   "outputs": [
    {
     "data": {
      "text/plain": [
       "{'whiskers': [<matplotlib.lines.Line2D at 0x74588d0c5ba0>,\n",
       "  <matplotlib.lines.Line2D at 0x74588d0c5e70>],\n",
       " 'caps': [<matplotlib.lines.Line2D at 0x74588d0c6140>,\n",
       "  <matplotlib.lines.Line2D at 0x74588d0c6410>],\n",
       " 'boxes': [<matplotlib.lines.Line2D at 0x74588d0c58d0>],\n",
       " 'medians': [<matplotlib.lines.Line2D at 0x74588d0c66e0>],\n",
       " 'fliers': [<matplotlib.lines.Line2D at 0x74588d0c69b0>],\n",
       " 'means': []}"
      ]
     },
     "execution_count": 53,
     "metadata": {},
     "output_type": "execute_result"
    },
    {
     "data": {
      "image/png": "[encoded data removed]",
      "text/plain": [
       "<Figure size 432x288 with 1 Axes>"
      ]
     },
     "metadata": {
      "needs_background": "light"
     },
     "output_type": "display_data"
    }
   ],
   "source": [
    "plt.boxplot(data['SALARIO'])"
   ]
  },
  {
   "cell_type": "code",
   "execution_count": 54,
   "metadata": {
    "colab": {
     "base_uri": "https://localhost:8080/",
     "height": 774
    },
    "id": "ery47z3Eie9q",
    "outputId": "8f9ec867-58d1-493b-af37-fe3d91223f64"
   },
   "outputs": [
    {
     "data": {
      "text/plain": [
       "405               Acima de R$ 40.001/mês\n",
       "443               Acima de R$ 40.001/mês\n",
       "774               Acima de R$ 40.001/mês\n",
       "1265              Acima de R$ 40.001/mês\n",
       "2053    de R$ 30.001/mês a R$ 40.000/mês\n",
       "2211              Acima de R$ 40.001/mês\n",
       "2257    de R$ 30.001/mês a R$ 40.000/mês\n",
       "2662              Acima de R$ 40.001/mês\n",
       "2945              Acima de R$ 40.001/mês\n",
       "2979              Acima de R$ 40.001/mês\n",
       "3016              Acima de R$ 40.001/mês\n",
       "3105              Acima de R$ 40.001/mês\n",
       "3141              Acima de R$ 40.001/mês\n",
       "3146              Acima de R$ 40.001/mês\n",
       "3201    de R$ 30.001/mês a R$ 40.000/mês\n",
       "3452              Acima de R$ 40.001/mês\n",
       "3503              Acima de R$ 40.001/mês\n",
       "3531              Acima de R$ 40.001/mês\n",
       "3771              Acima de R$ 40.001/mês\n",
       "3773              Acima de R$ 40.001/mês\n",
       "3919              Acima de R$ 40.001/mês\n",
       "3962              Acima de R$ 40.001/mês\n",
       "Name: FAIXA SALARIAL, dtype: object"
      ]
     },
     "execution_count": 54,
     "metadata": {},
     "output_type": "execute_result"
    }
   ],
   "source": [
    "# Tratando os outliers\n",
    "\n",
    "data[data['SALARIO']>upper_limit_salary]['FAIXA SALARIAL']"
   ]
  },
  {
   "cell_type": "code",
   "execution_count": 55,
   "metadata": {
    "id": "DtfwFpWRms5s"
   },
   "outputs": [],
   "source": [
    "# Encontrando a média salarial para aqueles que marcaram 'FAIXA SALARIAL' entre 30k e 40k\n",
    "mean_30_40 = data[(data['FAIXA SALARIAL']=='de R$ 30.001/mês a R$ 40.000/mês')&(data['SALARIO']<upper_limit_salary)]['SALARIO'].mean()"
   ]
  },
  {
   "cell_type": "code",
   "execution_count": 56,
   "metadata": {
    "id": "MmRuecXznHy3"
   },
   "outputs": [],
   "source": [
    "# Substituindo os outliers entre 30k e 40k pela média salarial ente 30k e 40k\n",
    "data.loc[(data['FAIXA SALARIAL']=='de R$ 30.001/mês a R$ 40.000/mês') & (data['SALARIO']>upper_limit_salary),'SALARIO'] = mean_30_40"
   ]
  },
  {
   "cell_type": "code",
   "execution_count": 57,
   "metadata": {
    "colab": {
     "base_uri": "https://localhost:8080/"
    },
    "id": "Y265SmCpoIgn",
    "outputId": "fcaa96d8-882f-4244-fea5-c96a0768a1a3"
   },
   "outputs": [
    {
     "data": {
      "text/plain": [
       "53127.846153846156"
      ]
     },
     "execution_count": 57,
     "metadata": {},
     "output_type": "execute_result"
    }
   ],
   "source": [
    "# Encontrando outliers com 'FAIXA SALARIAL' acima de 40k\n",
    "mean_plus40 = data[(data['FAIXA SALARIAL']=='Acima de R$ 40.001/mês') & (data['SALARIO']<upper_limit_salary)]['SALARIO'].mean()\n",
    "mean_plus40"
   ]
  },
  {
   "cell_type": "code",
   "execution_count": 58,
   "metadata": {
    "id": "RzRkVvc7oxJ9"
   },
   "outputs": [],
   "source": [
    "# Substituindo os outliers 40k+ pela média dos salários acima de 40k e abaixo do limite superior\n",
    "data.loc[(data['FAIXA SALARIAL']=='Acima de R$ 40.001/mês') & (data['SALARIO']>upper_limit_salary),'SALARIO'] = mean_plus40"
   ]
  },
  {
   "cell_type": "code",
   "execution_count": 59,
   "metadata": {
    "colab": {
     "base_uri": "https://localhost:8080/",
     "height": 147
    },
    "id": "TY1W5KWNpecD",
    "outputId": "c7bfa262-2650-4594-b6d6-82677ad1c291"
   },
   "outputs": [
    {
     "data": {
      "text/plain": [
       "SALARIO\n",
       "False    4271\n",
       "Name: count, dtype: int64"
      ]
     },
     "execution_count": 59,
     "metadata": {},
     "output_type": "execute_result"
    }
   ],
   "source": [
    "# Varificando se os dados foram substituidos corretamente\n",
    "data['SALARIO'].isnull().value_counts()"
   ]
  },
  {
   "cell_type": "code",
   "execution_count": 60,
   "metadata": {
    "colab": {
     "base_uri": "https://localhost:8080/",
     "height": 578
    },
    "id": "PIQ9x2mPpiJH",
    "outputId": "1f0a6659-ca62-45ca-bbf9-ed5c867da037"
   },
   "outputs": [
    {
     "data": {
      "text/plain": [
       "{'whiskers': [<matplotlib.lines.Line2D at 0x74588cd30b20>,\n",
       "  <matplotlib.lines.Line2D at 0x74588cd30df0>],\n",
       " 'caps': [<matplotlib.lines.Line2D at 0x74588cd310c0>,\n",
       "  <matplotlib.lines.Line2D at 0x74588cd31390>],\n",
       " 'boxes': [<matplotlib.lines.Line2D at 0x74588cd30850>],\n",
       " 'medians': [<matplotlib.lines.Line2D at 0x74588cd31660>],\n",
       " 'fliers': [<matplotlib.lines.Line2D at 0x74588cd31930>],\n",
       " 'means': []}"
      ]
     },
     "execution_count": 60,
     "metadata": {},
     "output_type": "execute_result"
    },
    {
     "data": {
      "image/png": "[encoded data removed]",
      "text/plain": [
       "<Figure size 432x288 with 1 Axes>"
      ]
     },
     "metadata": {
      "needs_background": "light"
     },
     "output_type": "display_data"
    }
   ],
   "source": [
    "plt.boxplot(data['SALARIO'])"
   ]
  },
  {
   "cell_type": "markdown",
   "metadata": {
    "id": "7UEaMu4outlK"
   },
   "source": [
    "## Diatribuição amostral e intervalo de confiança"
   ]
  },
  {
   "cell_type": "code",
   "execution_count": 61,
   "metadata": {
    "colab": {
     "base_uri": "https://localhost:8080/"
    },
    "id": "eReAbXy5qEB-",
    "outputId": "41c199d5-4316-4303-c31d-d863c0c9f6cd"
   },
   "outputs": [
    {
     "data": {
      "text/plain": [
       "9904.390109813306"
      ]
     },
     "execution_count": 61,
     "metadata": {},
     "output_type": "execute_result"
    }
   ],
   "source": [
    "salary = data['SALARIO']\n",
    "\n",
    "# Salary sample mean\n",
    "sample_mean = np.mean(salary)\n",
    "sample_mean"
   ]
  },
  {
   "cell_type": "code",
   "execution_count": 62,
   "metadata": {
    "colab": {
     "base_uri": "https://localhost:8080/"
    },
    "id": "8s7OtRfVvlLT",
    "outputId": "294113ab-4af2-4745-b2a2-635a9d942e3b"
   },
   "outputs": [
    {
     "data": {
      "text/plain": [
       "8306.104872579352"
      ]
     },
     "execution_count": 62,
     "metadata": {},
     "output_type": "execute_result"
    }
   ],
   "source": [
    "# Salary standart dev.\n",
    "standart_sample = np.std(salary)\n",
    "standart_sample"
   ]
  },
  {
   "cell_type": "code",
   "execution_count": 63,
   "metadata": {
    "id": "ywHkl8gKv-n8"
   },
   "outputs": [],
   "source": [
    "# Salary confidance level\n",
    "\n",
    "level_confidance = 0.95"
   ]
  },
  {
   "cell_type": "code",
   "execution_count": 64,
   "metadata": {
    "colab": {
     "base_uri": "https://localhost:8080/"
    },
    "id": "beiB61K1waYF",
    "outputId": "3aacde82-0ed2-43f2-9725-96e6028d566e"
   },
   "outputs": [
    {
     "data": {
      "text/plain": [
       "4271"
      ]
     },
     "execution_count": 64,
     "metadata": {},
     "output_type": "execute_result"
    }
   ],
   "source": [
    "len_sample = len(salary)\n",
    "len_sample"
   ]
  },
  {
   "cell_type": "code",
   "execution_count": 65,
   "metadata": {
    "id": "jxG901MIwg1b"
   },
   "outputs": [],
   "source": [
    "from scipy import stats"
   ]
  },
  {
   "cell_type": "code",
   "execution_count": 66,
   "metadata": {
    "colab": {
     "base_uri": "https://localhost:8080/"
    },
    "id": "hIn1mjx9w3x4",
    "outputId": "cccf4021-7973-46d5-b73b-94a52571dc76"
   },
   "outputs": [
    {
     "data": {
      "text/plain": [
       "127.11109872023638"
      ]
     },
     "execution_count": 66,
     "metadata": {},
     "output_type": "execute_result"
    }
   ],
   "source": [
    "# Standart error\n",
    "standart_error = stats.sem(salary)\n",
    "standart_error"
   ]
  },
  {
   "cell_type": "code",
   "execution_count": 67,
   "metadata": {
    "colab": {
     "base_uri": "https://localhost:8080/"
    },
    "id": "n5XmudA6xKbq",
    "outputId": "a54a166e-4edb-4721-8432-2ed6973688bc"
   },
   "outputs": [
    {
     "data": {
      "text/plain": [
       "(9655.186295869078, 10153.593923757535)"
      ]
     },
     "execution_count": 67,
     "metadata": {},
     "output_type": "execute_result"
    }
   ],
   "source": [
    "# Confidence level\n",
    "stats.t.interval(level_confidance,len_sample - 1,sample_mean,scale=standart_error)"
   ]
  },
  {
   "cell_type": "code",
   "execution_count": null,
   "metadata": {
    "id": "56brsAcLx3AS"
   },
   "outputs": [],
   "source": []
  }
 ],
 "metadata": {
  "colab": {
   "provenance": []
  },
  "kernelspec": {
   "display_name": "Python 3 (ipykernel)",
   "language": "python",
   "name": "python3"
  },
  "language_info": {
   "codemirror_mode": {
    "name": "ipython",
    "version": 3
   },
   "file_extension": ".py",
   "mimetype": "text/x-python",
   "name": "python",
   "nbconvert_exporter": "python",
   "pygments_lexer": "ipython3",
   "version": "3.10.12"
  }
 },
 "nbformat": 4,
 "nbformat_minor": 4
}
