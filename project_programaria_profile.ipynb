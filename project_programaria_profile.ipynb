{
 "cells": [
  {
   "cell_type": "markdown",
   "id": "3aa55c9f-1b6f-4828-96b8-7e5b2fbf4a6e",
   "metadata": {},
   "source": [
    "# Análise do Perfil Diversidade de Funcionários da Área de TI"
   ]
  },
  {
   "cell_type": "markdown",
   "id": "8f9a6132",
   "metadata": {},
   "source": [
    "### Objetivo: \n",
    "\n",
    "- Compreender o perfil dos profissionais da área de TI. <br/>\n",
    "- Avaliair inclusão de grupos minoritários em TI. <br/>\n",
    "- Identificar fatores que implicam no avanço de senioridade e disparidades salariais dos profissionais de TI. \n",
    "\n",
    "### Fonte dos dados: \n",
    "\n",
    "- Usuários da plataforma de cursos digitais PrograMaria da área de TI"
   ]
  },
  {
   "cell_type": "code",
   "execution_count": 1,
   "id": "d9401417-ceb3-42a8-ac34-7491d182483b",
   "metadata": {
    "tags": []
   },
   "outputs": [],
   "source": [
    "import pandas as pd \n",
    "import matplotlib.pyplot as plt\n",
    "import numpy as np"
   ]
  },
  {
   "cell_type": "code",
   "execution_count": 2,
   "id": "6c39825b-1c56-4246-bebb-6d00f885ceca",
   "metadata": {
    "tags": []
   },
   "outputs": [],
   "source": [
    "data = pd.read_excel('/home/apfa/Python Aulas/progMaria/global_atz_progMaria.xlsx')"
   ]
  },
  {
   "cell_type": "markdown",
   "id": "5b19f0b6-9697-4fc4-8e22-64aac00646ab",
   "metadata": {
    "tags": []
   },
   "source": [
    "## 1. Limpeza dos dados"
   ]
  },
  {
   "cell_type": "code",
   "execution_count": 3,
   "id": "a8d64226-c61f-44ec-9eed-9c370b9bf5c8",
   "metadata": {
    "tags": []
   },
   "outputs": [
    {
     "data": {
      "text/html": [
       "<div>\n",
       "<style scoped>\n",
       "    .dataframe tbody tr th:only-of-type {\n",
       "        vertical-align: middle;\n",
       "    }\n",
       "\n",
       "    .dataframe tbody tr th {\n",
       "        vertical-align: top;\n",
       "    }\n",
       "\n",
       "    .dataframe thead th {\n",
       "        text-align: right;\n",
       "    }\n",
       "</style>\n",
       "<table border=\"1\" class=\"dataframe\">\n",
       "  <thead>\n",
       "    <tr style=\"text-align: right;\">\n",
       "      <th></th>\n",
       "      <th>Unnamed: 0</th>\n",
       "      <th>IDADE</th>\n",
       "      <th>FAIXA IDADE</th>\n",
       "      <th>GENERO</th>\n",
       "      <th>COR/RACA/ETNIA</th>\n",
       "      <th>PCD</th>\n",
       "      <th>EXPERIENCIA_PROFISSIONAL_PREJUDICADA</th>\n",
       "      <th>PREJUDICA?</th>\n",
       "      <th>ASPECTOS_PREJUDICADOS</th>\n",
       "      <th>VIVE_NO_BRASIL</th>\n",
       "      <th>...</th>\n",
       "      <th>GESTOR?</th>\n",
       "      <th>NIVEL</th>\n",
       "      <th>NOVO NÍVEL</th>\n",
       "      <th>CARGO COMO GESTOR</th>\n",
       "      <th>CARGO ATUAL</th>\n",
       "      <th>Unnamed: 26</th>\n",
       "      <th>FAIXA SALARIAL</th>\n",
       "      <th>SALARIO</th>\n",
       "      <th>QUANTO TEMPO DE EXPERIÊNCIA NA ÁREA DE DADOS VOCÊ TEM?</th>\n",
       "      <th>QUANTO TEMPO DE EXPERIÊNCIA NA ÁREA DE TI/ENGENHARIA DE SOFTWARE VOCÊ TEVE ANTES DE COMEÇAR A TRABALHAR NA ÁREA DE DADOS?</th>\n",
       "    </tr>\n",
       "  </thead>\n",
       "  <tbody>\n",
       "    <tr>\n",
       "      <th>0</th>\n",
       "      <td>zzqzz3l9ily8nuo2m7wyzzqzz3w48o96</td>\n",
       "      <td>39.0</td>\n",
       "      <td>35-39</td>\n",
       "      <td>Masculino</td>\n",
       "      <td>Parda</td>\n",
       "      <td>Não</td>\n",
       "      <td>Não acredito que minha experiência profissiona...</td>\n",
       "      <td>FALSO</td>\n",
       "      <td>NaN</td>\n",
       "      <td>True</td>\n",
       "      <td>...</td>\n",
       "      <td>False</td>\n",
       "      <td>Júnior</td>\n",
       "      <td>Júnior</td>\n",
       "      <td>NaN</td>\n",
       "      <td>DBA/Administrador de Banco de Dados</td>\n",
       "      <td>NaN</td>\n",
       "      <td>de R$ 8.001/mês a R$ 12.000/mês</td>\n",
       "      <td>11194.0</td>\n",
       "      <td>de 1 a 2 anos</td>\n",
       "      <td>de 7 a 10 anos</td>\n",
       "    </tr>\n",
       "    <tr>\n",
       "      <th>1</th>\n",
       "      <td>zzls2oftfn9law393oezzls2ofhvfpzd</td>\n",
       "      <td>32.0</td>\n",
       "      <td>30-34</td>\n",
       "      <td>Masculino</td>\n",
       "      <td>Parda</td>\n",
       "      <td>Não</td>\n",
       "      <td>Sim, acredito que a minha a experiência profis...</td>\n",
       "      <td>TRUE</td>\n",
       "      <td>Aprovação em processos seletivos/entrevistas</td>\n",
       "      <td>True</td>\n",
       "      <td>...</td>\n",
       "      <td>True</td>\n",
       "      <td>NaN</td>\n",
       "      <td>Gestora</td>\n",
       "      <td>Supervisor/Coordenador</td>\n",
       "      <td>NaN</td>\n",
       "      <td>NaN</td>\n",
       "      <td>de R$ 4.001/mês a R$ 6.000/mês</td>\n",
       "      <td>4695.0</td>\n",
       "      <td>de 3 a 4 anos</td>\n",
       "      <td>Menos de 1 ano</td>\n",
       "    </tr>\n",
       "    <tr>\n",
       "      <th>2</th>\n",
       "      <td>zzdwqzfqqp1ypc7ps6m0hzzdwqz292yi</td>\n",
       "      <td>53.0</td>\n",
       "      <td>50-54</td>\n",
       "      <td>Masculino</td>\n",
       "      <td>Branca</td>\n",
       "      <td>Não</td>\n",
       "      <td>NaN</td>\n",
       "      <td>FALSO</td>\n",
       "      <td>NaN</td>\n",
       "      <td>True</td>\n",
       "      <td>...</td>\n",
       "      <td>False</td>\n",
       "      <td>Pleno</td>\n",
       "      <td>Pleno</td>\n",
       "      <td>NaN</td>\n",
       "      <td>Desenvolvedor/ Engenheiro de Software/ Analist...</td>\n",
       "      <td>NaN</td>\n",
       "      <td>de R$ 12.001/mês a R$ 16.000/mês</td>\n",
       "      <td>14202.0</td>\n",
       "      <td>de 3 a 4 anos</td>\n",
       "      <td>Mais de 10 anos</td>\n",
       "    </tr>\n",
       "    <tr>\n",
       "      <th>3</th>\n",
       "      <td>zzbqh3uy7yk7k9qmkzzbqtb4s9faqspl</td>\n",
       "      <td>27.0</td>\n",
       "      <td>25-29</td>\n",
       "      <td>Masculino</td>\n",
       "      <td>Branca</td>\n",
       "      <td>Não</td>\n",
       "      <td>NaN</td>\n",
       "      <td>FALSO</td>\n",
       "      <td>NaN</td>\n",
       "      <td>True</td>\n",
       "      <td>...</td>\n",
       "      <td>False</td>\n",
       "      <td>Sênior</td>\n",
       "      <td>Sênior</td>\n",
       "      <td>NaN</td>\n",
       "      <td>Cientista de Dados/Data Scientist</td>\n",
       "      <td>NaN</td>\n",
       "      <td>de R$ 12.001/mês a R$ 16.000/mês</td>\n",
       "      <td>15463.0</td>\n",
       "      <td>de 4 a 6 anos</td>\n",
       "      <td>Não tive experiência na área de TI/Engenharia ...</td>\n",
       "    </tr>\n",
       "    <tr>\n",
       "      <th>4</th>\n",
       "      <td>zzaf1m95yan929rb94wzzaf1mekhvhpg</td>\n",
       "      <td>46.0</td>\n",
       "      <td>45-49</td>\n",
       "      <td>Feminino</td>\n",
       "      <td>Branca</td>\n",
       "      <td>Não</td>\n",
       "      <td>Não acredito que minha experiência profissiona...</td>\n",
       "      <td>FALSO</td>\n",
       "      <td>NaN</td>\n",
       "      <td>True</td>\n",
       "      <td>...</td>\n",
       "      <td>False</td>\n",
       "      <td>Pleno</td>\n",
       "      <td>Pleno</td>\n",
       "      <td>NaN</td>\n",
       "      <td>Desenvolvedor/ Engenheiro de Software/ Analist...</td>\n",
       "      <td>NaN</td>\n",
       "      <td>de R$ 6.001/mês a R$ 8.000/mês</td>\n",
       "      <td>7733.0</td>\n",
       "      <td>Não tenho experiência na área de dados</td>\n",
       "      <td>Mais de 10 anos</td>\n",
       "    </tr>\n",
       "  </tbody>\n",
       "</table>\n",
       "<p>5 rows × 31 columns</p>\n",
       "</div>"
      ],
      "text/plain": [
       "                         Unnamed: 0  IDADE FAIXA IDADE     GENERO  \\\n",
       "0  zzqzz3l9ily8nuo2m7wyzzqzz3w48o96   39.0       35-39  Masculino   \n",
       "1  zzls2oftfn9law393oezzls2ofhvfpzd   32.0       30-34  Masculino   \n",
       "2  zzdwqzfqqp1ypc7ps6m0hzzdwqz292yi   53.0       50-54  Masculino   \n",
       "3  zzbqh3uy7yk7k9qmkzzbqtb4s9faqspl   27.0       25-29  Masculino   \n",
       "4  zzaf1m95yan929rb94wzzaf1mekhvhpg   46.0       45-49   Feminino   \n",
       "\n",
       "  COR/RACA/ETNIA  PCD               EXPERIENCIA_PROFISSIONAL_PREJUDICADA  \\\n",
       "0          Parda  Não  Não acredito que minha experiência profissiona...   \n",
       "1          Parda  Não  Sim, acredito que a minha a experiência profis...   \n",
       "2         Branca  Não                                                NaN   \n",
       "3         Branca  Não                                                NaN   \n",
       "4         Branca  Não  Não acredito que minha experiência profissiona...   \n",
       "\n",
       "  PREJUDICA?                         ASPECTOS_PREJUDICADOS  VIVE_NO_BRASIL  \\\n",
       "0      FALSO                                           NaN            True   \n",
       "1       TRUE  Aprovação em processos seletivos/entrevistas            True   \n",
       "2      FALSO                                           NaN            True   \n",
       "3      FALSO                                           NaN            True   \n",
       "4      FALSO                                           NaN            True   \n",
       "\n",
       "   ... GESTOR?   NIVEL NOVO NÍVEL       CARGO COMO GESTOR  \\\n",
       "0  ...   False  Júnior     Júnior                     NaN   \n",
       "1  ...    True     NaN    Gestora  Supervisor/Coordenador   \n",
       "2  ...   False   Pleno      Pleno                     NaN   \n",
       "3  ...   False  Sênior     Sênior                     NaN   \n",
       "4  ...   False   Pleno      Pleno                     NaN   \n",
       "\n",
       "                                         CARGO ATUAL Unnamed: 26  \\\n",
       "0                DBA/Administrador de Banco de Dados         NaN   \n",
       "1                                                NaN         NaN   \n",
       "2  Desenvolvedor/ Engenheiro de Software/ Analist...         NaN   \n",
       "3                  Cientista de Dados/Data Scientist         NaN   \n",
       "4  Desenvolvedor/ Engenheiro de Software/ Analist...         NaN   \n",
       "\n",
       "                     FAIXA SALARIAL  SALARIO  \\\n",
       "0   de R$ 8.001/mês a R$ 12.000/mês  11194.0   \n",
       "1    de R$ 4.001/mês a R$ 6.000/mês   4695.0   \n",
       "2  de R$ 12.001/mês a R$ 16.000/mês  14202.0   \n",
       "3  de R$ 12.001/mês a R$ 16.000/mês  15463.0   \n",
       "4    de R$ 6.001/mês a R$ 8.000/mês   7733.0   \n",
       "\n",
       "  QUANTO TEMPO DE EXPERIÊNCIA NA ÁREA DE DADOS VOCÊ TEM?  \\\n",
       "0                                      de 1 a 2 anos       \n",
       "1                                      de 3 a 4 anos       \n",
       "2                                      de 3 a 4 anos       \n",
       "3                                      de 4 a 6 anos       \n",
       "4             Não tenho experiência na área de dados       \n",
       "\n",
       "  QUANTO TEMPO DE EXPERIÊNCIA NA ÁREA DE TI/ENGENHARIA DE SOFTWARE VOCÊ TEVE ANTES DE COMEÇAR A TRABALHAR NA ÁREA DE DADOS?  \n",
       "0                                     de 7 a 10 anos                                                                         \n",
       "1                                     Menos de 1 ano                                                                         \n",
       "2                                    Mais de 10 anos                                                                         \n",
       "3  Não tive experiência na área de TI/Engenharia ...                                                                         \n",
       "4                                    Mais de 10 anos                                                                         \n",
       "\n",
       "[5 rows x 31 columns]"
      ]
     },
     "execution_count": 3,
     "metadata": {},
     "output_type": "execute_result"
    }
   ],
   "source": [
    "data.head(5)"
   ]
  },
  {
   "cell_type": "code",
   "execution_count": 4,
   "id": "5471b64b",
   "metadata": {},
   "outputs": [
    {
     "data": {
      "text/plain": [
       "Index(['Unnamed: 0', 'IDADE', 'FAIXA IDADE', 'GENERO', 'COR/RACA/ETNIA', 'PCD',\n",
       "       'EXPERIENCIA_PROFISSIONAL_PREJUDICADA', 'PREJUDICA?',\n",
       "       'ASPECTOS_PREJUDICADOS', 'VIVE_NO_BRASIL', 'ESTADO ONDE MORA',\n",
       "       'UF ONDE MORA', 'REGIAO ONDE MORA', 'MUDOU DE ESTADO?',\n",
       "       'REGIAO DE ORIGEM', 'NIVEL DE ENSINO', 'ÁREA DE FORMAÇÃO',\n",
       "       'COMPUTAÇÃO?', 'QUAL SUA SITUAÇÃO ATUAL DE TRABALHO?', 'SETOR',\n",
       "       'NUMERO DE FUNCIONARIOS', 'GESTOR?', 'NIVEL', 'NOVO NÍVEL',\n",
       "       'CARGO COMO GESTOR', 'CARGO ATUAL', 'Unnamed: 26', 'FAIXA SALARIAL',\n",
       "       'SALARIO', 'QUANTO TEMPO DE EXPERIÊNCIA NA ÁREA DE DADOS VOCÊ TEM?',\n",
       "       'QUANTO TEMPO DE EXPERIÊNCIA NA ÁREA DE TI/ENGENHARIA DE SOFTWARE VOCÊ TEVE ANTES DE COMEÇAR A TRABALHAR NA ÁREA DE DADOS?'],\n",
       "      dtype='object')"
      ]
     },
     "execution_count": 4,
     "metadata": {},
     "output_type": "execute_result"
    }
   ],
   "source": [
    "data.columns"
   ]
  },
  {
   "cell_type": "code",
   "execution_count": 5,
   "id": "675caa21",
   "metadata": {},
   "outputs": [
    {
     "data": {
      "text/plain": [
       "(4271, 31)"
      ]
     },
     "execution_count": 5,
     "metadata": {},
     "output_type": "execute_result"
    }
   ],
   "source": [
    "data.shape"
   ]
  },
  {
   "cell_type": "code",
   "execution_count": 6,
   "id": "53a2007f-6223-4801-a6db-deae8d904b29",
   "metadata": {
    "tags": []
   },
   "outputs": [],
   "source": [
    "# Renomeando coluna de Unnamed para 'ID'\n",
    "data = data.rename(columns={'Unnamed: 0': 'ID'})"
   ]
  },
  {
   "cell_type": "code",
   "execution_count": 7,
   "id": "f47ccdd0",
   "metadata": {},
   "outputs": [
    {
     "data": {
      "text/plain": [
       "4270"
      ]
     },
     "execution_count": 7,
     "metadata": {},
     "output_type": "execute_result"
    }
   ],
   "source": [
    "# Verifiando se há ID duplicados \n",
    "data['ID'].nunique()"
   ]
  },
  {
   "cell_type": "markdown",
   "id": "91a17cec-30bb-4755-9dec-31115816220d",
   "metadata": {
    "jp-MarkdownHeadingCollapsed": true,
    "tags": []
   },
   "source": [
    "### 1.1. Tratando Outliers"
   ]
  },
  {
   "cell_type": "code",
   "execution_count": 8,
   "id": "05eeedec-7311-4467-88d3-32fff5589baf",
   "metadata": {
    "tags": []
   },
   "outputs": [
    {
     "data": {
      "text/plain": [
       "IDADE\n",
       "18.0     13\n",
       "19.0     22\n",
       "20.0     33\n",
       "21.0     78\n",
       "22.0    108\n",
       "23.0    145\n",
       "24.0    196\n",
       "25.0    274\n",
       "26.0    281\n",
       "27.0    299\n",
       "28.0    291\n",
       "29.0    253\n",
       "30.0    248\n",
       "31.0    253\n",
       "32.0    225\n",
       "33.0    180\n",
       "34.0    189\n",
       "35.0    145\n",
       "36.0    154\n",
       "37.0    118\n",
       "38.0     78\n",
       "39.0    103\n",
       "40.0     67\n",
       "41.0     63\n",
       "42.0     54\n",
       "43.0     51\n",
       "44.0     42\n",
       "45.0     41\n",
       "46.0     31\n",
       "47.0     32\n",
       "48.0     21\n",
       "49.0     19\n",
       "50.0     34\n",
       "51.0     10\n",
       "52.0     20\n",
       "53.0     12\n",
       "54.0     13\n",
       "NaN      74\n",
       "Name: ID, dtype: int64"
      ]
     },
     "execution_count": 8,
     "metadata": {},
     "output_type": "execute_result"
    }
   ],
   "source": [
    "# Verificando outliers para coluna de idades\n",
    "data.groupby('IDADE', dropna=False)['ID'].nunique()"
   ]
  },
  {
   "cell_type": "markdown",
   "id": "95d8640c-523a-4c54-a33f-ba5bda9f7e81",
   "metadata": {},
   "source": [
    "A busca mostrou NaN= 74 \n",
    "\n",
    "Solução: \n",
    "- Definir range de idade dos usuários \n",
    "- Deterinar média de idade e substituir os valores NaN"
   ]
  },
  {
   "cell_type": "code",
   "execution_count": 9,
   "id": "5a0f7c56-2257-49fd-943e-ea9d7e60a29b",
   "metadata": {
    "tags": []
   },
   "outputs": [
    {
     "data": {
      "text/plain": [
       "IDADE\n",
       "False    4197\n",
       "True       74\n",
       "Name: count, dtype: int64"
      ]
     },
     "execution_count": 9,
     "metadata": {},
     "output_type": "execute_result"
    }
   ],
   "source": [
    "data['IDADE'].isnull().value_counts()"
   ]
  },
  {
   "cell_type": "code",
   "execution_count": 10,
   "id": "7df3cdd3-5e10-4337-90a3-133c53118ef0",
   "metadata": {
    "tags": []
   },
   "outputs": [
    {
     "data": {
      "text/plain": [
       "FAIXA IDADE\n",
       "55+      68\n",
       "17-21     6\n",
       "Name: count, dtype: int64"
      ]
     },
     "execution_count": 10,
     "metadata": {},
     "output_type": "execute_result"
    }
   ],
   "source": [
    "# Além de idade os usuário indicaram uma faixa de idade\n",
    "# Os valores NaN serão substiruidos pela média da faixa de idade do usuário \n",
    "\n",
    "data[data['IDADE'].isnull()]['FAIXA IDADE'].value_counts()"
   ]
  },
  {
   "cell_type": "code",
   "execution_count": 11,
   "id": "0cfc6c6c-6d60-4cad-97f4-87e35c396ab0",
   "metadata": {
    "tags": []
   },
   "outputs": [
    {
     "data": {
      "text/plain": [
       "np.float64(20.205479452054796)"
      ]
     },
     "execution_count": 11,
     "metadata": {},
     "output_type": "execute_result"
    }
   ],
   "source": [
    "# Substituindo NaN para faixa de idade 17/21\n",
    "\n",
    "idade_media_17_21 = data[data['FAIXA IDADE']=='17-21']['IDADE'].mean()\n",
    "idade_media_17_21"
   ]
  },
  {
   "cell_type": "code",
   "execution_count": 12,
   "id": "e743498f-47f0-4e53-807d-99d7be428a3d",
   "metadata": {
    "tags": []
   },
   "outputs": [],
   "source": [
    "# Usando .loc para substituir os valores.\n",
    "\n",
    "data.loc[(data['FAIXA IDADE']=='17-21')&(data['IDADE'].isnull()),'IDADE'] = idade_media_17_21"
   ]
  },
  {
   "cell_type": "code",
   "execution_count": 13,
   "id": "9c925368-92ca-4033-a29e-585d89e1816c",
   "metadata": {
    "tags": []
   },
   "outputs": [
    {
     "data": {
      "text/plain": [
       "FAIXA IDADE\n",
       "55+    68\n",
       "Name: count, dtype: int64"
      ]
     },
     "execution_count": 13,
     "metadata": {},
     "output_type": "execute_result"
    }
   ],
   "source": [
    "data[data['IDADE'].isnull()]['FAIXA IDADE'].value_counts()"
   ]
  },
  {
   "cell_type": "code",
   "execution_count": 14,
   "id": "ea986d14-8226-4464-b61a-bdcae86164aa",
   "metadata": {
    "tags": []
   },
   "outputs": [
    {
     "data": {
      "text/plain": [
       "nan"
      ]
     },
     "execution_count": 14,
     "metadata": {},
     "output_type": "execute_result"
    }
   ],
   "source": [
    "# Substituindo valores faltantes para faixa de idade 55+\n",
    "\n",
    "mediaidade_55 = data[data['FAIXA IDADE']=='55+']['IDADE'].mean()\n",
    "mediaidade_55"
   ]
  },
  {
   "cell_type": "markdown",
   "id": "11ffde45-7d7d-42b7-b8b4-fbae65456cf0",
   "metadata": {},
   "source": [
    "Os usuários +55 não informaram sua idade, logo o os valores NaN serão substituidos pela média de idade de todos os usuários."
   ]
  },
  {
   "cell_type": "code",
   "execution_count": 15,
   "id": "174801bf-1739-4f32-bbfd-b3472a6b829f",
   "metadata": {
    "tags": []
   },
   "outputs": [
    {
     "data": {
      "text/plain": [
       "np.float64(31.153517220250375)"
      ]
     },
     "execution_count": 15,
     "metadata": {},
     "output_type": "execute_result"
    }
   ],
   "source": [
    "mediaidade = data['IDADE'].mean()\n",
    "mediaidade"
   ]
  },
  {
   "cell_type": "code",
   "execution_count": 16,
   "id": "78708f6d-c8b5-4cff-9258-148a4cdc7294",
   "metadata": {
    "tags": []
   },
   "outputs": [],
   "source": [
    "data.loc[(data['FAIXA IDADE']=='55+')&(data['IDADE'].isnull()),'IDADE'] = mediaidade"
   ]
  },
  {
   "cell_type": "code",
   "execution_count": 17,
   "id": "8e559b28-48ee-4225-9861-3d0a4d4dc20d",
   "metadata": {
    "tags": []
   },
   "outputs": [
    {
     "data": {
      "text/plain": [
       "Series([], Name: count, dtype: int64)"
      ]
     },
     "execution_count": 17,
     "metadata": {},
     "output_type": "execute_result"
    }
   ],
   "source": [
    "data[data['IDADE'].isnull()]['FAIXA IDADE'].value_counts()\n",
    "\n",
    "# Valores faltantes na coluna de idade resolvido! :) "
   ]
  },
  {
   "cell_type": "code",
   "execution_count": 18,
   "id": "8be891d0-4823-49d3-9adc-7ecf72bb0e05",
   "metadata": {
    "tags": []
   },
   "outputs": [
    {
     "data": {
      "text/plain": [
       "Text(0.5, 0, 'Usuários da plataforma da área de TI')"
      ]
     },
     "execution_count": 18,
     "metadata": {},
     "output_type": "execute_result"
    },
    {
     "data": {
      "image/png": "[encoded data removed]",
      "text/plain": [
       "<Figure size 640x480 with 1 Axes>"
      ]
     },
     "metadata": {},
     "output_type": "display_data"
    }
   ],
   "source": [
    "# dispersão da idade dos usuários \n",
    "\n",
    "plt.boxplot(data['IDADE'])\n",
    "plt.title('Dispersão dos usuários da área de TI')\n",
    "plt.ylabel('Idade dos usuários')\n",
    "plt.xlabel('Usuários da plataforma da área de TI')"
   ]
  },
  {
   "cell_type": "markdown",
   "id": "81320e0f",
   "metadata": {},
   "source": [
    "- Idade Média: A linha horizontal dentro da caixa representa a mediana das idades, indicando que a idade média dos usuários se concentra em torno dos 30 anos (precisamente 31,15 anos).\n",
    "- A caixa representa o intervalo engloba 50% dos dados, nesse caso, os usuários têm entre 25 e 35 anos.\n",
    "- Os pontos acima da linha superior da caixa são considerados outliers, ou seja, valores que se distanciam significativamente da maioria dos dados. Nesse caso, há alguns usuários com mais de 50 anos que podem ser considerados outliers."
   ]
  },
  {
   "cell_type": "code",
   "execution_count": 19,
   "id": "8f223fa9-c7c7-4242-9c15-4002c257416f",
   "metadata": {
    "tags": []
   },
   "outputs": [
    {
     "data": {
      "text/plain": [
       "SALARIO\n",
       "False    3694\n",
       "True      577\n",
       "Name: count, dtype: int64"
      ]
     },
     "execution_count": 19,
     "metadata": {},
     "output_type": "execute_result"
    }
   ],
   "source": [
    "# Buscando outliers na coluna de salário \n",
    "\n",
    "data['SALARIO'].isnull().value_counts()"
   ]
  },
  {
   "cell_type": "code",
   "execution_count": 20,
   "id": "f2cc4db1",
   "metadata": {},
   "outputs": [
    {
     "data": {
      "text/plain": [
       "FAIXA SALARIAL\n",
       "False    3694\n",
       "True      577\n",
       "Name: count, dtype: int64"
      ]
     },
     "execution_count": 20,
     "metadata": {},
     "output_type": "execute_result"
    }
   ],
   "source": [
    "data['FAIXA SALARIAL'].isnull().value_counts()"
   ]
  },
  {
   "cell_type": "code",
   "execution_count": 21,
   "id": "35a3ad79-1d76-4e00-a214-3653b7774a2e",
   "metadata": {
    "tags": []
   },
   "outputs": [
    {
     "data": {
      "text/plain": [
       "Series([], Name: count, dtype: int64)"
      ]
     },
     "execution_count": 21,
     "metadata": {},
     "output_type": "execute_result"
    }
   ],
   "source": [
    "data[data['SALARIO'].isnull()]['FAIXA SALARIAL'].value_counts()"
   ]
  },
  {
   "cell_type": "markdown",
   "id": "857eeead-cc54-409b-bb28-9e65ea07f783",
   "metadata": {},
   "source": [
    "Como a coluna de salário costuma ter valores muito diferentes, será usado a mediana no lugar da média. "
   ]
  },
  {
   "cell_type": "code",
   "execution_count": 22,
   "id": "b092a83b-2984-4693-bb18-e0ec8e8c248b",
   "metadata": {
    "tags": []
   },
   "outputs": [],
   "source": [
    "# definindo mediana\n",
    "mediana_salario = data['SALARIO'].median()\n",
    "data.loc[data['SALARIO'].isnull(),'SALARIO'] = mediana_salario"
   ]
  },
  {
   "cell_type": "code",
   "execution_count": 23,
   "id": "46befcb6-71c3-4b25-acd7-517a942a4296",
   "metadata": {
    "tags": []
   },
   "outputs": [
    {
     "data": {
      "text/plain": [
       "np.float64(10517.53348162023)"
      ]
     },
     "execution_count": 23,
     "metadata": {},
     "output_type": "execute_result"
    }
   ],
   "source": [
    "media_salario = data['SALARIO'].mean()\n",
    "media_salario"
   ]
  },
  {
   "cell_type": "code",
   "execution_count": 24,
   "id": "5bb8c490-bf75-4992-ba9a-13ef82642dcd",
   "metadata": {
    "tags": []
   },
   "outputs": [
    {
     "data": {
      "text/plain": [
       "np.float64(18096.21098911858)"
      ]
     },
     "execution_count": 24,
     "metadata": {},
     "output_type": "execute_result"
    }
   ],
   "source": [
    "salario_padrao = data['SALARIO'].std()\n",
    "salario_padrao"
   ]
  },
  {
   "cell_type": "code",
   "execution_count": 25,
   "id": "fb4b9534-ca11-4e0e-8b11-ed8de03039bc",
   "metadata": {
    "tags": []
   },
   "outputs": [
    {
     "data": {
      "text/plain": [
       "np.float64(4751.5)"
      ]
     },
     "execution_count": 25,
     "metadata": {},
     "output_type": "execute_result"
    }
   ],
   "source": [
    "# Primeiro quartil\n",
    "\n",
    "q1 = data['SALARIO'].quantile(0.25)\n",
    "q1"
   ]
  },
  {
   "cell_type": "code",
   "execution_count": 26,
   "id": "58d4eb73-17f8-4245-9909-64f25ffab842",
   "metadata": {
    "tags": []
   },
   "outputs": [
    {
     "data": {
      "text/plain": [
       "np.float64(11794.5)"
      ]
     },
     "execution_count": 26,
     "metadata": {},
     "output_type": "execute_result"
    }
   ],
   "source": [
    "# Terceiro quartil\n",
    "\n",
    "q3 = data['SALARIO'].quantile(0.75)\n",
    "q3"
   ]
  },
  {
   "cell_type": "code",
   "execution_count": 27,
   "id": "6e88635f-0599-4d08-961a-16ee65590c9e",
   "metadata": {
    "tags": []
   },
   "outputs": [
    {
     "data": {
      "text/plain": [
       "np.float64(7043.0)"
      ]
     },
     "execution_count": 27,
     "metadata": {},
     "output_type": "execute_result"
    }
   ],
   "source": [
    "# Diferença entre terceiro e primeiro quartil\n",
    "\n",
    "inter_q = q3 - q1 \n",
    "inter_q"
   ]
  },
  {
   "cell_type": "code",
   "execution_count": 28,
   "id": "5e32d681-cd0b-402d-8309-11268aaf5365",
   "metadata": {
    "tags": []
   },
   "outputs": [
    {
     "data": {
      "text/plain": [
       "np.float64(64806.166448975964)"
      ]
     },
     "execution_count": 28,
     "metadata": {},
     "output_type": "execute_result"
    }
   ],
   "source": [
    "# Limite superior \n",
    "\n",
    "limite_superior_salario = media_salario + (3 * salario_padrao)\n",
    "limite_superior_salario"
   ]
  },
  {
   "cell_type": "code",
   "execution_count": 29,
   "id": "07c3482a-49e8-4350-a6d3-ddc401d839f0",
   "metadata": {
    "tags": []
   },
   "outputs": [
    {
     "data": {
      "text/plain": [
       "np.float64(-43771.0994857355)"
      ]
     },
     "execution_count": 29,
     "metadata": {},
     "output_type": "execute_result"
    }
   ],
   "source": [
    "# Limite inferior  \n",
    "\n",
    "limite_inferior_salario = media_salario - (3 * salario_padrao)\n",
    "limite_inferior_salario"
   ]
  },
  {
   "cell_type": "code",
   "execution_count": 30,
   "id": "2317705a-66e2-4222-a560-7c610c1eb174",
   "metadata": {
    "tags": []
   },
   "outputs": [],
   "source": [
    "import matplotlib.pyplot as plt\n"
   ]
  },
  {
   "cell_type": "code",
   "execution_count": 31,
   "id": "81d3f4eb-7b13-41b0-a0ad-0c85963ece56",
   "metadata": {
    "tags": []
   },
   "outputs": [
    {
     "data": {
      "text/plain": [
       "Text(0, 0.5, 'Salário dos usuários (R$)')"
      ]
     },
     "execution_count": 31,
     "metadata": {},
     "output_type": "execute_result"
    },
    {
     "data": {
      "image/png": "[encoded data removed]",
      "text/plain": [
       "<Figure size 640x480 with 1 Axes>"
      ]
     },
     "metadata": {},
     "output_type": "display_data"
    }
   ],
   "source": [
    "plt.boxplot(data['SALARIO'])\n",
    "plt.title('Disperção de salário dos funcionários')\n",
    "plt.xlabel('Usuários da área de TI')\n",
    "plt.ylabel('Salário dos usuários (R$)')"
   ]
  },
  {
   "cell_type": "code",
   "execution_count": 32,
   "id": "9252fa40-5be5-4704-8b7d-478c2195defa",
   "metadata": {
    "tags": []
   },
   "outputs": [
    {
     "data": {
      "text/plain": [
       "405               Acima de R$ 40.001/mês\n",
       "443               Acima de R$ 40.001/mês\n",
       "774               Acima de R$ 40.001/mês\n",
       "1265              Acima de R$ 40.001/mês\n",
       "2053    de R$ 30.001/mês a R$ 40.000/mês\n",
       "2211              Acima de R$ 40.001/mês\n",
       "2257    de R$ 30.001/mês a R$ 40.000/mês\n",
       "2662              Acima de R$ 40.001/mês\n",
       "2945              Acima de R$ 40.001/mês\n",
       "2979              Acima de R$ 40.001/mês\n",
       "3016              Acima de R$ 40.001/mês\n",
       "3105              Acima de R$ 40.001/mês\n",
       "3141              Acima de R$ 40.001/mês\n",
       "3146              Acima de R$ 40.001/mês\n",
       "3201    de R$ 30.001/mês a R$ 40.000/mês\n",
       "3452              Acima de R$ 40.001/mês\n",
       "3503              Acima de R$ 40.001/mês\n",
       "3531              Acima de R$ 40.001/mês\n",
       "3771              Acima de R$ 40.001/mês\n",
       "3773              Acima de R$ 40.001/mês\n",
       "3919              Acima de R$ 40.001/mês\n",
       "3962              Acima de R$ 40.001/mês\n",
       "Name: FAIXA SALARIAL, dtype: object"
      ]
     },
     "execution_count": 32,
     "metadata": {},
     "output_type": "execute_result"
    }
   ],
   "source": [
    "# Primeira tentativa de solucionar outliers de salario\n",
    "data[data['SALARIO']>limite_superior_salario]['FAIXA SALARIAL']"
   ]
  },
  {
   "cell_type": "markdown",
   "id": "bb772433-3388-4344-b505-11b1ed706899",
   "metadata": {},
   "source": [
    "- O limite superior do salário é R$ 64806.16. \n",
    "- Se o usuário tiver uma média salarial abaixo de R$30.000 podemos considerar erro de digitação. \n",
    "- A média de salário da faixa de salário entre R$30.000 e  R$40.000 será obtida e susbtituirá esse valores."
   ]
  },
  {
   "cell_type": "code",
   "execution_count": 33,
   "id": "148b7c65-e56c-4ecc-bf24-171ddb22e17a",
   "metadata": {
    "tags": []
   },
   "outputs": [],
   "source": [
    "mediasal_30_40 = data[(data['FAIXA SALARIAL']=='de R$ 30.001/mês a R$ 40.000/mês')&(data['SALARIO']<limite_superior_salario)]['SALARIO'].mean()\n"
   ]
  },
  {
   "cell_type": "code",
   "execution_count": 34,
   "id": "a76b5747-8046-4e66-8206-1464c7951e50",
   "metadata": {
    "tags": []
   },
   "outputs": [],
   "source": [
    "\n",
    "data.loc[(data['FAIXA SALARIAL']=='de R$ 30.001/mês a R$ 40.000/mês') & (data['SALARIO']>limite_superior_salario),'SALARIO'] = mediasal_30_40"
   ]
  },
  {
   "cell_type": "code",
   "execution_count": 35,
   "id": "b921bcc6-2aac-4ccf-8f88-67d1b5c4aff8",
   "metadata": {
    "tags": []
   },
   "outputs": [
    {
     "data": {
      "text/plain": [
       "405     Acima de R$ 40.001/mês\n",
       "443     Acima de R$ 40.001/mês\n",
       "774     Acima de R$ 40.001/mês\n",
       "1265    Acima de R$ 40.001/mês\n",
       "2211    Acima de R$ 40.001/mês\n",
       "2662    Acima de R$ 40.001/mês\n",
       "2945    Acima de R$ 40.001/mês\n",
       "2979    Acima de R$ 40.001/mês\n",
       "3016    Acima de R$ 40.001/mês\n",
       "3105    Acima de R$ 40.001/mês\n",
       "3141    Acima de R$ 40.001/mês\n",
       "3146    Acima de R$ 40.001/mês\n",
       "3452    Acima de R$ 40.001/mês\n",
       "3503    Acima de R$ 40.001/mês\n",
       "3531    Acima de R$ 40.001/mês\n",
       "3771    Acima de R$ 40.001/mês\n",
       "3773    Acima de R$ 40.001/mês\n",
       "3919    Acima de R$ 40.001/mês\n",
       "3962    Acima de R$ 40.001/mês\n",
       "Name: FAIXA SALARIAL, dtype: object"
      ]
     },
     "execution_count": 35,
     "metadata": {},
     "output_type": "execute_result"
    }
   ],
   "source": [
    "data[data['SALARIO']>limite_superior_salario]['FAIXA SALARIAL']"
   ]
  },
  {
   "cell_type": "code",
   "execution_count": 36,
   "id": "65a98de2-a140-4a35-8b8f-4928690f3e3b",
   "metadata": {
    "tags": []
   },
   "outputs": [
    {
     "data": {
      "text/plain": [
       "np.float64(53127.846153846156)"
      ]
     },
     "execution_count": 36,
     "metadata": {},
     "output_type": "execute_result"
    }
   ],
   "source": [
    "media_salario_40mais = data[(data['FAIXA SALARIAL']=='Acima de R$ 40.001/mês') & (data['SALARIO']<limite_superior_salario)]['SALARIO'].mean()\n",
    "media_salario_40mais"
   ]
  },
  {
   "cell_type": "code",
   "execution_count": 37,
   "id": "72d282df-520a-4ec7-92d6-989818f5c403",
   "metadata": {
    "tags": []
   },
   "outputs": [],
   "source": [
    "data.loc[(data['FAIXA SALARIAL']=='Acima de R$ 40.001/mês') & (data['SALARIO']>limite_superior_salario), 'SALARIO'] = media_salario_40mais"
   ]
  },
  {
   "cell_type": "code",
   "execution_count": 38,
   "id": "7373b78e",
   "metadata": {},
   "outputs": [
    {
     "data": {
      "text/plain": [
       "np.float64(53127.84615384614)"
      ]
     },
     "execution_count": 38,
     "metadata": {},
     "output_type": "execute_result"
    }
   ],
   "source": [
    "data[data['FAIXA SALARIAL']=='Acima de R$ 40.001/mês']['SALARIO'].mean()"
   ]
  },
  {
   "cell_type": "code",
   "execution_count": 39,
   "id": "0b131184-548e-4031-892c-1330a98c6e4f",
   "metadata": {
    "tags": []
   },
   "outputs": [
    {
     "data": {
      "text/plain": [
       "Series([], Name: FAIXA SALARIAL, dtype: object)"
      ]
     },
     "execution_count": 39,
     "metadata": {},
     "output_type": "execute_result"
    }
   ],
   "source": [
    "data[data['SALARIO']>limite_superior_salario]['FAIXA SALARIAL']\n"
   ]
  },
  {
   "cell_type": "code",
   "execution_count": 40,
   "id": "549df0a4-0e7c-4856-91d8-9dc6b430f78d",
   "metadata": {
    "tags": []
   },
   "outputs": [
    {
     "data": {
      "text/plain": [
       "SALARIO\n",
       "False    4271\n",
       "Name: count, dtype: int64"
      ]
     },
     "execution_count": 40,
     "metadata": {},
     "output_type": "execute_result"
    }
   ],
   "source": [
    "data['SALARIO'].isnull().value_counts()"
   ]
  },
  {
   "cell_type": "code",
   "execution_count": 41,
   "id": "b073e125-ecf8-4c7d-ac83-07849c5eca71",
   "metadata": {
    "tags": []
   },
   "outputs": [
    {
     "data": {
      "text/plain": [
       "Text(0, 0.5, 'Salário dos usuários (R$)')"
      ]
     },
     "execution_count": 41,
     "metadata": {},
     "output_type": "execute_result"
    },
    {
     "data": {
      "image/png": "[encoded data removed]",
      "text/plain": [
       "<Figure size 640x480 with 1 Axes>"
      ]
     },
     "metadata": {},
     "output_type": "display_data"
    }
   ],
   "source": [
    "plt.boxplot(data['SALARIO'])\n",
    "plt.title('Disperção de salário dos funcionários')\n",
    "plt.xlabel('Usuários da área de TI')\n",
    "plt.ylabel('Salário dos usuários (R$)')"
   ]
  },
  {
   "cell_type": "markdown",
   "id": "70f627a7",
   "metadata": {},
   "source": [
    "- A média salarial do profissional de TI é R$10.517. \n",
    "- A maior parte dos funcionários possui salário entre até R$ 20.000. \n",
    "- Alguns funcionários podem receber entre R$20.000 e R$40.000 mas esses casos não são frequentes.  "
   ]
  },
  {
   "cell_type": "markdown",
   "id": "e6796775-cbe5-40f8-9319-335d52b09783",
   "metadata": {},
   "source": [
    "Salary outliers RESOLVED! :) "
   ]
  },
  {
   "cell_type": "markdown",
   "id": "f62eee3d",
   "metadata": {},
   "source": [
    "### 1.2. Featuring Engineering "
   ]
  },
  {
   "cell_type": "markdown",
   "id": "b19818e5",
   "metadata": {},
   "source": [
    "Preencher nível de cargos "
   ]
  },
  {
   "cell_type": "code",
   "execution_count": 42,
   "id": "fe73ac0d",
   "metadata": {},
   "outputs": [],
   "source": [
    "# Preencher nível do cargo \n",
    "\n",
    "def preencher_level(gestor,nível):\n",
    "    if gestor == 1:\n",
    "        return \"Pessoa Gestora\"\n",
    "    else:\n",
    "        return nível"
   ]
  },
  {
   "cell_type": "code",
   "execution_count": 43,
   "id": "802da97a",
   "metadata": {},
   "outputs": [],
   "source": [
    "# Aplicando a função na tabela de dados\n",
    "\n",
    "data['NOVO NÍVEL'] = data.apply(lambda x: preencher_level(x['GESTOR?'], x['NIVEL']), axis=1)"
   ]
  },
  {
   "cell_type": "code",
   "execution_count": 44,
   "id": "4f7e35eb",
   "metadata": {},
   "outputs": [
    {
     "data": {
      "text/plain": [
       "NOVO NÍVEL\n",
       "Pleno             1060\n",
       "Júnior            1023\n",
       "Sênior             898\n",
       "Pessoa Gestora     713\n",
       "Name: count, dtype: int64"
      ]
     },
     "execution_count": 44,
     "metadata": {},
     "output_type": "execute_result"
    }
   ],
   "source": [
    "# Checando se a coluna está ok? \n",
    "data['NOVO NÍVEL'].value_counts()"
   ]
  },
  {
   "cell_type": "markdown",
   "id": "ebdc0c54",
   "metadata": {},
   "source": [
    "Determinando geração dos usuários "
   ]
  },
  {
   "cell_type": "code",
   "execution_count": 45,
   "id": "e831c5f9",
   "metadata": {},
   "outputs": [],
   "source": [
    "def determinar_geracao(idade):\n",
    "    if 39 < idade <= 58:\n",
    "        return \"Geração X\"\n",
    "    elif 29 < idade <= 39:\n",
    "        return \"Millenium\"\n",
    "    elif 13 < idade <=29:\n",
    "        return \"Geração Z\"\n",
    "    else:\n",
    "        return \"Outra geração\""
   ]
  },
  {
   "cell_type": "code",
   "execution_count": 46,
   "id": "7a32aea7",
   "metadata": {},
   "outputs": [],
   "source": [
    "# Aplicando a função e criando a coluna de geração \n",
    "\n",
    "data['GERAÇÃO'] = data.apply(lambda x: determinar_geracao(x['IDADE']), axis=1)"
   ]
  },
  {
   "cell_type": "code",
   "execution_count": 47,
   "id": "eddd6266",
   "metadata": {},
   "outputs": [
    {
     "data": {
      "text/plain": [
       "GERAÇÃO\n",
       "Geração Z    1999\n",
       "Millenium    1761\n",
       "Geração X     511\n",
       "Name: count, dtype: int64"
      ]
     },
     "execution_count": 47,
     "metadata": {},
     "output_type": "execute_result"
    }
   ],
   "source": [
    "data['GERAÇÃO'].value_counts()"
   ]
  },
  {
   "cell_type": "code",
   "execution_count": 48,
   "id": "abe801d6",
   "metadata": {},
   "outputs": [
    {
     "data": {
      "text/plain": [
       "Index(['ID', 'IDADE', 'FAIXA IDADE', 'GENERO', 'COR/RACA/ETNIA', 'PCD',\n",
       "       'EXPERIENCIA_PROFISSIONAL_PREJUDICADA', 'PREJUDICA?',\n",
       "       'ASPECTOS_PREJUDICADOS', 'VIVE_NO_BRASIL', 'ESTADO ONDE MORA',\n",
       "       'UF ONDE MORA', 'REGIAO ONDE MORA', 'MUDOU DE ESTADO?',\n",
       "       'REGIAO DE ORIGEM', 'NIVEL DE ENSINO', 'ÁREA DE FORMAÇÃO',\n",
       "       'COMPUTAÇÃO?', 'QUAL SUA SITUAÇÃO ATUAL DE TRABALHO?', 'SETOR',\n",
       "       'NUMERO DE FUNCIONARIOS', 'GESTOR?', 'NIVEL', 'NOVO NÍVEL',\n",
       "       'CARGO COMO GESTOR', 'CARGO ATUAL', 'Unnamed: 26', 'FAIXA SALARIAL',\n",
       "       'SALARIO', 'QUANTO TEMPO DE EXPERIÊNCIA NA ÁREA DE DADOS VOCÊ TEM?',\n",
       "       'QUANTO TEMPO DE EXPERIÊNCIA NA ÁREA DE TI/ENGENHARIA DE SOFTWARE VOCÊ TEVE ANTES DE COMEÇAR A TRABALHAR NA ÁREA DE DADOS?',\n",
       "       'GERAÇÃO'],\n",
       "      dtype='object')"
      ]
     },
     "execution_count": 48,
     "metadata": {},
     "output_type": "execute_result"
    }
   ],
   "source": [
    "data.columns"
   ]
  },
  {
   "cell_type": "code",
   "execution_count": 49,
   "id": "ae29d134",
   "metadata": {},
   "outputs": [],
   "source": [
    "# Transformando variaveis categorigas em indicadores de 'sim' ou 'não'\n",
    "# Ou seja, criando coluna para cada nível\n",
    "\n",
    "# data = pd.get_dummies(data, columns=['NOVO NÍVEL'])"
   ]
  },
  {
   "cell_type": "markdown",
   "id": "4b2c4618-beb7-4a4b-a05a-6546b300fbdc",
   "metadata": {
    "tags": []
   },
   "source": [
    "## 2. Perfil dos usuários "
   ]
  },
  {
   "cell_type": "code",
   "execution_count": 50,
   "id": "077c50c7",
   "metadata": {},
   "outputs": [
    {
     "data": {
      "text/html": [
       "<div>\n",
       "<style scoped>\n",
       "    .dataframe tbody tr th:only-of-type {\n",
       "        vertical-align: middle;\n",
       "    }\n",
       "\n",
       "    .dataframe tbody tr th {\n",
       "        vertical-align: top;\n",
       "    }\n",
       "\n",
       "    .dataframe thead th {\n",
       "        text-align: right;\n",
       "    }\n",
       "</style>\n",
       "<table border=\"1\" class=\"dataframe\">\n",
       "  <thead>\n",
       "    <tr style=\"text-align: right;\">\n",
       "      <th></th>\n",
       "      <th>ID</th>\n",
       "      <th>IDADE</th>\n",
       "      <th>FAIXA IDADE</th>\n",
       "      <th>GENERO</th>\n",
       "      <th>COR/RACA/ETNIA</th>\n",
       "      <th>PCD</th>\n",
       "      <th>EXPERIENCIA_PROFISSIONAL_PREJUDICADA</th>\n",
       "      <th>PREJUDICA?</th>\n",
       "      <th>ASPECTOS_PREJUDICADOS</th>\n",
       "      <th>VIVE_NO_BRASIL</th>\n",
       "      <th>...</th>\n",
       "      <th>NIVEL</th>\n",
       "      <th>NOVO NÍVEL</th>\n",
       "      <th>CARGO COMO GESTOR</th>\n",
       "      <th>CARGO ATUAL</th>\n",
       "      <th>Unnamed: 26</th>\n",
       "      <th>FAIXA SALARIAL</th>\n",
       "      <th>SALARIO</th>\n",
       "      <th>QUANTO TEMPO DE EXPERIÊNCIA NA ÁREA DE DADOS VOCÊ TEM?</th>\n",
       "      <th>QUANTO TEMPO DE EXPERIÊNCIA NA ÁREA DE TI/ENGENHARIA DE SOFTWARE VOCÊ TEVE ANTES DE COMEÇAR A TRABALHAR NA ÁREA DE DADOS?</th>\n",
       "      <th>GERAÇÃO</th>\n",
       "    </tr>\n",
       "  </thead>\n",
       "  <tbody>\n",
       "    <tr>\n",
       "      <th>0</th>\n",
       "      <td>zzqzz3l9ily8nuo2m7wyzzqzz3w48o96</td>\n",
       "      <td>39.0</td>\n",
       "      <td>35-39</td>\n",
       "      <td>Masculino</td>\n",
       "      <td>Parda</td>\n",
       "      <td>Não</td>\n",
       "      <td>Não acredito que minha experiência profissiona...</td>\n",
       "      <td>FALSO</td>\n",
       "      <td>NaN</td>\n",
       "      <td>True</td>\n",
       "      <td>...</td>\n",
       "      <td>Júnior</td>\n",
       "      <td>Júnior</td>\n",
       "      <td>NaN</td>\n",
       "      <td>DBA/Administrador de Banco de Dados</td>\n",
       "      <td>NaN</td>\n",
       "      <td>de R$ 8.001/mês a R$ 12.000/mês</td>\n",
       "      <td>11194.0</td>\n",
       "      <td>de 1 a 2 anos</td>\n",
       "      <td>de 7 a 10 anos</td>\n",
       "      <td>Millenium</td>\n",
       "    </tr>\n",
       "    <tr>\n",
       "      <th>1</th>\n",
       "      <td>zzls2oftfn9law393oezzls2ofhvfpzd</td>\n",
       "      <td>32.0</td>\n",
       "      <td>30-34</td>\n",
       "      <td>Masculino</td>\n",
       "      <td>Parda</td>\n",
       "      <td>Não</td>\n",
       "      <td>Sim, acredito que a minha a experiência profis...</td>\n",
       "      <td>TRUE</td>\n",
       "      <td>Aprovação em processos seletivos/entrevistas</td>\n",
       "      <td>True</td>\n",
       "      <td>...</td>\n",
       "      <td>NaN</td>\n",
       "      <td>Pessoa Gestora</td>\n",
       "      <td>Supervisor/Coordenador</td>\n",
       "      <td>NaN</td>\n",
       "      <td>NaN</td>\n",
       "      <td>de R$ 4.001/mês a R$ 6.000/mês</td>\n",
       "      <td>4695.0</td>\n",
       "      <td>de 3 a 4 anos</td>\n",
       "      <td>Menos de 1 ano</td>\n",
       "      <td>Millenium</td>\n",
       "    </tr>\n",
       "    <tr>\n",
       "      <th>2</th>\n",
       "      <td>zzdwqzfqqp1ypc7ps6m0hzzdwqz292yi</td>\n",
       "      <td>53.0</td>\n",
       "      <td>50-54</td>\n",
       "      <td>Masculino</td>\n",
       "      <td>Branca</td>\n",
       "      <td>Não</td>\n",
       "      <td>NaN</td>\n",
       "      <td>FALSO</td>\n",
       "      <td>NaN</td>\n",
       "      <td>True</td>\n",
       "      <td>...</td>\n",
       "      <td>Pleno</td>\n",
       "      <td>Pleno</td>\n",
       "      <td>NaN</td>\n",
       "      <td>Desenvolvedor/ Engenheiro de Software/ Analist...</td>\n",
       "      <td>NaN</td>\n",
       "      <td>de R$ 12.001/mês a R$ 16.000/mês</td>\n",
       "      <td>14202.0</td>\n",
       "      <td>de 3 a 4 anos</td>\n",
       "      <td>Mais de 10 anos</td>\n",
       "      <td>Geração X</td>\n",
       "    </tr>\n",
       "    <tr>\n",
       "      <th>3</th>\n",
       "      <td>zzbqh3uy7yk7k9qmkzzbqtb4s9faqspl</td>\n",
       "      <td>27.0</td>\n",
       "      <td>25-29</td>\n",
       "      <td>Masculino</td>\n",
       "      <td>Branca</td>\n",
       "      <td>Não</td>\n",
       "      <td>NaN</td>\n",
       "      <td>FALSO</td>\n",
       "      <td>NaN</td>\n",
       "      <td>True</td>\n",
       "      <td>...</td>\n",
       "      <td>Sênior</td>\n",
       "      <td>Sênior</td>\n",
       "      <td>NaN</td>\n",
       "      <td>Cientista de Dados/Data Scientist</td>\n",
       "      <td>NaN</td>\n",
       "      <td>de R$ 12.001/mês a R$ 16.000/mês</td>\n",
       "      <td>15463.0</td>\n",
       "      <td>de 4 a 6 anos</td>\n",
       "      <td>Não tive experiência na área de TI/Engenharia ...</td>\n",
       "      <td>Geração Z</td>\n",
       "    </tr>\n",
       "    <tr>\n",
       "      <th>4</th>\n",
       "      <td>zzaf1m95yan929rb94wzzaf1mekhvhpg</td>\n",
       "      <td>46.0</td>\n",
       "      <td>45-49</td>\n",
       "      <td>Feminino</td>\n",
       "      <td>Branca</td>\n",
       "      <td>Não</td>\n",
       "      <td>Não acredito que minha experiência profissiona...</td>\n",
       "      <td>FALSO</td>\n",
       "      <td>NaN</td>\n",
       "      <td>True</td>\n",
       "      <td>...</td>\n",
       "      <td>Pleno</td>\n",
       "      <td>Pleno</td>\n",
       "      <td>NaN</td>\n",
       "      <td>Desenvolvedor/ Engenheiro de Software/ Analist...</td>\n",
       "      <td>NaN</td>\n",
       "      <td>de R$ 6.001/mês a R$ 8.000/mês</td>\n",
       "      <td>7733.0</td>\n",
       "      <td>Não tenho experiência na área de dados</td>\n",
       "      <td>Mais de 10 anos</td>\n",
       "      <td>Geração X</td>\n",
       "    </tr>\n",
       "  </tbody>\n",
       "</table>\n",
       "<p>5 rows × 32 columns</p>\n",
       "</div>"
      ],
      "text/plain": [
       "                                 ID  IDADE FAIXA IDADE     GENERO  \\\n",
       "0  zzqzz3l9ily8nuo2m7wyzzqzz3w48o96   39.0       35-39  Masculino   \n",
       "1  zzls2oftfn9law393oezzls2ofhvfpzd   32.0       30-34  Masculino   \n",
       "2  zzdwqzfqqp1ypc7ps6m0hzzdwqz292yi   53.0       50-54  Masculino   \n",
       "3  zzbqh3uy7yk7k9qmkzzbqtb4s9faqspl   27.0       25-29  Masculino   \n",
       "4  zzaf1m95yan929rb94wzzaf1mekhvhpg   46.0       45-49   Feminino   \n",
       "\n",
       "  COR/RACA/ETNIA  PCD               EXPERIENCIA_PROFISSIONAL_PREJUDICADA  \\\n",
       "0          Parda  Não  Não acredito que minha experiência profissiona...   \n",
       "1          Parda  Não  Sim, acredito que a minha a experiência profis...   \n",
       "2         Branca  Não                                                NaN   \n",
       "3         Branca  Não                                                NaN   \n",
       "4         Branca  Não  Não acredito que minha experiência profissiona...   \n",
       "\n",
       "  PREJUDICA?                         ASPECTOS_PREJUDICADOS  VIVE_NO_BRASIL  \\\n",
       "0      FALSO                                           NaN            True   \n",
       "1       TRUE  Aprovação em processos seletivos/entrevistas            True   \n",
       "2      FALSO                                           NaN            True   \n",
       "3      FALSO                                           NaN            True   \n",
       "4      FALSO                                           NaN            True   \n",
       "\n",
       "   ...   NIVEL      NOVO NÍVEL       CARGO COMO GESTOR  \\\n",
       "0  ...  Júnior          Júnior                     NaN   \n",
       "1  ...     NaN  Pessoa Gestora  Supervisor/Coordenador   \n",
       "2  ...   Pleno           Pleno                     NaN   \n",
       "3  ...  Sênior          Sênior                     NaN   \n",
       "4  ...   Pleno           Pleno                     NaN   \n",
       "\n",
       "                                         CARGO ATUAL Unnamed: 26  \\\n",
       "0                DBA/Administrador de Banco de Dados         NaN   \n",
       "1                                                NaN         NaN   \n",
       "2  Desenvolvedor/ Engenheiro de Software/ Analist...         NaN   \n",
       "3                  Cientista de Dados/Data Scientist         NaN   \n",
       "4  Desenvolvedor/ Engenheiro de Software/ Analist...         NaN   \n",
       "\n",
       "                     FAIXA SALARIAL  SALARIO  \\\n",
       "0   de R$ 8.001/mês a R$ 12.000/mês  11194.0   \n",
       "1    de R$ 4.001/mês a R$ 6.000/mês   4695.0   \n",
       "2  de R$ 12.001/mês a R$ 16.000/mês  14202.0   \n",
       "3  de R$ 12.001/mês a R$ 16.000/mês  15463.0   \n",
       "4    de R$ 6.001/mês a R$ 8.000/mês   7733.0   \n",
       "\n",
       "   QUANTO TEMPO DE EXPERIÊNCIA NA ÁREA DE DADOS VOCÊ TEM?  \\\n",
       "0                                      de 1 a 2 anos        \n",
       "1                                      de 3 a 4 anos        \n",
       "2                                      de 3 a 4 anos        \n",
       "3                                      de 4 a 6 anos        \n",
       "4             Não tenho experiência na área de dados        \n",
       "\n",
       "  QUANTO TEMPO DE EXPERIÊNCIA NA ÁREA DE TI/ENGENHARIA DE SOFTWARE VOCÊ TEVE ANTES DE COMEÇAR A TRABALHAR NA ÁREA DE DADOS?  \\\n",
       "0                                     de 7 a 10 anos                                                                          \n",
       "1                                     Menos de 1 ano                                                                          \n",
       "2                                    Mais de 10 anos                                                                          \n",
       "3  Não tive experiência na área de TI/Engenharia ...                                                                          \n",
       "4                                    Mais de 10 anos                                                                          \n",
       "\n",
       "     GERAÇÃO  \n",
       "0  Millenium  \n",
       "1  Millenium  \n",
       "2  Geração X  \n",
       "3  Geração Z  \n",
       "4  Geração X  \n",
       "\n",
       "[5 rows x 32 columns]"
      ]
     },
     "execution_count": 50,
     "metadata": {},
     "output_type": "execute_result"
    }
   ],
   "source": [
    "data.head(5)"
   ]
  },
  {
   "cell_type": "markdown",
   "id": "f38b6976",
   "metadata": {},
   "source": [
    "### 2.1. Distribuição de usuários por gênero"
   ]
  },
  {
   "cell_type": "code",
   "execution_count": 51,
   "id": "23b1e71c-541a-4095-8245-3c0becc9018c",
   "metadata": {
    "tags": []
   },
   "outputs": [],
   "source": [
    "# Distribuição de usuários por genero\n",
    "data_genero = data['GENERO'].value_counts()"
   ]
  },
  {
   "cell_type": "code",
   "execution_count": 52,
   "id": "e7e7d818",
   "metadata": {},
   "outputs": [],
   "source": [
    "import plotly as py\n",
    "import plotly.graph_objects as go\n"
   ]
  },
  {
   "cell_type": "code",
   "execution_count": 53,
   "id": "238c9f0b",
   "metadata": {},
   "outputs": [
    {
     "data": {
      "application/vnd.plotly.v1+json": {
       "config": {
        "plotlyServerURL": "https://plot.ly"
       },
       "data": [
        {
         "marker": {
          "color": [
           "Green",
           "purple",
           "red"
          ]
         },
         "type": "bar",
         "x": [
          "Masculino",
          "Feminino",
          "Prefiro não informar"
         ],
         "y": [
          3194,
          1056,
          12
         ]
        }
       ],
       "layout": {
        "height": 600,
        "template": {
         "data": {
          "bar": [
           {
            "error_x": {
             "color": "#2a3f5f"
            },
            "error_y": {
             "color": "#2a3f5f"
            },
            "marker": {
             "line": {
              "color": "#E5ECF6",
              "width": 0.5
             },
             "pattern": {
              "fillmode": "overlay",
              "size": 10,
              "solidity": 0.2
             }
            },
            "type": "bar"
           }
          ],
          "barpolar": [
           {
            "marker": {
             "line": {
              "color": "#E5ECF6",
              "width": 0.5
             },
             "pattern": {
              "fillmode": "overlay",
              "size": 10,
              "solidity": 0.2
             }
            },
            "type": "barpolar"
           }
          ],
          "carpet": [
           {
            "aaxis": {
             "endlinecolor": "#2a3f5f",
             "gridcolor": "white",
             "linecolor": "white",
             "minorgridcolor": "white",
             "startlinecolor": "#2a3f5f"
            },
            "baxis": {
             "endlinecolor": "#2a3f5f",
             "gridcolor": "white",
             "linecolor": "white",
             "minorgridcolor": "white",
             "startlinecolor": "#2a3f5f"
            },
            "type": "carpet"
           }
          ],
          "choropleth": [
           {
            "colorbar": {
             "outlinewidth": 0,
             "ticks": ""
            },
            "type": "choropleth"
           }
          ],
          "contour": [
           {
            "colorbar": {
             "outlinewidth": 0,
             "ticks": ""
            },
            "colorscale": [
             [
              0,
              "#0d0887"
             ],
             [
              0.1111111111111111,
              "#46039f"
             ],
             [
              0.2222222222222222,
              "#7201a8"
             ],
             [
              0.3333333333333333,
              "#9c179e"
             ],
             [
              0.4444444444444444,
              "#bd3786"
             ],
             [
              0.5555555555555556,
              "#d8576b"
             ],
             [
              0.6666666666666666,
              "#ed7953"
             ],
             [
              0.7777777777777778,
              "#fb9f3a"
             ],
             [
              0.8888888888888888,
              "#fdca26"
             ],
             [
              1,
              "#f0f921"
             ]
            ],
            "type": "contour"
           }
          ],
          "contourcarpet": [
           {
            "colorbar": {
             "outlinewidth": 0,
             "ticks": ""
            },
            "type": "contourcarpet"
           }
          ],
          "heatmap": [
           {
            "colorbar": {
             "outlinewidth": 0,
             "ticks": ""
            },
            "colorscale": [
             [
              0,
              "#0d0887"
             ],
             [
              0.1111111111111111,
              "#46039f"
             ],
             [
              0.2222222222222222,
              "#7201a8"
             ],
             [
              0.3333333333333333,
              "#9c179e"
             ],
             [
              0.4444444444444444,
              "#bd3786"
             ],
             [
              0.5555555555555556,
              "#d8576b"
             ],
             [
              0.6666666666666666,
              "#ed7953"
             ],
             [
              0.7777777777777778,
              "#fb9f3a"
             ],
             [
              0.8888888888888888,
              "#fdca26"
             ],
             [
              1,
              "#f0f921"
             ]
            ],
            "type": "heatmap"
           }
          ],
          "heatmapgl": [
           {
            "colorbar": {
             "outlinewidth": 0,
             "ticks": ""
            },
            "colorscale": [
             [
              0,
              "#0d0887"
             ],
             [
              0.1111111111111111,
              "#46039f"
             ],
             [
              0.2222222222222222,
              "#7201a8"
             ],
             [
              0.3333333333333333,
              "#9c179e"
             ],
             [
              0.4444444444444444,
              "#bd3786"
             ],
             [
              0.5555555555555556,
              "#d8576b"
             ],
             [
              0.6666666666666666,
              "#ed7953"
             ],
             [
              0.7777777777777778,
              "#fb9f3a"
             ],
             [
              0.8888888888888888,
              "#fdca26"
             ],
             [
              1,
              "#f0f921"
             ]
            ],
            "type": "heatmapgl"
           }
          ],
          "histogram": [
           {
            "marker": {
             "pattern": {
              "fillmode": "overlay",
              "size": 10,
              "solidity": 0.2
             }
            },
            "type": "histogram"
           }
          ],
          "histogram2d": [
           {
            "colorbar": {
             "outlinewidth": 0,
             "ticks": ""
            },
            "colorscale": [
             [
              0,
              "#0d0887"
             ],
             [
              0.1111111111111111,
              "#46039f"
             ],
             [
              0.2222222222222222,
              "#7201a8"
             ],
             [
              0.3333333333333333,
              "#9c179e"
             ],
             [
              0.4444444444444444,
              "#bd3786"
             ],
             [
              0.5555555555555556,
              "#d8576b"
             ],
             [
              0.6666666666666666,
              "#ed7953"
             ],
             [
              0.7777777777777778,
              "#fb9f3a"
             ],
             [
              0.8888888888888888,
              "#fdca26"
             ],
             [
              1,
              "#f0f921"
             ]
            ],
            "type": "histogram2d"
           }
          ],
          "histogram2dcontour": [
           {
            "colorbar": {
             "outlinewidth": 0,
             "ticks": ""
            },
            "colorscale": [
             [
              0,
              "#0d0887"
             ],
             [
              0.1111111111111111,
              "#46039f"
             ],
             [
              0.2222222222222222,
              "#7201a8"
             ],
             [
              0.3333333333333333,
              "#9c179e"
             ],
             [
              0.4444444444444444,
              "#bd3786"
             ],
             [
              0.5555555555555556,
              "#d8576b"
             ],
             [
              0.6666666666666666,
              "#ed7953"
             ],
             [
              0.7777777777777778,
              "#fb9f3a"
             ],
             [
              0.8888888888888888,
              "#fdca26"
             ],
             [
              1,
              "#f0f921"
             ]
            ],
            "type": "histogram2dcontour"
           }
          ],
          "mesh3d": [
           {
            "colorbar": {
             "outlinewidth": 0,
             "ticks": ""
            },
            "type": "mesh3d"
           }
          ],
          "parcoords": [
           {
            "line": {
             "colorbar": {
              "outlinewidth": 0,
              "ticks": ""
             }
            },
            "type": "parcoords"
           }
          ],
          "pie": [
           {
            "automargin": true,
            "type": "pie"
           }
          ],
          "scatter": [
           {
            "fillpattern": {
             "fillmode": "overlay",
             "size": 10,
             "solidity": 0.2
            },
            "type": "scatter"
           }
          ],
          "scatter3d": [
           {
            "line": {
             "colorbar": {
              "outlinewidth": 0,
              "ticks": ""
             }
            },
            "marker": {
             "colorbar": {
              "outlinewidth": 0,
              "ticks": ""
             }
            },
            "type": "scatter3d"
           }
          ],
          "scattercarpet": [
           {
            "marker": {
             "colorbar": {
              "outlinewidth": 0,
              "ticks": ""
             }
            },
            "type": "scattercarpet"
           }
          ],
          "scattergeo": [
           {
            "marker": {
             "colorbar": {
              "outlinewidth": 0,
              "ticks": ""
             }
            },
            "type": "scattergeo"
           }
          ],
          "scattergl": [
           {
            "marker": {
             "colorbar": {
              "outlinewidth": 0,
              "ticks": ""
             }
            },
            "type": "scattergl"
           }
          ],
          "scattermapbox": [
           {
            "marker": {
             "colorbar": {
              "outlinewidth": 0,
              "ticks": ""
             }
            },
            "type": "scattermapbox"
           }
          ],
          "scatterpolar": [
           {
            "marker": {
             "colorbar": {
              "outlinewidth": 0,
              "ticks": ""
             }
            },
            "type": "scatterpolar"
           }
          ],
          "scatterpolargl": [
           {
            "marker": {
             "colorbar": {
              "outlinewidth": 0,
              "ticks": ""
             }
            },
            "type": "scatterpolargl"
           }
          ],
          "scatterternary": [
           {
            "marker": {
             "colorbar": {
              "outlinewidth": 0,
              "ticks": ""
             }
            },
            "type": "scatterternary"
           }
          ],
          "surface": [
           {
            "colorbar": {
             "outlinewidth": 0,
             "ticks": ""
            },
            "colorscale": [
             [
              0,
              "#0d0887"
             ],
             [
              0.1111111111111111,
              "#46039f"
             ],
             [
              0.2222222222222222,
              "#7201a8"
             ],
             [
              0.3333333333333333,
              "#9c179e"
             ],
             [
              0.4444444444444444,
              "#bd3786"
             ],
             [
              0.5555555555555556,
              "#d8576b"
             ],
             [
              0.6666666666666666,
              "#ed7953"
             ],
             [
              0.7777777777777778,
              "#fb9f3a"
             ],
             [
              0.8888888888888888,
              "#fdca26"
             ],
             [
              1,
              "#f0f921"
             ]
            ],
            "type": "surface"
           }
          ],
          "table": [
           {
            "cells": {
             "fill": {
              "color": "#EBF0F8"
             },
             "line": {
              "color": "white"
             }
            },
            "header": {
             "fill": {
              "color": "#C8D4E3"
             },
             "line": {
              "color": "white"
             }
            },
            "type": "table"
           }
          ]
         },
         "layout": {
          "annotationdefaults": {
           "arrowcolor": "#2a3f5f",
           "arrowhead": 0,
           "arrowwidth": 1
          },
          "autotypenumbers": "strict",
          "coloraxis": {
           "colorbar": {
            "outlinewidth": 0,
            "ticks": ""
           }
          },
          "colorscale": {
           "diverging": [
            [
             0,
             "#8e0152"
            ],
            [
             0.1,
             "#c51b7d"
            ],
            [
             0.2,
             "#de77ae"
            ],
            [
             0.3,
             "#f1b6da"
            ],
            [
             0.4,
             "#fde0ef"
            ],
            [
             0.5,
             "#f7f7f7"
            ],
            [
             0.6,
             "#e6f5d0"
            ],
            [
             0.7,
             "#b8e186"
            ],
            [
             0.8,
             "#7fbc41"
            ],
            [
             0.9,
             "#4d9221"
            ],
            [
             1,
             "#276419"
            ]
           ],
           "sequential": [
            [
             0,
             "#0d0887"
            ],
            [
             0.1111111111111111,
             "#46039f"
            ],
            [
             0.2222222222222222,
             "#7201a8"
            ],
            [
             0.3333333333333333,
             "#9c179e"
            ],
            [
             0.4444444444444444,
             "#bd3786"
            ],
            [
             0.5555555555555556,
             "#d8576b"
            ],
            [
             0.6666666666666666,
             "#ed7953"
            ],
            [
             0.7777777777777778,
             "#fb9f3a"
            ],
            [
             0.8888888888888888,
             "#fdca26"
            ],
            [
             1,
             "#f0f921"
            ]
           ],
           "sequentialminus": [
            [
             0,
             "#0d0887"
            ],
            [
             0.1111111111111111,
             "#46039f"
            ],
            [
             0.2222222222222222,
             "#7201a8"
            ],
            [
             0.3333333333333333,
             "#9c179e"
            ],
            [
             0.4444444444444444,
             "#bd3786"
            ],
            [
             0.5555555555555556,
             "#d8576b"
            ],
            [
             0.6666666666666666,
             "#ed7953"
            ],
            [
             0.7777777777777778,
             "#fb9f3a"
            ],
            [
             0.8888888888888888,
             "#fdca26"
            ],
            [
             1,
             "#f0f921"
            ]
           ]
          },
          "colorway": [
           "#636efa",
           "#EF553B",
           "#00cc96",
           "#ab63fa",
           "#FFA15A",
           "#19d3f3",
           "#FF6692",
           "#B6E880",
           "#FF97FF",
           "#FECB52"
          ],
          "font": {
           "color": "#2a3f5f"
          },
          "geo": {
           "bgcolor": "white",
           "lakecolor": "white",
           "landcolor": "#E5ECF6",
           "showlakes": true,
           "showland": true,
           "subunitcolor": "white"
          },
          "hoverlabel": {
           "align": "left"
          },
          "hovermode": "closest",
          "mapbox": {
           "style": "light"
          },
          "paper_bgcolor": "white",
          "plot_bgcolor": "#E5ECF6",
          "polar": {
           "angularaxis": {
            "gridcolor": "white",
            "linecolor": "white",
            "ticks": ""
           },
           "bgcolor": "#E5ECF6",
           "radialaxis": {
            "gridcolor": "white",
            "linecolor": "white",
            "ticks": ""
           }
          },
          "scene": {
           "xaxis": {
            "backgroundcolor": "#E5ECF6",
            "gridcolor": "white",
            "gridwidth": 2,
            "linecolor": "white",
            "showbackground": true,
            "ticks": "",
            "zerolinecolor": "white"
           },
           "yaxis": {
            "backgroundcolor": "#E5ECF6",
            "gridcolor": "white",
            "gridwidth": 2,
            "linecolor": "white",
            "showbackground": true,
            "ticks": "",
            "zerolinecolor": "white"
           },
           "zaxis": {
            "backgroundcolor": "#E5ECF6",
            "gridcolor": "white",
            "gridwidth": 2,
            "linecolor": "white",
            "showbackground": true,
            "ticks": "",
            "zerolinecolor": "white"
           }
          },
          "shapedefaults": {
           "line": {
            "color": "#2a3f5f"
           }
          },
          "ternary": {
           "aaxis": {
            "gridcolor": "white",
            "linecolor": "white",
            "ticks": ""
           },
           "baxis": {
            "gridcolor": "white",
            "linecolor": "white",
            "ticks": ""
           },
           "bgcolor": "#E5ECF6",
           "caxis": {
            "gridcolor": "white",
            "linecolor": "white",
            "ticks": ""
           }
          },
          "title": {
           "x": 0.05
          },
          "xaxis": {
           "automargin": true,
           "gridcolor": "white",
           "linecolor": "white",
           "ticks": "",
           "title": {
            "standoff": 15
           },
           "zerolinecolor": "white",
           "zerolinewidth": 2
          },
          "yaxis": {
           "automargin": true,
           "gridcolor": "white",
           "linecolor": "white",
           "ticks": "",
           "title": {
            "standoff": 15
           },
           "zerolinecolor": "white",
           "zerolinewidth": 2
          }
         }
        },
        "title": {
         "text": "Contagem de Gêneros dos Usuários",
         "x": 0.5
        },
        "width": 800,
        "xaxis": {
         "title": {
          "text": "Gênero"
         }
        },
        "yaxis": {
         "title": {
          "text": "Contagem de Usuários"
         }
        }
       }
      }
     },
     "metadata": {},
     "output_type": "display_data"
    }
   ],
   "source": [
    "# Contar os valores únicos na coluna 'GENERO'\n",
    "\n",
    "fig = go.Figure(go.Bar(\n",
    "    x=data_genero.index,  # Gêneros: Masculino, Feminino, Prefiro não informar\n",
    "    y=data_genero.values,  # Contagem dos gêneros\n",
    "    marker_color=['Green', 'purple', 'red']  # Cores personalizadas\n",
    "))\n",
    "\n",
    "# Adicionando títulos e rótulos\n",
    "fig.update_layout(\n",
    "    title='Contagem de Gêneros dos Usuários', \n",
    "    xaxis_title='Gênero',\n",
    "    yaxis_title='Contagem de Usuários',\n",
    "    template='plotly', title_x = 0.5,\n",
    "    width=800,\n",
    "    height=600\n",
    ")\n",
    "\n",
    "# Exibindo o gráfico\n",
    "fig.show()"
   ]
  },
  {
   "cell_type": "markdown",
   "id": "885ab6bc",
   "metadata": {},
   "source": [
    "### 2.2. Perfil de idade dos usuários"
   ]
  },
  {
   "cell_type": "code",
   "execution_count": 54,
   "id": "9e6fd12c-3316-4fc3-8166-5022491b448e",
   "metadata": {
    "tags": []
   },
   "outputs": [
    {
     "data": {
      "text/plain": [
       "np.float64(31.153517220250375)"
      ]
     },
     "execution_count": 54,
     "metadata": {},
     "output_type": "execute_result"
    }
   ],
   "source": [
    "# Perfil de idade dos usuários \n",
    "\n",
    "mediaidade"
   ]
  },
  {
   "cell_type": "code",
   "execution_count": 55,
   "id": "90684c68-ff70-47bd-bcd5-aa34ea4e9b4f",
   "metadata": {
    "tags": []
   },
   "outputs": [
    {
     "data": {
      "text/plain": [
       "np.float64(54.0)"
      ]
     },
     "execution_count": 55,
     "metadata": {},
     "output_type": "execute_result"
    }
   ],
   "source": [
    "# Idade máxima \n",
    "max_idade = data['IDADE'].max()\n",
    "max_idade"
   ]
  },
  {
   "cell_type": "code",
   "execution_count": 56,
   "id": "84e26511-0e87-4c8e-bc56-40868ac209d1",
   "metadata": {
    "tags": []
   },
   "outputs": [
    {
     "data": {
      "text/plain": [
       "np.float64(18.0)"
      ]
     },
     "execution_count": 56,
     "metadata": {},
     "output_type": "execute_result"
    }
   ],
   "source": [
    "# Idade mínima \n",
    "min_idade = data['IDADE'].min()\n",
    "min_idade"
   ]
  },
  {
   "cell_type": "markdown",
   "id": "c7dc91ff",
   "metadata": {},
   "source": [
    "Perfil de idade por gênero \n"
   ]
  },
  {
   "cell_type": "code",
   "execution_count": 57,
   "id": "3c20258a-624e-417f-9daa-cac29b197d78",
   "metadata": {
    "tags": []
   },
   "outputs": [
    {
     "data": {
      "text/plain": [
       "np.float64(31.29591437447525)"
      ]
     },
     "execution_count": 57,
     "metadata": {},
     "output_type": "execute_result"
    }
   ],
   "source": [
    "\n",
    "idademedia_mulheres = data[data['GENERO']=='Feminino']['IDADE'].mean()\n",
    "idademedia_mulheres"
   ]
  },
  {
   "cell_type": "code",
   "execution_count": 58,
   "id": "19ebc2b2-bebe-45b6-a472-e5bc68a04bad",
   "metadata": {
    "tags": []
   },
   "outputs": [
    {
     "data": {
      "text/plain": [
       "np.float64(31.13770428039173)"
      ]
     },
     "execution_count": 58,
     "metadata": {},
     "output_type": "execute_result"
    }
   ],
   "source": [
    "idademedia_homens = data[data['GENERO']=='Masculino']['IDADE'].mean()\n",
    "idademedia_homens"
   ]
  },
  {
   "cell_type": "code",
   "execution_count": 59,
   "id": "f906d16c-87a9-4285-81b4-7d44f6fc95c4",
   "metadata": {
    "tags": []
   },
   "outputs": [
    {
     "name": "stdout",
     "output_type": "stream",
     "text": [
      "A média de idade por gênero é bastante próxima. \n",
      " Mulheres: 31.30 \n",
      " Homens: 31.14 \n"
     ]
    }
   ],
   "source": [
    "print(f'A média de idade por gênero é bastante próxima. \\n Mulheres: {idademedia_mulheres:.2f} \\n Homens: {idademedia_homens:.2f} ')"
   ]
  },
  {
   "cell_type": "code",
   "execution_count": 60,
   "id": "5c0d7da6",
   "metadata": {},
   "outputs": [
    {
     "data": {
      "application/vnd.plotly.v1+json": {
       "config": {
        "plotlyServerURL": "https://plot.ly"
       },
       "data": [
        {
         "marker": {
          "color": "blue"
         },
         "type": "bar",
         "x": [
          18,
          19,
          20,
          20.205479452054796,
          21,
          22,
          23,
          24,
          25,
          26,
          27,
          28,
          29,
          30,
          31,
          31.153517220250375,
          32,
          33,
          34,
          35,
          36,
          37,
          38,
          39,
          40,
          41,
          42,
          43,
          44,
          45,
          46,
          47,
          48,
          49,
          50,
          51,
          52,
          53,
          54
         ],
         "y": [
          13,
          22,
          33,
          6,
          78,
          108,
          145,
          196,
          274,
          281,
          299,
          291,
          253,
          248,
          253,
          68,
          225,
          180,
          189,
          145,
          154,
          118,
          78,
          103,
          67,
          63,
          54,
          51,
          42,
          41,
          31,
          32,
          21,
          20,
          34,
          10,
          20,
          12,
          13
         ]
        },
        {
         "line": {
          "color": "blue",
          "width": 3
         },
         "marker": {
          "size": 6
         },
         "mode": "lines+markers",
         "type": "scatter",
         "x": [
          18,
          19,
          20,
          20.205479452054796,
          21,
          22,
          23,
          24,
          25,
          26,
          27,
          28,
          29,
          30,
          31,
          31.153517220250375,
          32,
          33,
          34,
          35,
          36,
          37,
          38,
          39,
          40,
          41,
          42,
          43,
          44,
          45,
          46,
          47,
          48,
          49,
          50,
          51,
          52,
          53,
          54
         ],
         "y": [
          13,
          22,
          33,
          6,
          78,
          108,
          145,
          196,
          274,
          281,
          299,
          291,
          253,
          248,
          253,
          68,
          225,
          180,
          189,
          145,
          154,
          118,
          78,
          103,
          67,
          63,
          54,
          51,
          42,
          41,
          31,
          32,
          21,
          20,
          34,
          10,
          20,
          12,
          13
         ]
        }
       ],
       "layout": {
        "height": 600,
        "template": {
         "data": {
          "bar": [
           {
            "error_x": {
             "color": "#2a3f5f"
            },
            "error_y": {
             "color": "#2a3f5f"
            },
            "marker": {
             "line": {
              "color": "#E5ECF6",
              "width": 0.5
             },
             "pattern": {
              "fillmode": "overlay",
              "size": 10,
              "solidity": 0.2
             }
            },
            "type": "bar"
           }
          ],
          "barpolar": [
           {
            "marker": {
             "line": {
              "color": "#E5ECF6",
              "width": 0.5
             },
             "pattern": {
              "fillmode": "overlay",
              "size": 10,
              "solidity": 0.2
             }
            },
            "type": "barpolar"
           }
          ],
          "carpet": [
           {
            "aaxis": {
             "endlinecolor": "#2a3f5f",
             "gridcolor": "white",
             "linecolor": "white",
             "minorgridcolor": "white",
             "startlinecolor": "#2a3f5f"
            },
            "baxis": {
             "endlinecolor": "#2a3f5f",
             "gridcolor": "white",
             "linecolor": "white",
             "minorgridcolor": "white",
             "startlinecolor": "#2a3f5f"
            },
            "type": "carpet"
           }
          ],
          "choropleth": [
           {
            "colorbar": {
             "outlinewidth": 0,
             "ticks": ""
            },
            "type": "choropleth"
           }
          ],
          "contour": [
           {
            "colorbar": {
             "outlinewidth": 0,
             "ticks": ""
            },
            "colorscale": [
             [
              0,
              "#0d0887"
             ],
             [
              0.1111111111111111,
              "#46039f"
             ],
             [
              0.2222222222222222,
              "#7201a8"
             ],
             [
              0.3333333333333333,
              "#9c179e"
             ],
             [
              0.4444444444444444,
              "#bd3786"
             ],
             [
              0.5555555555555556,
              "#d8576b"
             ],
             [
              0.6666666666666666,
              "#ed7953"
             ],
             [
              0.7777777777777778,
              "#fb9f3a"
             ],
             [
              0.8888888888888888,
              "#fdca26"
             ],
             [
              1,
              "#f0f921"
             ]
            ],
            "type": "contour"
           }
          ],
          "contourcarpet": [
           {
            "colorbar": {
             "outlinewidth": 0,
             "ticks": ""
            },
            "type": "contourcarpet"
           }
          ],
          "heatmap": [
           {
            "colorbar": {
             "outlinewidth": 0,
             "ticks": ""
            },
            "colorscale": [
             [
              0,
              "#0d0887"
             ],
             [
              0.1111111111111111,
              "#46039f"
             ],
             [
              0.2222222222222222,
              "#7201a8"
             ],
             [
              0.3333333333333333,
              "#9c179e"
             ],
             [
              0.4444444444444444,
              "#bd3786"
             ],
             [
              0.5555555555555556,
              "#d8576b"
             ],
             [
              0.6666666666666666,
              "#ed7953"
             ],
             [
              0.7777777777777778,
              "#fb9f3a"
             ],
             [
              0.8888888888888888,
              "#fdca26"
             ],
             [
              1,
              "#f0f921"
             ]
            ],
            "type": "heatmap"
           }
          ],
          "heatmapgl": [
           {
            "colorbar": {
             "outlinewidth": 0,
             "ticks": ""
            },
            "colorscale": [
             [
              0,
              "#0d0887"
             ],
             [
              0.1111111111111111,
              "#46039f"
             ],
             [
              0.2222222222222222,
              "#7201a8"
             ],
             [
              0.3333333333333333,
              "#9c179e"
             ],
             [
              0.4444444444444444,
              "#bd3786"
             ],
             [
              0.5555555555555556,
              "#d8576b"
             ],
             [
              0.6666666666666666,
              "#ed7953"
             ],
             [
              0.7777777777777778,
              "#fb9f3a"
             ],
             [
              0.8888888888888888,
              "#fdca26"
             ],
             [
              1,
              "#f0f921"
             ]
            ],
            "type": "heatmapgl"
           }
          ],
          "histogram": [
           {
            "marker": {
             "pattern": {
              "fillmode": "overlay",
              "size": 10,
              "solidity": 0.2
             }
            },
            "type": "histogram"
           }
          ],
          "histogram2d": [
           {
            "colorbar": {
             "outlinewidth": 0,
             "ticks": ""
            },
            "colorscale": [
             [
              0,
              "#0d0887"
             ],
             [
              0.1111111111111111,
              "#46039f"
             ],
             [
              0.2222222222222222,
              "#7201a8"
             ],
             [
              0.3333333333333333,
              "#9c179e"
             ],
             [
              0.4444444444444444,
              "#bd3786"
             ],
             [
              0.5555555555555556,
              "#d8576b"
             ],
             [
              0.6666666666666666,
              "#ed7953"
             ],
             [
              0.7777777777777778,
              "#fb9f3a"
             ],
             [
              0.8888888888888888,
              "#fdca26"
             ],
             [
              1,
              "#f0f921"
             ]
            ],
            "type": "histogram2d"
           }
          ],
          "histogram2dcontour": [
           {
            "colorbar": {
             "outlinewidth": 0,
             "ticks": ""
            },
            "colorscale": [
             [
              0,
              "#0d0887"
             ],
             [
              0.1111111111111111,
              "#46039f"
             ],
             [
              0.2222222222222222,
              "#7201a8"
             ],
             [
              0.3333333333333333,
              "#9c179e"
             ],
             [
              0.4444444444444444,
              "#bd3786"
             ],
             [
              0.5555555555555556,
              "#d8576b"
             ],
             [
              0.6666666666666666,
              "#ed7953"
             ],
             [
              0.7777777777777778,
              "#fb9f3a"
             ],
             [
              0.8888888888888888,
              "#fdca26"
             ],
             [
              1,
              "#f0f921"
             ]
            ],
            "type": "histogram2dcontour"
           }
          ],
          "mesh3d": [
           {
            "colorbar": {
             "outlinewidth": 0,
             "ticks": ""
            },
            "type": "mesh3d"
           }
          ],
          "parcoords": [
           {
            "line": {
             "colorbar": {
              "outlinewidth": 0,
              "ticks": ""
             }
            },
            "type": "parcoords"
           }
          ],
          "pie": [
           {
            "automargin": true,
            "type": "pie"
           }
          ],
          "scatter": [
           {
            "fillpattern": {
             "fillmode": "overlay",
             "size": 10,
             "solidity": 0.2
            },
            "type": "scatter"
           }
          ],
          "scatter3d": [
           {
            "line": {
             "colorbar": {
              "outlinewidth": 0,
              "ticks": ""
             }
            },
            "marker": {
             "colorbar": {
              "outlinewidth": 0,
              "ticks": ""
             }
            },
            "type": "scatter3d"
           }
          ],
          "scattercarpet": [
           {
            "marker": {
             "colorbar": {
              "outlinewidth": 0,
              "ticks": ""
             }
            },
            "type": "scattercarpet"
           }
          ],
          "scattergeo": [
           {
            "marker": {
             "colorbar": {
              "outlinewidth": 0,
              "ticks": ""
             }
            },
            "type": "scattergeo"
           }
          ],
          "scattergl": [
           {
            "marker": {
             "colorbar": {
              "outlinewidth": 0,
              "ticks": ""
             }
            },
            "type": "scattergl"
           }
          ],
          "scattermapbox": [
           {
            "marker": {
             "colorbar": {
              "outlinewidth": 0,
              "ticks": ""
             }
            },
            "type": "scattermapbox"
           }
          ],
          "scatterpolar": [
           {
            "marker": {
             "colorbar": {
              "outlinewidth": 0,
              "ticks": ""
             }
            },
            "type": "scatterpolar"
           }
          ],
          "scatterpolargl": [
           {
            "marker": {
             "colorbar": {
              "outlinewidth": 0,
              "ticks": ""
             }
            },
            "type": "scatterpolargl"
           }
          ],
          "scatterternary": [
           {
            "marker": {
             "colorbar": {
              "outlinewidth": 0,
              "ticks": ""
             }
            },
            "type": "scatterternary"
           }
          ],
          "surface": [
           {
            "colorbar": {
             "outlinewidth": 0,
             "ticks": ""
            },
            "colorscale": [
             [
              0,
              "#0d0887"
             ],
             [
              0.1111111111111111,
              "#46039f"
             ],
             [
              0.2222222222222222,
              "#7201a8"
             ],
             [
              0.3333333333333333,
              "#9c179e"
             ],
             [
              0.4444444444444444,
              "#bd3786"
             ],
             [
              0.5555555555555556,
              "#d8576b"
             ],
             [
              0.6666666666666666,
              "#ed7953"
             ],
             [
              0.7777777777777778,
              "#fb9f3a"
             ],
             [
              0.8888888888888888,
              "#fdca26"
             ],
             [
              1,
              "#f0f921"
             ]
            ],
            "type": "surface"
           }
          ],
          "table": [
           {
            "cells": {
             "fill": {
              "color": "#EBF0F8"
             },
             "line": {
              "color": "white"
             }
            },
            "header": {
             "fill": {
              "color": "#C8D4E3"
             },
             "line": {
              "color": "white"
             }
            },
            "type": "table"
           }
          ]
         },
         "layout": {
          "annotationdefaults": {
           "arrowcolor": "#2a3f5f",
           "arrowhead": 0,
           "arrowwidth": 1
          },
          "autotypenumbers": "strict",
          "coloraxis": {
           "colorbar": {
            "outlinewidth": 0,
            "ticks": ""
           }
          },
          "colorscale": {
           "diverging": [
            [
             0,
             "#8e0152"
            ],
            [
             0.1,
             "#c51b7d"
            ],
            [
             0.2,
             "#de77ae"
            ],
            [
             0.3,
             "#f1b6da"
            ],
            [
             0.4,
             "#fde0ef"
            ],
            [
             0.5,
             "#f7f7f7"
            ],
            [
             0.6,
             "#e6f5d0"
            ],
            [
             0.7,
             "#b8e186"
            ],
            [
             0.8,
             "#7fbc41"
            ],
            [
             0.9,
             "#4d9221"
            ],
            [
             1,
             "#276419"
            ]
           ],
           "sequential": [
            [
             0,
             "#0d0887"
            ],
            [
             0.1111111111111111,
             "#46039f"
            ],
            [
             0.2222222222222222,
             "#7201a8"
            ],
            [
             0.3333333333333333,
             "#9c179e"
            ],
            [
             0.4444444444444444,
             "#bd3786"
            ],
            [
             0.5555555555555556,
             "#d8576b"
            ],
            [
             0.6666666666666666,
             "#ed7953"
            ],
            [
             0.7777777777777778,
             "#fb9f3a"
            ],
            [
             0.8888888888888888,
             "#fdca26"
            ],
            [
             1,
             "#f0f921"
            ]
           ],
           "sequentialminus": [
            [
             0,
             "#0d0887"
            ],
            [
             0.1111111111111111,
             "#46039f"
            ],
            [
             0.2222222222222222,
             "#7201a8"
            ],
            [
             0.3333333333333333,
             "#9c179e"
            ],
            [
             0.4444444444444444,
             "#bd3786"
            ],
            [
             0.5555555555555556,
             "#d8576b"
            ],
            [
             0.6666666666666666,
             "#ed7953"
            ],
            [
             0.7777777777777778,
             "#fb9f3a"
            ],
            [
             0.8888888888888888,
             "#fdca26"
            ],
            [
             1,
             "#f0f921"
            ]
           ]
          },
          "colorway": [
           "#636efa",
           "#EF553B",
           "#00cc96",
           "#ab63fa",
           "#FFA15A",
           "#19d3f3",
           "#FF6692",
           "#B6E880",
           "#FF97FF",
           "#FECB52"
          ],
          "font": {
           "color": "#2a3f5f"
          },
          "geo": {
           "bgcolor": "white",
           "lakecolor": "white",
           "landcolor": "#E5ECF6",
           "showlakes": true,
           "showland": true,
           "subunitcolor": "white"
          },
          "hoverlabel": {
           "align": "left"
          },
          "hovermode": "closest",
          "mapbox": {
           "style": "light"
          },
          "paper_bgcolor": "white",
          "plot_bgcolor": "#E5ECF6",
          "polar": {
           "angularaxis": {
            "gridcolor": "white",
            "linecolor": "white",
            "ticks": ""
           },
           "bgcolor": "#E5ECF6",
           "radialaxis": {
            "gridcolor": "white",
            "linecolor": "white",
            "ticks": ""
           }
          },
          "scene": {
           "xaxis": {
            "backgroundcolor": "#E5ECF6",
            "gridcolor": "white",
            "gridwidth": 2,
            "linecolor": "white",
            "showbackground": true,
            "ticks": "",
            "zerolinecolor": "white"
           },
           "yaxis": {
            "backgroundcolor": "#E5ECF6",
            "gridcolor": "white",
            "gridwidth": 2,
            "linecolor": "white",
            "showbackground": true,
            "ticks": "",
            "zerolinecolor": "white"
           },
           "zaxis": {
            "backgroundcolor": "#E5ECF6",
            "gridcolor": "white",
            "gridwidth": 2,
            "linecolor": "white",
            "showbackground": true,
            "ticks": "",
            "zerolinecolor": "white"
           }
          },
          "shapedefaults": {
           "line": {
            "color": "#2a3f5f"
           }
          },
          "ternary": {
           "aaxis": {
            "gridcolor": "white",
            "linecolor": "white",
            "ticks": ""
           },
           "baxis": {
            "gridcolor": "white",
            "linecolor": "white",
            "ticks": ""
           },
           "bgcolor": "#E5ECF6",
           "caxis": {
            "gridcolor": "white",
            "linecolor": "white",
            "ticks": ""
           }
          },
          "title": {
           "x": 0.05
          },
          "xaxis": {
           "automargin": true,
           "gridcolor": "white",
           "linecolor": "white",
           "ticks": "",
           "title": {
            "standoff": 15
           },
           "zerolinecolor": "white",
           "zerolinewidth": 2
          },
          "yaxis": {
           "automargin": true,
           "gridcolor": "white",
           "linecolor": "white",
           "ticks": "",
           "title": {
            "standoff": 15
           },
           "zerolinecolor": "white",
           "zerolinewidth": 2
          }
         }
        },
        "title": {
         "text": "Distribuição da Idade dos Usuários",
         "x": 0.5
        },
        "width": 800,
        "xaxis": {
         "title": {
          "text": "Idade (anos)"
         }
        },
        "yaxis": {
         "title": {
          "text": "Número de Usuários"
         }
        }
       }
      }
     },
     "metadata": {},
     "output_type": "display_data"
    }
   ],
   "source": [
    "\n",
    "# Contagem de valores únicos na coluna 'IDADE'\n",
    "data_idade = data['IDADE'].value_counts().sort_index()  # Ordenando por idade para um gráfico mais claro\n",
    "\n",
    "# Criando o gráfico de barras\n",
    "fig = go.Figure()\n",
    "\n",
    "# Adicionando o gráfico de barras\n",
    "fig.add_trace(go.Bar(\n",
    "    x=data_idade.index,  # Idades\n",
    "    y=data_idade.values,  # Contagem das idades\n",
    "    marker_color='blue'\n",
    "))\n",
    "\n",
    "# Adicionando a linha conectando as barras (gráfico de linha)\n",
    "fig.add_trace(go.Scatter(\n",
    "    x=data_idade.index,  # Idades\n",
    "    y=data_idade.values,  # Contagem das idades\n",
    "    mode='lines+markers',  # Para incluir pontos e linhas\n",
    "    line=dict(color='blue', width=3),  # Definindo a cor e espessura da linha\n",
    "    marker=dict(size=6)  # Definindo o tamanho dos pontos\n",
    "))\n",
    "\n",
    "# Ajustando layout com título e rótulos\n",
    "fig.update_layout(\n",
    "    title='Distribuição da Idade dos Usuários', \n",
    "    xaxis_title='Idade (anos)',\n",
    "    yaxis_title='Número de Usuários',\n",
    "    template='plotly',\n",
    "    title_x=0.5,  # Centraliza o título\n",
    "    width=800,\n",
    "    height=600\n",
    ")\n",
    "\n",
    "# Exibindo o gráfico\n",
    "fig.show()\n"
   ]
  },
  {
   "cell_type": "markdown",
   "id": "30cdce5d",
   "metadata": {},
   "source": [
    "### 2.3. Distribuição de senioridade dos usuários \n"
   ]
  },
  {
   "cell_type": "code",
   "execution_count": 61,
   "id": "d6dce529-bb92-4f82-afb2-fa65b6f011f0",
   "metadata": {
    "tags": []
   },
   "outputs": [
    {
     "data": {
      "text/plain": [
       "NOVO NÍVEL\n",
       "Pleno             1060\n",
       "Júnior            1023\n",
       "Sênior             898\n",
       "Pessoa Gestora     713\n",
       "Name: count, dtype: int64"
      ]
     },
     "execution_count": 61,
     "metadata": {},
     "output_type": "execute_result"
    }
   ],
   "source": [
    "# data = data.rename(columns={'Unnamed: 26': 'NOVO NÍVEL'})\n",
    "data['NOVO NÍVEL'].value_counts()"
   ]
  },
  {
   "cell_type": "markdown",
   "id": "965207f3",
   "metadata": {},
   "source": [
    "Distribuição de senioridade por gênero \n"
   ]
  },
  {
   "cell_type": "code",
   "execution_count": 62,
   "id": "c092310a-d13f-4696-96ad-cf44ad1d8ad8",
   "metadata": {
    "tags": []
   },
   "outputs": [
    {
     "data": {
      "text/html": [
       "<div>\n",
       "<style scoped>\n",
       "    .dataframe tbody tr th:only-of-type {\n",
       "        vertical-align: middle;\n",
       "    }\n",
       "\n",
       "    .dataframe tbody tr th {\n",
       "        vertical-align: top;\n",
       "    }\n",
       "\n",
       "    .dataframe thead tr th {\n",
       "        text-align: left;\n",
       "    }\n",
       "\n",
       "    .dataframe thead tr:last-of-type th {\n",
       "        text-align: right;\n",
       "    }\n",
       "</style>\n",
       "<table border=\"1\" class=\"dataframe\">\n",
       "  <thead>\n",
       "    <tr>\n",
       "      <th></th>\n",
       "      <th colspan=\"4\" halign=\"left\">ID</th>\n",
       "    </tr>\n",
       "    <tr>\n",
       "      <th>NOVO NÍVEL</th>\n",
       "      <th>Júnior</th>\n",
       "      <th>Pessoa Gestora</th>\n",
       "      <th>Pleno</th>\n",
       "      <th>Sênior</th>\n",
       "    </tr>\n",
       "    <tr>\n",
       "      <th>GENERO</th>\n",
       "      <th></th>\n",
       "      <th></th>\n",
       "      <th></th>\n",
       "      <th></th>\n",
       "    </tr>\n",
       "  </thead>\n",
       "  <tbody>\n",
       "    <tr>\n",
       "      <th>Feminino</th>\n",
       "      <td>272</td>\n",
       "      <td>132</td>\n",
       "      <td>295</td>\n",
       "      <td>187</td>\n",
       "    </tr>\n",
       "    <tr>\n",
       "      <th>Masculino</th>\n",
       "      <td>743</td>\n",
       "      <td>578</td>\n",
       "      <td>760</td>\n",
       "      <td>709</td>\n",
       "    </tr>\n",
       "    <tr>\n",
       "      <th>Prefiro não informar</th>\n",
       "      <td>4</td>\n",
       "      <td>2</td>\n",
       "      <td>4</td>\n",
       "      <td>1</td>\n",
       "    </tr>\n",
       "  </tbody>\n",
       "</table>\n",
       "</div>"
      ],
      "text/plain": [
       "                         ID                            \n",
       "NOVO NÍVEL           Júnior Pessoa Gestora Pleno Sênior\n",
       "GENERO                                                 \n",
       "Feminino                272            132   295    187\n",
       "Masculino               743            578   760    709\n",
       "Prefiro não informar      4              2     4      1"
      ]
     },
     "execution_count": 62,
     "metadata": {},
     "output_type": "execute_result"
    }
   ],
   "source": [
    "cargo_genero = pd.pivot_table(data, values=['ID'], index=['GENERO'], columns=['NOVO NÍVEL'], aggfunc='count')\n",
    "cargo_genero"
   ]
  },
  {
   "cell_type": "code",
   "execution_count": 63,
   "id": "8ef78ceb-a6a3-44ed-901c-3c39b8da4908",
   "metadata": {
    "tags": []
   },
   "outputs": [
    {
     "data": {
      "text/html": [
       "<div>\n",
       "<style scoped>\n",
       "    .dataframe tbody tr th:only-of-type {\n",
       "        vertical-align: middle;\n",
       "    }\n",
       "\n",
       "    .dataframe tbody tr th {\n",
       "        vertical-align: top;\n",
       "    }\n",
       "\n",
       "    .dataframe thead tr th {\n",
       "        text-align: left;\n",
       "    }\n",
       "\n",
       "    .dataframe thead tr:last-of-type th {\n",
       "        text-align: right;\n",
       "    }\n",
       "</style>\n",
       "<table border=\"1\" class=\"dataframe\">\n",
       "  <thead>\n",
       "    <tr>\n",
       "      <th></th>\n",
       "      <th colspan=\"4\" halign=\"left\">ID</th>\n",
       "    </tr>\n",
       "    <tr>\n",
       "      <th>NOVO NÍVEL</th>\n",
       "      <th>Júnior</th>\n",
       "      <th>Pessoa Gestora</th>\n",
       "      <th>Pleno</th>\n",
       "      <th>Sênior</th>\n",
       "    </tr>\n",
       "    <tr>\n",
       "      <th>GENERO</th>\n",
       "      <th></th>\n",
       "      <th></th>\n",
       "      <th></th>\n",
       "      <th></th>\n",
       "    </tr>\n",
       "  </thead>\n",
       "  <tbody>\n",
       "    <tr>\n",
       "      <th>Feminino</th>\n",
       "      <td>26.692836</td>\n",
       "      <td>18.539326</td>\n",
       "      <td>27.856468</td>\n",
       "      <td>20.847269</td>\n",
       "    </tr>\n",
       "    <tr>\n",
       "      <th>Masculino</th>\n",
       "      <td>72.914622</td>\n",
       "      <td>81.179775</td>\n",
       "      <td>71.765817</td>\n",
       "      <td>79.041249</td>\n",
       "    </tr>\n",
       "    <tr>\n",
       "      <th>Prefiro não informar</th>\n",
       "      <td>0.392542</td>\n",
       "      <td>0.280899</td>\n",
       "      <td>0.377715</td>\n",
       "      <td>0.111483</td>\n",
       "    </tr>\n",
       "  </tbody>\n",
       "</table>\n",
       "</div>"
      ],
      "text/plain": [
       "                             ID                                     \n",
       "NOVO NÍVEL               Júnior Pessoa Gestora      Pleno     Sênior\n",
       "GENERO                                                              \n",
       "Feminino              26.692836      18.539326  27.856468  20.847269\n",
       "Masculino             72.914622      81.179775  71.765817  79.041249\n",
       "Prefiro não informar   0.392542       0.280899   0.377715   0.111483"
      ]
     },
     "execution_count": 63,
     "metadata": {},
     "output_type": "execute_result"
    }
   ],
   "source": [
    "# Distribuição do percentual de senioridade por gênero \n",
    "\n",
    "cargo_genero_percentual = cargo_genero.apply(lambda x: (x / x.sum()) * 100, axis=0)\n",
    "cargo_genero_percentual\n"
   ]
  },
  {
   "cell_type": "code",
   "execution_count": 64,
   "id": "f5559173-b08e-49d1-8543-e13d8d59d57f",
   "metadata": {
    "tags": []
   },
   "outputs": [],
   "source": [
    "# Senioridade Júnior - Genero masculino\n",
    "junior_homens = data[(data['GENERO'] == 'Masculino') & (data['NOVO NÍVEL'] == 'Júnior')]['NOVO NÍVEL'].value_counts().values[0]\n",
    "junior_mulheres =  data[(data['GENERO']=='Feminino') & (data['NOVO NÍVEL']=='Júnior')]['NOVO NÍVEL'].value_counts().values[0]\n",
    "junior_genero_ninform = data[(data['GENERO']=='Prefiro não informar') & (data['NOVO NÍVEL']=='Júnior')]['NOVO NÍVEL'].value_counts().values[0]\n"
   ]
  },
  {
   "cell_type": "code",
   "execution_count": 65,
   "id": "a8db0aaa-4753-48b2-857c-f778569feb2a",
   "metadata": {
    "tags": []
   },
   "outputs": [],
   "source": [
    "# Senioridade Plenor \n",
    "plenor_homens = data[(data['GENERO']=='Masculino') & (data['NOVO NÍVEL']=='Pleno')]['NOVO NÍVEL'].value_counts().values[0]\n",
    "plenor_mulheres = data[(data['GENERO']=='Feminino') & (data['NOVO NÍVEL']=='Pleno')]['NOVO NÍVEL'].value_counts().values[0]\n",
    "plenor_genero_ninform = data[ (data['GENERO']=='Prefiro não informar') & (data['NOVO NÍVEL']=='Pleno')]['NOVO NÍVEL'].value_counts().values[0]\n"
   ]
  },
  {
   "cell_type": "code",
   "execution_count": 66,
   "id": "e79fce81-a964-48b8-a0fa-6d39cdc156e5",
   "metadata": {
    "tags": []
   },
   "outputs": [],
   "source": [
    "# Senioridade Sênior\n",
    "senior_homens = data[(data['GENERO']=='Masculino') & (data['NOVO NÍVEL']=='Sênior') ]['NOVO NÍVEL'].value_counts().values[0]\n",
    "senior_mulheres =data[ (data['GENERO']=='Feminino') & (data['NOVO NÍVEL']=='Sênior')]['NOVO NÍVEL'].value_counts().values[0]\n",
    "senior_genero_ninform = data[ (data['GENERO']=='Prefiro não informar') & (data['NOVO NÍVEL']=='Sênior')]['NOVO NÍVEL'].value_counts().values[0]\n"
   ]
  },
  {
   "cell_type": "code",
   "execution_count": 67,
   "id": "081fd7ae",
   "metadata": {},
   "outputs": [],
   "source": [
    "# Senioridade Gestor\n",
    "gestor_masculino = data[(data['GENERO']=='Masculino') & (data['NOVO NÍVEL']=='Gestora')]['NOVO NÍVEL'].value_counts()\n",
    "gestor_masculino = gestor_masculino.values[0] if not gestor_masculino.empty else 0\n",
    "\n",
    "\n",
    "gestor_mulheres = data[(data['GENERO']=='Feminino') & (data['NOVO NÍVEL']=='Gestora')]['NOVO NÍVEL'].value_counts()\n",
    "gestor_mulheres = gestor_mulheres.values[0] if not gestor_mulheres.empty else 0\n",
    "\n",
    "\n",
    "gestor_genero_ninform = data[(data['GENERO']=='Prefiro não informar') & (data['NOVO NÍVEL']=='Gestora')]['NOVO NÍVEL'].value_counts()\n",
    "gestor_genero_ninform = gestor_genero_ninform.values[0] if not gestor_genero_ninform.empty else 0\n"
   ]
  },
  {
   "cell_type": "code",
   "execution_count": 68,
   "id": "315af1eb",
   "metadata": {},
   "outputs": [],
   "source": [
    "import plotly.graph_objects as go\n",
    "from plotly.subplots import make_subplots"
   ]
  },
  {
   "cell_type": "code",
   "execution_count": 69,
   "id": "9bba196c",
   "metadata": {},
   "outputs": [
    {
     "data": {
      "application/vnd.plotly.v1+json": {
       "config": {
        "plotlyServerURL": "https://plot.ly"
       },
       "data": [
        {
         "domain": {
          "x": [
           0,
           0.45
          ],
          "y": [
           0.625,
           1
          ]
         },
         "hole": 0.4,
         "labels": [
          "Feminino",
          "Masculino",
          "Prefiro não informar"
         ],
         "marker": {
          "colors": [
           "purple",
           "green",
           "red"
          ]
         },
         "name": "Cargo Júnior",
         "type": "pie",
         "values": [
          272,
          743,
          4
         ]
        },
        {
         "domain": {
          "x": [
           0.55,
           1
          ],
          "y": [
           0.625,
           1
          ]
         },
         "hole": 0.4,
         "labels": [
          "Feminino",
          "Masculino",
          "Prefiro não informar"
         ],
         "marker": {
          "colors": [
           "purple",
           "green",
           "red"
          ]
         },
         "name": "Cargo Plenor",
         "type": "pie",
         "values": [
          295,
          760,
          4
         ]
        },
        {
         "domain": {
          "x": [
           0,
           0.45
          ],
          "y": [
           0,
           0.375
          ]
         },
         "hole": 0.4,
         "labels": [
          "Feminino",
          "Masculino",
          "Prefiro não informar"
         ],
         "marker": {
          "colors": [
           "purple",
           "green",
           "red"
          ]
         },
         "name": "Cargo Sênior",
         "type": "pie",
         "values": [
          187,
          709,
          1
         ]
        },
        {
         "domain": {
          "x": [
           0.55,
           1
          ],
          "y": [
           0,
           0.375
          ]
         },
         "hole": 0.4,
         "labels": [
          "Feminino",
          "Masculino",
          "Prefiro não informar"
         ],
         "marker": {
          "colors": [
           "purple",
           "green",
           "red"
          ]
         },
         "name": "Gestores",
         "type": "pie",
         "values": [
          0,
          0,
          0
         ]
        }
       ],
       "layout": {
        "annotations": [
         {
          "font": {
           "size": 16
          },
          "showarrow": false,
          "text": "Distribuição de usuários em cargo Júnior por gênero",
          "x": 0.225,
          "xanchor": "center",
          "xref": "paper",
          "y": 1,
          "yanchor": "bottom",
          "yref": "paper"
         },
         {
          "font": {
           "size": 16
          },
          "showarrow": false,
          "text": "Distribuição de usuários em cargo Plenor por gênero",
          "x": 0.775,
          "xanchor": "center",
          "xref": "paper",
          "y": 1,
          "yanchor": "bottom",
          "yref": "paper"
         },
         {
          "font": {
           "size": 16
          },
          "showarrow": false,
          "text": "Distribuição de usuários em cargo Sênior por gênero",
          "x": 0.225,
          "xanchor": "center",
          "xref": "paper",
          "y": 0.375,
          "yanchor": "bottom",
          "yref": "paper"
         },
         {
          "font": {
           "size": 16
          },
          "showarrow": false,
          "text": "Distribuição de usuários Gestores por gênero",
          "x": 0.775,
          "xanchor": "center",
          "xref": "paper",
          "y": 0.375,
          "yanchor": "bottom",
          "yref": "paper"
         }
        ],
        "height": 600,
        "showlegend": true,
        "template": {
         "data": {
          "bar": [
           {
            "error_x": {
             "color": "#2a3f5f"
            },
            "error_y": {
             "color": "#2a3f5f"
            },
            "marker": {
             "line": {
              "color": "#E5ECF6",
              "width": 0.5
             },
             "pattern": {
              "fillmode": "overlay",
              "size": 10,
              "solidity": 0.2
             }
            },
            "type": "bar"
           }
          ],
          "barpolar": [
           {
            "marker": {
             "line": {
              "color": "#E5ECF6",
              "width": 0.5
             },
             "pattern": {
              "fillmode": "overlay",
              "size": 10,
              "solidity": 0.2
             }
            },
            "type": "barpolar"
           }
          ],
          "carpet": [
           {
            "aaxis": {
             "endlinecolor": "#2a3f5f",
             "gridcolor": "white",
             "linecolor": "white",
             "minorgridcolor": "white",
             "startlinecolor": "#2a3f5f"
            },
            "baxis": {
             "endlinecolor": "#2a3f5f",
             "gridcolor": "white",
             "linecolor": "white",
             "minorgridcolor": "white",
             "startlinecolor": "#2a3f5f"
            },
            "type": "carpet"
           }
          ],
          "choropleth": [
           {
            "colorbar": {
             "outlinewidth": 0,
             "ticks": ""
            },
            "type": "choropleth"
           }
          ],
          "contour": [
           {
            "colorbar": {
             "outlinewidth": 0,
             "ticks": ""
            },
            "colorscale": [
             [
              0,
              "#0d0887"
             ],
             [
              0.1111111111111111,
              "#46039f"
             ],
             [
              0.2222222222222222,
              "#7201a8"
             ],
             [
              0.3333333333333333,
              "#9c179e"
             ],
             [
              0.4444444444444444,
              "#bd3786"
             ],
             [
              0.5555555555555556,
              "#d8576b"
             ],
             [
              0.6666666666666666,
              "#ed7953"
             ],
             [
              0.7777777777777778,
              "#fb9f3a"
             ],
             [
              0.8888888888888888,
              "#fdca26"
             ],
             [
              1,
              "#f0f921"
             ]
            ],
            "type": "contour"
           }
          ],
          "contourcarpet": [
           {
            "colorbar": {
             "outlinewidth": 0,
             "ticks": ""
            },
            "type": "contourcarpet"
           }
          ],
          "heatmap": [
           {
            "colorbar": {
             "outlinewidth": 0,
             "ticks": ""
            },
            "colorscale": [
             [
              0,
              "#0d0887"
             ],
             [
              0.1111111111111111,
              "#46039f"
             ],
             [
              0.2222222222222222,
              "#7201a8"
             ],
             [
              0.3333333333333333,
              "#9c179e"
             ],
             [
              0.4444444444444444,
              "#bd3786"
             ],
             [
              0.5555555555555556,
              "#d8576b"
             ],
             [
              0.6666666666666666,
              "#ed7953"
             ],
             [
              0.7777777777777778,
              "#fb9f3a"
             ],
             [
              0.8888888888888888,
              "#fdca26"
             ],
             [
              1,
              "#f0f921"
             ]
            ],
            "type": "heatmap"
           }
          ],
          "heatmapgl": [
           {
            "colorbar": {
             "outlinewidth": 0,
             "ticks": ""
            },
            "colorscale": [
             [
              0,
              "#0d0887"
             ],
             [
              0.1111111111111111,
              "#46039f"
             ],
             [
              0.2222222222222222,
              "#7201a8"
             ],
             [
              0.3333333333333333,
              "#9c179e"
             ],
             [
              0.4444444444444444,
              "#bd3786"
             ],
             [
              0.5555555555555556,
              "#d8576b"
             ],
             [
              0.6666666666666666,
              "#ed7953"
             ],
             [
              0.7777777777777778,
              "#fb9f3a"
             ],
             [
              0.8888888888888888,
              "#fdca26"
             ],
             [
              1,
              "#f0f921"
             ]
            ],
            "type": "heatmapgl"
           }
          ],
          "histogram": [
           {
            "marker": {
             "pattern": {
              "fillmode": "overlay",
              "size": 10,
              "solidity": 0.2
             }
            },
            "type": "histogram"
           }
          ],
          "histogram2d": [
           {
            "colorbar": {
             "outlinewidth": 0,
             "ticks": ""
            },
            "colorscale": [
             [
              0,
              "#0d0887"
             ],
             [
              0.1111111111111111,
              "#46039f"
             ],
             [
              0.2222222222222222,
              "#7201a8"
             ],
             [
              0.3333333333333333,
              "#9c179e"
             ],
             [
              0.4444444444444444,
              "#bd3786"
             ],
             [
              0.5555555555555556,
              "#d8576b"
             ],
             [
              0.6666666666666666,
              "#ed7953"
             ],
             [
              0.7777777777777778,
              "#fb9f3a"
             ],
             [
              0.8888888888888888,
              "#fdca26"
             ],
             [
              1,
              "#f0f921"
             ]
            ],
            "type": "histogram2d"
           }
          ],
          "histogram2dcontour": [
           {
            "colorbar": {
             "outlinewidth": 0,
             "ticks": ""
            },
            "colorscale": [
             [
              0,
              "#0d0887"
             ],
             [
              0.1111111111111111,
              "#46039f"
             ],
             [
              0.2222222222222222,
              "#7201a8"
             ],
             [
              0.3333333333333333,
              "#9c179e"
             ],
             [
              0.4444444444444444,
              "#bd3786"
             ],
             [
              0.5555555555555556,
              "#d8576b"
             ],
             [
              0.6666666666666666,
              "#ed7953"
             ],
             [
              0.7777777777777778,
              "#fb9f3a"
             ],
             [
              0.8888888888888888,
              "#fdca26"
             ],
             [
              1,
              "#f0f921"
             ]
            ],
            "type": "histogram2dcontour"
           }
          ],
          "mesh3d": [
           {
            "colorbar": {
             "outlinewidth": 0,
             "ticks": ""
            },
            "type": "mesh3d"
           }
          ],
          "parcoords": [
           {
            "line": {
             "colorbar": {
              "outlinewidth": 0,
              "ticks": ""
             }
            },
            "type": "parcoords"
           }
          ],
          "pie": [
           {
            "automargin": true,
            "type": "pie"
           }
          ],
          "scatter": [
           {
            "fillpattern": {
             "fillmode": "overlay",
             "size": 10,
             "solidity": 0.2
            },
            "type": "scatter"
           }
          ],
          "scatter3d": [
           {
            "line": {
             "colorbar": {
              "outlinewidth": 0,
              "ticks": ""
             }
            },
            "marker": {
             "colorbar": {
              "outlinewidth": 0,
              "ticks": ""
             }
            },
            "type": "scatter3d"
           }
          ],
          "scattercarpet": [
           {
            "marker": {
             "colorbar": {
              "outlinewidth": 0,
              "ticks": ""
             }
            },
            "type": "scattercarpet"
           }
          ],
          "scattergeo": [
           {
            "marker": {
             "colorbar": {
              "outlinewidth": 0,
              "ticks": ""
             }
            },
            "type": "scattergeo"
           }
          ],
          "scattergl": [
           {
            "marker": {
             "colorbar": {
              "outlinewidth": 0,
              "ticks": ""
             }
            },
            "type": "scattergl"
           }
          ],
          "scattermapbox": [
           {
            "marker": {
             "colorbar": {
              "outlinewidth": 0,
              "ticks": ""
             }
            },
            "type": "scattermapbox"
           }
          ],
          "scatterpolar": [
           {
            "marker": {
             "colorbar": {
              "outlinewidth": 0,
              "ticks": ""
             }
            },
            "type": "scatterpolar"
           }
          ],
          "scatterpolargl": [
           {
            "marker": {
             "colorbar": {
              "outlinewidth": 0,
              "ticks": ""
             }
            },
            "type": "scatterpolargl"
           }
          ],
          "scatterternary": [
           {
            "marker": {
             "colorbar": {
              "outlinewidth": 0,
              "ticks": ""
             }
            },
            "type": "scatterternary"
           }
          ],
          "surface": [
           {
            "colorbar": {
             "outlinewidth": 0,
             "ticks": ""
            },
            "colorscale": [
             [
              0,
              "#0d0887"
             ],
             [
              0.1111111111111111,
              "#46039f"
             ],
             [
              0.2222222222222222,
              "#7201a8"
             ],
             [
              0.3333333333333333,
              "#9c179e"
             ],
             [
              0.4444444444444444,
              "#bd3786"
             ],
             [
              0.5555555555555556,
              "#d8576b"
             ],
             [
              0.6666666666666666,
              "#ed7953"
             ],
             [
              0.7777777777777778,
              "#fb9f3a"
             ],
             [
              0.8888888888888888,
              "#fdca26"
             ],
             [
              1,
              "#f0f921"
             ]
            ],
            "type": "surface"
           }
          ],
          "table": [
           {
            "cells": {
             "fill": {
              "color": "#EBF0F8"
             },
             "line": {
              "color": "white"
             }
            },
            "header": {
             "fill": {
              "color": "#C8D4E3"
             },
             "line": {
              "color": "white"
             }
            },
            "type": "table"
           }
          ]
         },
         "layout": {
          "annotationdefaults": {
           "arrowcolor": "#2a3f5f",
           "arrowhead": 0,
           "arrowwidth": 1
          },
          "autotypenumbers": "strict",
          "coloraxis": {
           "colorbar": {
            "outlinewidth": 0,
            "ticks": ""
           }
          },
          "colorscale": {
           "diverging": [
            [
             0,
             "#8e0152"
            ],
            [
             0.1,
             "#c51b7d"
            ],
            [
             0.2,
             "#de77ae"
            ],
            [
             0.3,
             "#f1b6da"
            ],
            [
             0.4,
             "#fde0ef"
            ],
            [
             0.5,
             "#f7f7f7"
            ],
            [
             0.6,
             "#e6f5d0"
            ],
            [
             0.7,
             "#b8e186"
            ],
            [
             0.8,
             "#7fbc41"
            ],
            [
             0.9,
             "#4d9221"
            ],
            [
             1,
             "#276419"
            ]
           ],
           "sequential": [
            [
             0,
             "#0d0887"
            ],
            [
             0.1111111111111111,
             "#46039f"
            ],
            [
             0.2222222222222222,
             "#7201a8"
            ],
            [
             0.3333333333333333,
             "#9c179e"
            ],
            [
             0.4444444444444444,
             "#bd3786"
            ],
            [
             0.5555555555555556,
             "#d8576b"
            ],
            [
             0.6666666666666666,
             "#ed7953"
            ],
            [
             0.7777777777777778,
             "#fb9f3a"
            ],
            [
             0.8888888888888888,
             "#fdca26"
            ],
            [
             1,
             "#f0f921"
            ]
           ],
           "sequentialminus": [
            [
             0,
             "#0d0887"
            ],
            [
             0.1111111111111111,
             "#46039f"
            ],
            [
             0.2222222222222222,
             "#7201a8"
            ],
            [
             0.3333333333333333,
             "#9c179e"
            ],
            [
             0.4444444444444444,
             "#bd3786"
            ],
            [
             0.5555555555555556,
             "#d8576b"
            ],
            [
             0.6666666666666666,
             "#ed7953"
            ],
            [
             0.7777777777777778,
             "#fb9f3a"
            ],
            [
             0.8888888888888888,
             "#fdca26"
            ],
            [
             1,
             "#f0f921"
            ]
           ]
          },
          "colorway": [
           "#636efa",
           "#EF553B",
           "#00cc96",
           "#ab63fa",
           "#FFA15A",
           "#19d3f3",
           "#FF6692",
           "#B6E880",
           "#FF97FF",
           "#FECB52"
          ],
          "font": {
           "color": "#2a3f5f"
          },
          "geo": {
           "bgcolor": "white",
           "lakecolor": "white",
           "landcolor": "#E5ECF6",
           "showlakes": true,
           "showland": true,
           "subunitcolor": "white"
          },
          "hoverlabel": {
           "align": "left"
          },
          "hovermode": "closest",
          "mapbox": {
           "style": "light"
          },
          "paper_bgcolor": "white",
          "plot_bgcolor": "#E5ECF6",
          "polar": {
           "angularaxis": {
            "gridcolor": "white",
            "linecolor": "white",
            "ticks": ""
           },
           "bgcolor": "#E5ECF6",
           "radialaxis": {
            "gridcolor": "white",
            "linecolor": "white",
            "ticks": ""
           }
          },
          "scene": {
           "xaxis": {
            "backgroundcolor": "#E5ECF6",
            "gridcolor": "white",
            "gridwidth": 2,
            "linecolor": "white",
            "showbackground": true,
            "ticks": "",
            "zerolinecolor": "white"
           },
           "yaxis": {
            "backgroundcolor": "#E5ECF6",
            "gridcolor": "white",
            "gridwidth": 2,
            "linecolor": "white",
            "showbackground": true,
            "ticks": "",
            "zerolinecolor": "white"
           },
           "zaxis": {
            "backgroundcolor": "#E5ECF6",
            "gridcolor": "white",
            "gridwidth": 2,
            "linecolor": "white",
            "showbackground": true,
            "ticks": "",
            "zerolinecolor": "white"
           }
          },
          "shapedefaults": {
           "line": {
            "color": "#2a3f5f"
           }
          },
          "ternary": {
           "aaxis": {
            "gridcolor": "white",
            "linecolor": "white",
            "ticks": ""
           },
           "baxis": {
            "gridcolor": "white",
            "linecolor": "white",
            "ticks": ""
           },
           "bgcolor": "#E5ECF6",
           "caxis": {
            "gridcolor": "white",
            "linecolor": "white",
            "ticks": ""
           }
          },
          "title": {
           "x": 0.05
          },
          "xaxis": {
           "automargin": true,
           "gridcolor": "white",
           "linecolor": "white",
           "ticks": "",
           "title": {
            "standoff": 15
           },
           "zerolinecolor": "white",
           "zerolinewidth": 2
          },
          "yaxis": {
           "automargin": true,
           "gridcolor": "white",
           "linecolor": "white",
           "ticks": "",
           "title": {
            "standoff": 15
           },
           "zerolinecolor": "white",
           "zerolinewidth": 2
          }
         }
        },
        "title": {
         "text": "Distribuição de Usuários por Cargo e Gênero",
         "x": 0.5
        },
        "width": 1000
       }
      }
     },
     "metadata": {},
     "output_type": "display_data"
    }
   ],
   "source": [
    "genero = ['Feminino', 'Masculino', 'Prefiro não informar']\n",
    "bar_colors = ['purple', 'green', 'red']\n",
    "\n",
    "count_junior = [junior_mulheres, junior_homens, junior_genero_ninform]\n",
    "count_plenor = [plenor_mulheres, plenor_homens, plenor_genero_ninform]\n",
    "count_senior = [senior_mulheres, senior_homens, senior_genero_ninform]\n",
    "count_manager = [gestor_mulheres, gestor_masculino, gestor_genero_ninform]\n",
    "\n",
    "# Criando subplots\n",
    "fig = make_subplots(rows=2, cols=2, subplot_titles=(\n",
    "    'Distribuição de usuários em cargo Júnior por gênero',\n",
    "    'Distribuição de usuários em cargo Plenor por gênero',\n",
    "    'Distribuição de usuários em cargo Sênior por gênero',\n",
    "    'Distribuição de usuários Gestores por gênero'),\n",
    "    specs=[[{'type': 'domain'}, {'type': 'domain'}],  # Tipo 'domain' é para gráficos de pizza/donut\n",
    "           [{'type': 'domain'}, {'type': 'domain'}]]\n",
    ")\n",
    "\n",
    "# Gráfico Donut Júnior\n",
    "fig.add_trace(go.Pie(labels=genero, values=count_junior, hole=0.4, marker_colors=bar_colors, \n",
    "                     name=\"Cargo Júnior\"), row=1, col=1)\n",
    "\n",
    "# Gráfico Donut Plenor\n",
    "fig.add_trace(go.Pie(labels=genero, values=count_plenor, hole=0.4, marker_colors=bar_colors, \n",
    "                     name=\"Cargo Plenor\"), row=1, col=2)\n",
    "\n",
    "# Gráfico Donut Sênior\n",
    "fig.add_trace(go.Pie(labels=genero, values=count_senior, hole=0.4, marker_colors=bar_colors, \n",
    "                     name=\"Cargo Sênior\"), row=2, col=1)\n",
    "\n",
    "# Gráfico Donut Gestores\n",
    "fig.add_trace(go.Pie(labels=genero, values=count_manager, hole=0.4, marker_colors=bar_colors, \n",
    "                     name=\"Gestores\"), row=2, col=2)\n",
    "\n",
    "# Ajustes de layout\n",
    "fig.update_layout(\n",
    "    height=600, width=1000, title_text=\"Distribuição de Usuários por Cargo e Gênero\", title_x=0.5,\n",
    "    showlegend=True  # Mostra legenda para identificar as categorias\n",
    ")\n",
    "\n",
    "# Mostrar gráfico\n",
    "fig.show()\n"
   ]
  },
  {
   "cell_type": "markdown",
   "id": "983a419b",
   "metadata": {},
   "source": [
    "Observar a distribuição de gênero por cargos é uma maneira de não apenas mensurar o número de homens e mulheres em seus respectivos cargos, mas também compreender como fatores culturais, como a desigualdade de gênero, se refletem na área de TI e na progressão de senioridade dos indivíduos de cada gênero. \n",
    "\n",
    "- De forma geral, observa-se uma predominância do gênero masculino em todos os cargos. A proporção entre os gêneros varia ligeiramente entre os diferentes cargos, mas a tendência de predominância masculina se mantém.\n",
    "\n",
    "- O gênero feminino representa uma minoria em todos os cargos, porém em cargos de maior senioridade como sênior e gestão o percentual de participação do gênero feminino é ainda menor.\n",
    "\n",
    "- A categoria \"Prefiro não informar\" representa uma parcela muito pequena em todos os cargos, não acrescentando uma informações relevantes à análise."
   ]
  },
  {
   "cell_type": "markdown",
   "id": "6dd8c4fa",
   "metadata": {},
   "source": [
    "### 2.4. Distribuição de usuários por etnia\n"
   ]
  },
  {
   "cell_type": "code",
   "execution_count": 70,
   "id": "3549ca21-dcde-47a3-b909-d1aaf6c6c203",
   "metadata": {
    "tags": []
   },
   "outputs": [
    {
     "data": {
      "text/plain": [
       "COR/RACA/ETNIA\n",
       "Branca                  2744\n",
       "Parda                   1054\n",
       "Preta                    291\n",
       "Amarela                  128\n",
       "Prefiro não informar      26\n",
       "Outra                     17\n",
       "Indígena                  11\n",
       "Name: count, dtype: int64"
      ]
     },
     "execution_count": 70,
     "metadata": {},
     "output_type": "execute_result"
    }
   ],
   "source": [
    "data_etnia = data['COR/RACA/ETNIA'].value_counts()\n",
    "data_etnia"
   ]
  },
  {
   "cell_type": "code",
   "execution_count": 71,
   "id": "5e74889e",
   "metadata": {},
   "outputs": [
    {
     "data": {
      "application/vnd.plotly.v1+json": {
       "config": {
        "plotlyServerURL": "https://plot.ly"
       },
       "data": [
        {
         "marker": {
          "color": [
           2744,
           1054,
           291,
           128,
           26,
           17,
           11
          ],
          "colorbar": {
           "title": {
            "text": "Contagem de Usuários"
           }
          },
          "colorscale": [
           [
            0,
            "#000004"
           ],
           [
            0.1111111111111111,
            "#180f3d"
           ],
           [
            0.2222222222222222,
            "#440f76"
           ],
           [
            0.3333333333333333,
            "#721f81"
           ],
           [
            0.4444444444444444,
            "#9e2f7f"
           ],
           [
            0.5555555555555556,
            "#cd4071"
           ],
           [
            0.6666666666666666,
            "#f1605d"
           ],
           [
            0.7777777777777778,
            "#fd9668"
           ],
           [
            0.8888888888888888,
            "#feca8d"
           ],
           [
            1,
            "#fcfdbf"
           ]
          ]
         },
         "orientation": "h",
         "type": "bar",
         "x": [
          2744,
          1054,
          291,
          128,
          26,
          17,
          11
         ],
         "y": [
          "Branca",
          "Parda",
          "Preta",
          "Amarela",
          "Prefiro não informar",
          "Outra",
          "Indígena"
         ]
        }
       ],
       "layout": {
        "height": 600,
        "template": {
         "data": {
          "bar": [
           {
            "error_x": {
             "color": "#2a3f5f"
            },
            "error_y": {
             "color": "#2a3f5f"
            },
            "marker": {
             "line": {
              "color": "#E5ECF6",
              "width": 0.5
             },
             "pattern": {
              "fillmode": "overlay",
              "size": 10,
              "solidity": 0.2
             }
            },
            "type": "bar"
           }
          ],
          "barpolar": [
           {
            "marker": {
             "line": {
              "color": "#E5ECF6",
              "width": 0.5
             },
             "pattern": {
              "fillmode": "overlay",
              "size": 10,
              "solidity": 0.2
             }
            },
            "type": "barpolar"
           }
          ],
          "carpet": [
           {
            "aaxis": {
             "endlinecolor": "#2a3f5f",
             "gridcolor": "white",
             "linecolor": "white",
             "minorgridcolor": "white",
             "startlinecolor": "#2a3f5f"
            },
            "baxis": {
             "endlinecolor": "#2a3f5f",
             "gridcolor": "white",
             "linecolor": "white",
             "minorgridcolor": "white",
             "startlinecolor": "#2a3f5f"
            },
            "type": "carpet"
           }
          ],
          "choropleth": [
           {
            "colorbar": {
             "outlinewidth": 0,
             "ticks": ""
            },
            "type": "choropleth"
           }
          ],
          "contour": [
           {
            "colorbar": {
             "outlinewidth": 0,
             "ticks": ""
            },
            "colorscale": [
             [
              0,
              "#0d0887"
             ],
             [
              0.1111111111111111,
              "#46039f"
             ],
             [
              0.2222222222222222,
              "#7201a8"
             ],
             [
              0.3333333333333333,
              "#9c179e"
             ],
             [
              0.4444444444444444,
              "#bd3786"
             ],
             [
              0.5555555555555556,
              "#d8576b"
             ],
             [
              0.6666666666666666,
              "#ed7953"
             ],
             [
              0.7777777777777778,
              "#fb9f3a"
             ],
             [
              0.8888888888888888,
              "#fdca26"
             ],
             [
              1,
              "#f0f921"
             ]
            ],
            "type": "contour"
           }
          ],
          "contourcarpet": [
           {
            "colorbar": {
             "outlinewidth": 0,
             "ticks": ""
            },
            "type": "contourcarpet"
           }
          ],
          "heatmap": [
           {
            "colorbar": {
             "outlinewidth": 0,
             "ticks": ""
            },
            "colorscale": [
             [
              0,
              "#0d0887"
             ],
             [
              0.1111111111111111,
              "#46039f"
             ],
             [
              0.2222222222222222,
              "#7201a8"
             ],
             [
              0.3333333333333333,
              "#9c179e"
             ],
             [
              0.4444444444444444,
              "#bd3786"
             ],
             [
              0.5555555555555556,
              "#d8576b"
             ],
             [
              0.6666666666666666,
              "#ed7953"
             ],
             [
              0.7777777777777778,
              "#fb9f3a"
             ],
             [
              0.8888888888888888,
              "#fdca26"
             ],
             [
              1,
              "#f0f921"
             ]
            ],
            "type": "heatmap"
           }
          ],
          "heatmapgl": [
           {
            "colorbar": {
             "outlinewidth": 0,
             "ticks": ""
            },
            "colorscale": [
             [
              0,
              "#0d0887"
             ],
             [
              0.1111111111111111,
              "#46039f"
             ],
             [
              0.2222222222222222,
              "#7201a8"
             ],
             [
              0.3333333333333333,
              "#9c179e"
             ],
             [
              0.4444444444444444,
              "#bd3786"
             ],
             [
              0.5555555555555556,
              "#d8576b"
             ],
             [
              0.6666666666666666,
              "#ed7953"
             ],
             [
              0.7777777777777778,
              "#fb9f3a"
             ],
             [
              0.8888888888888888,
              "#fdca26"
             ],
             [
              1,
              "#f0f921"
             ]
            ],
            "type": "heatmapgl"
           }
          ],
          "histogram": [
           {
            "marker": {
             "pattern": {
              "fillmode": "overlay",
              "size": 10,
              "solidity": 0.2
             }
            },
            "type": "histogram"
           }
          ],
          "histogram2d": [
           {
            "colorbar": {
             "outlinewidth": 0,
             "ticks": ""
            },
            "colorscale": [
             [
              0,
              "#0d0887"
             ],
             [
              0.1111111111111111,
              "#46039f"
             ],
             [
              0.2222222222222222,
              "#7201a8"
             ],
             [
              0.3333333333333333,
              "#9c179e"
             ],
             [
              0.4444444444444444,
              "#bd3786"
             ],
             [
              0.5555555555555556,
              "#d8576b"
             ],
             [
              0.6666666666666666,
              "#ed7953"
             ],
             [
              0.7777777777777778,
              "#fb9f3a"
             ],
             [
              0.8888888888888888,
              "#fdca26"
             ],
             [
              1,
              "#f0f921"
             ]
            ],
            "type": "histogram2d"
           }
          ],
          "histogram2dcontour": [
           {
            "colorbar": {
             "outlinewidth": 0,
             "ticks": ""
            },
            "colorscale": [
             [
              0,
              "#0d0887"
             ],
             [
              0.1111111111111111,
              "#46039f"
             ],
             [
              0.2222222222222222,
              "#7201a8"
             ],
             [
              0.3333333333333333,
              "#9c179e"
             ],
             [
              0.4444444444444444,
              "#bd3786"
             ],
             [
              0.5555555555555556,
              "#d8576b"
             ],
             [
              0.6666666666666666,
              "#ed7953"
             ],
             [
              0.7777777777777778,
              "#fb9f3a"
             ],
             [
              0.8888888888888888,
              "#fdca26"
             ],
             [
              1,
              "#f0f921"
             ]
            ],
            "type": "histogram2dcontour"
           }
          ],
          "mesh3d": [
           {
            "colorbar": {
             "outlinewidth": 0,
             "ticks": ""
            },
            "type": "mesh3d"
           }
          ],
          "parcoords": [
           {
            "line": {
             "colorbar": {
              "outlinewidth": 0,
              "ticks": ""
             }
            },
            "type": "parcoords"
           }
          ],
          "pie": [
           {
            "automargin": true,
            "type": "pie"
           }
          ],
          "scatter": [
           {
            "fillpattern": {
             "fillmode": "overlay",
             "size": 10,
             "solidity": 0.2
            },
            "type": "scatter"
           }
          ],
          "scatter3d": [
           {
            "line": {
             "colorbar": {
              "outlinewidth": 0,
              "ticks": ""
             }
            },
            "marker": {
             "colorbar": {
              "outlinewidth": 0,
              "ticks": ""
             }
            },
            "type": "scatter3d"
           }
          ],
          "scattercarpet": [
           {
            "marker": {
             "colorbar": {
              "outlinewidth": 0,
              "ticks": ""
             }
            },
            "type": "scattercarpet"
           }
          ],
          "scattergeo": [
           {
            "marker": {
             "colorbar": {
              "outlinewidth": 0,
              "ticks": ""
             }
            },
            "type": "scattergeo"
           }
          ],
          "scattergl": [
           {
            "marker": {
             "colorbar": {
              "outlinewidth": 0,
              "ticks": ""
             }
            },
            "type": "scattergl"
           }
          ],
          "scattermapbox": [
           {
            "marker": {
             "colorbar": {
              "outlinewidth": 0,
              "ticks": ""
             }
            },
            "type": "scattermapbox"
           }
          ],
          "scatterpolar": [
           {
            "marker": {
             "colorbar": {
              "outlinewidth": 0,
              "ticks": ""
             }
            },
            "type": "scatterpolar"
           }
          ],
          "scatterpolargl": [
           {
            "marker": {
             "colorbar": {
              "outlinewidth": 0,
              "ticks": ""
             }
            },
            "type": "scatterpolargl"
           }
          ],
          "scatterternary": [
           {
            "marker": {
             "colorbar": {
              "outlinewidth": 0,
              "ticks": ""
             }
            },
            "type": "scatterternary"
           }
          ],
          "surface": [
           {
            "colorbar": {
             "outlinewidth": 0,
             "ticks": ""
            },
            "colorscale": [
             [
              0,
              "#0d0887"
             ],
             [
              0.1111111111111111,
              "#46039f"
             ],
             [
              0.2222222222222222,
              "#7201a8"
             ],
             [
              0.3333333333333333,
              "#9c179e"
             ],
             [
              0.4444444444444444,
              "#bd3786"
             ],
             [
              0.5555555555555556,
              "#d8576b"
             ],
             [
              0.6666666666666666,
              "#ed7953"
             ],
             [
              0.7777777777777778,
              "#fb9f3a"
             ],
             [
              0.8888888888888888,
              "#fdca26"
             ],
             [
              1,
              "#f0f921"
             ]
            ],
            "type": "surface"
           }
          ],
          "table": [
           {
            "cells": {
             "fill": {
              "color": "#EBF0F8"
             },
             "line": {
              "color": "white"
             }
            },
            "header": {
             "fill": {
              "color": "#C8D4E3"
             },
             "line": {
              "color": "white"
             }
            },
            "type": "table"
           }
          ]
         },
         "layout": {
          "annotationdefaults": {
           "arrowcolor": "#2a3f5f",
           "arrowhead": 0,
           "arrowwidth": 1
          },
          "autotypenumbers": "strict",
          "coloraxis": {
           "colorbar": {
            "outlinewidth": 0,
            "ticks": ""
           }
          },
          "colorscale": {
           "diverging": [
            [
             0,
             "#8e0152"
            ],
            [
             0.1,
             "#c51b7d"
            ],
            [
             0.2,
             "#de77ae"
            ],
            [
             0.3,
             "#f1b6da"
            ],
            [
             0.4,
             "#fde0ef"
            ],
            [
             0.5,
             "#f7f7f7"
            ],
            [
             0.6,
             "#e6f5d0"
            ],
            [
             0.7,
             "#b8e186"
            ],
            [
             0.8,
             "#7fbc41"
            ],
            [
             0.9,
             "#4d9221"
            ],
            [
             1,
             "#276419"
            ]
           ],
           "sequential": [
            [
             0,
             "#0d0887"
            ],
            [
             0.1111111111111111,
             "#46039f"
            ],
            [
             0.2222222222222222,
             "#7201a8"
            ],
            [
             0.3333333333333333,
             "#9c179e"
            ],
            [
             0.4444444444444444,
             "#bd3786"
            ],
            [
             0.5555555555555556,
             "#d8576b"
            ],
            [
             0.6666666666666666,
             "#ed7953"
            ],
            [
             0.7777777777777778,
             "#fb9f3a"
            ],
            [
             0.8888888888888888,
             "#fdca26"
            ],
            [
             1,
             "#f0f921"
            ]
           ],
           "sequentialminus": [
            [
             0,
             "#0d0887"
            ],
            [
             0.1111111111111111,
             "#46039f"
            ],
            [
             0.2222222222222222,
             "#7201a8"
            ],
            [
             0.3333333333333333,
             "#9c179e"
            ],
            [
             0.4444444444444444,
             "#bd3786"
            ],
            [
             0.5555555555555556,
             "#d8576b"
            ],
            [
             0.6666666666666666,
             "#ed7953"
            ],
            [
             0.7777777777777778,
             "#fb9f3a"
            ],
            [
             0.8888888888888888,
             "#fdca26"
            ],
            [
             1,
             "#f0f921"
            ]
           ]
          },
          "colorway": [
           "#636efa",
           "#EF553B",
           "#00cc96",
           "#ab63fa",
           "#FFA15A",
           "#19d3f3",
           "#FF6692",
           "#B6E880",
           "#FF97FF",
           "#FECB52"
          ],
          "font": {
           "color": "#2a3f5f"
          },
          "geo": {
           "bgcolor": "white",
           "lakecolor": "white",
           "landcolor": "#E5ECF6",
           "showlakes": true,
           "showland": true,
           "subunitcolor": "white"
          },
          "hoverlabel": {
           "align": "left"
          },
          "hovermode": "closest",
          "mapbox": {
           "style": "light"
          },
          "paper_bgcolor": "white",
          "plot_bgcolor": "#E5ECF6",
          "polar": {
           "angularaxis": {
            "gridcolor": "white",
            "linecolor": "white",
            "ticks": ""
           },
           "bgcolor": "#E5ECF6",
           "radialaxis": {
            "gridcolor": "white",
            "linecolor": "white",
            "ticks": ""
           }
          },
          "scene": {
           "xaxis": {
            "backgroundcolor": "#E5ECF6",
            "gridcolor": "white",
            "gridwidth": 2,
            "linecolor": "white",
            "showbackground": true,
            "ticks": "",
            "zerolinecolor": "white"
           },
           "yaxis": {
            "backgroundcolor": "#E5ECF6",
            "gridcolor": "white",
            "gridwidth": 2,
            "linecolor": "white",
            "showbackground": true,
            "ticks": "",
            "zerolinecolor": "white"
           },
           "zaxis": {
            "backgroundcolor": "#E5ECF6",
            "gridcolor": "white",
            "gridwidth": 2,
            "linecolor": "white",
            "showbackground": true,
            "ticks": "",
            "zerolinecolor": "white"
           }
          },
          "shapedefaults": {
           "line": {
            "color": "#2a3f5f"
           }
          },
          "ternary": {
           "aaxis": {
            "gridcolor": "white",
            "linecolor": "white",
            "ticks": ""
           },
           "baxis": {
            "gridcolor": "white",
            "linecolor": "white",
            "ticks": ""
           },
           "bgcolor": "#E5ECF6",
           "caxis": {
            "gridcolor": "white",
            "linecolor": "white",
            "ticks": ""
           }
          },
          "title": {
           "x": 0.05
          },
          "xaxis": {
           "automargin": true,
           "gridcolor": "white",
           "linecolor": "white",
           "ticks": "",
           "title": {
            "standoff": 15
           },
           "zerolinecolor": "white",
           "zerolinewidth": 2
          },
          "yaxis": {
           "automargin": true,
           "gridcolor": "white",
           "linecolor": "white",
           "ticks": "",
           "title": {
            "standoff": 15
           },
           "zerolinecolor": "white",
           "zerolinewidth": 2
          }
         }
        },
        "title": {
         "text": "Contagem dos Usuários por Etnia",
         "x": 0.5
        },
        "width": 800,
        "xaxis": {
         "title": {
          "text": "Contagem de Usuários"
         }
        },
        "yaxis": {
         "title": {
          "text": "Etnias"
         }
        }
       }
      }
     },
     "metadata": {},
     "output_type": "display_data"
    }
   ],
   "source": [
    "import plotly.graph_objects as go\n",
    "\n",
    "\n",
    "\n",
    "\n",
    "# Criando a figura\n",
    "fig = go.Figure(go.Bar(\n",
    "    x=data_etnia.values,          \n",
    "    y=data_etnia.index,           \n",
    "    orientation='h',              \n",
    "    marker=dict(\n",
    "        color=data_etnia.values,  \n",
    "        colorscale='magma',      \n",
    "        colorbar=dict(title='Contagem de Usuários')  \n",
    "    )\n",
    "))\n",
    "\n",
    "# Adicionando títulos e rótulos\n",
    "fig.update_layout(\n",
    "    title='Contagem dos Usuários por Etnia', \n",
    "    xaxis_title='Contagem de Usuários',\n",
    "    yaxis_title='Etnias',\n",
    "    template='plotly', \n",
    "    title_x=0.5,\n",
    "    width=800,\n",
    "    height=600\n",
    ")\n",
    "\n",
    "# Exibindo o gráfico\n",
    "fig.show()\n"
   ]
  },
  {
   "cell_type": "markdown",
   "id": "bd81ab38",
   "metadata": {},
   "source": [
    "Distribuição de cargos por etnia\n"
   ]
  },
  {
   "cell_type": "code",
   "execution_count": 72,
   "id": "a68b07b3-3d8b-4f23-a3bd-c86972141dd5",
   "metadata": {
    "tags": []
   },
   "outputs": [
    {
     "data": {
      "text/html": [
       "<div>\n",
       "<style scoped>\n",
       "    .dataframe tbody tr th:only-of-type {\n",
       "        vertical-align: middle;\n",
       "    }\n",
       "\n",
       "    .dataframe tbody tr th {\n",
       "        vertical-align: top;\n",
       "    }\n",
       "\n",
       "    .dataframe thead tr th {\n",
       "        text-align: left;\n",
       "    }\n",
       "\n",
       "    .dataframe thead tr:last-of-type th {\n",
       "        text-align: right;\n",
       "    }\n",
       "</style>\n",
       "<table border=\"1\" class=\"dataframe\">\n",
       "  <thead>\n",
       "    <tr>\n",
       "      <th></th>\n",
       "      <th colspan=\"4\" halign=\"left\">ID</th>\n",
       "    </tr>\n",
       "    <tr>\n",
       "      <th>NOVO NÍVEL</th>\n",
       "      <th>Júnior</th>\n",
       "      <th>Pessoa Gestora</th>\n",
       "      <th>Pleno</th>\n",
       "      <th>Sênior</th>\n",
       "    </tr>\n",
       "    <tr>\n",
       "      <th>COR/RACA/ETNIA</th>\n",
       "      <th></th>\n",
       "      <th></th>\n",
       "      <th></th>\n",
       "      <th></th>\n",
       "    </tr>\n",
       "  </thead>\n",
       "  <tbody>\n",
       "    <tr>\n",
       "      <th>Amarela</th>\n",
       "      <td>29</td>\n",
       "      <td>28</td>\n",
       "      <td>27</td>\n",
       "      <td>27</td>\n",
       "    </tr>\n",
       "    <tr>\n",
       "      <th>Branca</th>\n",
       "      <td>611</td>\n",
       "      <td>480</td>\n",
       "      <td>684</td>\n",
       "      <td>622</td>\n",
       "    </tr>\n",
       "    <tr>\n",
       "      <th>Indígena</th>\n",
       "      <td>4</td>\n",
       "      <td>1</td>\n",
       "      <td>3</td>\n",
       "      <td>2</td>\n",
       "    </tr>\n",
       "    <tr>\n",
       "      <th>Outra</th>\n",
       "      <td>4</td>\n",
       "      <td>5</td>\n",
       "      <td>1</td>\n",
       "      <td>3</td>\n",
       "    </tr>\n",
       "    <tr>\n",
       "      <th>Parda</th>\n",
       "      <td>267</td>\n",
       "      <td>162</td>\n",
       "      <td>267</td>\n",
       "      <td>201</td>\n",
       "    </tr>\n",
       "    <tr>\n",
       "      <th>Prefiro não informar</th>\n",
       "      <td>10</td>\n",
       "      <td>2</td>\n",
       "      <td>9</td>\n",
       "      <td>4</td>\n",
       "    </tr>\n",
       "    <tr>\n",
       "      <th>Preta</th>\n",
       "      <td>98</td>\n",
       "      <td>35</td>\n",
       "      <td>69</td>\n",
       "      <td>39</td>\n",
       "    </tr>\n",
       "  </tbody>\n",
       "</table>\n",
       "</div>"
      ],
      "text/plain": [
       "                         ID                            \n",
       "NOVO NÍVEL           Júnior Pessoa Gestora Pleno Sênior\n",
       "COR/RACA/ETNIA                                         \n",
       "Amarela                  29             28    27     27\n",
       "Branca                  611            480   684    622\n",
       "Indígena                  4              1     3      2\n",
       "Outra                     4              5     1      3\n",
       "Parda                   267            162   267    201\n",
       "Prefiro não informar     10              2     9      4\n",
       "Preta                    98             35    69     39"
      ]
     },
     "execution_count": 72,
     "metadata": {},
     "output_type": "execute_result"
    }
   ],
   "source": [
    "\n",
    "cargo_etnia = pd.pivot_table(data, values=['ID'], index=['COR/RACA/ETNIA'], columns=['NOVO NÍVEL'], aggfunc='count')\n",
    "cargo_etnia"
   ]
  },
  {
   "cell_type": "code",
   "execution_count": 73,
   "id": "606d4576-3fd3-4342-af8f-4dff3c6a935a",
   "metadata": {},
   "outputs": [
    {
     "data": {
      "text/html": [
       "<div>\n",
       "<style scoped>\n",
       "    .dataframe tbody tr th:only-of-type {\n",
       "        vertical-align: middle;\n",
       "    }\n",
       "\n",
       "    .dataframe tbody tr th {\n",
       "        vertical-align: top;\n",
       "    }\n",
       "\n",
       "    .dataframe thead tr th {\n",
       "        text-align: left;\n",
       "    }\n",
       "\n",
       "    .dataframe thead tr:last-of-type th {\n",
       "        text-align: right;\n",
       "    }\n",
       "</style>\n",
       "<table border=\"1\" class=\"dataframe\">\n",
       "  <thead>\n",
       "    <tr>\n",
       "      <th></th>\n",
       "      <th colspan=\"4\" halign=\"left\">ID</th>\n",
       "    </tr>\n",
       "    <tr>\n",
       "      <th>NOVO NÍVEL</th>\n",
       "      <th>Júnior</th>\n",
       "      <th>Pessoa Gestora</th>\n",
       "      <th>Pleno</th>\n",
       "      <th>Sênior</th>\n",
       "    </tr>\n",
       "    <tr>\n",
       "      <th>COR/RACA/ETNIA</th>\n",
       "      <th></th>\n",
       "      <th></th>\n",
       "      <th></th>\n",
       "      <th></th>\n",
       "    </tr>\n",
       "  </thead>\n",
       "  <tbody>\n",
       "    <tr>\n",
       "      <th>Amarela</th>\n",
       "      <td>2.834800</td>\n",
       "      <td>3.927069</td>\n",
       "      <td>2.547170</td>\n",
       "      <td>3.006682</td>\n",
       "    </tr>\n",
       "    <tr>\n",
       "      <th>Branca</th>\n",
       "      <td>59.726295</td>\n",
       "      <td>67.321178</td>\n",
       "      <td>64.528302</td>\n",
       "      <td>69.265033</td>\n",
       "    </tr>\n",
       "    <tr>\n",
       "      <th>Indígena</th>\n",
       "      <td>0.391007</td>\n",
       "      <td>0.140252</td>\n",
       "      <td>0.283019</td>\n",
       "      <td>0.222717</td>\n",
       "    </tr>\n",
       "    <tr>\n",
       "      <th>Outra</th>\n",
       "      <td>0.391007</td>\n",
       "      <td>0.701262</td>\n",
       "      <td>0.094340</td>\n",
       "      <td>0.334076</td>\n",
       "    </tr>\n",
       "    <tr>\n",
       "      <th>Parda</th>\n",
       "      <td>26.099707</td>\n",
       "      <td>22.720898</td>\n",
       "      <td>25.188679</td>\n",
       "      <td>22.383073</td>\n",
       "    </tr>\n",
       "    <tr>\n",
       "      <th>Prefiro não informar</th>\n",
       "      <td>0.977517</td>\n",
       "      <td>0.280505</td>\n",
       "      <td>0.849057</td>\n",
       "      <td>0.445434</td>\n",
       "    </tr>\n",
       "    <tr>\n",
       "      <th>Preta</th>\n",
       "      <td>9.579668</td>\n",
       "      <td>4.908836</td>\n",
       "      <td>6.509434</td>\n",
       "      <td>4.342984</td>\n",
       "    </tr>\n",
       "  </tbody>\n",
       "</table>\n",
       "</div>"
      ],
      "text/plain": [
       "                             ID                                     \n",
       "NOVO NÍVEL               Júnior Pessoa Gestora      Pleno     Sênior\n",
       "COR/RACA/ETNIA                                                      \n",
       "Amarela                2.834800       3.927069   2.547170   3.006682\n",
       "Branca                59.726295      67.321178  64.528302  69.265033\n",
       "Indígena               0.391007       0.140252   0.283019   0.222717\n",
       "Outra                  0.391007       0.701262   0.094340   0.334076\n",
       "Parda                 26.099707      22.720898  25.188679  22.383073\n",
       "Prefiro não informar   0.977517       0.280505   0.849057   0.445434\n",
       "Preta                  9.579668       4.908836   6.509434   4.342984"
      ]
     },
     "execution_count": 73,
     "metadata": {},
     "output_type": "execute_result"
    }
   ],
   "source": [
    "# percentual\n",
    "\n",
    "cargo_etnia_percentual = cargo_etnia.apply(lambda x: (x / x.sum()) * 100, axis=0)\n",
    "cargo_etnia_percentual"
   ]
  },
  {
   "cell_type": "code",
   "execution_count": 74,
   "id": "b77a78ab",
   "metadata": {},
   "outputs": [
    {
     "data": {
      "application/vnd.plotly.v1+json": {
       "config": {
        "plotlyServerURL": "https://plot.ly"
       },
       "data": [
        {
         "alignmentgroup": "True",
         "hovertemplate": "COR/RACA/ETNIA=Branca<br>NOVO NÍVEL=%{x}<br>Valores=%{y}<extra></extra>",
         "legendgroup": "Branca",
         "marker": {
          "color": "#636efa",
          "pattern": {
           "shape": ""
          }
         },
         "name": "Branca",
         "offsetgroup": "Branca",
         "orientation": "v",
         "showlegend": true,
         "textposition": "auto",
         "type": "bar",
         "x": [
          "Gestora",
          "Sênior",
          "Pleno",
          "Júnior"
         ],
         "xaxis": "x",
         "y": [
          480,
          622,
          684,
          611
         ],
         "yaxis": "y"
        },
        {
         "alignmentgroup": "True",
         "hovertemplate": "COR/RACA/ETNIA=Parda<br>NOVO NÍVEL=%{x}<br>Valores=%{y}<extra></extra>",
         "legendgroup": "Parda",
         "marker": {
          "color": "#EF553B",
          "pattern": {
           "shape": ""
          }
         },
         "name": "Parda",
         "offsetgroup": "Parda",
         "orientation": "v",
         "showlegend": true,
         "textposition": "auto",
         "type": "bar",
         "x": [
          "Sênior",
          "Gestora",
          "Pleno",
          "Júnior"
         ],
         "xaxis": "x",
         "y": [
          201,
          162,
          267,
          267
         ],
         "yaxis": "y"
        },
        {
         "alignmentgroup": "True",
         "hovertemplate": "COR/RACA/ETNIA=Preta<br>NOVO NÍVEL=%{x}<br>Valores=%{y}<extra></extra>",
         "legendgroup": "Preta",
         "marker": {
          "color": "#00cc96",
          "pattern": {
           "shape": ""
          }
         },
         "name": "Preta",
         "offsetgroup": "Preta",
         "orientation": "v",
         "showlegend": true,
         "textposition": "auto",
         "type": "bar",
         "x": [
          "Júnior",
          "Pleno",
          "Sênior",
          "Gestora"
         ],
         "xaxis": "x",
         "y": [
          98,
          69,
          39,
          35
         ],
         "yaxis": "y"
        },
        {
         "alignmentgroup": "True",
         "hovertemplate": "COR/RACA/ETNIA=Amarela<br>NOVO NÍVEL=%{x}<br>Valores=%{y}<extra></extra>",
         "legendgroup": "Amarela",
         "marker": {
          "color": "#ab63fa",
          "pattern": {
           "shape": ""
          }
         },
         "name": "Amarela",
         "offsetgroup": "Amarela",
         "orientation": "v",
         "showlegend": true,
         "textposition": "auto",
         "type": "bar",
         "x": [
          "Gestora",
          "Pleno",
          "Júnior",
          "Sênior"
         ],
         "xaxis": "x",
         "y": [
          28,
          27,
          29,
          27
         ],
         "yaxis": "y"
        },
        {
         "alignmentgroup": "True",
         "hovertemplate": "COR/RACA/ETNIA=Indígena<br>NOVO NÍVEL=%{x}<br>Valores=%{y}<extra></extra>",
         "legendgroup": "Indígena",
         "marker": {
          "color": "#FFA15A",
          "pattern": {
           "shape": ""
          }
         },
         "name": "Indígena",
         "offsetgroup": "Indígena",
         "orientation": "v",
         "showlegend": true,
         "textposition": "auto",
         "type": "bar",
         "x": [
          "Gestora",
          "Sênior",
          "Júnior",
          "Pleno"
         ],
         "xaxis": "x",
         "y": [
          1,
          2,
          4,
          3
         ],
         "yaxis": "y"
        },
        {
         "alignmentgroup": "True",
         "hovertemplate": "COR/RACA/ETNIA=Outra<br>NOVO NÍVEL=%{x}<br>Valores=%{y}<extra></extra>",
         "legendgroup": "Outra",
         "marker": {
          "color": "#19d3f3",
          "pattern": {
           "shape": ""
          }
         },
         "name": "Outra",
         "offsetgroup": "Outra",
         "orientation": "v",
         "showlegend": true,
         "textposition": "auto",
         "type": "bar",
         "x": [
          "Júnior",
          "Gestora",
          "Sênior",
          "Pleno"
         ],
         "xaxis": "x",
         "y": [
          4,
          5,
          3,
          1
         ],
         "yaxis": "y"
        },
        {
         "alignmentgroup": "True",
         "hovertemplate": "COR/RACA/ETNIA=Prefiro não informar<br>NOVO NÍVEL=%{x}<br>Valores=%{y}<extra></extra>",
         "legendgroup": "Prefiro não informar",
         "marker": {
          "color": "#FF6692",
          "pattern": {
           "shape": ""
          }
         },
         "name": "Prefiro não informar",
         "offsetgroup": "Prefiro não informar",
         "orientation": "v",
         "showlegend": true,
         "textposition": "auto",
         "type": "bar",
         "x": [
          "Gestora",
          "Sênior",
          "Júnior",
          "Pleno"
         ],
         "xaxis": "x",
         "y": [
          2,
          4,
          10,
          9
         ],
         "yaxis": "y"
        }
       ],
       "layout": {
        "barmode": "group",
        "legend": {
         "title": {
          "text": "COR/RACA/ETNIA"
         },
         "tracegroupgap": 0
        },
        "margin": {
         "t": 60
        },
        "template": {
         "data": {
          "bar": [
           {
            "error_x": {
             "color": "#2a3f5f"
            },
            "error_y": {
             "color": "#2a3f5f"
            },
            "marker": {
             "line": {
              "color": "#E5ECF6",
              "width": 0.5
             },
             "pattern": {
              "fillmode": "overlay",
              "size": 10,
              "solidity": 0.2
             }
            },
            "type": "bar"
           }
          ],
          "barpolar": [
           {
            "marker": {
             "line": {
              "color": "#E5ECF6",
              "width": 0.5
             },
             "pattern": {
              "fillmode": "overlay",
              "size": 10,
              "solidity": 0.2
             }
            },
            "type": "barpolar"
           }
          ],
          "carpet": [
           {
            "aaxis": {
             "endlinecolor": "#2a3f5f",
             "gridcolor": "white",
             "linecolor": "white",
             "minorgridcolor": "white",
             "startlinecolor": "#2a3f5f"
            },
            "baxis": {
             "endlinecolor": "#2a3f5f",
             "gridcolor": "white",
             "linecolor": "white",
             "minorgridcolor": "white",
             "startlinecolor": "#2a3f5f"
            },
            "type": "carpet"
           }
          ],
          "choropleth": [
           {
            "colorbar": {
             "outlinewidth": 0,
             "ticks": ""
            },
            "type": "choropleth"
           }
          ],
          "contour": [
           {
            "colorbar": {
             "outlinewidth": 0,
             "ticks": ""
            },
            "colorscale": [
             [
              0,
              "#0d0887"
             ],
             [
              0.1111111111111111,
              "#46039f"
             ],
             [
              0.2222222222222222,
              "#7201a8"
             ],
             [
              0.3333333333333333,
              "#9c179e"
             ],
             [
              0.4444444444444444,
              "#bd3786"
             ],
             [
              0.5555555555555556,
              "#d8576b"
             ],
             [
              0.6666666666666666,
              "#ed7953"
             ],
             [
              0.7777777777777778,
              "#fb9f3a"
             ],
             [
              0.8888888888888888,
              "#fdca26"
             ],
             [
              1,
              "#f0f921"
             ]
            ],
            "type": "contour"
           }
          ],
          "contourcarpet": [
           {
            "colorbar": {
             "outlinewidth": 0,
             "ticks": ""
            },
            "type": "contourcarpet"
           }
          ],
          "heatmap": [
           {
            "colorbar": {
             "outlinewidth": 0,
             "ticks": ""
            },
            "colorscale": [
             [
              0,
              "#0d0887"
             ],
             [
              0.1111111111111111,
              "#46039f"
             ],
             [
              0.2222222222222222,
              "#7201a8"
             ],
             [
              0.3333333333333333,
              "#9c179e"
             ],
             [
              0.4444444444444444,
              "#bd3786"
             ],
             [
              0.5555555555555556,
              "#d8576b"
             ],
             [
              0.6666666666666666,
              "#ed7953"
             ],
             [
              0.7777777777777778,
              "#fb9f3a"
             ],
             [
              0.8888888888888888,
              "#fdca26"
             ],
             [
              1,
              "#f0f921"
             ]
            ],
            "type": "heatmap"
           }
          ],
          "heatmapgl": [
           {
            "colorbar": {
             "outlinewidth": 0,
             "ticks": ""
            },
            "colorscale": [
             [
              0,
              "#0d0887"
             ],
             [
              0.1111111111111111,
              "#46039f"
             ],
             [
              0.2222222222222222,
              "#7201a8"
             ],
             [
              0.3333333333333333,
              "#9c179e"
             ],
             [
              0.4444444444444444,
              "#bd3786"
             ],
             [
              0.5555555555555556,
              "#d8576b"
             ],
             [
              0.6666666666666666,
              "#ed7953"
             ],
             [
              0.7777777777777778,
              "#fb9f3a"
             ],
             [
              0.8888888888888888,
              "#fdca26"
             ],
             [
              1,
              "#f0f921"
             ]
            ],
            "type": "heatmapgl"
           }
          ],
          "histogram": [
           {
            "marker": {
             "pattern": {
              "fillmode": "overlay",
              "size": 10,
              "solidity": 0.2
             }
            },
            "type": "histogram"
           }
          ],
          "histogram2d": [
           {
            "colorbar": {
             "outlinewidth": 0,
             "ticks": ""
            },
            "colorscale": [
             [
              0,
              "#0d0887"
             ],
             [
              0.1111111111111111,
              "#46039f"
             ],
             [
              0.2222222222222222,
              "#7201a8"
             ],
             [
              0.3333333333333333,
              "#9c179e"
             ],
             [
              0.4444444444444444,
              "#bd3786"
             ],
             [
              0.5555555555555556,
              "#d8576b"
             ],
             [
              0.6666666666666666,
              "#ed7953"
             ],
             [
              0.7777777777777778,
              "#fb9f3a"
             ],
             [
              0.8888888888888888,
              "#fdca26"
             ],
             [
              1,
              "#f0f921"
             ]
            ],
            "type": "histogram2d"
           }
          ],
          "histogram2dcontour": [
           {
            "colorbar": {
             "outlinewidth": 0,
             "ticks": ""
            },
            "colorscale": [
             [
              0,
              "#0d0887"
             ],
             [
              0.1111111111111111,
              "#46039f"
             ],
             [
              0.2222222222222222,
              "#7201a8"
             ],
             [
              0.3333333333333333,
              "#9c179e"
             ],
             [
              0.4444444444444444,
              "#bd3786"
             ],
             [
              0.5555555555555556,
              "#d8576b"
             ],
             [
              0.6666666666666666,
              "#ed7953"
             ],
             [
              0.7777777777777778,
              "#fb9f3a"
             ],
             [
              0.8888888888888888,
              "#fdca26"
             ],
             [
              1,
              "#f0f921"
             ]
            ],
            "type": "histogram2dcontour"
           }
          ],
          "mesh3d": [
           {
            "colorbar": {
             "outlinewidth": 0,
             "ticks": ""
            },
            "type": "mesh3d"
           }
          ],
          "parcoords": [
           {
            "line": {
             "colorbar": {
              "outlinewidth": 0,
              "ticks": ""
             }
            },
            "type": "parcoords"
           }
          ],
          "pie": [
           {
            "automargin": true,
            "type": "pie"
           }
          ],
          "scatter": [
           {
            "fillpattern": {
             "fillmode": "overlay",
             "size": 10,
             "solidity": 0.2
            },
            "type": "scatter"
           }
          ],
          "scatter3d": [
           {
            "line": {
             "colorbar": {
              "outlinewidth": 0,
              "ticks": ""
             }
            },
            "marker": {
             "colorbar": {
              "outlinewidth": 0,
              "ticks": ""
             }
            },
            "type": "scatter3d"
           }
          ],
          "scattercarpet": [
           {
            "marker": {
             "colorbar": {
              "outlinewidth": 0,
              "ticks": ""
             }
            },
            "type": "scattercarpet"
           }
          ],
          "scattergeo": [
           {
            "marker": {
             "colorbar": {
              "outlinewidth": 0,
              "ticks": ""
             }
            },
            "type": "scattergeo"
           }
          ],
          "scattergl": [
           {
            "marker": {
             "colorbar": {
              "outlinewidth": 0,
              "ticks": ""
             }
            },
            "type": "scattergl"
           }
          ],
          "scattermapbox": [
           {
            "marker": {
             "colorbar": {
              "outlinewidth": 0,
              "ticks": ""
             }
            },
            "type": "scattermapbox"
           }
          ],
          "scatterpolar": [
           {
            "marker": {
             "colorbar": {
              "outlinewidth": 0,
              "ticks": ""
             }
            },
            "type": "scatterpolar"
           }
          ],
          "scatterpolargl": [
           {
            "marker": {
             "colorbar": {
              "outlinewidth": 0,
              "ticks": ""
             }
            },
            "type": "scatterpolargl"
           }
          ],
          "scatterternary": [
           {
            "marker": {
             "colorbar": {
              "outlinewidth": 0,
              "ticks": ""
             }
            },
            "type": "scatterternary"
           }
          ],
          "surface": [
           {
            "colorbar": {
             "outlinewidth": 0,
             "ticks": ""
            },
            "colorscale": [
             [
              0,
              "#0d0887"
             ],
             [
              0.1111111111111111,
              "#46039f"
             ],
             [
              0.2222222222222222,
              "#7201a8"
             ],
             [
              0.3333333333333333,
              "#9c179e"
             ],
             [
              0.4444444444444444,
              "#bd3786"
             ],
             [
              0.5555555555555556,
              "#d8576b"
             ],
             [
              0.6666666666666666,
              "#ed7953"
             ],
             [
              0.7777777777777778,
              "#fb9f3a"
             ],
             [
              0.8888888888888888,
              "#fdca26"
             ],
             [
              1,
              "#f0f921"
             ]
            ],
            "type": "surface"
           }
          ],
          "table": [
           {
            "cells": {
             "fill": {
              "color": "#EBF0F8"
             },
             "line": {
              "color": "white"
             }
            },
            "header": {
             "fill": {
              "color": "#C8D4E3"
             },
             "line": {
              "color": "white"
             }
            },
            "type": "table"
           }
          ]
         },
         "layout": {
          "annotationdefaults": {
           "arrowcolor": "#2a3f5f",
           "arrowhead": 0,
           "arrowwidth": 1
          },
          "autotypenumbers": "strict",
          "coloraxis": {
           "colorbar": {
            "outlinewidth": 0,
            "ticks": ""
           }
          },
          "colorscale": {
           "diverging": [
            [
             0,
             "#8e0152"
            ],
            [
             0.1,
             "#c51b7d"
            ],
            [
             0.2,
             "#de77ae"
            ],
            [
             0.3,
             "#f1b6da"
            ],
            [
             0.4,
             "#fde0ef"
            ],
            [
             0.5,
             "#f7f7f7"
            ],
            [
             0.6,
             "#e6f5d0"
            ],
            [
             0.7,
             "#b8e186"
            ],
            [
             0.8,
             "#7fbc41"
            ],
            [
             0.9,
             "#4d9221"
            ],
            [
             1,
             "#276419"
            ]
           ],
           "sequential": [
            [
             0,
             "#0d0887"
            ],
            [
             0.1111111111111111,
             "#46039f"
            ],
            [
             0.2222222222222222,
             "#7201a8"
            ],
            [
             0.3333333333333333,
             "#9c179e"
            ],
            [
             0.4444444444444444,
             "#bd3786"
            ],
            [
             0.5555555555555556,
             "#d8576b"
            ],
            [
             0.6666666666666666,
             "#ed7953"
            ],
            [
             0.7777777777777778,
             "#fb9f3a"
            ],
            [
             0.8888888888888888,
             "#fdca26"
            ],
            [
             1,
             "#f0f921"
            ]
           ],
           "sequentialminus": [
            [
             0,
             "#0d0887"
            ],
            [
             0.1111111111111111,
             "#46039f"
            ],
            [
             0.2222222222222222,
             "#7201a8"
            ],
            [
             0.3333333333333333,
             "#9c179e"
            ],
            [
             0.4444444444444444,
             "#bd3786"
            ],
            [
             0.5555555555555556,
             "#d8576b"
            ],
            [
             0.6666666666666666,
             "#ed7953"
            ],
            [
             0.7777777777777778,
             "#fb9f3a"
            ],
            [
             0.8888888888888888,
             "#fdca26"
            ],
            [
             1,
             "#f0f921"
            ]
           ]
          },
          "colorway": [
           "#636efa",
           "#EF553B",
           "#00cc96",
           "#ab63fa",
           "#FFA15A",
           "#19d3f3",
           "#FF6692",
           "#B6E880",
           "#FF97FF",
           "#FECB52"
          ],
          "font": {
           "color": "#2a3f5f"
          },
          "geo": {
           "bgcolor": "white",
           "lakecolor": "white",
           "landcolor": "#E5ECF6",
           "showlakes": true,
           "showland": true,
           "subunitcolor": "white"
          },
          "hoverlabel": {
           "align": "left"
          },
          "hovermode": "closest",
          "mapbox": {
           "style": "light"
          },
          "paper_bgcolor": "white",
          "plot_bgcolor": "#E5ECF6",
          "polar": {
           "angularaxis": {
            "gridcolor": "white",
            "linecolor": "white",
            "ticks": ""
           },
           "bgcolor": "#E5ECF6",
           "radialaxis": {
            "gridcolor": "white",
            "linecolor": "white",
            "ticks": ""
           }
          },
          "scene": {
           "xaxis": {
            "backgroundcolor": "#E5ECF6",
            "gridcolor": "white",
            "gridwidth": 2,
            "linecolor": "white",
            "showbackground": true,
            "ticks": "",
            "zerolinecolor": "white"
           },
           "yaxis": {
            "backgroundcolor": "#E5ECF6",
            "gridcolor": "white",
            "gridwidth": 2,
            "linecolor": "white",
            "showbackground": true,
            "ticks": "",
            "zerolinecolor": "white"
           },
           "zaxis": {
            "backgroundcolor": "#E5ECF6",
            "gridcolor": "white",
            "gridwidth": 2,
            "linecolor": "white",
            "showbackground": true,
            "ticks": "",
            "zerolinecolor": "white"
           }
          },
          "shapedefaults": {
           "line": {
            "color": "#2a3f5f"
           }
          },
          "ternary": {
           "aaxis": {
            "gridcolor": "white",
            "linecolor": "white",
            "ticks": ""
           },
           "baxis": {
            "gridcolor": "white",
            "linecolor": "white",
            "ticks": ""
           },
           "bgcolor": "#E5ECF6",
           "caxis": {
            "gridcolor": "white",
            "linecolor": "white",
            "ticks": ""
           }
          },
          "title": {
           "x": 0.05
          },
          "xaxis": {
           "automargin": true,
           "gridcolor": "white",
           "linecolor": "white",
           "ticks": "",
           "title": {
            "standoff": 15
           },
           "zerolinecolor": "white",
           "zerolinewidth": 2
          },
          "yaxis": {
           "automargin": true,
           "gridcolor": "white",
           "linecolor": "white",
           "ticks": "",
           "title": {
            "standoff": 15
           },
           "zerolinecolor": "white",
           "zerolinewidth": 2
          }
         }
        },
        "title": {
         "text": "Distribuição de Usuários por Etnia e Nível",
         "x": 0.5
        },
        "xaxis": {
         "anchor": "y",
         "domain": [
          0,
          1
         ],
         "title": {
          "text": "Nível"
         }
        },
        "yaxis": {
         "anchor": "x",
         "domain": [
          0,
          1
         ],
         "title": {
          "text": "Contagem de Usuários"
         }
        }
       }
      }
     },
     "metadata": {},
     "output_type": "display_data"
    }
   ],
   "source": [
    "import plotly.express as px\n",
    "\n",
    "# Dados em formato largo\n",
    "dados = {\n",
    "    'COR/RACA/ETNIA': ['Amarela', 'Branca', 'Indígena', 'Outra', 'Parda', 'Prefiro não informar', 'Preta'],\n",
    "    'Gestora': [28, 480, 1, 5, 162, 2, 35],\n",
    "    'Júnior': [29, 611, 4, 4, 267, 10, 98],\n",
    "    'Pleno': [27, 684, 3, 1, 267, 9, 69],\n",
    "    'Sênior': [27, 622, 2, 3, 201, 4, 39]\n",
    "}\n",
    "\n",
    "df = pd.DataFrame(dados)\n",
    "\n",
    "ordem_etnias = ['Branca', 'Parda', 'Preta', 'Amarela', 'Indígena', 'Outra', 'Prefiro não informar']\n",
    "df['COR/RACA/ETNIA'] = pd.Categorical(df['COR/RACA/ETNIA'], categories=ordem_etnias, ordered=True)\n",
    "\n",
    "dados_longos = df.melt(id_vars='COR/RACA/ETNIA', var_name='NOVO NÍVEL', value_name='Valores')\n",
    "\n",
    "dados_longos.sort_values(by='COR/RACA/ETNIA', inplace=True)\n",
    "\n",
    "fig = px.bar(dados_longos, x='NOVO NÍVEL', y='Valores', color='COR/RACA/ETNIA', barmode='group')\n",
    "\n",
    "fig.update_layout(\n",
    "    title='Distribuição de Usuários por Etnia e Nível',\n",
    "    xaxis_title='Nível',\n",
    "    yaxis_title='Contagem de Usuários',\n",
    "    title_x=0.5  # Centraliza o título\n",
    ")\n",
    "\n",
    "# Mostrando o gráfico\n",
    "fig.show()\n",
    "\n"
   ]
  },
  {
   "cell_type": "code",
   "execution_count": 75,
   "id": "566b5ea7",
   "metadata": {},
   "outputs": [
    {
     "data": {
      "text/plain": [
       "Index(['ID', 'IDADE', 'FAIXA IDADE', 'GENERO', 'COR/RACA/ETNIA', 'PCD',\n",
       "       'EXPERIENCIA_PROFISSIONAL_PREJUDICADA', 'PREJUDICA?',\n",
       "       'ASPECTOS_PREJUDICADOS', 'VIVE_NO_BRASIL', 'ESTADO ONDE MORA',\n",
       "       'UF ONDE MORA', 'REGIAO ONDE MORA', 'MUDOU DE ESTADO?',\n",
       "       'REGIAO DE ORIGEM', 'NIVEL DE ENSINO', 'ÁREA DE FORMAÇÃO',\n",
       "       'COMPUTAÇÃO?', 'QUAL SUA SITUAÇÃO ATUAL DE TRABALHO?', 'SETOR',\n",
       "       'NUMERO DE FUNCIONARIOS', 'GESTOR?', 'NIVEL', 'NOVO NÍVEL',\n",
       "       'CARGO COMO GESTOR', 'CARGO ATUAL', 'Unnamed: 26', 'FAIXA SALARIAL',\n",
       "       'SALARIO', 'QUANTO TEMPO DE EXPERIÊNCIA NA ÁREA DE DADOS VOCÊ TEM?',\n",
       "       'QUANTO TEMPO DE EXPERIÊNCIA NA ÁREA DE TI/ENGENHARIA DE SOFTWARE VOCÊ TEVE ANTES DE COMEÇAR A TRABALHAR NA ÁREA DE DADOS?',\n",
       "       'GERAÇÃO'],\n",
       "      dtype='object')"
      ]
     },
     "execution_count": 75,
     "metadata": {},
     "output_type": "execute_result"
    }
   ],
   "source": [
    "data.columns"
   ]
  },
  {
   "cell_type": "markdown",
   "id": "a71fdb13",
   "metadata": {},
   "source": [
    "Seguindo a mesma lógica da distribuição de gênero por garco, aqui análisamos a distribuição das etnias por cargo. \n",
    "\n",
    "- A etnia branca apresenta o maior número de usuários em todos os níveis hierárquicos, com uma diferença significativa em relação às outras etnias.\n",
    "- A maioria dos usuários, independentemente da etnia, se concentra nos níveis Pleno e Júnior.\n",
    "- As demais etnias (Parda, Preta, Amarela, Indígena e Outra) representam uma minoria em todos os níveis hierárquicos.\n",
    "- Os dados sugerem a existência de uma desigualdade racial nos profissionais da área de TI, com menor representação de etnias não brancas em todos os níveis hierárquicos.\n",
    "- A falta de diversidade étnica pode impactar a inovação, a criatividade e a tomada de decisões dentro da empresa.\n",
    "\n",
    "Os dados fornecidos para análise são referentes ao ano de 2022. Seria interessante construir uma linha do tempo com dados de anos anteriores para comparar a participação dos diversos grupos etnicos ao longo do tempo. Se houve alguma política de inclusão, uma linha do tempo auxiliaria a acompanhar sua eficácia. "
   ]
  },
  {
   "cell_type": "markdown",
   "id": "6cf19459",
   "metadata": {},
   "source": [
    "### 2.5. Distribuição de usuários portadores de deficiência. \n"
   ]
  },
  {
   "cell_type": "code",
   "execution_count": 76,
   "id": "971f9250-f388-45a2-ab79-3bc6f4b637d6",
   "metadata": {
    "tags": []
   },
   "outputs": [
    {
     "data": {
      "text/plain": [
       "PCD\n",
       "Não                     4198\n",
       "Sim                       54\n",
       "Prefiro não informar      19\n",
       "Name: count, dtype: int64"
      ]
     },
     "execution_count": 76,
     "metadata": {},
     "output_type": "execute_result"
    }
   ],
   "source": [
    "data['PCD'].value_counts()"
   ]
  },
  {
   "cell_type": "code",
   "execution_count": 77,
   "id": "6aae8fab-771b-4d51-aed8-7ae87aa5b1b0",
   "metadata": {
    "tags": []
   },
   "outputs": [
    {
     "data": {
      "text/plain": [
       "NOVO NÍVEL\n",
       "Júnior            20\n",
       "Sênior            13\n",
       "Pleno             10\n",
       "Pessoa Gestora     5\n",
       "Name: count, dtype: int64"
      ]
     },
     "execution_count": 77,
     "metadata": {},
     "output_type": "execute_result"
    }
   ],
   "source": [
    "cargo_pcd = data[(data['PCD']=='Sim') & (data['NOVO NÍVEL'])]['NOVO NÍVEL'].value_counts()\n",
    "cargo_pcd"
   ]
  },
  {
   "cell_type": "code",
   "execution_count": 78,
   "id": "87bb18d1-fe1b-46e1-9759-c8654a5ed1a9",
   "metadata": {
    "tags": []
   },
   "outputs": [
    {
     "data": {
      "text/plain": [
       "37.03703703703704"
      ]
     },
     "execution_count": 78,
     "metadata": {},
     "output_type": "execute_result"
    }
   ],
   "source": [
    "percetual_pcd_junior = (20/54)*100\n",
    "percetual_pcd_junior\n"
   ]
  },
  {
   "cell_type": "code",
   "execution_count": 79,
   "id": "6ac9448e-559f-4632-8db6-63585623799b",
   "metadata": {
    "tags": []
   },
   "outputs": [
    {
     "data": {
      "text/plain": [
       "np.int64(20)"
      ]
     },
     "execution_count": 79,
     "metadata": {},
     "output_type": "execute_result"
    }
   ],
   "source": [
    "\n",
    "pcd_role_junior = np.array(data[ (data['PCD']=='Sim') & (data['NOVO NÍVEL']=='Júnior') ]['PCD'].value_counts())[0]\n",
    "pcd_role_junior"
   ]
  },
  {
   "cell_type": "code",
   "execution_count": 80,
   "id": "0b520a9a-5a50-49d3-b6bb-726a81585ac8",
   "metadata": {
    "tags": []
   },
   "outputs": [
    {
     "data": {
      "text/plain": [
       "18.51851851851852"
      ]
     },
     "execution_count": 80,
     "metadata": {},
     "output_type": "execute_result"
    }
   ],
   "source": [
    "percetual_pcd_pleno = (10/54)*100\n",
    "percetual_pcd_pleno"
   ]
  },
  {
   "cell_type": "code",
   "execution_count": 81,
   "id": "27cfb7ce-b869-4905-a8e3-0979eb15f177",
   "metadata": {
    "tags": []
   },
   "outputs": [
    {
     "data": {
      "text/plain": [
       "np.int64(10)"
      ]
     },
     "execution_count": 81,
     "metadata": {},
     "output_type": "execute_result"
    }
   ],
   "source": [
    "pcd_role_plenor = np.array(data[ (data['PCD']=='Sim') & (data['NOVO NÍVEL']=='Pleno') ]['PCD'].value_counts())[0]\n",
    "pcd_role_plenor"
   ]
  },
  {
   "cell_type": "code",
   "execution_count": 82,
   "id": "a2e37f24-df73-487c-b809-d06035c6e37c",
   "metadata": {
    "tags": []
   },
   "outputs": [
    {
     "data": {
      "text/plain": [
       "24.074074074074073"
      ]
     },
     "execution_count": 82,
     "metadata": {},
     "output_type": "execute_result"
    }
   ],
   "source": [
    "percetual_pcd_senior = (13/54)*100\n",
    "percetual_pcd_senior"
   ]
  },
  {
   "cell_type": "code",
   "execution_count": 83,
   "id": "8384c523-4d2a-49a4-a18a-8e5a02ad2230",
   "metadata": {
    "tags": []
   },
   "outputs": [
    {
     "data": {
      "text/plain": [
       "np.int64(13)"
      ]
     },
     "execution_count": 83,
     "metadata": {},
     "output_type": "execute_result"
    }
   ],
   "source": [
    "pcd_role_senior = np.array(data[ (data['PCD']=='Sim') & (data['NOVO NÍVEL']=='Sênior') ]['PCD'].value_counts())[0]\n",
    "pcd_role_senior"
   ]
  },
  {
   "cell_type": "code",
   "execution_count": 84,
   "id": "6e03c1cf-211b-4e13-ae74-af5603ad64aa",
   "metadata": {
    "tags": []
   },
   "outputs": [
    {
     "data": {
      "text/plain": [
       "9.25925925925926"
      ]
     },
     "execution_count": 84,
     "metadata": {},
     "output_type": "execute_result"
    }
   ],
   "source": [
    "percetual_pcd_gestor = (5/54)*100\n",
    "percetual_pcd_gestor"
   ]
  },
  {
   "cell_type": "code",
   "execution_count": 85,
   "id": "6b66c44c-ff4e-4caa-b776-940021023766",
   "metadata": {
    "tags": []
   },
   "outputs": [
    {
     "data": {
      "text/plain": [
       "0"
      ]
     },
     "execution_count": 85,
     "metadata": {},
     "output_type": "execute_result"
    }
   ],
   "source": [
    "pcd_role_manager = data[(data['PCD']=='Sim') & (data['NOVO NÍVEL']=='Gestora')]['PCD'].value_counts()\n",
    "pcd_role_manager = pcd_role_manager.values[0] if not pcd_role_manager.empty else 0\n",
    "pcd_role_manager\n"
   ]
  },
  {
   "cell_type": "code",
   "execution_count": 86,
   "id": "1878315b-f795-4b9f-b3a5-e3922a038677",
   "metadata": {
    "tags": []
   },
   "outputs": [
    {
     "data": {
      "application/vnd.plotly.v1+json": {
       "config": {
        "plotlyServerURL": "https://plot.ly"
       },
       "data": [
        {
         "marker": {
          "color": [
           "#cab2d6",
           "#b2df8a",
           "#fdbf6f",
           "#a6cee3"
          ]
         },
         "text": [
          "20",
          "10",
          "13",
          "0"
         ],
         "textposition": "auto",
         "type": "bar",
         "x": [
          "Júnior",
          "Pleno",
          "Sênior",
          "Gestor"
         ],
         "y": [
          20,
          10,
          13,
          0
         ]
        }
       ],
       "layout": {
        "font": {
         "family": "Times New Roman",
         "size": 18
        },
        "height": 600,
        "showlegend": false,
        "template": {
         "data": {
          "bar": [
           {
            "error_x": {
             "color": "#2a3f5f"
            },
            "error_y": {
             "color": "#2a3f5f"
            },
            "marker": {
             "line": {
              "color": "#E5ECF6",
              "width": 0.5
             },
             "pattern": {
              "fillmode": "overlay",
              "size": 10,
              "solidity": 0.2
             }
            },
            "type": "bar"
           }
          ],
          "barpolar": [
           {
            "marker": {
             "line": {
              "color": "#E5ECF6",
              "width": 0.5
             },
             "pattern": {
              "fillmode": "overlay",
              "size": 10,
              "solidity": 0.2
             }
            },
            "type": "barpolar"
           }
          ],
          "carpet": [
           {
            "aaxis": {
             "endlinecolor": "#2a3f5f",
             "gridcolor": "white",
             "linecolor": "white",
             "minorgridcolor": "white",
             "startlinecolor": "#2a3f5f"
            },
            "baxis": {
             "endlinecolor": "#2a3f5f",
             "gridcolor": "white",
             "linecolor": "white",
             "minorgridcolor": "white",
             "startlinecolor": "#2a3f5f"
            },
            "type": "carpet"
           }
          ],
          "choropleth": [
           {
            "colorbar": {
             "outlinewidth": 0,
             "ticks": ""
            },
            "type": "choropleth"
           }
          ],
          "contour": [
           {
            "colorbar": {
             "outlinewidth": 0,
             "ticks": ""
            },
            "colorscale": [
             [
              0,
              "#0d0887"
             ],
             [
              0.1111111111111111,
              "#46039f"
             ],
             [
              0.2222222222222222,
              "#7201a8"
             ],
             [
              0.3333333333333333,
              "#9c179e"
             ],
             [
              0.4444444444444444,
              "#bd3786"
             ],
             [
              0.5555555555555556,
              "#d8576b"
             ],
             [
              0.6666666666666666,
              "#ed7953"
             ],
             [
              0.7777777777777778,
              "#fb9f3a"
             ],
             [
              0.8888888888888888,
              "#fdca26"
             ],
             [
              1,
              "#f0f921"
             ]
            ],
            "type": "contour"
           }
          ],
          "contourcarpet": [
           {
            "colorbar": {
             "outlinewidth": 0,
             "ticks": ""
            },
            "type": "contourcarpet"
           }
          ],
          "heatmap": [
           {
            "colorbar": {
             "outlinewidth": 0,
             "ticks": ""
            },
            "colorscale": [
             [
              0,
              "#0d0887"
             ],
             [
              0.1111111111111111,
              "#46039f"
             ],
             [
              0.2222222222222222,
              "#7201a8"
             ],
             [
              0.3333333333333333,
              "#9c179e"
             ],
             [
              0.4444444444444444,
              "#bd3786"
             ],
             [
              0.5555555555555556,
              "#d8576b"
             ],
             [
              0.6666666666666666,
              "#ed7953"
             ],
             [
              0.7777777777777778,
              "#fb9f3a"
             ],
             [
              0.8888888888888888,
              "#fdca26"
             ],
             [
              1,
              "#f0f921"
             ]
            ],
            "type": "heatmap"
           }
          ],
          "heatmapgl": [
           {
            "colorbar": {
             "outlinewidth": 0,
             "ticks": ""
            },
            "colorscale": [
             [
              0,
              "#0d0887"
             ],
             [
              0.1111111111111111,
              "#46039f"
             ],
             [
              0.2222222222222222,
              "#7201a8"
             ],
             [
              0.3333333333333333,
              "#9c179e"
             ],
             [
              0.4444444444444444,
              "#bd3786"
             ],
             [
              0.5555555555555556,
              "#d8576b"
             ],
             [
              0.6666666666666666,
              "#ed7953"
             ],
             [
              0.7777777777777778,
              "#fb9f3a"
             ],
             [
              0.8888888888888888,
              "#fdca26"
             ],
             [
              1,
              "#f0f921"
             ]
            ],
            "type": "heatmapgl"
           }
          ],
          "histogram": [
           {
            "marker": {
             "pattern": {
              "fillmode": "overlay",
              "size": 10,
              "solidity": 0.2
             }
            },
            "type": "histogram"
           }
          ],
          "histogram2d": [
           {
            "colorbar": {
             "outlinewidth": 0,
             "ticks": ""
            },
            "colorscale": [
             [
              0,
              "#0d0887"
             ],
             [
              0.1111111111111111,
              "#46039f"
             ],
             [
              0.2222222222222222,
              "#7201a8"
             ],
             [
              0.3333333333333333,
              "#9c179e"
             ],
             [
              0.4444444444444444,
              "#bd3786"
             ],
             [
              0.5555555555555556,
              "#d8576b"
             ],
             [
              0.6666666666666666,
              "#ed7953"
             ],
             [
              0.7777777777777778,
              "#fb9f3a"
             ],
             [
              0.8888888888888888,
              "#fdca26"
             ],
             [
              1,
              "#f0f921"
             ]
            ],
            "type": "histogram2d"
           }
          ],
          "histogram2dcontour": [
           {
            "colorbar": {
             "outlinewidth": 0,
             "ticks": ""
            },
            "colorscale": [
             [
              0,
              "#0d0887"
             ],
             [
              0.1111111111111111,
              "#46039f"
             ],
             [
              0.2222222222222222,
              "#7201a8"
             ],
             [
              0.3333333333333333,
              "#9c179e"
             ],
             [
              0.4444444444444444,
              "#bd3786"
             ],
             [
              0.5555555555555556,
              "#d8576b"
             ],
             [
              0.6666666666666666,
              "#ed7953"
             ],
             [
              0.7777777777777778,
              "#fb9f3a"
             ],
             [
              0.8888888888888888,
              "#fdca26"
             ],
             [
              1,
              "#f0f921"
             ]
            ],
            "type": "histogram2dcontour"
           }
          ],
          "mesh3d": [
           {
            "colorbar": {
             "outlinewidth": 0,
             "ticks": ""
            },
            "type": "mesh3d"
           }
          ],
          "parcoords": [
           {
            "line": {
             "colorbar": {
              "outlinewidth": 0,
              "ticks": ""
             }
            },
            "type": "parcoords"
           }
          ],
          "pie": [
           {
            "automargin": true,
            "type": "pie"
           }
          ],
          "scatter": [
           {
            "fillpattern": {
             "fillmode": "overlay",
             "size": 10,
             "solidity": 0.2
            },
            "type": "scatter"
           }
          ],
          "scatter3d": [
           {
            "line": {
             "colorbar": {
              "outlinewidth": 0,
              "ticks": ""
             }
            },
            "marker": {
             "colorbar": {
              "outlinewidth": 0,
              "ticks": ""
             }
            },
            "type": "scatter3d"
           }
          ],
          "scattercarpet": [
           {
            "marker": {
             "colorbar": {
              "outlinewidth": 0,
              "ticks": ""
             }
            },
            "type": "scattercarpet"
           }
          ],
          "scattergeo": [
           {
            "marker": {
             "colorbar": {
              "outlinewidth": 0,
              "ticks": ""
             }
            },
            "type": "scattergeo"
           }
          ],
          "scattergl": [
           {
            "marker": {
             "colorbar": {
              "outlinewidth": 0,
              "ticks": ""
             }
            },
            "type": "scattergl"
           }
          ],
          "scattermapbox": [
           {
            "marker": {
             "colorbar": {
              "outlinewidth": 0,
              "ticks": ""
             }
            },
            "type": "scattermapbox"
           }
          ],
          "scatterpolar": [
           {
            "marker": {
             "colorbar": {
              "outlinewidth": 0,
              "ticks": ""
             }
            },
            "type": "scatterpolar"
           }
          ],
          "scatterpolargl": [
           {
            "marker": {
             "colorbar": {
              "outlinewidth": 0,
              "ticks": ""
             }
            },
            "type": "scatterpolargl"
           }
          ],
          "scatterternary": [
           {
            "marker": {
             "colorbar": {
              "outlinewidth": 0,
              "ticks": ""
             }
            },
            "type": "scatterternary"
           }
          ],
          "surface": [
           {
            "colorbar": {
             "outlinewidth": 0,
             "ticks": ""
            },
            "colorscale": [
             [
              0,
              "#0d0887"
             ],
             [
              0.1111111111111111,
              "#46039f"
             ],
             [
              0.2222222222222222,
              "#7201a8"
             ],
             [
              0.3333333333333333,
              "#9c179e"
             ],
             [
              0.4444444444444444,
              "#bd3786"
             ],
             [
              0.5555555555555556,
              "#d8576b"
             ],
             [
              0.6666666666666666,
              "#ed7953"
             ],
             [
              0.7777777777777778,
              "#fb9f3a"
             ],
             [
              0.8888888888888888,
              "#fdca26"
             ],
             [
              1,
              "#f0f921"
             ]
            ],
            "type": "surface"
           }
          ],
          "table": [
           {
            "cells": {
             "fill": {
              "color": "#EBF0F8"
             },
             "line": {
              "color": "white"
             }
            },
            "header": {
             "fill": {
              "color": "#C8D4E3"
             },
             "line": {
              "color": "white"
             }
            },
            "type": "table"
           }
          ]
         },
         "layout": {
          "annotationdefaults": {
           "arrowcolor": "#2a3f5f",
           "arrowhead": 0,
           "arrowwidth": 1
          },
          "autotypenumbers": "strict",
          "coloraxis": {
           "colorbar": {
            "outlinewidth": 0,
            "ticks": ""
           }
          },
          "colorscale": {
           "diverging": [
            [
             0,
             "#8e0152"
            ],
            [
             0.1,
             "#c51b7d"
            ],
            [
             0.2,
             "#de77ae"
            ],
            [
             0.3,
             "#f1b6da"
            ],
            [
             0.4,
             "#fde0ef"
            ],
            [
             0.5,
             "#f7f7f7"
            ],
            [
             0.6,
             "#e6f5d0"
            ],
            [
             0.7,
             "#b8e186"
            ],
            [
             0.8,
             "#7fbc41"
            ],
            [
             0.9,
             "#4d9221"
            ],
            [
             1,
             "#276419"
            ]
           ],
           "sequential": [
            [
             0,
             "#0d0887"
            ],
            [
             0.1111111111111111,
             "#46039f"
            ],
            [
             0.2222222222222222,
             "#7201a8"
            ],
            [
             0.3333333333333333,
             "#9c179e"
            ],
            [
             0.4444444444444444,
             "#bd3786"
            ],
            [
             0.5555555555555556,
             "#d8576b"
            ],
            [
             0.6666666666666666,
             "#ed7953"
            ],
            [
             0.7777777777777778,
             "#fb9f3a"
            ],
            [
             0.8888888888888888,
             "#fdca26"
            ],
            [
             1,
             "#f0f921"
            ]
           ],
           "sequentialminus": [
            [
             0,
             "#0d0887"
            ],
            [
             0.1111111111111111,
             "#46039f"
            ],
            [
             0.2222222222222222,
             "#7201a8"
            ],
            [
             0.3333333333333333,
             "#9c179e"
            ],
            [
             0.4444444444444444,
             "#bd3786"
            ],
            [
             0.5555555555555556,
             "#d8576b"
            ],
            [
             0.6666666666666666,
             "#ed7953"
            ],
            [
             0.7777777777777778,
             "#fb9f3a"
            ],
            [
             0.8888888888888888,
             "#fdca26"
            ],
            [
             1,
             "#f0f921"
            ]
           ]
          },
          "colorway": [
           "#636efa",
           "#EF553B",
           "#00cc96",
           "#ab63fa",
           "#FFA15A",
           "#19d3f3",
           "#FF6692",
           "#B6E880",
           "#FF97FF",
           "#FECB52"
          ],
          "font": {
           "color": "#2a3f5f"
          },
          "geo": {
           "bgcolor": "white",
           "lakecolor": "white",
           "landcolor": "#E5ECF6",
           "showlakes": true,
           "showland": true,
           "subunitcolor": "white"
          },
          "hoverlabel": {
           "align": "left"
          },
          "hovermode": "closest",
          "mapbox": {
           "style": "light"
          },
          "paper_bgcolor": "white",
          "plot_bgcolor": "#E5ECF6",
          "polar": {
           "angularaxis": {
            "gridcolor": "white",
            "linecolor": "white",
            "ticks": ""
           },
           "bgcolor": "#E5ECF6",
           "radialaxis": {
            "gridcolor": "white",
            "linecolor": "white",
            "ticks": ""
           }
          },
          "scene": {
           "xaxis": {
            "backgroundcolor": "#E5ECF6",
            "gridcolor": "white",
            "gridwidth": 2,
            "linecolor": "white",
            "showbackground": true,
            "ticks": "",
            "zerolinecolor": "white"
           },
           "yaxis": {
            "backgroundcolor": "#E5ECF6",
            "gridcolor": "white",
            "gridwidth": 2,
            "linecolor": "white",
            "showbackground": true,
            "ticks": "",
            "zerolinecolor": "white"
           },
           "zaxis": {
            "backgroundcolor": "#E5ECF6",
            "gridcolor": "white",
            "gridwidth": 2,
            "linecolor": "white",
            "showbackground": true,
            "ticks": "",
            "zerolinecolor": "white"
           }
          },
          "shapedefaults": {
           "line": {
            "color": "#2a3f5f"
           }
          },
          "ternary": {
           "aaxis": {
            "gridcolor": "white",
            "linecolor": "white",
            "ticks": ""
           },
           "baxis": {
            "gridcolor": "white",
            "linecolor": "white",
            "ticks": ""
           },
           "bgcolor": "#E5ECF6",
           "caxis": {
            "gridcolor": "white",
            "linecolor": "white",
            "ticks": ""
           }
          },
          "title": {
           "x": 0.05
          },
          "xaxis": {
           "automargin": true,
           "gridcolor": "white",
           "linecolor": "white",
           "ticks": "",
           "title": {
            "standoff": 15
           },
           "zerolinecolor": "white",
           "zerolinewidth": 2
          },
          "yaxis": {
           "automargin": true,
           "gridcolor": "white",
           "linecolor": "white",
           "ticks": "",
           "title": {
            "standoff": 15
           },
           "zerolinecolor": "white",
           "zerolinewidth": 2
          }
         }
        },
        "title": {
         "text": "Distribuição por cargo de usuários PCD",
         "x": 0.5
        },
        "width": 800,
        "xaxis": {
         "title": {
          "text": "Cargos dos usuários"
         }
        },
        "yaxis": {
         "title": {
          "text": "Número de usuários"
         }
        }
       }
      }
     },
     "metadata": {},
     "output_type": "display_data"
    }
   ],
   "source": [
    "cargo_pcd = ['Júnior', 'Pleno', 'Sênior', 'Gestor']  \n",
    "count_junior = [pcd_role_junior, pcd_role_plenor, pcd_role_senior, pcd_role_manager]\n",
    "\n",
    "\n",
    "bar_colors = ['#cab2d6', '#b2df8a', '#fdbf6f', '#a6cee3'] \n",
    "# Criando o gráfico de barras\n",
    "fig = go.Figure(go.Bar(\n",
    "    x=cargo_pcd,\n",
    "    y=count_junior,\n",
    "    marker_color=bar_colors,  \n",
    "    text=count_junior,  \n",
    "    textposition='auto',  \n",
    "))\n",
    "\n",
    "\n",
    "fig.update_layout(\n",
    "    title=\"Distribuição por cargo de usuários PCD\",     xaxis_title=\"Cargos dos usuários\",\n",
    "    yaxis_title=\"Número de usuários\",  \n",
    "    title_x=0.5, \n",
    "    font=dict(family=\"Times New Roman\", size=18),  \n",
    "    width=800,\n",
    "    height=600,\n",
    "    showlegend=False \n",
    "    )\n",
    "\n",
    "fig.show()"
   ]
  },
  {
   "cell_type": "markdown",
   "id": "d4f8185c-cbf5-473c-86da-63fd8c95600e",
   "metadata": {},
   "source": [
    " A representação de pessoas com deficiência é extremamente baixa, correspondendo a apenas cerca de 1,26% do total de funcionários. Isso levanta questões sobre a eficácia das políticas de inclusão e diversidade da empresa. A organização está realmente promovendo a inclusão ou essa baixa representação reflete barreiras no processo de recrutamento e seleção?\n",
    "\n",
    "- A decisão de 19 funcionários em não divulgar se são pessoas com deficiência (PCDs) pode sugerir um ambiente organizacional onde os indivíduos não se sentem completamente seguros ou confortáveis em se identificar como tal. Isso pode indicar que a cultura organizacional ainda não é totalmente inclusiva ou que existem preocupações sobre discriminação ou estigmatização.\n",
    "\n",
    "- O cargo Júnior tem a maior representação de usuários com deficiência (37,03%). Isso sugere que usuários com deficiência são mais comumente encontrados em cargos de entrada.\n",
    "\n",
    "- O cargo de Gestora tem a menor representação (9,2%). Isso indica que os usuários com deficiência estão menos representados em cargos de gestão em comparação com outros níveis hierárquicos.\n",
    "\n",
    "- A concentração de pessoas com deficiência (PCDs) em cargos de nível inferior (Júnior) sugere potenciais desafios no avanço profissional desses funcionários. Isso pode indicar falta de oportunidades de desenvolvimento ou a presença de vieses e estigmas que dificultam a progressão na carreira de PCDs para funções com maior responsabilidade. Além disso, apenas 5 PCDs ocupam cargos de gestão, o que levanta preocupações sobre a inclusão em papéis de liderança."
   ]
  },
  {
   "cell_type": "markdown",
   "id": "9352c87b",
   "metadata": {},
   "source": [
    "# 3. Perfil salarial dos usuários "
   ]
  },
  {
   "cell_type": "markdown",
   "id": "3f0d0bc0",
   "metadata": {},
   "source": [
    "Compreender se os fatores gênero e etnia possuem influência no salário dos usuários"
   ]
  },
  {
   "cell_type": "markdown",
   "id": "117dadb4",
   "metadata": {},
   "source": [
    "### 3.1. Distribuição salarial por gênero "
   ]
  },
  {
   "cell_type": "code",
   "execution_count": 87,
   "id": "fb1587bd",
   "metadata": {},
   "outputs": [
    {
     "data": {
      "text/plain": [
       "NOVO NÍVEL\n",
       "Pleno             1060\n",
       "Júnior            1023\n",
       "Sênior             898\n",
       "Pessoa Gestora     713\n",
       "Name: count, dtype: int64"
      ]
     },
     "execution_count": 87,
     "metadata": {},
     "output_type": "execute_result"
    }
   ],
   "source": [
    "data['NOVO NÍVEL'].value_counts()"
   ]
  },
  {
   "cell_type": "code",
   "execution_count": 88,
   "id": "664a8883-2103-49da-ac42-3eeb73d91372",
   "metadata": {
    "tags": []
   },
   "outputs": [
    {
     "data": {
      "text/plain": [
       "np.float64(9904.390109813306)"
      ]
     },
     "execution_count": 88,
     "metadata": {},
     "output_type": "execute_result"
    }
   ],
   "source": [
    "# Média salarial dos usuários da área de TI\n",
    "\n",
    "mediasalario_global = data['SALARIO'].mean()\n",
    "mediasalario_global\n"
   ]
  },
  {
   "cell_type": "code",
   "execution_count": 89,
   "id": "389e23ee-5b9f-4719-82bd-114ba07ff010",
   "metadata": {
    "tags": []
   },
   "outputs": [
    {
     "data": {
      "text/plain": [
       "np.float64(10393.555983988348)"
      ]
     },
     "execution_count": 89,
     "metadata": {},
     "output_type": "execute_result"
    }
   ],
   "source": [
    "# Média salarial por gênero\n",
    "\n",
    "mediasalario_homens = (data[(data['GENERO']=='Masculino') & (data['SALARIO'])]['SALARIO'].mean())\n",
    "mediasalario_homens"
   ]
  },
  {
   "cell_type": "code",
   "execution_count": 90,
   "id": "ad2c7d28-8322-4426-8bc7-f162f09d9e5c",
   "metadata": {
    "tags": []
   },
   "outputs": [
    {
     "data": {
      "text/plain": [
       "np.float64(8482.256483100233)"
      ]
     },
     "execution_count": 90,
     "metadata": {},
     "output_type": "execute_result"
    }
   ],
   "source": [
    "# Média salarial mulheres\n",
    "\n",
    "mediasalario_mulheres = (data[(data['GENERO']=='Feminino') & (data['SALARIO'])])['SALARIO'].mean()\n",
    "mediasalario_mulheres"
   ]
  },
  {
   "cell_type": "code",
   "execution_count": 91,
   "id": "edf16085-8af7-4e00-9328-dd1c4eaa02c8",
   "metadata": {
    "tags": []
   },
   "outputs": [
    {
     "data": {
      "text/plain": [
       "np.float64(1911.2995008881153)"
      ]
     },
     "execution_count": 91,
     "metadata": {},
     "output_type": "execute_result"
    }
   ],
   "source": [
    "dif_salario_genero = (mediasalario_homens - mediasalario_mulheres) \n",
    "dif_salario_genero"
   ]
  },
  {
   "cell_type": "markdown",
   "id": "b8a8f1d6",
   "metadata": {},
   "source": [
    "#### Gestores"
   ]
  },
  {
   "cell_type": "code",
   "execution_count": 92,
   "id": "8e2e486a-f187-435b-87a2-4ac1c843c51a",
   "metadata": {
    "tags": []
   },
   "outputs": [
    {
     "name": "stderr",
     "output_type": "stream",
     "text": [
      "/tmp/ipykernel_778/830625889.py:5: UserWarning:\n",
      "\n",
      "Boolean Series key will be reindexed to match DataFrame index.\n",
      "\n"
     ]
    }
   ],
   "source": [
    "# Máximo, mínimo e média de salário por gênero para diferentes senioridades \n",
    "# Gestor \n",
    "\n",
    "# Média salarial dos gestores po gênero\n",
    "mediasalario_gestor_homens = data[data['GENERO']=='Masculino'][data['NOVO NÍVEL']=='Pessoa Gestora']['SALARIO'].mean()\n",
    "mediasalario_gestora_mulheres = data[(data['GENERO']=='Feminino')&(data['NOVO NÍVEL']=='Pessoa Gestora')]['SALARIO'].mean()\n"
   ]
  },
  {
   "cell_type": "code",
   "execution_count": 93,
   "id": "a3ee7a91-8aca-4977-9f12-51c0e0f7fcd2",
   "metadata": {
    "tags": []
   },
   "outputs": [
    {
     "name": "stderr",
     "output_type": "stream",
     "text": [
      "/tmp/ipykernel_778/88576299.py:2: UserWarning:\n",
      "\n",
      "Boolean Series key will be reindexed to match DataFrame index.\n",
      "\n",
      "/tmp/ipykernel_778/88576299.py:3: UserWarning:\n",
      "\n",
      "Boolean Series key will be reindexed to match DataFrame index.\n",
      "\n"
     ]
    }
   ],
   "source": [
    "# Minima salarial dos gestores po gênero\n",
    "minimasalario_gestor_homens = data[data['GENERO']=='Masculino'][data['NOVO NÍVEL']=='Pessoa Gestora']['SALARIO'].min()\n",
    "minimosalario_gestora_mulheres = data[data['GENERO']=='Feminino'][data['NOVO NÍVEL']=='Pessoa Gestora']['SALARIO'].min()"
   ]
  },
  {
   "cell_type": "code",
   "execution_count": 94,
   "id": "5c23a21a-be6f-4ba3-846b-58654bee386a",
   "metadata": {
    "tags": []
   },
   "outputs": [],
   "source": [
    "# Máxima salarial dos gestores po gênero\n",
    "\n",
    "maximosalario_gestor_homens = data[(data['GENERO']=='Masculino') & (data['NOVO NÍVEL']=='Pessoa Gestora')]['SALARIO'].max()\n",
    "maximosalario_gestora_mulheres = data[(data['GENERO']=='Feminino') & (data['NOVO NÍVEL']=='Pessoa Gestora')]['SALARIO'].max()\n"
   ]
  },
  {
   "cell_type": "code",
   "execution_count": 95,
   "id": "8829e9f4",
   "metadata": {},
   "outputs": [
    {
     "data": {
      "text/plain": [
       "Text(0.5, 1.0, 'Distribuição do salário de gestoras mulheres')"
      ]
     },
     "execution_count": 95,
     "metadata": {},
     "output_type": "execute_result"
    },
    {
     "data": {
      "image/png": "[encoded data removed]",
      "text/plain": [
       "<Figure size 640x480 with 1 Axes>"
      ]
     },
     "metadata": {},
     "output_type": "display_data"
    }
   ],
   "source": [
    "plt.boxplot(data[(data['GENERO']=='Feminino')&(data['NOVO NÍVEL']=='Pessoa Gestora')]['SALARIO'])\n",
    "plt.title('Distribuição do salário de gestoras mulheres')"
   ]
  },
  {
   "cell_type": "code",
   "execution_count": 96,
   "id": "5e505330",
   "metadata": {},
   "outputs": [
    {
     "name": "stderr",
     "output_type": "stream",
     "text": [
      "/tmp/ipykernel_778/717958370.py:1: UserWarning:\n",
      "\n",
      "Boolean Series key will be reindexed to match DataFrame index.\n",
      "\n"
     ]
    },
    {
     "data": {
      "text/plain": [
       "Text(0.5, 1.0, 'Distribuição do salário de gestores homens')"
      ]
     },
     "execution_count": 96,
     "metadata": {},
     "output_type": "execute_result"
    },
    {
     "data": {
      "image/png": "[encoded data removed]",
      "text/plain": [
       "<Figure size 640x480 with 1 Axes>"
      ]
     },
     "metadata": {},
     "output_type": "display_data"
    }
   ],
   "source": [
    "plt.boxplot(data[data['GENERO']=='Masculino'][data['NOVO NÍVEL']=='Pessoa Gestora']['SALARIO'])\n",
    "plt.title('Distribuição do salário de gestores homens')\n",
    "\n",
    "# Alguns outliers precisam ser corrigidos "
   ]
  },
  {
   "cell_type": "code",
   "execution_count": 97,
   "id": "34f3f498",
   "metadata": {},
   "outputs": [
    {
     "data": {
      "text/plain": [
       "np.float64(64806.166448975964)"
      ]
     },
     "execution_count": 97,
     "metadata": {},
     "output_type": "execute_result"
    }
   ],
   "source": [
    "limite_superior_salario"
   ]
  },
  {
   "cell_type": "code",
   "execution_count": 98,
   "id": "856e871a",
   "metadata": {},
   "outputs": [
    {
     "name": "stderr",
     "output_type": "stream",
     "text": [
      "/tmp/ipykernel_778/3743749645.py:2: UserWarning:\n",
      "\n",
      "Boolean Series key will be reindexed to match DataFrame index.\n",
      "\n"
     ]
    },
    {
     "data": {
      "text/plain": [
       "Series([], Name: FAIXA SALARIAL, dtype: object)"
      ]
     },
     "execution_count": 98,
     "metadata": {},
     "output_type": "execute_result"
    }
   ],
   "source": [
    "# Alguns salários estão acima do limite superior R$ 64.806, mas dentro de uma faixa salarial de R$30.000 até R$40.000 \n",
    "data[data['GENERO'] == 'Masculino'][data['SALARIO'] > limite_superior_salario]['FAIXA SALARIAL']\n"
   ]
  },
  {
   "cell_type": "code",
   "execution_count": 99,
   "id": "88d5b7dd",
   "metadata": {},
   "outputs": [],
   "source": [
    "# Os salario discrepantes da linha acima serão substituidos pela média dos salários da faixa salarial R$30.000 até R$40.000\n",
    "\n",
    "data.loc[(data['FAIXA SALARIAL'] == 'de R$ 30.001/mês a R$ 40.000/mês') & \n",
    "         (data['GENERO'] == 'Masculino') & \n",
    "         (data['SALARIO'] > limite_superior_salario), 'SALARIO'] = mediasal_30_40"
   ]
  },
  {
   "cell_type": "code",
   "execution_count": 100,
   "id": "55d85a53",
   "metadata": {},
   "outputs": [
    {
     "name": "stderr",
     "output_type": "stream",
     "text": [
      "/tmp/ipykernel_778/1210239406.py:1: UserWarning:\n",
      "\n",
      "Boolean Series key will be reindexed to match DataFrame index.\n",
      "\n"
     ]
    },
    {
     "data": {
      "text/plain": [
       "Series([], Name: count, dtype: int64)"
      ]
     },
     "execution_count": 100,
     "metadata": {},
     "output_type": "execute_result"
    }
   ],
   "source": [
    "data[data['GENERO'] == 'Masculino'][data['SALARIO'] > limite_superior_salario]['FAIXA SALARIAL'].value_counts()\n",
    "# Discrepância de salário com faixa salárial solucionada! "
   ]
  },
  {
   "cell_type": "code",
   "execution_count": 101,
   "id": "5d16def1",
   "metadata": {},
   "outputs": [
    {
     "name": "stderr",
     "output_type": "stream",
     "text": [
      "/tmp/ipykernel_778/2428781076.py:1: UserWarning:\n",
      "\n",
      "Boolean Series key will be reindexed to match DataFrame index.\n",
      "\n"
     ]
    },
    {
     "data": {
      "text/plain": [
       "Text(0.5, 1.0, 'Distribuição do salário de gestores homens')"
      ]
     },
     "execution_count": 101,
     "metadata": {},
     "output_type": "execute_result"
    },
    {
     "data": {
      "image/png": "[encoded data removed]",
      "text/plain": [
       "<Figure size 640x480 with 1 Axes>"
      ]
     },
     "metadata": {},
     "output_type": "display_data"
    }
   ],
   "source": [
    "plt.boxplot(data[data['GENERO']=='Masculino'][data['NOVO NÍVEL']=='Pessoa Gestora']['SALARIO'])\n",
    "plt.title('Distribuição do salário de gestores homens')"
   ]
  },
  {
   "cell_type": "code",
   "execution_count": 102,
   "id": "3bf3e10b",
   "metadata": {},
   "outputs": [],
   "source": [
    "# Mesmo com a correção anterior ainda há um salário altamente discrepante.\n",
    "# O mesmo será tratado como outlier e substituido pela média global\n",
    "\n",
    "data['SALARIO'] = pd.to_numeric(data['SALARIO'], errors='coerce')  \n",
    "max_salario = data[data['GENERO'] == 'Masculino']['SALARIO'].max()"
   ]
  },
  {
   "cell_type": "code",
   "execution_count": 103,
   "id": "4f616b64",
   "metadata": {},
   "outputs": [],
   "source": [
    "data.loc[data['SALARIO'].idxmax(), 'SALARIO'] = mediasalario_global"
   ]
  },
  {
   "cell_type": "code",
   "execution_count": 104,
   "id": "2f2c09e3",
   "metadata": {},
   "outputs": [
    {
     "name": "stderr",
     "output_type": "stream",
     "text": [
      "/tmp/ipykernel_778/2182134561.py:2: UserWarning:\n",
      "\n",
      "Boolean Series key will be reindexed to match DataFrame index.\n",
      "\n"
     ]
    },
    {
     "data": {
      "text/plain": [
       "Text(0.5, 1.0, 'Distribuição do salário de gestores homens')"
      ]
     },
     "execution_count": 104,
     "metadata": {},
     "output_type": "execute_result"
    },
    {
     "data": {
      "image/png": "[encoded data removed]",
      "text/plain": [
       "<Figure size 640x480 with 1 Axes>"
      ]
     },
     "metadata": {},
     "output_type": "display_data"
    }
   ],
   "source": [
    "# Refazendo o plot para verificar se o problema foi solucionado\n",
    "plt.boxplot(data[data['GENERO']=='Masculino'][data['NOVO NÍVEL']=='Pessoa Gestora']['SALARIO'])\n",
    "plt.title('Distribuição do salário de gestores homens')"
   ]
  },
  {
   "cell_type": "code",
   "execution_count": 105,
   "id": "ed87c809",
   "metadata": {},
   "outputs": [],
   "source": [
    "# Uffa! Outlier solucionado! "
   ]
  },
  {
   "cell_type": "markdown",
   "id": "fe3b16cc",
   "metadata": {},
   "source": [
    "Comparando os boxplots masculinos e femininos para os cargos de gestão, notamos que a média salárial é similar para os dois gêneros em torno de R$ 15.000. \n",
    "Entretanto, para o gênero masculino as ocorrências de salários acima de R$40.000 são bem mais frequêntes. "
   ]
  },
  {
   "cell_type": "markdown",
   "id": "d6ae1e42",
   "metadata": {},
   "source": [
    "#### Sênior"
   ]
  },
  {
   "cell_type": "code",
   "execution_count": 106,
   "id": "74de13b1",
   "metadata": {},
   "outputs": [
    {
     "name": "stderr",
     "output_type": "stream",
     "text": [
      "/tmp/ipykernel_778/2775403644.py:2: UserWarning:\n",
      "\n",
      "Boolean Series key will be reindexed to match DataFrame index.\n",
      "\n",
      "/tmp/ipykernel_778/2775403644.py:3: UserWarning:\n",
      "\n",
      "Boolean Series key will be reindexed to match DataFrame index.\n",
      "\n"
     ]
    }
   ],
   "source": [
    "# Máximo, mínimo e média de salário por gênero para diferentes senioridades \n",
    "mediasalario_senior_homens = data[data['GENERO']=='Masculino'][data['NOVO NÍVEL']=='Sênior']['SALARIO'].mean()\n",
    "mediasalario_senior_mulheres = data[data['GENERO']=='Feminino'][data['NOVO NÍVEL']=='Sênior']['SALARIO'].mean()\n"
   ]
  },
  {
   "cell_type": "code",
   "execution_count": 107,
   "id": "2dcf8503",
   "metadata": {},
   "outputs": [
    {
     "name": "stderr",
     "output_type": "stream",
     "text": [
      "/tmp/ipykernel_778/2005784281.py:2: UserWarning:\n",
      "\n",
      "Boolean Series key will be reindexed to match DataFrame index.\n",
      "\n",
      "/tmp/ipykernel_778/2005784281.py:3: UserWarning:\n",
      "\n",
      "Boolean Series key will be reindexed to match DataFrame index.\n",
      "\n"
     ]
    }
   ],
   "source": [
    "#Minima salarial sênior \n",
    "minimosalarial_senior_homens = data[data['GENERO']=='Masculino'][data['NOVO NÍVEL']=='Sênior']['SALARIO'].min()\n",
    "minimosalarial_senior_mulheres = data[data['GENERO']=='Feminino'][data['NOVO NÍVEL']=='Sênior']['SALARIO'].min()"
   ]
  },
  {
   "cell_type": "code",
   "execution_count": 108,
   "id": "43a59107",
   "metadata": {},
   "outputs": [
    {
     "name": "stderr",
     "output_type": "stream",
     "text": [
      "/tmp/ipykernel_778/3339259689.py:2: UserWarning:\n",
      "\n",
      "Boolean Series key will be reindexed to match DataFrame index.\n",
      "\n",
      "/tmp/ipykernel_778/3339259689.py:3: UserWarning:\n",
      "\n",
      "Boolean Series key will be reindexed to match DataFrame index.\n",
      "\n"
     ]
    }
   ],
   "source": [
    "#Máximo salarial sênior\n",
    "maximosalarial_senior_homens = data[data['GENERO']=='Masculino'][data['NOVO NÍVEL']=='Sênior']['SALARIO'].max()\n",
    "maximosalarial_senior_mulheres = data[data['GENERO']=='Feminino'][data['NOVO NÍVEL']=='Sênior']['SALARIO'].max()"
   ]
  },
  {
   "cell_type": "code",
   "execution_count": 109,
   "id": "ef56b90d",
   "metadata": {},
   "outputs": [
    {
     "name": "stderr",
     "output_type": "stream",
     "text": [
      "/tmp/ipykernel_778/2717992558.py:1: UserWarning:\n",
      "\n",
      "Boolean Series key will be reindexed to match DataFrame index.\n",
      "\n"
     ]
    },
    {
     "data": {
      "text/plain": [
       "Text(0.5, 1.0, 'Distribuição do salário de sênior homens')"
      ]
     },
     "execution_count": 109,
     "metadata": {},
     "output_type": "execute_result"
    },
    {
     "data": {
      "image/png": "[encoded data removed]",
      "text/plain": [
       "<Figure size 640x480 with 1 Axes>"
      ]
     },
     "metadata": {},
     "output_type": "display_data"
    }
   ],
   "source": [
    "plt.boxplot(data[data['GENERO']=='Masculino'][data['NOVO NÍVEL']=='Sênior']['SALARIO'])\n",
    "plt.title('Distribuição do salário de sênior homens')"
   ]
  },
  {
   "cell_type": "code",
   "execution_count": 110,
   "id": "b18effa1",
   "metadata": {},
   "outputs": [],
   "source": [
    "# O salário de alguns usuários estão altamente discrepantes\n",
    "# Para ter uma visão mais realista dos salário de funcionários homens em cargo sênior, vamos tratar os valores acima de R$300.000 como outliers\n",
    "\n",
    "data.loc[(data['GENERO']=='Masculino') & (data['SALARIO']>300000),'SALARIO'] = media_salario_40mais"
   ]
  },
  {
   "cell_type": "code",
   "execution_count": 111,
   "id": "32168660",
   "metadata": {},
   "outputs": [
    {
     "name": "stderr",
     "output_type": "stream",
     "text": [
      "/tmp/ipykernel_778/3447188016.py:2: UserWarning:\n",
      "\n",
      "Boolean Series key will be reindexed to match DataFrame index.\n",
      "\n"
     ]
    },
    {
     "data": {
      "text/plain": [
       "Text(0.5, 1.0, 'Distribuição do salário de sênior homens')"
      ]
     },
     "execution_count": 111,
     "metadata": {},
     "output_type": "execute_result"
    },
    {
     "data": {
      "image/png": "[encoded data removed]",
      "text/plain": [
       "<Figure size 640x480 with 1 Axes>"
      ]
     },
     "metadata": {},
     "output_type": "display_data"
    }
   ],
   "source": [
    "# Refazendo o boxplot masculino senior \n",
    "plt.boxplot(data[data['GENERO']=='Masculino'][data['NOVO NÍVEL']=='Sênior']['SALARIO'])\n",
    "plt.title('Distribuição do salário de sênior homens')"
   ]
  },
  {
   "cell_type": "code",
   "execution_count": 112,
   "id": "2e097f6c",
   "metadata": {},
   "outputs": [
    {
     "name": "stderr",
     "output_type": "stream",
     "text": [
      "/tmp/ipykernel_778/3259872604.py:1: UserWarning:\n",
      "\n",
      "Boolean Series key will be reindexed to match DataFrame index.\n",
      "\n"
     ]
    },
    {
     "data": {
      "text/plain": [
       "Text(0.5, 1.0, 'Distribuição do salário de sênior feminino')"
      ]
     },
     "execution_count": 112,
     "metadata": {},
     "output_type": "execute_result"
    },
    {
     "data": {
      "image/png": "[encoded data removed]",
      "text/plain": [
       "<Figure size 640x480 with 1 Axes>"
      ]
     },
     "metadata": {},
     "output_type": "display_data"
    }
   ],
   "source": [
    "plt.boxplot(data[data['GENERO']=='Feminino'][data['NOVO NÍVEL']=='Sênior']['SALARIO'])\n",
    "plt.title('Distribuição do salário de sênior feminino')\n"
   ]
  },
  {
   "cell_type": "markdown",
   "id": "27665749",
   "metadata": {},
   "source": [
    "Comparando os boxplots masculinos e femininos para os cargos sênior, notamos que a média salárial é similar para os dois gêneros. \n",
    "Entretanto, para o gênero masculino as ocorrências de salários acima de R$20.000 são bem mais frequêntes. "
   ]
  },
  {
   "cell_type": "code",
   "execution_count": 113,
   "id": "a35fb067",
   "metadata": {},
   "outputs": [
    {
     "data": {
      "application/vnd.plotly.v1+json": {
       "config": {
        "plotlyServerURL": "https://plot.ly"
       },
       "data": [
        {
         "marker": {
          "color": [
           59982,
           62577
          ],
          "colorscale": [
           [
            0,
            "green"
           ],
           [
            1,
            "purple"
           ]
          ]
         },
         "orientation": "h",
         "type": "bar",
         "x": [
          59982,
          62577
         ],
         "y": [
          "Homens",
          "Mulheres"
         ]
        }
       ],
       "layout": {
        "template": {
         "data": {
          "bar": [
           {
            "error_x": {
             "color": "#2a3f5f"
            },
            "error_y": {
             "color": "#2a3f5f"
            },
            "marker": {
             "line": {
              "color": "#E5ECF6",
              "width": 0.5
             },
             "pattern": {
              "fillmode": "overlay",
              "size": 10,
              "solidity": 0.2
             }
            },
            "type": "bar"
           }
          ],
          "barpolar": [
           {
            "marker": {
             "line": {
              "color": "#E5ECF6",
              "width": 0.5
             },
             "pattern": {
              "fillmode": "overlay",
              "size": 10,
              "solidity": 0.2
             }
            },
            "type": "barpolar"
           }
          ],
          "carpet": [
           {
            "aaxis": {
             "endlinecolor": "#2a3f5f",
             "gridcolor": "white",
             "linecolor": "white",
             "minorgridcolor": "white",
             "startlinecolor": "#2a3f5f"
            },
            "baxis": {
             "endlinecolor": "#2a3f5f",
             "gridcolor": "white",
             "linecolor": "white",
             "minorgridcolor": "white",
             "startlinecolor": "#2a3f5f"
            },
            "type": "carpet"
           }
          ],
          "choropleth": [
           {
            "colorbar": {
             "outlinewidth": 0,
             "ticks": ""
            },
            "type": "choropleth"
           }
          ],
          "contour": [
           {
            "colorbar": {
             "outlinewidth": 0,
             "ticks": ""
            },
            "colorscale": [
             [
              0,
              "#0d0887"
             ],
             [
              0.1111111111111111,
              "#46039f"
             ],
             [
              0.2222222222222222,
              "#7201a8"
             ],
             [
              0.3333333333333333,
              "#9c179e"
             ],
             [
              0.4444444444444444,
              "#bd3786"
             ],
             [
              0.5555555555555556,
              "#d8576b"
             ],
             [
              0.6666666666666666,
              "#ed7953"
             ],
             [
              0.7777777777777778,
              "#fb9f3a"
             ],
             [
              0.8888888888888888,
              "#fdca26"
             ],
             [
              1,
              "#f0f921"
             ]
            ],
            "type": "contour"
           }
          ],
          "contourcarpet": [
           {
            "colorbar": {
             "outlinewidth": 0,
             "ticks": ""
            },
            "type": "contourcarpet"
           }
          ],
          "heatmap": [
           {
            "colorbar": {
             "outlinewidth": 0,
             "ticks": ""
            },
            "colorscale": [
             [
              0,
              "#0d0887"
             ],
             [
              0.1111111111111111,
              "#46039f"
             ],
             [
              0.2222222222222222,
              "#7201a8"
             ],
             [
              0.3333333333333333,
              "#9c179e"
             ],
             [
              0.4444444444444444,
              "#bd3786"
             ],
             [
              0.5555555555555556,
              "#d8576b"
             ],
             [
              0.6666666666666666,
              "#ed7953"
             ],
             [
              0.7777777777777778,
              "#fb9f3a"
             ],
             [
              0.8888888888888888,
              "#fdca26"
             ],
             [
              1,
              "#f0f921"
             ]
            ],
            "type": "heatmap"
           }
          ],
          "heatmapgl": [
           {
            "colorbar": {
             "outlinewidth": 0,
             "ticks": ""
            },
            "colorscale": [
             [
              0,
              "#0d0887"
             ],
             [
              0.1111111111111111,
              "#46039f"
             ],
             [
              0.2222222222222222,
              "#7201a8"
             ],
             [
              0.3333333333333333,
              "#9c179e"
             ],
             [
              0.4444444444444444,
              "#bd3786"
             ],
             [
              0.5555555555555556,
              "#d8576b"
             ],
             [
              0.6666666666666666,
              "#ed7953"
             ],
             [
              0.7777777777777778,
              "#fb9f3a"
             ],
             [
              0.8888888888888888,
              "#fdca26"
             ],
             [
              1,
              "#f0f921"
             ]
            ],
            "type": "heatmapgl"
           }
          ],
          "histogram": [
           {
            "marker": {
             "pattern": {
              "fillmode": "overlay",
              "size": 10,
              "solidity": 0.2
             }
            },
            "type": "histogram"
           }
          ],
          "histogram2d": [
           {
            "colorbar": {
             "outlinewidth": 0,
             "ticks": ""
            },
            "colorscale": [
             [
              0,
              "#0d0887"
             ],
             [
              0.1111111111111111,
              "#46039f"
             ],
             [
              0.2222222222222222,
              "#7201a8"
             ],
             [
              0.3333333333333333,
              "#9c179e"
             ],
             [
              0.4444444444444444,
              "#bd3786"
             ],
             [
              0.5555555555555556,
              "#d8576b"
             ],
             [
              0.6666666666666666,
              "#ed7953"
             ],
             [
              0.7777777777777778,
              "#fb9f3a"
             ],
             [
              0.8888888888888888,
              "#fdca26"
             ],
             [
              1,
              "#f0f921"
             ]
            ],
            "type": "histogram2d"
           }
          ],
          "histogram2dcontour": [
           {
            "colorbar": {
             "outlinewidth": 0,
             "ticks": ""
            },
            "colorscale": [
             [
              0,
              "#0d0887"
             ],
             [
              0.1111111111111111,
              "#46039f"
             ],
             [
              0.2222222222222222,
              "#7201a8"
             ],
             [
              0.3333333333333333,
              "#9c179e"
             ],
             [
              0.4444444444444444,
              "#bd3786"
             ],
             [
              0.5555555555555556,
              "#d8576b"
             ],
             [
              0.6666666666666666,
              "#ed7953"
             ],
             [
              0.7777777777777778,
              "#fb9f3a"
             ],
             [
              0.8888888888888888,
              "#fdca26"
             ],
             [
              1,
              "#f0f921"
             ]
            ],
            "type": "histogram2dcontour"
           }
          ],
          "mesh3d": [
           {
            "colorbar": {
             "outlinewidth": 0,
             "ticks": ""
            },
            "type": "mesh3d"
           }
          ],
          "parcoords": [
           {
            "line": {
             "colorbar": {
              "outlinewidth": 0,
              "ticks": ""
             }
            },
            "type": "parcoords"
           }
          ],
          "pie": [
           {
            "automargin": true,
            "type": "pie"
           }
          ],
          "scatter": [
           {
            "fillpattern": {
             "fillmode": "overlay",
             "size": 10,
             "solidity": 0.2
            },
            "type": "scatter"
           }
          ],
          "scatter3d": [
           {
            "line": {
             "colorbar": {
              "outlinewidth": 0,
              "ticks": ""
             }
            },
            "marker": {
             "colorbar": {
              "outlinewidth": 0,
              "ticks": ""
             }
            },
            "type": "scatter3d"
           }
          ],
          "scattercarpet": [
           {
            "marker": {
             "colorbar": {
              "outlinewidth": 0,
              "ticks": ""
             }
            },
            "type": "scattercarpet"
           }
          ],
          "scattergeo": [
           {
            "marker": {
             "colorbar": {
              "outlinewidth": 0,
              "ticks": ""
             }
            },
            "type": "scattergeo"
           }
          ],
          "scattergl": [
           {
            "marker": {
             "colorbar": {
              "outlinewidth": 0,
              "ticks": ""
             }
            },
            "type": "scattergl"
           }
          ],
          "scattermapbox": [
           {
            "marker": {
             "colorbar": {
              "outlinewidth": 0,
              "ticks": ""
             }
            },
            "type": "scattermapbox"
           }
          ],
          "scatterpolar": [
           {
            "marker": {
             "colorbar": {
              "outlinewidth": 0,
              "ticks": ""
             }
            },
            "type": "scatterpolar"
           }
          ],
          "scatterpolargl": [
           {
            "marker": {
             "colorbar": {
              "outlinewidth": 0,
              "ticks": ""
             }
            },
            "type": "scatterpolargl"
           }
          ],
          "scatterternary": [
           {
            "marker": {
             "colorbar": {
              "outlinewidth": 0,
              "ticks": ""
             }
            },
            "type": "scatterternary"
           }
          ],
          "surface": [
           {
            "colorbar": {
             "outlinewidth": 0,
             "ticks": ""
            },
            "colorscale": [
             [
              0,
              "#0d0887"
             ],
             [
              0.1111111111111111,
              "#46039f"
             ],
             [
              0.2222222222222222,
              "#7201a8"
             ],
             [
              0.3333333333333333,
              "#9c179e"
             ],
             [
              0.4444444444444444,
              "#bd3786"
             ],
             [
              0.5555555555555556,
              "#d8576b"
             ],
             [
              0.6666666666666666,
              "#ed7953"
             ],
             [
              0.7777777777777778,
              "#fb9f3a"
             ],
             [
              0.8888888888888888,
              "#fdca26"
             ],
             [
              1,
              "#f0f921"
             ]
            ],
            "type": "surface"
           }
          ],
          "table": [
           {
            "cells": {
             "fill": {
              "color": "#EBF0F8"
             },
             "line": {
              "color": "white"
             }
            },
            "header": {
             "fill": {
              "color": "#C8D4E3"
             },
             "line": {
              "color": "white"
             }
            },
            "type": "table"
           }
          ]
         },
         "layout": {
          "annotationdefaults": {
           "arrowcolor": "#2a3f5f",
           "arrowhead": 0,
           "arrowwidth": 1
          },
          "autotypenumbers": "strict",
          "coloraxis": {
           "colorbar": {
            "outlinewidth": 0,
            "ticks": ""
           }
          },
          "colorscale": {
           "diverging": [
            [
             0,
             "#8e0152"
            ],
            [
             0.1,
             "#c51b7d"
            ],
            [
             0.2,
             "#de77ae"
            ],
            [
             0.3,
             "#f1b6da"
            ],
            [
             0.4,
             "#fde0ef"
            ],
            [
             0.5,
             "#f7f7f7"
            ],
            [
             0.6,
             "#e6f5d0"
            ],
            [
             0.7,
             "#b8e186"
            ],
            [
             0.8,
             "#7fbc41"
            ],
            [
             0.9,
             "#4d9221"
            ],
            [
             1,
             "#276419"
            ]
           ],
           "sequential": [
            [
             0,
             "#0d0887"
            ],
            [
             0.1111111111111111,
             "#46039f"
            ],
            [
             0.2222222222222222,
             "#7201a8"
            ],
            [
             0.3333333333333333,
             "#9c179e"
            ],
            [
             0.4444444444444444,
             "#bd3786"
            ],
            [
             0.5555555555555556,
             "#d8576b"
            ],
            [
             0.6666666666666666,
             "#ed7953"
            ],
            [
             0.7777777777777778,
             "#fb9f3a"
            ],
            [
             0.8888888888888888,
             "#fdca26"
            ],
            [
             1,
             "#f0f921"
            ]
           ],
           "sequentialminus": [
            [
             0,
             "#0d0887"
            ],
            [
             0.1111111111111111,
             "#46039f"
            ],
            [
             0.2222222222222222,
             "#7201a8"
            ],
            [
             0.3333333333333333,
             "#9c179e"
            ],
            [
             0.4444444444444444,
             "#bd3786"
            ],
            [
             0.5555555555555556,
             "#d8576b"
            ],
            [
             0.6666666666666666,
             "#ed7953"
            ],
            [
             0.7777777777777778,
             "#fb9f3a"
            ],
            [
             0.8888888888888888,
             "#fdca26"
            ],
            [
             1,
             "#f0f921"
            ]
           ]
          },
          "colorway": [
           "#636efa",
           "#EF553B",
           "#00cc96",
           "#ab63fa",
           "#FFA15A",
           "#19d3f3",
           "#FF6692",
           "#B6E880",
           "#FF97FF",
           "#FECB52"
          ],
          "font": {
           "color": "#2a3f5f"
          },
          "geo": {
           "bgcolor": "white",
           "lakecolor": "white",
           "landcolor": "#E5ECF6",
           "showlakes": true,
           "showland": true,
           "subunitcolor": "white"
          },
          "hoverlabel": {
           "align": "left"
          },
          "hovermode": "closest",
          "mapbox": {
           "style": "light"
          },
          "paper_bgcolor": "white",
          "plot_bgcolor": "#E5ECF6",
          "polar": {
           "angularaxis": {
            "gridcolor": "white",
            "linecolor": "white",
            "ticks": ""
           },
           "bgcolor": "#E5ECF6",
           "radialaxis": {
            "gridcolor": "white",
            "linecolor": "white",
            "ticks": ""
           }
          },
          "scene": {
           "xaxis": {
            "backgroundcolor": "#E5ECF6",
            "gridcolor": "white",
            "gridwidth": 2,
            "linecolor": "white",
            "showbackground": true,
            "ticks": "",
            "zerolinecolor": "white"
           },
           "yaxis": {
            "backgroundcolor": "#E5ECF6",
            "gridcolor": "white",
            "gridwidth": 2,
            "linecolor": "white",
            "showbackground": true,
            "ticks": "",
            "zerolinecolor": "white"
           },
           "zaxis": {
            "backgroundcolor": "#E5ECF6",
            "gridcolor": "white",
            "gridwidth": 2,
            "linecolor": "white",
            "showbackground": true,
            "ticks": "",
            "zerolinecolor": "white"
           }
          },
          "shapedefaults": {
           "line": {
            "color": "#2a3f5f"
           }
          },
          "ternary": {
           "aaxis": {
            "gridcolor": "white",
            "linecolor": "white",
            "ticks": ""
           },
           "baxis": {
            "gridcolor": "white",
            "linecolor": "white",
            "ticks": ""
           },
           "bgcolor": "#E5ECF6",
           "caxis": {
            "gridcolor": "white",
            "linecolor": "white",
            "ticks": ""
           }
          },
          "title": {
           "x": 0.05
          },
          "xaxis": {
           "automargin": true,
           "gridcolor": "white",
           "linecolor": "white",
           "ticks": "",
           "title": {
            "standoff": 15
           },
           "zerolinecolor": "white",
           "zerolinewidth": 2
          },
          "yaxis": {
           "automargin": true,
           "gridcolor": "white",
           "linecolor": "white",
           "ticks": "",
           "title": {
            "standoff": 15
           },
           "zerolinecolor": "white",
           "zerolinewidth": 2
          }
         }
        },
        "title": {
         "text": "Máxima Salarial Sênior",
         "x": 0.5,
         "xanchor": "center",
         "yanchor": "top"
        },
        "xaxis": {
         "title": {
          "text": "Média Salarial (R$)"
         }
        },
        "yaxis": {
         "title": {
          "text": "Gênero"
         }
        }
       }
      }
     },
     "metadata": {},
     "output_type": "display_data"
    }
   ],
   "source": [
    "\n",
    "cores_p=['green','purple']\n",
    "valores= [maximosalarial_senior_homens,maximosalarial_senior_mulheres]\n",
    "fig = go.Figure(go.Bar(\n",
    "            x=valores,\n",
    "            y=['Homens', 'Mulheres'],\n",
    "            orientation='h',\n",
    "            marker=dict(\n",
    "            color=valores,  \n",
    "            colorscale=cores_p,  \n",
    "            #colorbar=dict(title='Média Salarial')  # Barra de cor\n",
    "            )))\n",
    "\n",
    "fig.update_layout(\n",
    "    title={\n",
    "        'text': 'Máxima Salarial Sênior',\n",
    "        'x': 0.5,  \n",
    "        'xanchor': 'center',  \n",
    "        'yanchor': 'top'\n",
    "    },\n",
    "    xaxis_title='Média Salarial (R$)',\n",
    "    yaxis_title='Gênero',\n",
    "\n",
    ")\n",
    "\n",
    "fig.show()"
   ]
  },
  {
   "cell_type": "markdown",
   "id": "75021407",
   "metadata": {},
   "source": [
    "#### Pleno"
   ]
  },
  {
   "cell_type": "code",
   "execution_count": 114,
   "id": "e00ac28d",
   "metadata": {},
   "outputs": [
    {
     "data": {
      "text/plain": [
       "np.float64(8340.0706095791)"
      ]
     },
     "execution_count": 114,
     "metadata": {},
     "output_type": "execute_result"
    }
   ],
   "source": [
    "# Máximo, mínimo e média de salário por gênero para diferentes senioridades \n",
    "\n",
    "mediasalario_plenor = data[data['NOVO NÍVEL']=='Pleno']['SALARIO'].mean()\n",
    "mediasalario_plenor"
   ]
  },
  {
   "cell_type": "code",
   "execution_count": 115,
   "id": "15729bab",
   "metadata": {},
   "outputs": [
    {
     "name": "stderr",
     "output_type": "stream",
     "text": [
      "/tmp/ipykernel_778/612701853.py:2: UserWarning:\n",
      "\n",
      "Boolean Series key will be reindexed to match DataFrame index.\n",
      "\n",
      "/tmp/ipykernel_778/612701853.py:3: UserWarning:\n",
      "\n",
      "Boolean Series key will be reindexed to match DataFrame index.\n",
      "\n"
     ]
    }
   ],
   "source": [
    "# Máximo salario Pleno\n",
    "maximosalarial_pleno_homens = data[data['GENERO']=='Masculino'][data['NOVO NÍVEL']=='Pleno']['SALARIO'].max()\n",
    "maximosalarial_pleno_mulheres = data[data['GENERO']=='Feminino'][data['NOVO NÍVEL']=='Pleno']['SALARIO'].max()"
   ]
  },
  {
   "cell_type": "code",
   "execution_count": 116,
   "id": "e01fd7e9",
   "metadata": {},
   "outputs": [
    {
     "name": "stderr",
     "output_type": "stream",
     "text": [
      "/tmp/ipykernel_778/4279889148.py:2: UserWarning:\n",
      "\n",
      "Boolean Series key will be reindexed to match DataFrame index.\n",
      "\n",
      "/tmp/ipykernel_778/4279889148.py:3: UserWarning:\n",
      "\n",
      "Boolean Series key will be reindexed to match DataFrame index.\n",
      "\n"
     ]
    }
   ],
   "source": [
    "# Minimo salário pleno\n",
    "minimosalarial_pleno_homens = data[data['GENERO']=='Masculino'][data['NOVO NÍVEL']=='Pleno']['SALARIO'].min()\n",
    "minimosalarial_pleno_mulheres = data[data['GENERO']=='Feminino'][data['NOVO NÍVEL']=='Pleno']['SALARIO'].min()"
   ]
  },
  {
   "cell_type": "code",
   "execution_count": 117,
   "id": "5ef5bf0d",
   "metadata": {},
   "outputs": [
    {
     "name": "stderr",
     "output_type": "stream",
     "text": [
      "/tmp/ipykernel_778/514586711.py:1: UserWarning:\n",
      "\n",
      "Boolean Series key will be reindexed to match DataFrame index.\n",
      "\n"
     ]
    },
    {
     "data": {
      "text/plain": [
       "Text(0.5, 1.0, 'Distribuição do salário de Pleno mulheres')"
      ]
     },
     "execution_count": 117,
     "metadata": {},
     "output_type": "execute_result"
    },
    {
     "data": {
      "image/png": "[encoded data removed]",
      "text/plain": [
       "<Figure size 640x480 with 1 Axes>"
      ]
     },
     "metadata": {},
     "output_type": "display_data"
    }
   ],
   "source": [
    "plt.boxplot(data[data['GENERO']=='Feminino'][data['NOVO NÍVEL']=='Pleno']['SALARIO'])\n",
    "plt.title('Distribuição do salário de Pleno mulheres')"
   ]
  },
  {
   "cell_type": "code",
   "execution_count": 118,
   "id": "cc456a09",
   "metadata": {},
   "outputs": [
    {
     "name": "stderr",
     "output_type": "stream",
     "text": [
      "/tmp/ipykernel_778/100272222.py:1: UserWarning:\n",
      "\n",
      "Boolean Series key will be reindexed to match DataFrame index.\n",
      "\n"
     ]
    },
    {
     "data": {
      "text/plain": [
       "Text(0.5, 1.0, 'Distribuição do salário de pleno homens')"
      ]
     },
     "execution_count": 118,
     "metadata": {},
     "output_type": "execute_result"
    },
    {
     "data": {
      "image/png": "[encoded data removed]",
      "text/plain": [
       "<Figure size 640x480 with 1 Axes>"
      ]
     },
     "metadata": {},
     "output_type": "display_data"
    }
   ],
   "source": [
    "plt.boxplot(data[data['GENERO']=='Masculino'][data['NOVO NÍVEL']=='Pleno']['SALARIO'])\n",
    "plt.title('Distribuição do salário de pleno homens')"
   ]
  },
  {
   "cell_type": "markdown",
   "id": "304fcb12",
   "metadata": {},
   "source": [
    "As distribuições salariais por genero no cargo Pleno ainda apresentam variações entre gêneros. \n",
    "Mesmo com ambos concentrando os salários até R$20.000, o gênero masculino apresentou grande número de ocorrências acima dessa média. "
   ]
  },
  {
   "cell_type": "code",
   "execution_count": 119,
   "id": "b7a65975",
   "metadata": {},
   "outputs": [
    {
     "data": {
      "application/vnd.plotly.v1+json": {
       "config": {
        "plotlyServerURL": "https://plot.ly"
       },
       "data": [
        {
         "marker": {
          "color": [
           54360,
           38398
          ],
          "colorscale": [
           [
            0,
            "green"
           ],
           [
            1,
            "purple"
           ]
          ]
         },
         "orientation": "h",
         "type": "bar",
         "x": [
          54360,
          38398
         ],
         "y": [
          "Homens",
          "Mulheres"
         ]
        }
       ],
       "layout": {
        "template": {
         "data": {
          "bar": [
           {
            "error_x": {
             "color": "#2a3f5f"
            },
            "error_y": {
             "color": "#2a3f5f"
            },
            "marker": {
             "line": {
              "color": "#E5ECF6",
              "width": 0.5
             },
             "pattern": {
              "fillmode": "overlay",
              "size": 10,
              "solidity": 0.2
             }
            },
            "type": "bar"
           }
          ],
          "barpolar": [
           {
            "marker": {
             "line": {
              "color": "#E5ECF6",
              "width": 0.5
             },
             "pattern": {
              "fillmode": "overlay",
              "size": 10,
              "solidity": 0.2
             }
            },
            "type": "barpolar"
           }
          ],
          "carpet": [
           {
            "aaxis": {
             "endlinecolor": "#2a3f5f",
             "gridcolor": "white",
             "linecolor": "white",
             "minorgridcolor": "white",
             "startlinecolor": "#2a3f5f"
            },
            "baxis": {
             "endlinecolor": "#2a3f5f",
             "gridcolor": "white",
             "linecolor": "white",
             "minorgridcolor": "white",
             "startlinecolor": "#2a3f5f"
            },
            "type": "carpet"
           }
          ],
          "choropleth": [
           {
            "colorbar": {
             "outlinewidth": 0,
             "ticks": ""
            },
            "type": "choropleth"
           }
          ],
          "contour": [
           {
            "colorbar": {
             "outlinewidth": 0,
             "ticks": ""
            },
            "colorscale": [
             [
              0,
              "#0d0887"
             ],
             [
              0.1111111111111111,
              "#46039f"
             ],
             [
              0.2222222222222222,
              "#7201a8"
             ],
             [
              0.3333333333333333,
              "#9c179e"
             ],
             [
              0.4444444444444444,
              "#bd3786"
             ],
             [
              0.5555555555555556,
              "#d8576b"
             ],
             [
              0.6666666666666666,
              "#ed7953"
             ],
             [
              0.7777777777777778,
              "#fb9f3a"
             ],
             [
              0.8888888888888888,
              "#fdca26"
             ],
             [
              1,
              "#f0f921"
             ]
            ],
            "type": "contour"
           }
          ],
          "contourcarpet": [
           {
            "colorbar": {
             "outlinewidth": 0,
             "ticks": ""
            },
            "type": "contourcarpet"
           }
          ],
          "heatmap": [
           {
            "colorbar": {
             "outlinewidth": 0,
             "ticks": ""
            },
            "colorscale": [
             [
              0,
              "#0d0887"
             ],
             [
              0.1111111111111111,
              "#46039f"
             ],
             [
              0.2222222222222222,
              "#7201a8"
             ],
             [
              0.3333333333333333,
              "#9c179e"
             ],
             [
              0.4444444444444444,
              "#bd3786"
             ],
             [
              0.5555555555555556,
              "#d8576b"
             ],
             [
              0.6666666666666666,
              "#ed7953"
             ],
             [
              0.7777777777777778,
              "#fb9f3a"
             ],
             [
              0.8888888888888888,
              "#fdca26"
             ],
             [
              1,
              "#f0f921"
             ]
            ],
            "type": "heatmap"
           }
          ],
          "heatmapgl": [
           {
            "colorbar": {
             "outlinewidth": 0,
             "ticks": ""
            },
            "colorscale": [
             [
              0,
              "#0d0887"
             ],
             [
              0.1111111111111111,
              "#46039f"
             ],
             [
              0.2222222222222222,
              "#7201a8"
             ],
             [
              0.3333333333333333,
              "#9c179e"
             ],
             [
              0.4444444444444444,
              "#bd3786"
             ],
             [
              0.5555555555555556,
              "#d8576b"
             ],
             [
              0.6666666666666666,
              "#ed7953"
             ],
             [
              0.7777777777777778,
              "#fb9f3a"
             ],
             [
              0.8888888888888888,
              "#fdca26"
             ],
             [
              1,
              "#f0f921"
             ]
            ],
            "type": "heatmapgl"
           }
          ],
          "histogram": [
           {
            "marker": {
             "pattern": {
              "fillmode": "overlay",
              "size": 10,
              "solidity": 0.2
             }
            },
            "type": "histogram"
           }
          ],
          "histogram2d": [
           {
            "colorbar": {
             "outlinewidth": 0,
             "ticks": ""
            },
            "colorscale": [
             [
              0,
              "#0d0887"
             ],
             [
              0.1111111111111111,
              "#46039f"
             ],
             [
              0.2222222222222222,
              "#7201a8"
             ],
             [
              0.3333333333333333,
              "#9c179e"
             ],
             [
              0.4444444444444444,
              "#bd3786"
             ],
             [
              0.5555555555555556,
              "#d8576b"
             ],
             [
              0.6666666666666666,
              "#ed7953"
             ],
             [
              0.7777777777777778,
              "#fb9f3a"
             ],
             [
              0.8888888888888888,
              "#fdca26"
             ],
             [
              1,
              "#f0f921"
             ]
            ],
            "type": "histogram2d"
           }
          ],
          "histogram2dcontour": [
           {
            "colorbar": {
             "outlinewidth": 0,
             "ticks": ""
            },
            "colorscale": [
             [
              0,
              "#0d0887"
             ],
             [
              0.1111111111111111,
              "#46039f"
             ],
             [
              0.2222222222222222,
              "#7201a8"
             ],
             [
              0.3333333333333333,
              "#9c179e"
             ],
             [
              0.4444444444444444,
              "#bd3786"
             ],
             [
              0.5555555555555556,
              "#d8576b"
             ],
             [
              0.6666666666666666,
              "#ed7953"
             ],
             [
              0.7777777777777778,
              "#fb9f3a"
             ],
             [
              0.8888888888888888,
              "#fdca26"
             ],
             [
              1,
              "#f0f921"
             ]
            ],
            "type": "histogram2dcontour"
           }
          ],
          "mesh3d": [
           {
            "colorbar": {
             "outlinewidth": 0,
             "ticks": ""
            },
            "type": "mesh3d"
           }
          ],
          "parcoords": [
           {
            "line": {
             "colorbar": {
              "outlinewidth": 0,
              "ticks": ""
             }
            },
            "type": "parcoords"
           }
          ],
          "pie": [
           {
            "automargin": true,
            "type": "pie"
           }
          ],
          "scatter": [
           {
            "fillpattern": {
             "fillmode": "overlay",
             "size": 10,
             "solidity": 0.2
            },
            "type": "scatter"
           }
          ],
          "scatter3d": [
           {
            "line": {
             "colorbar": {
              "outlinewidth": 0,
              "ticks": ""
             }
            },
            "marker": {
             "colorbar": {
              "outlinewidth": 0,
              "ticks": ""
             }
            },
            "type": "scatter3d"
           }
          ],
          "scattercarpet": [
           {
            "marker": {
             "colorbar": {
              "outlinewidth": 0,
              "ticks": ""
             }
            },
            "type": "scattercarpet"
           }
          ],
          "scattergeo": [
           {
            "marker": {
             "colorbar": {
              "outlinewidth": 0,
              "ticks": ""
             }
            },
            "type": "scattergeo"
           }
          ],
          "scattergl": [
           {
            "marker": {
             "colorbar": {
              "outlinewidth": 0,
              "ticks": ""
             }
            },
            "type": "scattergl"
           }
          ],
          "scattermapbox": [
           {
            "marker": {
             "colorbar": {
              "outlinewidth": 0,
              "ticks": ""
             }
            },
            "type": "scattermapbox"
           }
          ],
          "scatterpolar": [
           {
            "marker": {
             "colorbar": {
              "outlinewidth": 0,
              "ticks": ""
             }
            },
            "type": "scatterpolar"
           }
          ],
          "scatterpolargl": [
           {
            "marker": {
             "colorbar": {
              "outlinewidth": 0,
              "ticks": ""
             }
            },
            "type": "scatterpolargl"
           }
          ],
          "scatterternary": [
           {
            "marker": {
             "colorbar": {
              "outlinewidth": 0,
              "ticks": ""
             }
            },
            "type": "scatterternary"
           }
          ],
          "surface": [
           {
            "colorbar": {
             "outlinewidth": 0,
             "ticks": ""
            },
            "colorscale": [
             [
              0,
              "#0d0887"
             ],
             [
              0.1111111111111111,
              "#46039f"
             ],
             [
              0.2222222222222222,
              "#7201a8"
             ],
             [
              0.3333333333333333,
              "#9c179e"
             ],
             [
              0.4444444444444444,
              "#bd3786"
             ],
             [
              0.5555555555555556,
              "#d8576b"
             ],
             [
              0.6666666666666666,
              "#ed7953"
             ],
             [
              0.7777777777777778,
              "#fb9f3a"
             ],
             [
              0.8888888888888888,
              "#fdca26"
             ],
             [
              1,
              "#f0f921"
             ]
            ],
            "type": "surface"
           }
          ],
          "table": [
           {
            "cells": {
             "fill": {
              "color": "#EBF0F8"
             },
             "line": {
              "color": "white"
             }
            },
            "header": {
             "fill": {
              "color": "#C8D4E3"
             },
             "line": {
              "color": "white"
             }
            },
            "type": "table"
           }
          ]
         },
         "layout": {
          "annotationdefaults": {
           "arrowcolor": "#2a3f5f",
           "arrowhead": 0,
           "arrowwidth": 1
          },
          "autotypenumbers": "strict",
          "coloraxis": {
           "colorbar": {
            "outlinewidth": 0,
            "ticks": ""
           }
          },
          "colorscale": {
           "diverging": [
            [
             0,
             "#8e0152"
            ],
            [
             0.1,
             "#c51b7d"
            ],
            [
             0.2,
             "#de77ae"
            ],
            [
             0.3,
             "#f1b6da"
            ],
            [
             0.4,
             "#fde0ef"
            ],
            [
             0.5,
             "#f7f7f7"
            ],
            [
             0.6,
             "#e6f5d0"
            ],
            [
             0.7,
             "#b8e186"
            ],
            [
             0.8,
             "#7fbc41"
            ],
            [
             0.9,
             "#4d9221"
            ],
            [
             1,
             "#276419"
            ]
           ],
           "sequential": [
            [
             0,
             "#0d0887"
            ],
            [
             0.1111111111111111,
             "#46039f"
            ],
            [
             0.2222222222222222,
             "#7201a8"
            ],
            [
             0.3333333333333333,
             "#9c179e"
            ],
            [
             0.4444444444444444,
             "#bd3786"
            ],
            [
             0.5555555555555556,
             "#d8576b"
            ],
            [
             0.6666666666666666,
             "#ed7953"
            ],
            [
             0.7777777777777778,
             "#fb9f3a"
            ],
            [
             0.8888888888888888,
             "#fdca26"
            ],
            [
             1,
             "#f0f921"
            ]
           ],
           "sequentialminus": [
            [
             0,
             "#0d0887"
            ],
            [
             0.1111111111111111,
             "#46039f"
            ],
            [
             0.2222222222222222,
             "#7201a8"
            ],
            [
             0.3333333333333333,
             "#9c179e"
            ],
            [
             0.4444444444444444,
             "#bd3786"
            ],
            [
             0.5555555555555556,
             "#d8576b"
            ],
            [
             0.6666666666666666,
             "#ed7953"
            ],
            [
             0.7777777777777778,
             "#fb9f3a"
            ],
            [
             0.8888888888888888,
             "#fdca26"
            ],
            [
             1,
             "#f0f921"
            ]
           ]
          },
          "colorway": [
           "#636efa",
           "#EF553B",
           "#00cc96",
           "#ab63fa",
           "#FFA15A",
           "#19d3f3",
           "#FF6692",
           "#B6E880",
           "#FF97FF",
           "#FECB52"
          ],
          "font": {
           "color": "#2a3f5f"
          },
          "geo": {
           "bgcolor": "white",
           "lakecolor": "white",
           "landcolor": "#E5ECF6",
           "showlakes": true,
           "showland": true,
           "subunitcolor": "white"
          },
          "hoverlabel": {
           "align": "left"
          },
          "hovermode": "closest",
          "mapbox": {
           "style": "light"
          },
          "paper_bgcolor": "white",
          "plot_bgcolor": "#E5ECF6",
          "polar": {
           "angularaxis": {
            "gridcolor": "white",
            "linecolor": "white",
            "ticks": ""
           },
           "bgcolor": "#E5ECF6",
           "radialaxis": {
            "gridcolor": "white",
            "linecolor": "white",
            "ticks": ""
           }
          },
          "scene": {
           "xaxis": {
            "backgroundcolor": "#E5ECF6",
            "gridcolor": "white",
            "gridwidth": 2,
            "linecolor": "white",
            "showbackground": true,
            "ticks": "",
            "zerolinecolor": "white"
           },
           "yaxis": {
            "backgroundcolor": "#E5ECF6",
            "gridcolor": "white",
            "gridwidth": 2,
            "linecolor": "white",
            "showbackground": true,
            "ticks": "",
            "zerolinecolor": "white"
           },
           "zaxis": {
            "backgroundcolor": "#E5ECF6",
            "gridcolor": "white",
            "gridwidth": 2,
            "linecolor": "white",
            "showbackground": true,
            "ticks": "",
            "zerolinecolor": "white"
           }
          },
          "shapedefaults": {
           "line": {
            "color": "#2a3f5f"
           }
          },
          "ternary": {
           "aaxis": {
            "gridcolor": "white",
            "linecolor": "white",
            "ticks": ""
           },
           "baxis": {
            "gridcolor": "white",
            "linecolor": "white",
            "ticks": ""
           },
           "bgcolor": "#E5ECF6",
           "caxis": {
            "gridcolor": "white",
            "linecolor": "white",
            "ticks": ""
           }
          },
          "title": {
           "x": 0.05
          },
          "xaxis": {
           "automargin": true,
           "gridcolor": "white",
           "linecolor": "white",
           "ticks": "",
           "title": {
            "standoff": 15
           },
           "zerolinecolor": "white",
           "zerolinewidth": 2
          },
          "yaxis": {
           "automargin": true,
           "gridcolor": "white",
           "linecolor": "white",
           "ticks": "",
           "title": {
            "standoff": 15
           },
           "zerolinecolor": "white",
           "zerolinewidth": 2
          }
         }
        },
        "title": {
         "text": "Máxima Salarial Pleno",
         "x": 0.5,
         "xanchor": "center",
         "yanchor": "top"
        },
        "xaxis": {
         "title": {
          "text": "Média Salarial (R$)"
         }
        },
        "yaxis": {
         "title": {
          "text": "Gênero"
         }
        }
       }
      }
     },
     "metadata": {},
     "output_type": "display_data"
    }
   ],
   "source": [
    "\n",
    "cores_p=['green','purple']\n",
    "valores= [maximosalarial_pleno_homens,maximosalarial_pleno_mulheres]\n",
    "fig = go.Figure(go.Bar(\n",
    "            x=valores,\n",
    "            y=['Homens', 'Mulheres'],\n",
    "            orientation='h',\n",
    "            marker=dict(\n",
    "            color=valores,  \n",
    "            colorscale=cores_p,  \n",
    "            #colorbar=dict(title='Média Salarial')  # Barra de cor\n",
    "            )))\n",
    "\n",
    "fig.update_layout(\n",
    "    title={\n",
    "        'text': 'Máxima Salarial Pleno',\n",
    "        'x': 0.5,  \n",
    "        'xanchor': 'center',  \n",
    "        'yanchor': 'top'\n",
    "    },\n",
    "    xaxis_title='Média Salarial (R$)',\n",
    "    yaxis_title='Gênero',\n",
    "\n",
    ")\n",
    "\n",
    "fig.show()"
   ]
  },
  {
   "cell_type": "markdown",
   "id": "dbaa2067",
   "metadata": {},
   "source": [
    "#### Júnior"
   ]
  },
  {
   "cell_type": "code",
   "execution_count": 120,
   "id": "8db53172",
   "metadata": {},
   "outputs": [
    {
     "data": {
      "text/plain": [
       "np.float64(8340.0706095791)"
      ]
     },
     "execution_count": 120,
     "metadata": {},
     "output_type": "execute_result"
    }
   ],
   "source": [
    "mediasalario_junior = data[data['NOVO NÍVEL']=='Pleno']['SALARIO'].mean()\n",
    "mediasalario_junior"
   ]
  },
  {
   "cell_type": "code",
   "execution_count": 121,
   "id": "b341f309",
   "metadata": {},
   "outputs": [
    {
     "name": "stderr",
     "output_type": "stream",
     "text": [
      "/tmp/ipykernel_778/3172477964.py:2: UserWarning:\n",
      "\n",
      "Boolean Series key will be reindexed to match DataFrame index.\n",
      "\n",
      "/tmp/ipykernel_778/3172477964.py:3: UserWarning:\n",
      "\n",
      "Boolean Series key will be reindexed to match DataFrame index.\n",
      "\n"
     ]
    },
    {
     "data": {
      "text/plain": [
       "np.float64(39511.0)"
      ]
     },
     "execution_count": 121,
     "metadata": {},
     "output_type": "execute_result"
    }
   ],
   "source": [
    "# máximo salarial júnior\n",
    "maximosalario_junior_homens = data[data['GENERO']=='Masculino'][data['NOVO NÍVEL']=='Júnior']['SALARIO'].max()\n",
    "maximosalario_junior_mulheres = data[data['GENERO']=='Feminino'][data['NOVO NÍVEL']=='Júnior']['SALARIO'].max()\n",
    "\n",
    "maximosalario_junior_mulheres"
   ]
  },
  {
   "cell_type": "code",
   "execution_count": 122,
   "id": "9afcf895",
   "metadata": {},
   "outputs": [
    {
     "name": "stderr",
     "output_type": "stream",
     "text": [
      "/tmp/ipykernel_778/1481389405.py:2: UserWarning:\n",
      "\n",
      "Boolean Series key will be reindexed to match DataFrame index.\n",
      "\n",
      "/tmp/ipykernel_778/1481389405.py:3: UserWarning:\n",
      "\n",
      "Boolean Series key will be reindexed to match DataFrame index.\n",
      "\n"
     ]
    }
   ],
   "source": [
    "# Minimo salarial Junior \n",
    "minimosalario_junior_homens = data[data['GENERO']=='Masculino'][data['NOVO NÍVEL']=='Júnior']['SALARIO'].min()\n",
    "minimosalario_junior_mulheres = data[data['GENERO']=='Feminino'][data['NOVO NÍVEL']=='Júnior']['SALARIO'].min()"
   ]
  },
  {
   "cell_type": "code",
   "execution_count": 123,
   "id": "fd5abfba",
   "metadata": {},
   "outputs": [
    {
     "name": "stderr",
     "output_type": "stream",
     "text": [
      "/tmp/ipykernel_778/672767015.py:1: UserWarning:\n",
      "\n",
      "Boolean Series key will be reindexed to match DataFrame index.\n",
      "\n"
     ]
    },
    {
     "data": {
      "text/plain": [
       "Text(0.5, 1.0, 'Distribuição do salário de cargos júnior mulheres')"
      ]
     },
     "execution_count": 123,
     "metadata": {},
     "output_type": "execute_result"
    },
    {
     "data": {
      "image/png": "[encoded data removed]",
      "text/plain": [
       "<Figure size 640x480 with 1 Axes>"
      ]
     },
     "metadata": {},
     "output_type": "display_data"
    }
   ],
   "source": [
    "plt.boxplot(data[data['GENERO']=='Feminino'][data['NOVO NÍVEL']=='Júnior']['SALARIO'])\n",
    "plt.title('Distribuição do salário de cargos júnior mulheres')"
   ]
  },
  {
   "cell_type": "code",
   "execution_count": 124,
   "id": "805d8759",
   "metadata": {},
   "outputs": [
    {
     "name": "stderr",
     "output_type": "stream",
     "text": [
      "/tmp/ipykernel_778/3366089890.py:1: UserWarning:\n",
      "\n",
      "Boolean Series key will be reindexed to match DataFrame index.\n",
      "\n"
     ]
    },
    {
     "data": {
      "text/plain": [
       "Text(0.5, 1.0, 'Distribuição do salário de cargos júnior homens')"
      ]
     },
     "execution_count": 124,
     "metadata": {},
     "output_type": "execute_result"
    },
    {
     "data": {
      "image/png": "[encoded data removed]",
      "text/plain": [
       "<Figure size 640x480 with 1 Axes>"
      ]
     },
     "metadata": {},
     "output_type": "display_data"
    }
   ],
   "source": [
    "plt.boxplot(data[data['GENERO']=='Masculino'][data['NOVO NÍVEL']=='Júnior']['SALARIO'])\n",
    "plt.title('Distribuição do salário de cargos júnior homens')"
   ]
  },
  {
   "cell_type": "code",
   "execution_count": 125,
   "id": "a087138d",
   "metadata": {},
   "outputs": [],
   "source": [
    "import plotly.graph_objects as go\n"
   ]
  },
  {
   "cell_type": "code",
   "execution_count": 126,
   "id": "f6b3d17a",
   "metadata": {},
   "outputs": [
    {
     "data": {
      "application/vnd.plotly.v1+json": {
       "config": {
        "plotlyServerURL": "https://plot.ly"
       },
       "data": [
        {
         "marker": {
          "color": [
           18041,
           39511
          ],
          "colorscale": [
           [
            0,
            "green"
           ],
           [
            1,
            "purple"
           ]
          ]
         },
         "orientation": "h",
         "type": "bar",
         "x": [
          18041,
          39511
         ],
         "y": [
          "Homens",
          "Mulheres"
         ]
        }
       ],
       "layout": {
        "template": {
         "data": {
          "bar": [
           {
            "error_x": {
             "color": "#2a3f5f"
            },
            "error_y": {
             "color": "#2a3f5f"
            },
            "marker": {
             "line": {
              "color": "#E5ECF6",
              "width": 0.5
             },
             "pattern": {
              "fillmode": "overlay",
              "size": 10,
              "solidity": 0.2
             }
            },
            "type": "bar"
           }
          ],
          "barpolar": [
           {
            "marker": {
             "line": {
              "color": "#E5ECF6",
              "width": 0.5
             },
             "pattern": {
              "fillmode": "overlay",
              "size": 10,
              "solidity": 0.2
             }
            },
            "type": "barpolar"
           }
          ],
          "carpet": [
           {
            "aaxis": {
             "endlinecolor": "#2a3f5f",
             "gridcolor": "white",
             "linecolor": "white",
             "minorgridcolor": "white",
             "startlinecolor": "#2a3f5f"
            },
            "baxis": {
             "endlinecolor": "#2a3f5f",
             "gridcolor": "white",
             "linecolor": "white",
             "minorgridcolor": "white",
             "startlinecolor": "#2a3f5f"
            },
            "type": "carpet"
           }
          ],
          "choropleth": [
           {
            "colorbar": {
             "outlinewidth": 0,
             "ticks": ""
            },
            "type": "choropleth"
           }
          ],
          "contour": [
           {
            "colorbar": {
             "outlinewidth": 0,
             "ticks": ""
            },
            "colorscale": [
             [
              0,
              "#0d0887"
             ],
             [
              0.1111111111111111,
              "#46039f"
             ],
             [
              0.2222222222222222,
              "#7201a8"
             ],
             [
              0.3333333333333333,
              "#9c179e"
             ],
             [
              0.4444444444444444,
              "#bd3786"
             ],
             [
              0.5555555555555556,
              "#d8576b"
             ],
             [
              0.6666666666666666,
              "#ed7953"
             ],
             [
              0.7777777777777778,
              "#fb9f3a"
             ],
             [
              0.8888888888888888,
              "#fdca26"
             ],
             [
              1,
              "#f0f921"
             ]
            ],
            "type": "contour"
           }
          ],
          "contourcarpet": [
           {
            "colorbar": {
             "outlinewidth": 0,
             "ticks": ""
            },
            "type": "contourcarpet"
           }
          ],
          "heatmap": [
           {
            "colorbar": {
             "outlinewidth": 0,
             "ticks": ""
            },
            "colorscale": [
             [
              0,
              "#0d0887"
             ],
             [
              0.1111111111111111,
              "#46039f"
             ],
             [
              0.2222222222222222,
              "#7201a8"
             ],
             [
              0.3333333333333333,
              "#9c179e"
             ],
             [
              0.4444444444444444,
              "#bd3786"
             ],
             [
              0.5555555555555556,
              "#d8576b"
             ],
             [
              0.6666666666666666,
              "#ed7953"
             ],
             [
              0.7777777777777778,
              "#fb9f3a"
             ],
             [
              0.8888888888888888,
              "#fdca26"
             ],
             [
              1,
              "#f0f921"
             ]
            ],
            "type": "heatmap"
           }
          ],
          "heatmapgl": [
           {
            "colorbar": {
             "outlinewidth": 0,
             "ticks": ""
            },
            "colorscale": [
             [
              0,
              "#0d0887"
             ],
             [
              0.1111111111111111,
              "#46039f"
             ],
             [
              0.2222222222222222,
              "#7201a8"
             ],
             [
              0.3333333333333333,
              "#9c179e"
             ],
             [
              0.4444444444444444,
              "#bd3786"
             ],
             [
              0.5555555555555556,
              "#d8576b"
             ],
             [
              0.6666666666666666,
              "#ed7953"
             ],
             [
              0.7777777777777778,
              "#fb9f3a"
             ],
             [
              0.8888888888888888,
              "#fdca26"
             ],
             [
              1,
              "#f0f921"
             ]
            ],
            "type": "heatmapgl"
           }
          ],
          "histogram": [
           {
            "marker": {
             "pattern": {
              "fillmode": "overlay",
              "size": 10,
              "solidity": 0.2
             }
            },
            "type": "histogram"
           }
          ],
          "histogram2d": [
           {
            "colorbar": {
             "outlinewidth": 0,
             "ticks": ""
            },
            "colorscale": [
             [
              0,
              "#0d0887"
             ],
             [
              0.1111111111111111,
              "#46039f"
             ],
             [
              0.2222222222222222,
              "#7201a8"
             ],
             [
              0.3333333333333333,
              "#9c179e"
             ],
             [
              0.4444444444444444,
              "#bd3786"
             ],
             [
              0.5555555555555556,
              "#d8576b"
             ],
             [
              0.6666666666666666,
              "#ed7953"
             ],
             [
              0.7777777777777778,
              "#fb9f3a"
             ],
             [
              0.8888888888888888,
              "#fdca26"
             ],
             [
              1,
              "#f0f921"
             ]
            ],
            "type": "histogram2d"
           }
          ],
          "histogram2dcontour": [
           {
            "colorbar": {
             "outlinewidth": 0,
             "ticks": ""
            },
            "colorscale": [
             [
              0,
              "#0d0887"
             ],
             [
              0.1111111111111111,
              "#46039f"
             ],
             [
              0.2222222222222222,
              "#7201a8"
             ],
             [
              0.3333333333333333,
              "#9c179e"
             ],
             [
              0.4444444444444444,
              "#bd3786"
             ],
             [
              0.5555555555555556,
              "#d8576b"
             ],
             [
              0.6666666666666666,
              "#ed7953"
             ],
             [
              0.7777777777777778,
              "#fb9f3a"
             ],
             [
              0.8888888888888888,
              "#fdca26"
             ],
             [
              1,
              "#f0f921"
             ]
            ],
            "type": "histogram2dcontour"
           }
          ],
          "mesh3d": [
           {
            "colorbar": {
             "outlinewidth": 0,
             "ticks": ""
            },
            "type": "mesh3d"
           }
          ],
          "parcoords": [
           {
            "line": {
             "colorbar": {
              "outlinewidth": 0,
              "ticks": ""
             }
            },
            "type": "parcoords"
           }
          ],
          "pie": [
           {
            "automargin": true,
            "type": "pie"
           }
          ],
          "scatter": [
           {
            "fillpattern": {
             "fillmode": "overlay",
             "size": 10,
             "solidity": 0.2
            },
            "type": "scatter"
           }
          ],
          "scatter3d": [
           {
            "line": {
             "colorbar": {
              "outlinewidth": 0,
              "ticks": ""
             }
            },
            "marker": {
             "colorbar": {
              "outlinewidth": 0,
              "ticks": ""
             }
            },
            "type": "scatter3d"
           }
          ],
          "scattercarpet": [
           {
            "marker": {
             "colorbar": {
              "outlinewidth": 0,
              "ticks": ""
             }
            },
            "type": "scattercarpet"
           }
          ],
          "scattergeo": [
           {
            "marker": {
             "colorbar": {
              "outlinewidth": 0,
              "ticks": ""
             }
            },
            "type": "scattergeo"
           }
          ],
          "scattergl": [
           {
            "marker": {
             "colorbar": {
              "outlinewidth": 0,
              "ticks": ""
             }
            },
            "type": "scattergl"
           }
          ],
          "scattermapbox": [
           {
            "marker": {
             "colorbar": {
              "outlinewidth": 0,
              "ticks": ""
             }
            },
            "type": "scattermapbox"
           }
          ],
          "scatterpolar": [
           {
            "marker": {
             "colorbar": {
              "outlinewidth": 0,
              "ticks": ""
             }
            },
            "type": "scatterpolar"
           }
          ],
          "scatterpolargl": [
           {
            "marker": {
             "colorbar": {
              "outlinewidth": 0,
              "ticks": ""
             }
            },
            "type": "scatterpolargl"
           }
          ],
          "scatterternary": [
           {
            "marker": {
             "colorbar": {
              "outlinewidth": 0,
              "ticks": ""
             }
            },
            "type": "scatterternary"
           }
          ],
          "surface": [
           {
            "colorbar": {
             "outlinewidth": 0,
             "ticks": ""
            },
            "colorscale": [
             [
              0,
              "#0d0887"
             ],
             [
              0.1111111111111111,
              "#46039f"
             ],
             [
              0.2222222222222222,
              "#7201a8"
             ],
             [
              0.3333333333333333,
              "#9c179e"
             ],
             [
              0.4444444444444444,
              "#bd3786"
             ],
             [
              0.5555555555555556,
              "#d8576b"
             ],
             [
              0.6666666666666666,
              "#ed7953"
             ],
             [
              0.7777777777777778,
              "#fb9f3a"
             ],
             [
              0.8888888888888888,
              "#fdca26"
             ],
             [
              1,
              "#f0f921"
             ]
            ],
            "type": "surface"
           }
          ],
          "table": [
           {
            "cells": {
             "fill": {
              "color": "#EBF0F8"
             },
             "line": {
              "color": "white"
             }
            },
            "header": {
             "fill": {
              "color": "#C8D4E3"
             },
             "line": {
              "color": "white"
             }
            },
            "type": "table"
           }
          ]
         },
         "layout": {
          "annotationdefaults": {
           "arrowcolor": "#2a3f5f",
           "arrowhead": 0,
           "arrowwidth": 1
          },
          "autotypenumbers": "strict",
          "coloraxis": {
           "colorbar": {
            "outlinewidth": 0,
            "ticks": ""
           }
          },
          "colorscale": {
           "diverging": [
            [
             0,
             "#8e0152"
            ],
            [
             0.1,
             "#c51b7d"
            ],
            [
             0.2,
             "#de77ae"
            ],
            [
             0.3,
             "#f1b6da"
            ],
            [
             0.4,
             "#fde0ef"
            ],
            [
             0.5,
             "#f7f7f7"
            ],
            [
             0.6,
             "#e6f5d0"
            ],
            [
             0.7,
             "#b8e186"
            ],
            [
             0.8,
             "#7fbc41"
            ],
            [
             0.9,
             "#4d9221"
            ],
            [
             1,
             "#276419"
            ]
           ],
           "sequential": [
            [
             0,
             "#0d0887"
            ],
            [
             0.1111111111111111,
             "#46039f"
            ],
            [
             0.2222222222222222,
             "#7201a8"
            ],
            [
             0.3333333333333333,
             "#9c179e"
            ],
            [
             0.4444444444444444,
             "#bd3786"
            ],
            [
             0.5555555555555556,
             "#d8576b"
            ],
            [
             0.6666666666666666,
             "#ed7953"
            ],
            [
             0.7777777777777778,
             "#fb9f3a"
            ],
            [
             0.8888888888888888,
             "#fdca26"
            ],
            [
             1,
             "#f0f921"
            ]
           ],
           "sequentialminus": [
            [
             0,
             "#0d0887"
            ],
            [
             0.1111111111111111,
             "#46039f"
            ],
            [
             0.2222222222222222,
             "#7201a8"
            ],
            [
             0.3333333333333333,
             "#9c179e"
            ],
            [
             0.4444444444444444,
             "#bd3786"
            ],
            [
             0.5555555555555556,
             "#d8576b"
            ],
            [
             0.6666666666666666,
             "#ed7953"
            ],
            [
             0.7777777777777778,
             "#fb9f3a"
            ],
            [
             0.8888888888888888,
             "#fdca26"
            ],
            [
             1,
             "#f0f921"
            ]
           ]
          },
          "colorway": [
           "#636efa",
           "#EF553B",
           "#00cc96",
           "#ab63fa",
           "#FFA15A",
           "#19d3f3",
           "#FF6692",
           "#B6E880",
           "#FF97FF",
           "#FECB52"
          ],
          "font": {
           "color": "#2a3f5f"
          },
          "geo": {
           "bgcolor": "white",
           "lakecolor": "white",
           "landcolor": "#E5ECF6",
           "showlakes": true,
           "showland": true,
           "subunitcolor": "white"
          },
          "hoverlabel": {
           "align": "left"
          },
          "hovermode": "closest",
          "mapbox": {
           "style": "light"
          },
          "paper_bgcolor": "white",
          "plot_bgcolor": "#E5ECF6",
          "polar": {
           "angularaxis": {
            "gridcolor": "white",
            "linecolor": "white",
            "ticks": ""
           },
           "bgcolor": "#E5ECF6",
           "radialaxis": {
            "gridcolor": "white",
            "linecolor": "white",
            "ticks": ""
           }
          },
          "scene": {
           "xaxis": {
            "backgroundcolor": "#E5ECF6",
            "gridcolor": "white",
            "gridwidth": 2,
            "linecolor": "white",
            "showbackground": true,
            "ticks": "",
            "zerolinecolor": "white"
           },
           "yaxis": {
            "backgroundcolor": "#E5ECF6",
            "gridcolor": "white",
            "gridwidth": 2,
            "linecolor": "white",
            "showbackground": true,
            "ticks": "",
            "zerolinecolor": "white"
           },
           "zaxis": {
            "backgroundcolor": "#E5ECF6",
            "gridcolor": "white",
            "gridwidth": 2,
            "linecolor": "white",
            "showbackground": true,
            "ticks": "",
            "zerolinecolor": "white"
           }
          },
          "shapedefaults": {
           "line": {
            "color": "#2a3f5f"
           }
          },
          "ternary": {
           "aaxis": {
            "gridcolor": "white",
            "linecolor": "white",
            "ticks": ""
           },
           "baxis": {
            "gridcolor": "white",
            "linecolor": "white",
            "ticks": ""
           },
           "bgcolor": "#E5ECF6",
           "caxis": {
            "gridcolor": "white",
            "linecolor": "white",
            "ticks": ""
           }
          },
          "title": {
           "x": 0.05
          },
          "xaxis": {
           "automargin": true,
           "gridcolor": "white",
           "linecolor": "white",
           "ticks": "",
           "title": {
            "standoff": 15
           },
           "zerolinecolor": "white",
           "zerolinewidth": 2
          },
          "yaxis": {
           "automargin": true,
           "gridcolor": "white",
           "linecolor": "white",
           "ticks": "",
           "title": {
            "standoff": 15
           },
           "zerolinecolor": "white",
           "zerolinewidth": 2
          }
         }
        },
        "title": {
         "text": "Máxima Salarial Júnior",
         "x": 0.5,
         "xanchor": "center",
         "yanchor": "top"
        },
        "xaxis": {
         "title": {
          "text": "Média Salarial (R$)"
         }
        },
        "yaxis": {
         "title": {
          "text": "Gênero"
         }
        }
       }
      }
     },
     "metadata": {},
     "output_type": "display_data"
    }
   ],
   "source": [
    "# Gráfico para comparar médias e máximas salariais por gênero \n",
    "\n",
    "cores_p=['green','purple']\n",
    "valores= [maximosalario_junior_homens,maximosalario_junior_mulheres]\n",
    "fig = go.Figure(go.Bar(\n",
    "            x=valores,\n",
    "            y=['Homens', 'Mulheres'],\n",
    "            orientation='h',\n",
    "            marker=dict(\n",
    "            color=valores,  \n",
    "            colorscale=cores_p,  \n",
    "            #colorbar=dict(title='Média Salarial')  # Barra de cor\n",
    "            )))\n",
    "\n",
    "fig.update_layout(\n",
    "    title={\n",
    "        'text': 'Máxima Salarial Júnior',\n",
    "        'x': 0.5,  \n",
    "        'xanchor': 'center',  \n",
    "        'yanchor': 'top'\n",
    "    },\n",
    "    xaxis_title='Média Salarial (R$)',\n",
    "    yaxis_title='Gênero',\n",
    "\n",
    ")\n",
    "\n",
    "fig.show()"
   ]
  },
  {
   "cell_type": "markdown",
   "id": "10315e82",
   "metadata": {},
   "source": [
    "### 3.2. Distribuição salarial por etnia "
   ]
  },
  {
   "cell_type": "code",
   "execution_count": 127,
   "id": "ae55882d",
   "metadata": {},
   "outputs": [],
   "source": [
    "# Médias salariais para diferentes etnias "
   ]
  },
  {
   "cell_type": "code",
   "execution_count": 128,
   "id": "f4dcea25",
   "metadata": {},
   "outputs": [],
   "source": [
    "mediasalario_brancos = data[data['COR/RACA/ETNIA']=='Branca']['SALARIO'].mean() # Média salarial pessoas brancas \n",
    "mediasalario_pardos = data[data['COR/RACA/ETNIA']=='Parda']['SALARIO'].mean() # Média salarial pessoas pardas \n",
    "mediasalario_pardos = data[data['COR/RACA/ETNIA']=='Parda']['SALARIO'].mean() # Média salarial pessoas pardas \n",
    "mediasalario_pretas = data[data['COR/RACA/ETNIA']=='Preta']['SALARIO'].mean() # Média salarial pessoas pretas \n",
    "mediasalario_amarelas = data[data['COR/RACA/ETNIA']=='Amarela']['SALARIO'].mean() # Média salarial pessoas amarelas \n",
    "mediasalario_indigenas = data[data['COR/RACA/ETNIA']=='Indígena']['SALARIO'].mean() # Médias salarial pessoas indígenas \n",
    "mediasalario_outros = data[data['COR/RACA/ETNIA']=='Outra']['SALARIO'].mean() # Média salarial outras etnias "
   ]
  },
  {
   "cell_type": "code",
   "execution_count": 129,
   "id": "40c28064",
   "metadata": {},
   "outputs": [
    {
     "name": "stdout",
     "output_type": "stream",
     "text": [
      "Médias salariais: \n",
      " Brancos: R$10425.18 \n",
      " Pardas: R$8764.81 \n",
      " Pretas: R$7702.33 \n",
      " Amarelas: R$12457.54 \n",
      " Indígenas: R$10886.05  \n",
      " Outros: R$14918.11\n"
     ]
    }
   ],
   "source": [
    "print(f'Médias salariais: \\n Brancos: R${mediasalario_brancos:.2f} \\n Pardas: R${mediasalario_pardos:.2f} \\n Pretas: R${mediasalario_pretas:.2f} \\n Amarelas: R${mediasalario_amarelas:.2f} \\n Indígenas: R${mediasalario_indigenas:.2f}  \\n Outros: R${mediasalario_outros:.2f}')"
   ]
  },
  {
   "cell_type": "code",
   "execution_count": 130,
   "id": "bd1fdd09",
   "metadata": {},
   "outputs": [],
   "source": [
    "# Salario máximo por etnia "
   ]
  },
  {
   "cell_type": "code",
   "execution_count": 131,
   "id": "130cf05e",
   "metadata": {},
   "outputs": [],
   "source": [
    "maximosalario_brancos = data[data['COR/RACA/ETNIA']=='Branca']['SALARIO'].max() # Máximo salarial pessoas brancas \n",
    "maximosalario_pardos = data[data['COR/RACA/ETNIA']=='Parda']['SALARIO'].max() # Máximo salarial pessoas pardas \n",
    "maximosalario_pardos = data[data['COR/RACA/ETNIA']=='Parda']['SALARIO'].max() # Máximo salarial pessoas pardas \n",
    "maximosalario_pretas = data[data['COR/RACA/ETNIA']=='Preta']['SALARIO'].max() # Máximo salarial pessoas pretas \n",
    "maximosalario_amarelas = data[data['COR/RACA/ETNIA']=='Amarela']['SALARIO'].max() # Máximo salarial pessoas amarelas \n",
    "maximosalario_indigenas = data[data['COR/RACA/ETNIA']=='Indígena']['SALARIO'].max() # Máximo salarial pessoas indígenas \n",
    "maximosalario_outros = data[data['COR/RACA/ETNIA']=='Outra']['SALARIO'].max() # Máximo salarial outras etnias "
   ]
  },
  {
   "cell_type": "code",
   "execution_count": 132,
   "id": "ae710118",
   "metadata": {},
   "outputs": [
    {
     "name": "stdout",
     "output_type": "stream",
     "text": [
      "Máximo salariais: \n",
      " Brancos: R$62577.00 \n",
      " Pardas: R$59982.00 \n",
      " Pretas: R$45045.00 \n",
      " Amarelas: R$62001.00 \n",
      " Indígenas: R$38087.00  \n",
      " Outros: R$53127.85\n"
     ]
    }
   ],
   "source": [
    "print(f'Máximo salariais: \\n Brancos: R${maximosalario_brancos:.2f} \\n Pardas: R${maximosalario_pardos:.2f} \\n Pretas: R${maximosalario_pretas:.2f} \\n Amarelas: R${maximosalario_amarelas:.2f} \\n Indígenas: R${maximosalario_indigenas:.2f}  \\n Outros: R${maximosalario_outros:.2f}')"
   ]
  },
  {
   "cell_type": "code",
   "execution_count": 133,
   "id": "b6922e3f",
   "metadata": {},
   "outputs": [],
   "source": [
    "# Mínimo salarial \n",
    "\n",
    "minimosalario_brancos = data[data['COR/RACA/ETNIA']=='Branca']['SALARIO'].min() # Minimo salarial pessoas brancas \n",
    "minimosalario_pardos = data[data['COR/RACA/ETNIA']=='Parda']['SALARIO'].min() # Minimo salarial pessoas pardas \n",
    "minimoosalario_pardos = data[data['COR/RACA/ETNIA']=='Parda']['SALARIO'].min() # Minimo salarial pessoas pardas \n",
    "minimosalario_pretas = data[data['COR/RACA/ETNIA']=='Preta']['SALARIO'].min() # Minimo salarial pessoas pretas \n",
    "minimosalario_amarelas = data[data['COR/RACA/ETNIA']=='Amarela']['SALARIO'].min() # Minimo salarial pessoas amarelas \n",
    "minimosalario_indigenas = data[data['COR/RACA/ETNIA']=='Indígena']['SALARIO'].min() # Minimo salarial pessoas indígenas \n",
    "minimosalario_outros = data[data['COR/RACA/ETNIA']=='Outra']['SALARIO'].min() # Minimo salarial outras etnias "
   ]
  },
  {
   "cell_type": "code",
   "execution_count": 134,
   "id": "f5d9cd6f",
   "metadata": {},
   "outputs": [
    {
     "name": "stdout",
     "output_type": "stream",
     "text": [
      "Minimo salariais: \n",
      " Brancos: R$51.00 \n",
      " Pardas: R$175.00 \n",
      " Pretas: R$766.00 \n",
      " Amarelas: R$35.00 \n",
      " Indígenas: R$826.00  \n",
      " Outros: R$3225.00\n"
     ]
    }
   ],
   "source": [
    "print(f'Minimo salariais: \\n Brancos: R${minimosalario_brancos:.2f} \\n Pardas: R${minimosalario_pardos:.2f} \\n Pretas: R${minimosalario_pretas:.2f} \\n Amarelas: R${minimosalario_amarelas:.2f} \\n Indígenas: R${minimosalario_indigenas:.2f}  \\n Outros: R${minimosalario_outros:.2f}')"
   ]
  },
  {
   "cell_type": "code",
   "execution_count": 135,
   "id": "14be9851",
   "metadata": {},
   "outputs": [
    {
     "data": {
      "application/vnd.plotly.v1+json": {
       "config": {
        "plotlyServerURL": "https://plot.ly"
       },
       "data": [
        {
         "marker": {
          "color": [
           10425.18378948732,
           8764.809188439644,
           7702.326460481099,
           12457.53515625,
           10886.045454545454,
           14918.108597285069
          ],
          "colorscale": [
           [
            0,
            "rgb(243, 231, 155)"
           ],
           [
            0.16666666666666666,
            "rgb(250, 196, 132)"
           ],
           [
            0.3333333333333333,
            "rgb(248, 160, 126)"
           ],
           [
            0.5,
            "rgb(235, 127, 134)"
           ],
           [
            0.6666666666666666,
            "rgb(206, 102, 147)"
           ],
           [
            0.8333333333333334,
            "rgb(160, 89, 160)"
           ],
           [
            1,
            "rgb(92, 83, 165)"
           ]
          ]
         },
         "orientation": "h",
         "type": "bar",
         "x": [
          10425.18378948732,
          8764.809188439644,
          7702.326460481099,
          12457.53515625,
          10886.045454545454,
          14918.108597285069
         ],
         "y": [
          "Outros",
          "Indígenas",
          "Amarelas",
          "Pretas",
          "Pardas",
          "Brancas"
         ]
        }
       ],
       "layout": {
        "template": {
         "data": {
          "bar": [
           {
            "error_x": {
             "color": "#2a3f5f"
            },
            "error_y": {
             "color": "#2a3f5f"
            },
            "marker": {
             "line": {
              "color": "#E5ECF6",
              "width": 0.5
             },
             "pattern": {
              "fillmode": "overlay",
              "size": 10,
              "solidity": 0.2
             }
            },
            "type": "bar"
           }
          ],
          "barpolar": [
           {
            "marker": {
             "line": {
              "color": "#E5ECF6",
              "width": 0.5
             },
             "pattern": {
              "fillmode": "overlay",
              "size": 10,
              "solidity": 0.2
             }
            },
            "type": "barpolar"
           }
          ],
          "carpet": [
           {
            "aaxis": {
             "endlinecolor": "#2a3f5f",
             "gridcolor": "white",
             "linecolor": "white",
             "minorgridcolor": "white",
             "startlinecolor": "#2a3f5f"
            },
            "baxis": {
             "endlinecolor": "#2a3f5f",
             "gridcolor": "white",
             "linecolor": "white",
             "minorgridcolor": "white",
             "startlinecolor": "#2a3f5f"
            },
            "type": "carpet"
           }
          ],
          "choropleth": [
           {
            "colorbar": {
             "outlinewidth": 0,
             "ticks": ""
            },
            "type": "choropleth"
           }
          ],
          "contour": [
           {
            "colorbar": {
             "outlinewidth": 0,
             "ticks": ""
            },
            "colorscale": [
             [
              0,
              "#0d0887"
             ],
             [
              0.1111111111111111,
              "#46039f"
             ],
             [
              0.2222222222222222,
              "#7201a8"
             ],
             [
              0.3333333333333333,
              "#9c179e"
             ],
             [
              0.4444444444444444,
              "#bd3786"
             ],
             [
              0.5555555555555556,
              "#d8576b"
             ],
             [
              0.6666666666666666,
              "#ed7953"
             ],
             [
              0.7777777777777778,
              "#fb9f3a"
             ],
             [
              0.8888888888888888,
              "#fdca26"
             ],
             [
              1,
              "#f0f921"
             ]
            ],
            "type": "contour"
           }
          ],
          "contourcarpet": [
           {
            "colorbar": {
             "outlinewidth": 0,
             "ticks": ""
            },
            "type": "contourcarpet"
           }
          ],
          "heatmap": [
           {
            "colorbar": {
             "outlinewidth": 0,
             "ticks": ""
            },
            "colorscale": [
             [
              0,
              "#0d0887"
             ],
             [
              0.1111111111111111,
              "#46039f"
             ],
             [
              0.2222222222222222,
              "#7201a8"
             ],
             [
              0.3333333333333333,
              "#9c179e"
             ],
             [
              0.4444444444444444,
              "#bd3786"
             ],
             [
              0.5555555555555556,
              "#d8576b"
             ],
             [
              0.6666666666666666,
              "#ed7953"
             ],
             [
              0.7777777777777778,
              "#fb9f3a"
             ],
             [
              0.8888888888888888,
              "#fdca26"
             ],
             [
              1,
              "#f0f921"
             ]
            ],
            "type": "heatmap"
           }
          ],
          "heatmapgl": [
           {
            "colorbar": {
             "outlinewidth": 0,
             "ticks": ""
            },
            "colorscale": [
             [
              0,
              "#0d0887"
             ],
             [
              0.1111111111111111,
              "#46039f"
             ],
             [
              0.2222222222222222,
              "#7201a8"
             ],
             [
              0.3333333333333333,
              "#9c179e"
             ],
             [
              0.4444444444444444,
              "#bd3786"
             ],
             [
              0.5555555555555556,
              "#d8576b"
             ],
             [
              0.6666666666666666,
              "#ed7953"
             ],
             [
              0.7777777777777778,
              "#fb9f3a"
             ],
             [
              0.8888888888888888,
              "#fdca26"
             ],
             [
              1,
              "#f0f921"
             ]
            ],
            "type": "heatmapgl"
           }
          ],
          "histogram": [
           {
            "marker": {
             "pattern": {
              "fillmode": "overlay",
              "size": 10,
              "solidity": 0.2
             }
            },
            "type": "histogram"
           }
          ],
          "histogram2d": [
           {
            "colorbar": {
             "outlinewidth": 0,
             "ticks": ""
            },
            "colorscale": [
             [
              0,
              "#0d0887"
             ],
             [
              0.1111111111111111,
              "#46039f"
             ],
             [
              0.2222222222222222,
              "#7201a8"
             ],
             [
              0.3333333333333333,
              "#9c179e"
             ],
             [
              0.4444444444444444,
              "#bd3786"
             ],
             [
              0.5555555555555556,
              "#d8576b"
             ],
             [
              0.6666666666666666,
              "#ed7953"
             ],
             [
              0.7777777777777778,
              "#fb9f3a"
             ],
             [
              0.8888888888888888,
              "#fdca26"
             ],
             [
              1,
              "#f0f921"
             ]
            ],
            "type": "histogram2d"
           }
          ],
          "histogram2dcontour": [
           {
            "colorbar": {
             "outlinewidth": 0,
             "ticks": ""
            },
            "colorscale": [
             [
              0,
              "#0d0887"
             ],
             [
              0.1111111111111111,
              "#46039f"
             ],
             [
              0.2222222222222222,
              "#7201a8"
             ],
             [
              0.3333333333333333,
              "#9c179e"
             ],
             [
              0.4444444444444444,
              "#bd3786"
             ],
             [
              0.5555555555555556,
              "#d8576b"
             ],
             [
              0.6666666666666666,
              "#ed7953"
             ],
             [
              0.7777777777777778,
              "#fb9f3a"
             ],
             [
              0.8888888888888888,
              "#fdca26"
             ],
             [
              1,
              "#f0f921"
             ]
            ],
            "type": "histogram2dcontour"
           }
          ],
          "mesh3d": [
           {
            "colorbar": {
             "outlinewidth": 0,
             "ticks": ""
            },
            "type": "mesh3d"
           }
          ],
          "parcoords": [
           {
            "line": {
             "colorbar": {
              "outlinewidth": 0,
              "ticks": ""
             }
            },
            "type": "parcoords"
           }
          ],
          "pie": [
           {
            "automargin": true,
            "type": "pie"
           }
          ],
          "scatter": [
           {
            "fillpattern": {
             "fillmode": "overlay",
             "size": 10,
             "solidity": 0.2
            },
            "type": "scatter"
           }
          ],
          "scatter3d": [
           {
            "line": {
             "colorbar": {
              "outlinewidth": 0,
              "ticks": ""
             }
            },
            "marker": {
             "colorbar": {
              "outlinewidth": 0,
              "ticks": ""
             }
            },
            "type": "scatter3d"
           }
          ],
          "scattercarpet": [
           {
            "marker": {
             "colorbar": {
              "outlinewidth": 0,
              "ticks": ""
             }
            },
            "type": "scattercarpet"
           }
          ],
          "scattergeo": [
           {
            "marker": {
             "colorbar": {
              "outlinewidth": 0,
              "ticks": ""
             }
            },
            "type": "scattergeo"
           }
          ],
          "scattergl": [
           {
            "marker": {
             "colorbar": {
              "outlinewidth": 0,
              "ticks": ""
             }
            },
            "type": "scattergl"
           }
          ],
          "scattermapbox": [
           {
            "marker": {
             "colorbar": {
              "outlinewidth": 0,
              "ticks": ""
             }
            },
            "type": "scattermapbox"
           }
          ],
          "scatterpolar": [
           {
            "marker": {
             "colorbar": {
              "outlinewidth": 0,
              "ticks": ""
             }
            },
            "type": "scatterpolar"
           }
          ],
          "scatterpolargl": [
           {
            "marker": {
             "colorbar": {
              "outlinewidth": 0,
              "ticks": ""
             }
            },
            "type": "scatterpolargl"
           }
          ],
          "scatterternary": [
           {
            "marker": {
             "colorbar": {
              "outlinewidth": 0,
              "ticks": ""
             }
            },
            "type": "scatterternary"
           }
          ],
          "surface": [
           {
            "colorbar": {
             "outlinewidth": 0,
             "ticks": ""
            },
            "colorscale": [
             [
              0,
              "#0d0887"
             ],
             [
              0.1111111111111111,
              "#46039f"
             ],
             [
              0.2222222222222222,
              "#7201a8"
             ],
             [
              0.3333333333333333,
              "#9c179e"
             ],
             [
              0.4444444444444444,
              "#bd3786"
             ],
             [
              0.5555555555555556,
              "#d8576b"
             ],
             [
              0.6666666666666666,
              "#ed7953"
             ],
             [
              0.7777777777777778,
              "#fb9f3a"
             ],
             [
              0.8888888888888888,
              "#fdca26"
             ],
             [
              1,
              "#f0f921"
             ]
            ],
            "type": "surface"
           }
          ],
          "table": [
           {
            "cells": {
             "fill": {
              "color": "#EBF0F8"
             },
             "line": {
              "color": "white"
             }
            },
            "header": {
             "fill": {
              "color": "#C8D4E3"
             },
             "line": {
              "color": "white"
             }
            },
            "type": "table"
           }
          ]
         },
         "layout": {
          "annotationdefaults": {
           "arrowcolor": "#2a3f5f",
           "arrowhead": 0,
           "arrowwidth": 1
          },
          "autotypenumbers": "strict",
          "coloraxis": {
           "colorbar": {
            "outlinewidth": 0,
            "ticks": ""
           }
          },
          "colorscale": {
           "diverging": [
            [
             0,
             "#8e0152"
            ],
            [
             0.1,
             "#c51b7d"
            ],
            [
             0.2,
             "#de77ae"
            ],
            [
             0.3,
             "#f1b6da"
            ],
            [
             0.4,
             "#fde0ef"
            ],
            [
             0.5,
             "#f7f7f7"
            ],
            [
             0.6,
             "#e6f5d0"
            ],
            [
             0.7,
             "#b8e186"
            ],
            [
             0.8,
             "#7fbc41"
            ],
            [
             0.9,
             "#4d9221"
            ],
            [
             1,
             "#276419"
            ]
           ],
           "sequential": [
            [
             0,
             "#0d0887"
            ],
            [
             0.1111111111111111,
             "#46039f"
            ],
            [
             0.2222222222222222,
             "#7201a8"
            ],
            [
             0.3333333333333333,
             "#9c179e"
            ],
            [
             0.4444444444444444,
             "#bd3786"
            ],
            [
             0.5555555555555556,
             "#d8576b"
            ],
            [
             0.6666666666666666,
             "#ed7953"
            ],
            [
             0.7777777777777778,
             "#fb9f3a"
            ],
            [
             0.8888888888888888,
             "#fdca26"
            ],
            [
             1,
             "#f0f921"
            ]
           ],
           "sequentialminus": [
            [
             0,
             "#0d0887"
            ],
            [
             0.1111111111111111,
             "#46039f"
            ],
            [
             0.2222222222222222,
             "#7201a8"
            ],
            [
             0.3333333333333333,
             "#9c179e"
            ],
            [
             0.4444444444444444,
             "#bd3786"
            ],
            [
             0.5555555555555556,
             "#d8576b"
            ],
            [
             0.6666666666666666,
             "#ed7953"
            ],
            [
             0.7777777777777778,
             "#fb9f3a"
            ],
            [
             0.8888888888888888,
             "#fdca26"
            ],
            [
             1,
             "#f0f921"
            ]
           ]
          },
          "colorway": [
           "#636efa",
           "#EF553B",
           "#00cc96",
           "#ab63fa",
           "#FFA15A",
           "#19d3f3",
           "#FF6692",
           "#B6E880",
           "#FF97FF",
           "#FECB52"
          ],
          "font": {
           "color": "#2a3f5f"
          },
          "geo": {
           "bgcolor": "white",
           "lakecolor": "white",
           "landcolor": "#E5ECF6",
           "showlakes": true,
           "showland": true,
           "subunitcolor": "white"
          },
          "hoverlabel": {
           "align": "left"
          },
          "hovermode": "closest",
          "mapbox": {
           "style": "light"
          },
          "paper_bgcolor": "white",
          "plot_bgcolor": "#E5ECF6",
          "polar": {
           "angularaxis": {
            "gridcolor": "white",
            "linecolor": "white",
            "ticks": ""
           },
           "bgcolor": "#E5ECF6",
           "radialaxis": {
            "gridcolor": "white",
            "linecolor": "white",
            "ticks": ""
           }
          },
          "scene": {
           "xaxis": {
            "backgroundcolor": "#E5ECF6",
            "gridcolor": "white",
            "gridwidth": 2,
            "linecolor": "white",
            "showbackground": true,
            "ticks": "",
            "zerolinecolor": "white"
           },
           "yaxis": {
            "backgroundcolor": "#E5ECF6",
            "gridcolor": "white",
            "gridwidth": 2,
            "linecolor": "white",
            "showbackground": true,
            "ticks": "",
            "zerolinecolor": "white"
           },
           "zaxis": {
            "backgroundcolor": "#E5ECF6",
            "gridcolor": "white",
            "gridwidth": 2,
            "linecolor": "white",
            "showbackground": true,
            "ticks": "",
            "zerolinecolor": "white"
           }
          },
          "shapedefaults": {
           "line": {
            "color": "#2a3f5f"
           }
          },
          "ternary": {
           "aaxis": {
            "gridcolor": "white",
            "linecolor": "white",
            "ticks": ""
           },
           "baxis": {
            "gridcolor": "white",
            "linecolor": "white",
            "ticks": ""
           },
           "bgcolor": "#E5ECF6",
           "caxis": {
            "gridcolor": "white",
            "linecolor": "white",
            "ticks": ""
           }
          },
          "title": {
           "x": 0.05
          },
          "xaxis": {
           "automargin": true,
           "gridcolor": "white",
           "linecolor": "white",
           "ticks": "",
           "title": {
            "standoff": 15
           },
           "zerolinecolor": "white",
           "zerolinewidth": 2
          },
          "yaxis": {
           "automargin": true,
           "gridcolor": "white",
           "linecolor": "white",
           "ticks": "",
           "title": {
            "standoff": 15
           },
           "zerolinecolor": "white",
           "zerolinewidth": 2
          }
         }
        },
        "title": {
         "text": "Média Salarial por Etnia",
         "x": 0.5,
         "xanchor": "center",
         "yanchor": "top"
        },
        "xaxis": {
         "title": {
          "text": "Média Salarial (R$)"
         }
        },
        "yaxis": {
         "title": {
          "text": "Etnia"
         }
        }
       }
      }
     },
     "metadata": {},
     "output_type": "display_data"
    }
   ],
   "source": [
    "import plotly.graph_objects as go\n",
    "\n",
    "valores= [mediasalario_brancos, mediasalario_pardos, mediasalario_pretas, mediasalario_amarelas, mediasalario_indigenas, mediasalario_outros]\n",
    "fig = go.Figure(go.Bar(\n",
    "            x=valores,\n",
    "            y=['Outros', 'Indígenas', 'Amarelas', 'Pretas', 'Pardas', 'Brancas'],\n",
    "            orientation='h',\n",
    "            marker=dict(\n",
    "            color=valores,  \n",
    "            colorscale='sunset',  \n",
    "            #colorbar=dict(title='Média Salarial')  # Barra de cor\n",
    "            )))\n",
    "\n",
    "fig.update_layout(\n",
    "    title={\n",
    "        'text': 'Média Salarial por Etnia',\n",
    "        'x': 0.5,  \n",
    "        'xanchor': 'center',  \n",
    "        'yanchor': 'top'\n",
    "    },\n",
    "    xaxis_title='Média Salarial (R$)',\n",
    "    yaxis_title='Etnia',\n",
    "\n",
    ")\n",
    "\n",
    "fig.show()"
   ]
  },
  {
   "cell_type": "code",
   "execution_count": 136,
   "id": "7d00257e",
   "metadata": {},
   "outputs": [
    {
     "data": {
      "application/vnd.plotly.v1+json": {
       "config": {
        "plotlyServerURL": "https://plot.ly"
       },
       "data": [
        {
         "marker": {
          "color": [
           53127.846153846156,
           38087,
           62001,
           45045,
           59982,
           62577
          ],
          "colorscale": [
           [
            0,
            "rgb(243, 231, 155)"
           ],
           [
            0.16666666666666666,
            "rgb(250, 196, 132)"
           ],
           [
            0.3333333333333333,
            "rgb(248, 160, 126)"
           ],
           [
            0.5,
            "rgb(235, 127, 134)"
           ],
           [
            0.6666666666666666,
            "rgb(206, 102, 147)"
           ],
           [
            0.8333333333333334,
            "rgb(160, 89, 160)"
           ],
           [
            1,
            "rgb(92, 83, 165)"
           ]
          ]
         },
         "orientation": "h",
         "type": "bar",
         "x": [
          53127.846153846156,
          38087,
          62001,
          45045,
          59982,
          62577
         ],
         "y": [
          "Outros",
          "Indígenas",
          "Amarelas",
          "Pretas",
          "Pardas",
          "Brancas"
         ]
        }
       ],
       "layout": {
        "template": {
         "data": {
          "bar": [
           {
            "error_x": {
             "color": "#2a3f5f"
            },
            "error_y": {
             "color": "#2a3f5f"
            },
            "marker": {
             "line": {
              "color": "#E5ECF6",
              "width": 0.5
             },
             "pattern": {
              "fillmode": "overlay",
              "size": 10,
              "solidity": 0.2
             }
            },
            "type": "bar"
           }
          ],
          "barpolar": [
           {
            "marker": {
             "line": {
              "color": "#E5ECF6",
              "width": 0.5
             },
             "pattern": {
              "fillmode": "overlay",
              "size": 10,
              "solidity": 0.2
             }
            },
            "type": "barpolar"
           }
          ],
          "carpet": [
           {
            "aaxis": {
             "endlinecolor": "#2a3f5f",
             "gridcolor": "white",
             "linecolor": "white",
             "minorgridcolor": "white",
             "startlinecolor": "#2a3f5f"
            },
            "baxis": {
             "endlinecolor": "#2a3f5f",
             "gridcolor": "white",
             "linecolor": "white",
             "minorgridcolor": "white",
             "startlinecolor": "#2a3f5f"
            },
            "type": "carpet"
           }
          ],
          "choropleth": [
           {
            "colorbar": {
             "outlinewidth": 0,
             "ticks": ""
            },
            "type": "choropleth"
           }
          ],
          "contour": [
           {
            "colorbar": {
             "outlinewidth": 0,
             "ticks": ""
            },
            "colorscale": [
             [
              0,
              "#0d0887"
             ],
             [
              0.1111111111111111,
              "#46039f"
             ],
             [
              0.2222222222222222,
              "#7201a8"
             ],
             [
              0.3333333333333333,
              "#9c179e"
             ],
             [
              0.4444444444444444,
              "#bd3786"
             ],
             [
              0.5555555555555556,
              "#d8576b"
             ],
             [
              0.6666666666666666,
              "#ed7953"
             ],
             [
              0.7777777777777778,
              "#fb9f3a"
             ],
             [
              0.8888888888888888,
              "#fdca26"
             ],
             [
              1,
              "#f0f921"
             ]
            ],
            "type": "contour"
           }
          ],
          "contourcarpet": [
           {
            "colorbar": {
             "outlinewidth": 0,
             "ticks": ""
            },
            "type": "contourcarpet"
           }
          ],
          "heatmap": [
           {
            "colorbar": {
             "outlinewidth": 0,
             "ticks": ""
            },
            "colorscale": [
             [
              0,
              "#0d0887"
             ],
             [
              0.1111111111111111,
              "#46039f"
             ],
             [
              0.2222222222222222,
              "#7201a8"
             ],
             [
              0.3333333333333333,
              "#9c179e"
             ],
             [
              0.4444444444444444,
              "#bd3786"
             ],
             [
              0.5555555555555556,
              "#d8576b"
             ],
             [
              0.6666666666666666,
              "#ed7953"
             ],
             [
              0.7777777777777778,
              "#fb9f3a"
             ],
             [
              0.8888888888888888,
              "#fdca26"
             ],
             [
              1,
              "#f0f921"
             ]
            ],
            "type": "heatmap"
           }
          ],
          "heatmapgl": [
           {
            "colorbar": {
             "outlinewidth": 0,
             "ticks": ""
            },
            "colorscale": [
             [
              0,
              "#0d0887"
             ],
             [
              0.1111111111111111,
              "#46039f"
             ],
             [
              0.2222222222222222,
              "#7201a8"
             ],
             [
              0.3333333333333333,
              "#9c179e"
             ],
             [
              0.4444444444444444,
              "#bd3786"
             ],
             [
              0.5555555555555556,
              "#d8576b"
             ],
             [
              0.6666666666666666,
              "#ed7953"
             ],
             [
              0.7777777777777778,
              "#fb9f3a"
             ],
             [
              0.8888888888888888,
              "#fdca26"
             ],
             [
              1,
              "#f0f921"
             ]
            ],
            "type": "heatmapgl"
           }
          ],
          "histogram": [
           {
            "marker": {
             "pattern": {
              "fillmode": "overlay",
              "size": 10,
              "solidity": 0.2
             }
            },
            "type": "histogram"
           }
          ],
          "histogram2d": [
           {
            "colorbar": {
             "outlinewidth": 0,
             "ticks": ""
            },
            "colorscale": [
             [
              0,
              "#0d0887"
             ],
             [
              0.1111111111111111,
              "#46039f"
             ],
             [
              0.2222222222222222,
              "#7201a8"
             ],
             [
              0.3333333333333333,
              "#9c179e"
             ],
             [
              0.4444444444444444,
              "#bd3786"
             ],
             [
              0.5555555555555556,
              "#d8576b"
             ],
             [
              0.6666666666666666,
              "#ed7953"
             ],
             [
              0.7777777777777778,
              "#fb9f3a"
             ],
             [
              0.8888888888888888,
              "#fdca26"
             ],
             [
              1,
              "#f0f921"
             ]
            ],
            "type": "histogram2d"
           }
          ],
          "histogram2dcontour": [
           {
            "colorbar": {
             "outlinewidth": 0,
             "ticks": ""
            },
            "colorscale": [
             [
              0,
              "#0d0887"
             ],
             [
              0.1111111111111111,
              "#46039f"
             ],
             [
              0.2222222222222222,
              "#7201a8"
             ],
             [
              0.3333333333333333,
              "#9c179e"
             ],
             [
              0.4444444444444444,
              "#bd3786"
             ],
             [
              0.5555555555555556,
              "#d8576b"
             ],
             [
              0.6666666666666666,
              "#ed7953"
             ],
             [
              0.7777777777777778,
              "#fb9f3a"
             ],
             [
              0.8888888888888888,
              "#fdca26"
             ],
             [
              1,
              "#f0f921"
             ]
            ],
            "type": "histogram2dcontour"
           }
          ],
          "mesh3d": [
           {
            "colorbar": {
             "outlinewidth": 0,
             "ticks": ""
            },
            "type": "mesh3d"
           }
          ],
          "parcoords": [
           {
            "line": {
             "colorbar": {
              "outlinewidth": 0,
              "ticks": ""
             }
            },
            "type": "parcoords"
           }
          ],
          "pie": [
           {
            "automargin": true,
            "type": "pie"
           }
          ],
          "scatter": [
           {
            "fillpattern": {
             "fillmode": "overlay",
             "size": 10,
             "solidity": 0.2
            },
            "type": "scatter"
           }
          ],
          "scatter3d": [
           {
            "line": {
             "colorbar": {
              "outlinewidth": 0,
              "ticks": ""
             }
            },
            "marker": {
             "colorbar": {
              "outlinewidth": 0,
              "ticks": ""
             }
            },
            "type": "scatter3d"
           }
          ],
          "scattercarpet": [
           {
            "marker": {
             "colorbar": {
              "outlinewidth": 0,
              "ticks": ""
             }
            },
            "type": "scattercarpet"
           }
          ],
          "scattergeo": [
           {
            "marker": {
             "colorbar": {
              "outlinewidth": 0,
              "ticks": ""
             }
            },
            "type": "scattergeo"
           }
          ],
          "scattergl": [
           {
            "marker": {
             "colorbar": {
              "outlinewidth": 0,
              "ticks": ""
             }
            },
            "type": "scattergl"
           }
          ],
          "scattermapbox": [
           {
            "marker": {
             "colorbar": {
              "outlinewidth": 0,
              "ticks": ""
             }
            },
            "type": "scattermapbox"
           }
          ],
          "scatterpolar": [
           {
            "marker": {
             "colorbar": {
              "outlinewidth": 0,
              "ticks": ""
             }
            },
            "type": "scatterpolar"
           }
          ],
          "scatterpolargl": [
           {
            "marker": {
             "colorbar": {
              "outlinewidth": 0,
              "ticks": ""
             }
            },
            "type": "scatterpolargl"
           }
          ],
          "scatterternary": [
           {
            "marker": {
             "colorbar": {
              "outlinewidth": 0,
              "ticks": ""
             }
            },
            "type": "scatterternary"
           }
          ],
          "surface": [
           {
            "colorbar": {
             "outlinewidth": 0,
             "ticks": ""
            },
            "colorscale": [
             [
              0,
              "#0d0887"
             ],
             [
              0.1111111111111111,
              "#46039f"
             ],
             [
              0.2222222222222222,
              "#7201a8"
             ],
             [
              0.3333333333333333,
              "#9c179e"
             ],
             [
              0.4444444444444444,
              "#bd3786"
             ],
             [
              0.5555555555555556,
              "#d8576b"
             ],
             [
              0.6666666666666666,
              "#ed7953"
             ],
             [
              0.7777777777777778,
              "#fb9f3a"
             ],
             [
              0.8888888888888888,
              "#fdca26"
             ],
             [
              1,
              "#f0f921"
             ]
            ],
            "type": "surface"
           }
          ],
          "table": [
           {
            "cells": {
             "fill": {
              "color": "#EBF0F8"
             },
             "line": {
              "color": "white"
             }
            },
            "header": {
             "fill": {
              "color": "#C8D4E3"
             },
             "line": {
              "color": "white"
             }
            },
            "type": "table"
           }
          ]
         },
         "layout": {
          "annotationdefaults": {
           "arrowcolor": "#2a3f5f",
           "arrowhead": 0,
           "arrowwidth": 1
          },
          "autotypenumbers": "strict",
          "coloraxis": {
           "colorbar": {
            "outlinewidth": 0,
            "ticks": ""
           }
          },
          "colorscale": {
           "diverging": [
            [
             0,
             "#8e0152"
            ],
            [
             0.1,
             "#c51b7d"
            ],
            [
             0.2,
             "#de77ae"
            ],
            [
             0.3,
             "#f1b6da"
            ],
            [
             0.4,
             "#fde0ef"
            ],
            [
             0.5,
             "#f7f7f7"
            ],
            [
             0.6,
             "#e6f5d0"
            ],
            [
             0.7,
             "#b8e186"
            ],
            [
             0.8,
             "#7fbc41"
            ],
            [
             0.9,
             "#4d9221"
            ],
            [
             1,
             "#276419"
            ]
           ],
           "sequential": [
            [
             0,
             "#0d0887"
            ],
            [
             0.1111111111111111,
             "#46039f"
            ],
            [
             0.2222222222222222,
             "#7201a8"
            ],
            [
             0.3333333333333333,
             "#9c179e"
            ],
            [
             0.4444444444444444,
             "#bd3786"
            ],
            [
             0.5555555555555556,
             "#d8576b"
            ],
            [
             0.6666666666666666,
             "#ed7953"
            ],
            [
             0.7777777777777778,
             "#fb9f3a"
            ],
            [
             0.8888888888888888,
             "#fdca26"
            ],
            [
             1,
             "#f0f921"
            ]
           ],
           "sequentialminus": [
            [
             0,
             "#0d0887"
            ],
            [
             0.1111111111111111,
             "#46039f"
            ],
            [
             0.2222222222222222,
             "#7201a8"
            ],
            [
             0.3333333333333333,
             "#9c179e"
            ],
            [
             0.4444444444444444,
             "#bd3786"
            ],
            [
             0.5555555555555556,
             "#d8576b"
            ],
            [
             0.6666666666666666,
             "#ed7953"
            ],
            [
             0.7777777777777778,
             "#fb9f3a"
            ],
            [
             0.8888888888888888,
             "#fdca26"
            ],
            [
             1,
             "#f0f921"
            ]
           ]
          },
          "colorway": [
           "#636efa",
           "#EF553B",
           "#00cc96",
           "#ab63fa",
           "#FFA15A",
           "#19d3f3",
           "#FF6692",
           "#B6E880",
           "#FF97FF",
           "#FECB52"
          ],
          "font": {
           "color": "#2a3f5f"
          },
          "geo": {
           "bgcolor": "white",
           "lakecolor": "white",
           "landcolor": "#E5ECF6",
           "showlakes": true,
           "showland": true,
           "subunitcolor": "white"
          },
          "hoverlabel": {
           "align": "left"
          },
          "hovermode": "closest",
          "mapbox": {
           "style": "light"
          },
          "paper_bgcolor": "white",
          "plot_bgcolor": "#E5ECF6",
          "polar": {
           "angularaxis": {
            "gridcolor": "white",
            "linecolor": "white",
            "ticks": ""
           },
           "bgcolor": "#E5ECF6",
           "radialaxis": {
            "gridcolor": "white",
            "linecolor": "white",
            "ticks": ""
           }
          },
          "scene": {
           "xaxis": {
            "backgroundcolor": "#E5ECF6",
            "gridcolor": "white",
            "gridwidth": 2,
            "linecolor": "white",
            "showbackground": true,
            "ticks": "",
            "zerolinecolor": "white"
           },
           "yaxis": {
            "backgroundcolor": "#E5ECF6",
            "gridcolor": "white",
            "gridwidth": 2,
            "linecolor": "white",
            "showbackground": true,
            "ticks": "",
            "zerolinecolor": "white"
           },
           "zaxis": {
            "backgroundcolor": "#E5ECF6",
            "gridcolor": "white",
            "gridwidth": 2,
            "linecolor": "white",
            "showbackground": true,
            "ticks": "",
            "zerolinecolor": "white"
           }
          },
          "shapedefaults": {
           "line": {
            "color": "#2a3f5f"
           }
          },
          "ternary": {
           "aaxis": {
            "gridcolor": "white",
            "linecolor": "white",
            "ticks": ""
           },
           "baxis": {
            "gridcolor": "white",
            "linecolor": "white",
            "ticks": ""
           },
           "bgcolor": "#E5ECF6",
           "caxis": {
            "gridcolor": "white",
            "linecolor": "white",
            "ticks": ""
           }
          },
          "title": {
           "x": 0.05
          },
          "xaxis": {
           "automargin": true,
           "gridcolor": "white",
           "linecolor": "white",
           "ticks": "",
           "title": {
            "standoff": 15
           },
           "zerolinecolor": "white",
           "zerolinewidth": 2
          },
          "yaxis": {
           "automargin": true,
           "gridcolor": "white",
           "linecolor": "white",
           "ticks": "",
           "title": {
            "standoff": 15
           },
           "zerolinecolor": "white",
           "zerolinewidth": 2
          }
         }
        },
        "title": {
         "text": "Máximo Salarial por Etnia",
         "x": 0.5,
         "xanchor": "center",
         "yanchor": "top"
        },
        "xaxis": {
         "title": {
          "text": "Média Salarial (R$)"
         }
        },
        "yaxis": {
         "title": {
          "text": "Etnia"
         }
        }
       }
      }
     },
     "metadata": {},
     "output_type": "display_data"
    }
   ],
   "source": [
    "# Máximas salariais por etnia \n",
    "import plotly.graph_objects as go\n",
    "\n",
    "valores= [maximosalario_outros, maximosalario_indigenas, maximosalario_amarelas, maximosalario_pretas, maximosalario_pardos, maximosalario_brancos]\n",
    "\n",
    "fig = go.Figure(go.Bar(\n",
    "            x=valores,\n",
    "            y=['Outros', 'Indígenas', 'Amarelas', 'Pretas', 'Pardas', 'Brancas'],\n",
    "            orientation='h',\n",
    "            marker=dict(\n",
    "            color=valores,  \n",
    "            colorscale='sunset',  \n",
    "            #colorbar=dict(title='Média Salarial')  # Barra de cor\n",
    "            )))\n",
    "\n",
    "fig.update_layout(\n",
    "    title={\n",
    "        'text': 'Máximo Salarial por Etnia',\n",
    "        'x': 0.5,  \n",
    "        'xanchor': 'center',  \n",
    "        'yanchor': 'top'\n",
    "    },\n",
    "    xaxis_title='Média Salarial (R$)',\n",
    "    yaxis_title='Etnia',\n",
    "\n",
    ")\n",
    "\n",
    "fig.show()"
   ]
  },
  {
   "cell_type": "markdown",
   "id": "1df075fe",
   "metadata": {},
   "source": [
    "#### Nível de confiança dos salários "
   ]
  },
  {
   "cell_type": "code",
   "execution_count": 137,
   "id": "26dd7e33-37a6-4cdf-ae0c-1ab89c1b0880",
   "metadata": {
    "tags": []
   },
   "outputs": [],
   "source": [
    "# Nível de confiança de 95%\n",
    "conf_nivel = 0.95"
   ]
  },
  {
   "cell_type": "code",
   "execution_count": 138,
   "id": "a8fc7d80-4e6d-4357-aeca-5dcea34b628b",
   "metadata": {
    "tags": []
   },
   "outputs": [
    {
     "data": {
      "text/plain": [
       "np.float64(9891.76809860043)"
      ]
     },
     "execution_count": 138,
     "metadata": {},
     "output_type": "execute_result"
    }
   ],
   "source": [
    "salario = data['SALARIO']\n",
    "\n",
    "# Média amostral do salário \n",
    "mediaamostral_salario = np.mean(salario)\n",
    "mediaamostral_salario"
   ]
  },
  {
   "cell_type": "code",
   "execution_count": 139,
   "id": "b6f85e18-19d9-450c-b080-00d3e5113a39",
   "metadata": {
    "tags": []
   },
   "outputs": [
    {
     "data": {
      "text/plain": [
       "np.float64(8265.033802750899)"
      ]
     },
     "execution_count": 139,
     "metadata": {},
     "output_type": "execute_result"
    }
   ],
   "source": [
    "# Desvio padrão do salário\n",
    "desviopadrao_salario = np.std(salario)\n",
    "desviopadrao_salario"
   ]
  },
  {
   "cell_type": "code",
   "execution_count": 140,
   "id": "f2a87243-a59e-47bc-8de3-edd04e1286fb",
   "metadata": {
    "tags": []
   },
   "outputs": [
    {
     "data": {
      "text/plain": [
       "4271"
      ]
     },
     "execution_count": 140,
     "metadata": {},
     "output_type": "execute_result"
    }
   ],
   "source": [
    "comprimento_salario = len(salario)\n",
    "comprimento_salario"
   ]
  },
  {
   "cell_type": "code",
   "execution_count": 141,
   "id": "4fecfc2b-f1ba-43d5-93f2-c0a333944dd0",
   "metadata": {
    "tags": []
   },
   "outputs": [],
   "source": [
    "from scipy import stats"
   ]
  },
  {
   "cell_type": "code",
   "execution_count": 142,
   "id": "1f4e676b-14d6-45da-b793-ea711ebd4917",
   "metadata": {
    "tags": []
   },
   "outputs": [
    {
     "data": {
      "text/plain": [
       "np.float64(126.482574412923)"
      ]
     },
     "execution_count": 142,
     "metadata": {},
     "output_type": "execute_result"
    }
   ],
   "source": [
    "# Erro padrão \n",
    "erropadrao_salario = stats.sem(salario)\n",
    "erropadrao_salario"
   ]
  },
  {
   "cell_type": "code",
   "execution_count": 143,
   "id": "2dcc4352-2568-4cc6-8d2d-c0a9dec8b154",
   "metadata": {
    "tags": []
   },
   "outputs": [
    {
     "data": {
      "text/plain": [
       "(np.float64(9643.796518946647), np.float64(10139.739678254215))"
      ]
     },
     "execution_count": 143,
     "metadata": {},
     "output_type": "execute_result"
    }
   ],
   "source": [
    "# Nível de confiança \n",
    "stats.t.interval(conf_nivel,comprimento_salario - 1,mediaamostral_salario,scale=erropadrao_salario)"
   ]
  },
  {
   "cell_type": "markdown",
   "id": "1e944c37-8fcc-40cf-b5fa-ca30be9fbea9",
   "metadata": {},
   "source": [
    "Vamos usar um nível de confiança de 90% para determinar o range de salários por gênero "
   ]
  },
  {
   "cell_type": "code",
   "execution_count": 144,
   "id": "320bdb19-c98f-4e67-9b03-7563abb90ef7",
   "metadata": {
    "tags": []
   },
   "outputs": [],
   "source": [
    "level_conf = 0.90"
   ]
  },
  {
   "cell_type": "code",
   "execution_count": 145,
   "id": "d27d7891-6a09-46ed-a115-e793f6ce8307",
   "metadata": {
    "tags": []
   },
   "outputs": [
    {
     "name": "stdout",
     "output_type": "stream",
     "text": [
      "Média amostral salários: \n",
      " homens R$10376.68 \n",
      " mulheres R$8482.26\n"
     ]
    }
   ],
   "source": [
    "# média amostral salario por gênero\n",
    "\n",
    "salario_homens = (data[(data['GENERO']=='Masculino') & (data['SALARIO'])]['SALARIO'])\n",
    "mediaamostral_salario_homens = np.mean(salario_homens)\n",
    "\n",
    "salario_mulheres = (data[(data['GENERO']=='Feminino') & (data['SALARIO'])]['SALARIO'])\n",
    "mediaamostral_salario_mulheres = np.mean(salario_mulheres)\n",
    "\n",
    "\n",
    "print(f'Média amostral salários: \\n homens R${mediaamostral_salario_homens:.2f} \\n mulheres R${mediaamostral_salario_mulheres:.2f}')"
   ]
  },
  {
   "cell_type": "code",
   "execution_count": 146,
   "id": "689b22a3-228b-4f4a-a847-44d938c9fc57",
   "metadata": {
    "tags": []
   },
   "outputs": [
    {
     "name": "stdout",
     "output_type": "stream",
     "text": [
      "Desvio padrão salário: \n",
      " Homens R$8800.55 \n",
      " Mulheres R$6219.18\n"
     ]
    }
   ],
   "source": [
    "# Desvio padrão salario por gênero \n",
    "\n",
    "desviopadrao_salario_homens = np.std(salario_homens)\n",
    "desviopadrao_salario_mulheres = np.std(salario_mulheres)\n",
    "\n",
    "print(f'Desvio padrão salário: \\n Homens R${desviopadrao_salario_homens:.2f} \\n Mulheres R${desviopadrao_salario_mulheres:.2f}')\n"
   ]
  },
  {
   "cell_type": "code",
   "execution_count": 147,
   "id": "97b8767f-b09e-4af1-a54c-beab9f3a9c81",
   "metadata": {
    "tags": []
   },
   "outputs": [],
   "source": [
    "comprimento_salario_homens = len(salario_homens)\n",
    "comprimento_salario_mulheres = len(salario_mulheres)"
   ]
  },
  {
   "cell_type": "code",
   "execution_count": 148,
   "id": "e65e83f6-45d5-420a-90f7-bde4dcce9472",
   "metadata": {
    "tags": []
   },
   "outputs": [],
   "source": [
    "# Erro padrão dos salários por gênero \n",
    "erropadrao_salario_homens = stats.sem(salario_homens)\n",
    "erropadrao_salario_mulheres = stats.sem(salario_mulheres)"
   ]
  },
  {
   "cell_type": "code",
   "execution_count": 149,
   "id": "67fec674-c0a6-4dc8-8f64-6f2438c3b887",
   "metadata": {
    "tags": []
   },
   "outputs": [],
   "source": [
    "# Nível de confiança dos salários \n",
    "nivelconfianca_salario_homens = stats.t.interval(conf_nivel,comprimento_salario_homens - 1,mediaamostral_salario_homens,scale=erropadrao_salario_homens)\n",
    "nivelconfiança_salario_mulheres = stats.t.interval(conf_nivel,comprimento_salario_mulheres - 1,mediaamostral_salario_mulheres, scale= erropadrao_salario_mulheres)\n"
   ]
  },
  {
   "cell_type": "code",
   "execution_count": 150,
   "id": "f3825ad0-86bc-458c-9dcc-07a308586666",
   "metadata": {
    "tags": []
   },
   "outputs": [
    {
     "name": "stdout",
     "output_type": "stream",
     "text": [
      "Com 90% de confiança o salário médio por gênero é: \n",
      " Homens (np.float64(10071.310158346858), np.float64(10682.045635622204)) \n",
      " Mulheres (np.float64(10071.310158346858), np.float64(10682.045635622204)).\n"
     ]
    }
   ],
   "source": [
    "print(f'Com 90% de confiança o salário médio por gênero é: \\n Homens {nivelconfianca_salario_homens} \\n Mulheres {nivelconfianca_salario_homens}.')"
   ]
  },
  {
   "cell_type": "markdown",
   "id": "70b4646d-f58b-475c-a8ef-abeed8498c01",
   "metadata": {},
   "source": [
    "#### Aplicação da correlação de Pearson para idades e salários "
   ]
  },
  {
   "cell_type": "code",
   "execution_count": 151,
   "id": "50effb50-9206-48d4-a648-49d7fc75fbdd",
   "metadata": {
    "tags": []
   },
   "outputs": [
    {
     "name": "stdout",
     "output_type": "stream",
     "text": [
      "A correlação entre idade e salário é de  0.2909. \n",
      " Mostrando que a idade não é um fator significativo para o crescimento do salário.\n"
     ]
    }
   ],
   "source": [
    "# Using pandas and Pearson correlation \n",
    "\n",
    "correlacaop_salario = data['IDADE'].corr(data['SALARIO'])\n",
    "print(f'A correlação entre idade e salário é de  {correlacaop_salario:.4f}. \\n Mostrando que a idade não é um fator significativo para o crescimento do salário.')"
   ]
  },
  {
   "cell_type": "code",
   "execution_count": 152,
   "id": "4574d6c5-dab2-4cd3-a18f-60de9f7e8bf9",
   "metadata": {
    "tags": []
   },
   "outputs": [],
   "source": [
    "from scipy.stats import chi2_contingency"
   ]
  },
  {
   "cell_type": "markdown",
   "id": "bbaf480a",
   "metadata": {},
   "source": [
    "#### Coeficiente de Cramer para compreender cresciemento do salário "
   ]
  },
  {
   "cell_type": "code",
   "execution_count": 153,
   "id": "ca46aa0c-0a4b-4ae8-819e-53fb18002c42",
   "metadata": {
    "tags": []
   },
   "outputs": [],
   "source": [
    "\n",
    "def cramer_coef(column1, column2):\n",
    "    tabela_cruzada = np.array(pd.crosstab(column1,column2))\n",
    "    chi2 = chi2_contingency(tabela_cruzada)[0]\n",
    "    soma_tabela_cruzada = np.sum(tabela_cruzada)\n",
    "    mini_tabela_cruzada = min(tabela_cruzada.shape)-1\n",
    "    cramer = np.sqrt(chi2/(soma_tabela_cruzada*mini_tabela_cruzada))\n",
    "    return cramer"
   ]
  },
  {
   "cell_type": "code",
   "execution_count": 154,
   "id": "4759eeaa-e56e-49aa-b3a9-039c07a4538a",
   "metadata": {
    "tags": []
   },
   "outputs": [],
   "source": [
    "cramer_ensino_etnia = cramer_coef(data['NIVEL DE ENSINO'], data['COR/RACA/ETNIA'])"
   ]
  },
  {
   "cell_type": "code",
   "execution_count": 155,
   "id": "a758f460-ebad-4f55-ba8a-6d1bae726cff",
   "metadata": {
    "tags": []
   },
   "outputs": [
    {
     "name": "stdout",
     "output_type": "stream",
     "text": [
      "A baixa correlação apresentada pelo coeficiente de Cramer 0.0450 leva a entender que não há relação entre etnia e nível de ensino.\n",
      " Entretanto na sociedade esses são fatores fortemente correlacionados. \n",
      "Será que essa baixa correlação de cramer se deve ao fato que a área de TI já é uma área que já exige formação para atuar?\n"
     ]
    }
   ],
   "source": [
    "print(f'A baixa correlação apresentada pelo coeficiente de Cramer {cramer_ensino_etnia:.4f} leva a entender que não há relação entre etnia e nível de ensino.\\n Entretanto na sociedade esses são fatores fortemente correlacionados. \\nSerá que essa baixa correlação de cramer se deve ao fato que a área de TI já é uma área que já exige formação para atuar?')"
   ]
  },
  {
   "cell_type": "code",
   "execution_count": 156,
   "id": "b4323534-7099-4259-aa91-02c41f82f6d7",
   "metadata": {
    "tags": []
   },
   "outputs": [],
   "source": [
    "cramer_salario_regiaomora = cramer_coef(data['SALARIO'], data['REGIAO ONDE MORA'])\n",
    "cramer_salario_estado = cramer_coef(data['SALARIO'], data['ESTADO ONDE MORA'])\n",
    "cramer_salario_mudancaestado = cramer_coef(data['SALARIO'], data['MUDOU DE ESTADO?'])\n",
    "\n",
    "\n"
   ]
  },
  {
   "cell_type": "code",
   "execution_count": 157,
   "id": "391a1d67-389e-4bb1-9cd6-f31684a38d2a",
   "metadata": {
    "tags": []
   },
   "outputs": [
    {
     "name": "stdout",
     "output_type": "stream",
     "text": [
      "Área e nível de estudo também são fatores que se mostraram fortemente correlacionados e significativos para os salários dos funcionários. \n",
      " A correlação entre salário e nível de ensino (0.8402), salário e área de formação (0.8596) e salário e formação na área de computação (0.8852), também é bastante significativa. O que demonstra o peso da formação profissional na área de TI.\n"
     ]
    }
   ],
   "source": [
    "cramer_salario_nivelensino = cramer_coef(data['SALARIO'], data['NIVEL DE ENSINO'])\n",
    "cramer_salario_areaform = cramer_coef(data['SALARIO'],data['ÁREA DE FORMAÇÃO'])\n",
    "cramer_salario_computacao = cramer_coef(data['SALARIO'], data['COMPUTAÇÃO?'])\n",
    "\n",
    "print(f'Área e nível de estudo também são fatores que se mostraram fortemente correlacionados e significativos para os salários dos funcionários. \\n A correlação entre salário e nível de ensino ({cramer_salario_nivelensino:.4f}), salário e área de formação ({cramer_salario_areaform:.4f}) e salário e formação na área de computação ({cramer_salario_computacao:.4f}), também é bastante significativa. O que demonstra o peso da formação profissional na área de TI.')"
   ]
  },
  {
   "cell_type": "code",
   "execution_count": 158,
   "id": "35ab595e-76da-47c4-bbeb-c3e75f4482f7",
   "metadata": {
    "tags": []
   },
   "outputs": [
    {
     "name": "stdout",
     "output_type": "stream",
     "text": [
      "Entretanto, alguns fatores apresentaram uma correlção maior que 94%. \n",
      " São eles salário e tempo de experiência (0.9516), setor (0.9467) e número de funcionários (0.9478). \n",
      " Indicando que o tempo de experiência na área é um fator valorizado dentro da área de TI e, essa valorização, gera implicação direta em maiores salários. \n",
      " Assim como a escolha do setor onde irá trabalhar e a escolha por empresas de grande porte. \n"
     ]
    }
   ],
   "source": [
    "cramer_salario_experiencia = cramer_coef(data['SALARIO'], data['QUANTO TEMPO DE EXPERIÊNCIA NA ÁREA DE DADOS VOCÊ TEM?'])\n",
    "cramer_salario_nfuncionarios = cramer_coef(data['SALARIO'], data['NUMERO DE FUNCIONARIOS'])\n",
    "cramer_salario_setor = cramer_coef(data['SALARIO'], data['SETOR'])\n",
    "\n",
    "print(f'Entretanto, alguns fatores apresentaram uma correlção maior que 94%. \\n São eles salário e tempo de experiência ({cramer_salario_experiencia:.4f}), setor ({cramer_salario_setor:.4f}) e número de funcionários ({cramer_salario_nfuncionarios:.4f}). \\n Indicando que o tempo de experiência na área é um fator valorizado dentro da área de TI e, essa valorização, gera implicação direta em maiores salários. \\n Assim como a escolha do setor onde irá trabalhar e a escolha por empresas de grande porte. ')\n"
   ]
  },
  {
   "cell_type": "code",
   "execution_count": 159,
   "id": "bea591fa-dec8-4957-adfe-c4d6c9ce805a",
   "metadata": {
    "tags": []
   },
   "outputs": [
    {
     "data": {
      "text/html": [
       "<div>\n",
       "<style scoped>\n",
       "    .dataframe tbody tr th:only-of-type {\n",
       "        vertical-align: middle;\n",
       "    }\n",
       "\n",
       "    .dataframe tbody tr th {\n",
       "        vertical-align: top;\n",
       "    }\n",
       "\n",
       "    .dataframe thead th {\n",
       "        text-align: right;\n",
       "    }\n",
       "</style>\n",
       "<table border=\"1\" class=\"dataframe\">\n",
       "  <thead>\n",
       "    <tr style=\"text-align: right;\">\n",
       "      <th>COR/RACA/ETNIA</th>\n",
       "      <th>Amarela</th>\n",
       "      <th>Branca</th>\n",
       "      <th>Indígena</th>\n",
       "      <th>Outra</th>\n",
       "      <th>Parda</th>\n",
       "      <th>Prefiro não informar</th>\n",
       "      <th>Preta</th>\n",
       "    </tr>\n",
       "    <tr>\n",
       "      <th>NIVEL DE ENSINO</th>\n",
       "      <th></th>\n",
       "      <th></th>\n",
       "      <th></th>\n",
       "      <th></th>\n",
       "      <th></th>\n",
       "      <th></th>\n",
       "      <th></th>\n",
       "    </tr>\n",
       "  </thead>\n",
       "  <tbody>\n",
       "    <tr>\n",
       "      <th>Doutorado ou Phd</th>\n",
       "      <td>7</td>\n",
       "      <td>127</td>\n",
       "      <td>0</td>\n",
       "      <td>0</td>\n",
       "      <td>50</td>\n",
       "      <td>1</td>\n",
       "      <td>6</td>\n",
       "    </tr>\n",
       "    <tr>\n",
       "      <th>Estudante de Graduação</th>\n",
       "      <td>15</td>\n",
       "      <td>365</td>\n",
       "      <td>2</td>\n",
       "      <td>0</td>\n",
       "      <td>178</td>\n",
       "      <td>2</td>\n",
       "      <td>51</td>\n",
       "    </tr>\n",
       "    <tr>\n",
       "      <th>Graduação/Bacharelado</th>\n",
       "      <td>50</td>\n",
       "      <td>999</td>\n",
       "      <td>4</td>\n",
       "      <td>6</td>\n",
       "      <td>333</td>\n",
       "      <td>14</td>\n",
       "      <td>104</td>\n",
       "    </tr>\n",
       "    <tr>\n",
       "      <th>Mestrado</th>\n",
       "      <td>14</td>\n",
       "      <td>355</td>\n",
       "      <td>2</td>\n",
       "      <td>3</td>\n",
       "      <td>113</td>\n",
       "      <td>1</td>\n",
       "      <td>33</td>\n",
       "    </tr>\n",
       "    <tr>\n",
       "      <th>Não tenho graduação formal</th>\n",
       "      <td>2</td>\n",
       "      <td>65</td>\n",
       "      <td>0</td>\n",
       "      <td>1</td>\n",
       "      <td>33</td>\n",
       "      <td>0</td>\n",
       "      <td>9</td>\n",
       "    </tr>\n",
       "    <tr>\n",
       "      <th>Prefiro não informar</th>\n",
       "      <td>0</td>\n",
       "      <td>8</td>\n",
       "      <td>0</td>\n",
       "      <td>0</td>\n",
       "      <td>3</td>\n",
       "      <td>1</td>\n",
       "      <td>0</td>\n",
       "    </tr>\n",
       "    <tr>\n",
       "      <th>Pós-graduação</th>\n",
       "      <td>40</td>\n",
       "      <td>825</td>\n",
       "      <td>3</td>\n",
       "      <td>7</td>\n",
       "      <td>344</td>\n",
       "      <td>7</td>\n",
       "      <td>88</td>\n",
       "    </tr>\n",
       "  </tbody>\n",
       "</table>\n",
       "</div>"
      ],
      "text/plain": [
       "COR/RACA/ETNIA              Amarela  Branca  Indígena  Outra  Parda  \\\n",
       "NIVEL DE ENSINO                                                       \n",
       "Doutorado ou Phd                  7     127         0      0     50   \n",
       "Estudante de Graduação           15     365         2      0    178   \n",
       "Graduação/Bacharelado            50     999         4      6    333   \n",
       "Mestrado                         14     355         2      3    113   \n",
       "Não tenho graduação formal        2      65         0      1     33   \n",
       "Prefiro não informar              0       8         0      0      3   \n",
       "Pós-graduação                    40     825         3      7    344   \n",
       "\n",
       "COR/RACA/ETNIA              Prefiro não informar  Preta  \n",
       "NIVEL DE ENSINO                                          \n",
       "Doutorado ou Phd                               1      6  \n",
       "Estudante de Graduação                         2     51  \n",
       "Graduação/Bacharelado                         14    104  \n",
       "Mestrado                                       1     33  \n",
       "Não tenho graduação formal                     0      9  \n",
       "Prefiro não informar                           1      0  \n",
       "Pós-graduação                                  7     88  "
      ]
     },
     "execution_count": 159,
     "metadata": {},
     "output_type": "execute_result"
    }
   ],
   "source": [
    "table_cross = pd.crosstab(data['NIVEL DE ENSINO'], data['COR/RACA/ETNIA'])\n",
    "table_cross"
   ]
  },
  {
   "cell_type": "markdown",
   "id": "e7dfbe31-a796-47d9-851b-eb1509047c79",
   "metadata": {
    "tags": []
   },
   "source": [
    "### 3.3. Satisfação e abertura dos usuários para mudança de emprego  "
   ]
  },
  {
   "cell_type": "code",
   "execution_count": 160,
   "id": "398e854a-1809-443e-8cfe-ac37b2ef0a81",
   "metadata": {
    "tags": []
   },
   "outputs": [],
   "source": [
    "data_two = pd.read_excel('/home/apfa/Python Aulas/progMaria/dados_dois_progrmaria.xlsx')"
   ]
  },
  {
   "cell_type": "code",
   "execution_count": 161,
   "id": "eecb7c86-ddba-4771-aa64-b400c29b529b",
   "metadata": {
    "tags": []
   },
   "outputs": [
    {
     "data": {
      "text/html": [
       "<div>\n",
       "<style scoped>\n",
       "    .dataframe tbody tr th:only-of-type {\n",
       "        vertical-align: middle;\n",
       "    }\n",
       "\n",
       "    .dataframe tbody tr th {\n",
       "        vertical-align: top;\n",
       "    }\n",
       "\n",
       "    .dataframe thead th {\n",
       "        text-align: right;\n",
       "    }\n",
       "</style>\n",
       "<table border=\"1\" class=\"dataframe\">\n",
       "  <thead>\n",
       "    <tr style=\"text-align: right;\">\n",
       "      <th></th>\n",
       "      <th>ID</th>\n",
       "      <th>Quanto tempo de experiência na área de dados você tem?</th>\n",
       "      <th>Quanto tempo de experiência na área de TI/Engenharia de Software você teve antes de começar a trabalhar na área de dados?</th>\n",
       "      <th>Você está satisfeito na sua empresa atual?</th>\n",
       "      <th>Qual o principal motivo da sua insatisfação com a empresa atual?</th>\n",
       "      <th>Você participou de entrevistas de emprego nos últimos 6 meses?</th>\n",
       "      <th>Você pretende mudar de emprego nos próximos 6 meses?</th>\n",
       "      <th>Quais os principais critérios que você leva em consideração no momento de decidir onde trabalhar?</th>\n",
       "      <th>Atualmente qual a sua forma de trabalho?</th>\n",
       "      <th>Qual a forma de trabalho ideal para você?</th>\n",
       "      <th>Caso sua empresa decida pelo modelo 100% presencial qual será sua atitude?</th>\n",
       "      <th>Sua empresa passu por Layoff em 2022?</th>\n",
       "      <th>('P4_a_1 ', 'Atuacao')</th>\n",
       "      <th>Quais das linguagens listadas abaixo você utiliza no trabalho?</th>\n",
       "    </tr>\n",
       "  </thead>\n",
       "  <tbody>\n",
       "    <tr>\n",
       "      <th>0</th>\n",
       "      <td>zzqzz3l9ily8nuo2m7wyzzqzz3w48o96</td>\n",
       "      <td>de 1 a 2 anos</td>\n",
       "      <td>de 7 a 10 anos</td>\n",
       "      <td>True</td>\n",
       "      <td>NaN</td>\n",
       "      <td>Não participei de entrevistas de emprego/proce...</td>\n",
       "      <td>Não estou buscando e não pretendo mudar de emp...</td>\n",
       "      <td>Benefícios</td>\n",
       "      <td>Modelo 100% presencial</td>\n",
       "      <td>Modelo híbrido com dias fixos de trabalho pres...</td>\n",
       "      <td>Vou aceitar e retornar ao modelo 100% presencial</td>\n",
       "      <td>Não ocorreram layoffs/demissões em massa na em...</td>\n",
       "      <td>Engenharia de Dados</td>\n",
       "      <td>SQL</td>\n",
       "    </tr>\n",
       "    <tr>\n",
       "      <th>1</th>\n",
       "      <td>zzls2oftfn9law393oezzls2ofhvfpzd</td>\n",
       "      <td>de 3 a 4 anos</td>\n",
       "      <td>Menos de 1 ano</td>\n",
       "      <td>False</td>\n",
       "      <td>Falta de oportunidade de crescimento no empreg...</td>\n",
       "      <td>Sim, fiz entrevistas mas não fui aprovado</td>\n",
       "      <td>Estou em busca de oportunidades dentro ou fora...</td>\n",
       "      <td>Remuneração/Salário, Plano de carreira e oport...</td>\n",
       "      <td>Modelo 100% presencial</td>\n",
       "      <td>Modelo híbrido flexível (o funcionário tem lib...</td>\n",
       "      <td>Vou aceitar e retornar ao modelo 100% presencial</td>\n",
       "      <td>Não ocorreram layoffs/demissões em massa na em...</td>\n",
       "      <td>Gestor</td>\n",
       "      <td>NaN</td>\n",
       "    </tr>\n",
       "    <tr>\n",
       "      <th>2</th>\n",
       "      <td>zzdwqzfqqp1ypc7ps6m0hzzdwqz292yi</td>\n",
       "      <td>de 3 a 4 anos</td>\n",
       "      <td>Mais de 10 anos</td>\n",
       "      <td>False</td>\n",
       "      <td>Falta de oportunidade de crescimento no empreg...</td>\n",
       "      <td>Não participei de entrevistas de emprego/proce...</td>\n",
       "      <td>Não estou buscando, mas me considero aberto a ...</td>\n",
       "      <td>Remuneração/Salário, Flexibilidade de trabalho...</td>\n",
       "      <td>Modelo híbrido com dias fixos de trabalho pres...</td>\n",
       "      <td>Modelo híbrido flexível (o funcionário tem lib...</td>\n",
       "      <td>Vou procurar outra oportunidade no modelo híbr...</td>\n",
       "      <td>Não ocorreram layoffs/demissões em massa na em...</td>\n",
       "      <td>desenvolve modelos preditivos e algoritmos de...</td>\n",
       "      <td>1</td>\n",
       "    </tr>\n",
       "    <tr>\n",
       "      <th>3</th>\n",
       "      <td>zzbqh3uy7yk7k9qmkzzbqtb4s9faqspl</td>\n",
       "      <td>de 4 a 6 anos</td>\n",
       "      <td>Não tive experiência na área de TI/Engenharia ...</td>\n",
       "      <td>True</td>\n",
       "      <td>NaN</td>\n",
       "      <td>Sim, fui aprovado e mudei de emprego</td>\n",
       "      <td>Não estou buscando, mas me considero aberto a ...</td>\n",
       "      <td>Remuneração/Salário, Flexibilidade de trabalho...</td>\n",
       "      <td>Modelo híbrido flexível (o funcionário tem lib...</td>\n",
       "      <td>Modelo híbrido flexível (o funcionário tem lib...</td>\n",
       "      <td>Vou procurar outra oportunidade no modelo híbr...</td>\n",
       "      <td>Não ocorreram layoffs/demissões em massa na em...</td>\n",
       "      <td>desenvolve modelos preditivos e algoritmos de...</td>\n",
       "      <td>0</td>\n",
       "    </tr>\n",
       "    <tr>\n",
       "      <th>4</th>\n",
       "      <td>zzaf1m95yan929rb94wzzaf1mekhvhpg</td>\n",
       "      <td>Não tenho experiência na área de dados</td>\n",
       "      <td>Mais de 10 anos</td>\n",
       "      <td>False</td>\n",
       "      <td>Falta de oportunidade de crescimento no empreg...</td>\n",
       "      <td>Não participei de entrevistas de emprego/proce...</td>\n",
       "      <td>Não estou buscando, mas me considero aberto a ...</td>\n",
       "      <td>Remuneração/Salário, Oportunidade de aprendiza...</td>\n",
       "      <td>Modelo 100% presencial</td>\n",
       "      <td>Modelo 100% presencial</td>\n",
       "      <td>Vou aceitar e retornar ao modelo 100% presencial</td>\n",
       "      <td>Não ocorreram layoffs/demissões em massa na em...</td>\n",
       "      <td>Outra atuação</td>\n",
       "      <td>SQL</td>\n",
       "    </tr>\n",
       "  </tbody>\n",
       "</table>\n",
       "</div>"
      ],
      "text/plain": [
       "                                 ID  \\\n",
       "0  zzqzz3l9ily8nuo2m7wyzzqzz3w48o96   \n",
       "1  zzls2oftfn9law393oezzls2ofhvfpzd   \n",
       "2  zzdwqzfqqp1ypc7ps6m0hzzdwqz292yi   \n",
       "3  zzbqh3uy7yk7k9qmkzzbqtb4s9faqspl   \n",
       "4  zzaf1m95yan929rb94wzzaf1mekhvhpg   \n",
       "\n",
       "  Quanto tempo de experiência na área de dados você tem?  \\\n",
       "0                                      de 1 a 2 anos       \n",
       "1                                      de 3 a 4 anos       \n",
       "2                                      de 3 a 4 anos       \n",
       "3                                      de 4 a 6 anos       \n",
       "4             Não tenho experiência na área de dados       \n",
       "\n",
       "  Quanto tempo de experiência na área de TI/Engenharia de Software você teve antes de começar a trabalhar na área de dados?  \\\n",
       "0                                     de 7 a 10 anos                                                                          \n",
       "1                                     Menos de 1 ano                                                                          \n",
       "2                                    Mais de 10 anos                                                                          \n",
       "3  Não tive experiência na área de TI/Engenharia ...                                                                          \n",
       "4                                    Mais de 10 anos                                                                          \n",
       "\n",
       "  Você está satisfeito na sua empresa atual?  \\\n",
       "0                                       True   \n",
       "1                                      False   \n",
       "2                                      False   \n",
       "3                                       True   \n",
       "4                                      False   \n",
       "\n",
       "  Qual o principal motivo da sua insatisfação com a empresa atual?  \\\n",
       "0                                                NaN                 \n",
       "1  Falta de oportunidade de crescimento no empreg...                 \n",
       "2  Falta de oportunidade de crescimento no empreg...                 \n",
       "3                                                NaN                 \n",
       "4  Falta de oportunidade de crescimento no empreg...                 \n",
       "\n",
       "  Você participou de entrevistas de emprego nos últimos 6 meses?  \\\n",
       "0  Não participei de entrevistas de emprego/proce...               \n",
       "1          Sim, fiz entrevistas mas não fui aprovado               \n",
       "2  Não participei de entrevistas de emprego/proce...               \n",
       "3               Sim, fui aprovado e mudei de emprego               \n",
       "4  Não participei de entrevistas de emprego/proce...               \n",
       "\n",
       "  Você pretende mudar de emprego nos próximos 6 meses?  \\\n",
       "0  Não estou buscando e não pretendo mudar de emp...     \n",
       "1  Estou em busca de oportunidades dentro ou fora...     \n",
       "2  Não estou buscando, mas me considero aberto a ...     \n",
       "3  Não estou buscando, mas me considero aberto a ...     \n",
       "4  Não estou buscando, mas me considero aberto a ...     \n",
       "\n",
       "  Quais os principais critérios que você leva em consideração no momento de decidir onde trabalhar?  \\\n",
       "0                                         Benefícios                                                  \n",
       "1  Remuneração/Salário, Plano de carreira e oport...                                                  \n",
       "2  Remuneração/Salário, Flexibilidade de trabalho...                                                  \n",
       "3  Remuneração/Salário, Flexibilidade de trabalho...                                                  \n",
       "4  Remuneração/Salário, Oportunidade de aprendiza...                                                  \n",
       "\n",
       "            Atualmente qual a sua forma de trabalho?  \\\n",
       "0                             Modelo 100% presencial   \n",
       "1                             Modelo 100% presencial   \n",
       "2  Modelo híbrido com dias fixos de trabalho pres...   \n",
       "3  Modelo híbrido flexível (o funcionário tem lib...   \n",
       "4                             Modelo 100% presencial   \n",
       "\n",
       "           Qual a forma de trabalho ideal para você?  \\\n",
       "0  Modelo híbrido com dias fixos de trabalho pres...   \n",
       "1  Modelo híbrido flexível (o funcionário tem lib...   \n",
       "2  Modelo híbrido flexível (o funcionário tem lib...   \n",
       "3  Modelo híbrido flexível (o funcionário tem lib...   \n",
       "4                             Modelo 100% presencial   \n",
       "\n",
       "  Caso sua empresa decida pelo modelo 100% presencial qual será sua atitude?  \\\n",
       "0   Vou aceitar e retornar ao modelo 100% presencial                           \n",
       "1   Vou aceitar e retornar ao modelo 100% presencial                           \n",
       "2  Vou procurar outra oportunidade no modelo híbr...                           \n",
       "3  Vou procurar outra oportunidade no modelo híbr...                           \n",
       "4   Vou aceitar e retornar ao modelo 100% presencial                           \n",
       "\n",
       "               Sua empresa passu por Layoff em 2022?  \\\n",
       "0  Não ocorreram layoffs/demissões em massa na em...   \n",
       "1  Não ocorreram layoffs/demissões em massa na em...   \n",
       "2  Não ocorreram layoffs/demissões em massa na em...   \n",
       "3  Não ocorreram layoffs/demissões em massa na em...   \n",
       "4  Não ocorreram layoffs/demissões em massa na em...   \n",
       "\n",
       "                              ('P4_a_1 ', 'Atuacao')  \\\n",
       "0                                Engenharia de Dados   \n",
       "1                                             Gestor   \n",
       "2   desenvolve modelos preditivos e algoritmos de...   \n",
       "3   desenvolve modelos preditivos e algoritmos de...   \n",
       "4                                      Outra atuação   \n",
       "\n",
       "  Quais das linguagens listadas abaixo você utiliza no trabalho?  \n",
       "0                                                SQL              \n",
       "1                                                NaN              \n",
       "2                                                  1              \n",
       "3                                                  0              \n",
       "4                                                SQL              "
      ]
     },
     "execution_count": 161,
     "metadata": {},
     "output_type": "execute_result"
    }
   ],
   "source": [
    "data_two.head()"
   ]
  },
  {
   "cell_type": "code",
   "execution_count": 162,
   "id": "fc99a090-39ef-49a3-b260-85354f9f0404",
   "metadata": {
    "tags": []
   },
   "outputs": [],
   "source": [
    "# Connect both tables using the ID column\n",
    "# Now we have a new 'data'\n",
    "data = data.rename(columns={'Unnamed: 0': 'ID'})\n",
    "data = data.merge(data_two, on='ID', how='left')\n",
    "\n"
   ]
  },
  {
   "cell_type": "code",
   "execution_count": 163,
   "id": "7cf1d754-08dd-4888-a679-4d2867c797d8",
   "metadata": {
    "tags": []
   },
   "outputs": [
    {
     "data": {
      "text/plain": [
       "Você pretende mudar de emprego nos próximos 6 meses?\n",
       "Não estou buscando, mas me considero aberto a outras oportunidades         1354\n",
       "Estou em busca de oportunidades dentro ou fora do Brasil                   1011\n",
       "Não estou buscando e não pretendo mudar de emprego nos próximos 6 meses     978\n",
       "Estou em busca de oportunidades, mas apenas fora do Brasil                  353\n",
       "Name: count, dtype: int64"
      ]
     },
     "execution_count": 163,
     "metadata": {},
     "output_type": "execute_result"
    }
   ],
   "source": [
    "data['Você pretende mudar de emprego nos próximos 6 meses?'].value_counts()"
   ]
  },
  {
   "cell_type": "code",
   "execution_count": 164,
   "id": "55bf4333-50ff-46e8-b9b4-92967f162ba3",
   "metadata": {
    "tags": []
   },
   "outputs": [],
   "source": [
    "# Creating new columns \n",
    "# Using 'contens' to search specific words\n",
    "\n",
    "data['EM BUSCA'] = data['Você pretende mudar de emprego nos próximos 6 meses?'].str.contains('em busca', case=False)\n"
   ]
  },
  {
   "cell_type": "code",
   "execution_count": 165,
   "id": "231972ad-4054-4f45-8877-87c901fa8a40",
   "metadata": {
    "tags": []
   },
   "outputs": [
    {
     "data": {
      "text/plain": [
       "EM BUSCA\n",
       "False    2332\n",
       "True     1364\n",
       "Name: count, dtype: int64"
      ]
     },
     "execution_count": 165,
     "metadata": {},
     "output_type": "execute_result"
    }
   ],
   "source": [
    "data['EM BUSCA'].value_counts()"
   ]
  },
  {
   "cell_type": "code",
   "execution_count": 166,
   "id": "380ed0ff",
   "metadata": {},
   "outputs": [],
   "source": [
    "data['NÃO MUDAR'] = data['Você pretende mudar de emprego nos próximos 6 meses?'].str.contains('Não', case=False)\n"
   ]
  },
  {
   "cell_type": "code",
   "execution_count": 167,
   "id": "fcfe563a-0317-450c-8d3c-86236f75fe35",
   "metadata": {
    "tags": []
   },
   "outputs": [],
   "source": [
    "data['ABERTO A OPORTUNIDADES'] = data['Você pretende mudar de emprego nos próximos 6 meses?'].str.contains('aberto', case=False)"
   ]
  },
  {
   "cell_type": "code",
   "execution_count": 168,
   "id": "818c9798-2ac6-4783-84e3-9bfe84541b09",
   "metadata": {
    "tags": []
   },
   "outputs": [
    {
     "data": {
      "text/plain": [
       "ABERTO A OPORTUNIDADES\n",
       "False    2342\n",
       "True     1354\n",
       "Name: count, dtype: int64"
      ]
     },
     "execution_count": 168,
     "metadata": {},
     "output_type": "execute_result"
    }
   ],
   "source": [
    "data['ABERTO A OPORTUNIDADES'].value_counts()"
   ]
  },
  {
   "cell_type": "markdown",
   "id": "4101f163",
   "metadata": {},
   "source": [
    "A quantidade de usuários que se demonstraram abertos a novas oportunidades é altamente similar a quantidade de usuários em busca de empregos. \n",
    "Mostrando que, os usuários que já estão empregados, demonstram estarem satisfeitos com seu emprego. "
   ]
  },
  {
   "cell_type": "markdown",
   "id": "28a3f21d",
   "metadata": {},
   "source": [
    "#### 3.4. Linguagens de programação usadas pelos usuários"
   ]
  },
  {
   "cell_type": "code",
   "execution_count": 169,
   "id": "dd22fa64-439b-4c8a-ad99-b3268f2c0529",
   "metadata": {
    "tags": []
   },
   "outputs": [
    {
     "data": {
      "text/plain": [
       "Quais das linguagens listadas abaixo você utiliza no trabalho?\n",
       "SQL, Python                                             749\n",
       "0                                                       590\n",
       "SQL                                                     329\n",
       "Não utilizo nenhuma das linguagens listadas             301\n",
       "Python, SQL                                             141\n",
       "                                                       ... \n",
       "SQL, .NET, Visual Basic/VBA, JavaScript, PHP, Python      1\n",
       "SQL, Python, Java, C/C++/C#                               1\n",
       ".NET                                                      1\n",
       "SQL, Python, SAS/Stata, Visual Basic/VBA, R               1\n",
       "SQL, PHP, JavaScript                                      1\n",
       "Name: count, Length: 208, dtype: int64"
      ]
     },
     "execution_count": 169,
     "metadata": {},
     "output_type": "execute_result"
    }
   ],
   "source": [
    "data['Quais das linguagens listadas abaixo você utiliza no trabalho?'].value_counts()"
   ]
  },
  {
   "cell_type": "code",
   "execution_count": 170,
   "id": "3631515b-6c1b-43db-b281-fd66df1e7ada",
   "metadata": {
    "tags": []
   },
   "outputs": [],
   "source": [
    "# Criando uma coluna para usuários que usam python\n",
    "data['PYTHON'] = data['Quais das linguagens listadas abaixo você utiliza no trabalho?'].str.contains('Python', case=False)\n",
    "data['PYTHON'].value_counts()\n",
    "linguagem_python = data['PYTHON'].sum()\n"
   ]
  },
  {
   "cell_type": "code",
   "execution_count": 171,
   "id": "9eb5c0c7-2655-40d6-be00-f1b31c2a1845",
   "metadata": {
    "tags": []
   },
   "outputs": [],
   "source": [
    "# Criando uma coluna para usuários que usam SQL\n",
    "data['SQL'] = data['Quais das linguagens listadas abaixo você utiliza no trabalho?'].str.contains('SQL', case=False)\n",
    "data['SQL'].value_counts()\n",
    "linguagem_sql = data['SQL'].sum()\n"
   ]
  },
  {
   "cell_type": "code",
   "execution_count": 172,
   "id": "cebc7a4a",
   "metadata": {},
   "outputs": [],
   "source": [
    "# Criando uma coluna para usuários que usam Java\n",
    "data['JavaScript'] = data['Quais das linguagens listadas abaixo você utiliza no trabalho?'].str.contains('JavaScript', case=False, na=False)\n",
    "data['JavaScript'].value_counts()\n",
    "linguagem_javascript = data['JavaScript'].sum()\n",
    "\n"
   ]
  },
  {
   "cell_type": "code",
   "execution_count": 173,
   "id": "479d3599",
   "metadata": {},
   "outputs": [],
   "source": [
    "# Criando uma coluna para usuários que usam C/C#/C++\n",
    "data['C/C#/C++'] = data['Quais das linguagens listadas abaixo você utiliza no trabalho?'].str.contains('C/C++/C#', case=False, na=False)\n",
    "data['C/C#/C++'].value_counts()\n",
    "linguagem_C = data['C/C#/C++'].sum()\n"
   ]
  },
  {
   "cell_type": "code",
   "execution_count": 174,
   "id": "59f19455",
   "metadata": {},
   "outputs": [],
   "source": [
    "# Criando uma coluna para usuários que usam PHP\n",
    "data['PHP'] = data['Quais das linguagens listadas abaixo você utiliza no trabalho?'].str.contains('PHP', case=False, na=False)\n",
    "data['PHP'].value_counts()\n",
    "linguagem_php = data['PHP'].sum()"
   ]
  },
  {
   "cell_type": "code",
   "execution_count": 175,
   "id": "dbe5aba6",
   "metadata": {},
   "outputs": [],
   "source": [
    "# Criando uma coluna para usuários que usam .NET\n",
    "data['.NET'] = data['Quais das linguagens listadas abaixo você utiliza no trabalho?'].str.contains('.NET', case=False, na=False)\n",
    "data['.NET'].value_counts()\n",
    "linguagem_net = data['.NET'].sum()\n"
   ]
  },
  {
   "cell_type": "code",
   "execution_count": 176,
   "id": "d265cf9b",
   "metadata": {},
   "outputs": [
    {
     "data": {
      "application/vnd.plotly.v1+json": {
       "config": {
        "plotlyServerURL": "https://plot.ly"
       },
       "data": [
        {
         "marker": {
          "color": [
           "#cab2d6",
           "#b2df8a",
           "#fdbf6f",
           "#a6cee3",
           "#ff7f00",
           "#33a02c"
          ]
         },
         "text": [
          "1485",
          "1839",
          "157",
          "31",
          "27",
          "0"
         ],
         "textposition": "auto",
         "type": "bar",
         "x": [
          "Python",
          "SQL",
          "JavaScript",
          "PHP",
          ".NET",
          "C#/C+/C++"
         ],
         "y": [
          1485,
          1839,
          157,
          31,
          27,
          0
         ]
        }
       ],
       "layout": {
        "font": {
         "family": "Times New Roman",
         "size": 18
        },
        "height": 600,
        "showlegend": false,
        "template": {
         "data": {
          "bar": [
           {
            "error_x": {
             "color": "#2a3f5f"
            },
            "error_y": {
             "color": "#2a3f5f"
            },
            "marker": {
             "line": {
              "color": "#E5ECF6",
              "width": 0.5
             },
             "pattern": {
              "fillmode": "overlay",
              "size": 10,
              "solidity": 0.2
             }
            },
            "type": "bar"
           }
          ],
          "barpolar": [
           {
            "marker": {
             "line": {
              "color": "#E5ECF6",
              "width": 0.5
             },
             "pattern": {
              "fillmode": "overlay",
              "size": 10,
              "solidity": 0.2
             }
            },
            "type": "barpolar"
           }
          ],
          "carpet": [
           {
            "aaxis": {
             "endlinecolor": "#2a3f5f",
             "gridcolor": "white",
             "linecolor": "white",
             "minorgridcolor": "white",
             "startlinecolor": "#2a3f5f"
            },
            "baxis": {
             "endlinecolor": "#2a3f5f",
             "gridcolor": "white",
             "linecolor": "white",
             "minorgridcolor": "white",
             "startlinecolor": "#2a3f5f"
            },
            "type": "carpet"
           }
          ],
          "choropleth": [
           {
            "colorbar": {
             "outlinewidth": 0,
             "ticks": ""
            },
            "type": "choropleth"
           }
          ],
          "contour": [
           {
            "colorbar": {
             "outlinewidth": 0,
             "ticks": ""
            },
            "colorscale": [
             [
              0,
              "#0d0887"
             ],
             [
              0.1111111111111111,
              "#46039f"
             ],
             [
              0.2222222222222222,
              "#7201a8"
             ],
             [
              0.3333333333333333,
              "#9c179e"
             ],
             [
              0.4444444444444444,
              "#bd3786"
             ],
             [
              0.5555555555555556,
              "#d8576b"
             ],
             [
              0.6666666666666666,
              "#ed7953"
             ],
             [
              0.7777777777777778,
              "#fb9f3a"
             ],
             [
              0.8888888888888888,
              "#fdca26"
             ],
             [
              1,
              "#f0f921"
             ]
            ],
            "type": "contour"
           }
          ],
          "contourcarpet": [
           {
            "colorbar": {
             "outlinewidth": 0,
             "ticks": ""
            },
            "type": "contourcarpet"
           }
          ],
          "heatmap": [
           {
            "colorbar": {
             "outlinewidth": 0,
             "ticks": ""
            },
            "colorscale": [
             [
              0,
              "#0d0887"
             ],
             [
              0.1111111111111111,
              "#46039f"
             ],
             [
              0.2222222222222222,
              "#7201a8"
             ],
             [
              0.3333333333333333,
              "#9c179e"
             ],
             [
              0.4444444444444444,
              "#bd3786"
             ],
             [
              0.5555555555555556,
              "#d8576b"
             ],
             [
              0.6666666666666666,
              "#ed7953"
             ],
             [
              0.7777777777777778,
              "#fb9f3a"
             ],
             [
              0.8888888888888888,
              "#fdca26"
             ],
             [
              1,
              "#f0f921"
             ]
            ],
            "type": "heatmap"
           }
          ],
          "heatmapgl": [
           {
            "colorbar": {
             "outlinewidth": 0,
             "ticks": ""
            },
            "colorscale": [
             [
              0,
              "#0d0887"
             ],
             [
              0.1111111111111111,
              "#46039f"
             ],
             [
              0.2222222222222222,
              "#7201a8"
             ],
             [
              0.3333333333333333,
              "#9c179e"
             ],
             [
              0.4444444444444444,
              "#bd3786"
             ],
             [
              0.5555555555555556,
              "#d8576b"
             ],
             [
              0.6666666666666666,
              "#ed7953"
             ],
             [
              0.7777777777777778,
              "#fb9f3a"
             ],
             [
              0.8888888888888888,
              "#fdca26"
             ],
             [
              1,
              "#f0f921"
             ]
            ],
            "type": "heatmapgl"
           }
          ],
          "histogram": [
           {
            "marker": {
             "pattern": {
              "fillmode": "overlay",
              "size": 10,
              "solidity": 0.2
             }
            },
            "type": "histogram"
           }
          ],
          "histogram2d": [
           {
            "colorbar": {
             "outlinewidth": 0,
             "ticks": ""
            },
            "colorscale": [
             [
              0,
              "#0d0887"
             ],
             [
              0.1111111111111111,
              "#46039f"
             ],
             [
              0.2222222222222222,
              "#7201a8"
             ],
             [
              0.3333333333333333,
              "#9c179e"
             ],
             [
              0.4444444444444444,
              "#bd3786"
             ],
             [
              0.5555555555555556,
              "#d8576b"
             ],
             [
              0.6666666666666666,
              "#ed7953"
             ],
             [
              0.7777777777777778,
              "#fb9f3a"
             ],
             [
              0.8888888888888888,
              "#fdca26"
             ],
             [
              1,
              "#f0f921"
             ]
            ],
            "type": "histogram2d"
           }
          ],
          "histogram2dcontour": [
           {
            "colorbar": {
             "outlinewidth": 0,
             "ticks": ""
            },
            "colorscale": [
             [
              0,
              "#0d0887"
             ],
             [
              0.1111111111111111,
              "#46039f"
             ],
             [
              0.2222222222222222,
              "#7201a8"
             ],
             [
              0.3333333333333333,
              "#9c179e"
             ],
             [
              0.4444444444444444,
              "#bd3786"
             ],
             [
              0.5555555555555556,
              "#d8576b"
             ],
             [
              0.6666666666666666,
              "#ed7953"
             ],
             [
              0.7777777777777778,
              "#fb9f3a"
             ],
             [
              0.8888888888888888,
              "#fdca26"
             ],
             [
              1,
              "#f0f921"
             ]
            ],
            "type": "histogram2dcontour"
           }
          ],
          "mesh3d": [
           {
            "colorbar": {
             "outlinewidth": 0,
             "ticks": ""
            },
            "type": "mesh3d"
           }
          ],
          "parcoords": [
           {
            "line": {
             "colorbar": {
              "outlinewidth": 0,
              "ticks": ""
             }
            },
            "type": "parcoords"
           }
          ],
          "pie": [
           {
            "automargin": true,
            "type": "pie"
           }
          ],
          "scatter": [
           {
            "fillpattern": {
             "fillmode": "overlay",
             "size": 10,
             "solidity": 0.2
            },
            "type": "scatter"
           }
          ],
          "scatter3d": [
           {
            "line": {
             "colorbar": {
              "outlinewidth": 0,
              "ticks": ""
             }
            },
            "marker": {
             "colorbar": {
              "outlinewidth": 0,
              "ticks": ""
             }
            },
            "type": "scatter3d"
           }
          ],
          "scattercarpet": [
           {
            "marker": {
             "colorbar": {
              "outlinewidth": 0,
              "ticks": ""
             }
            },
            "type": "scattercarpet"
           }
          ],
          "scattergeo": [
           {
            "marker": {
             "colorbar": {
              "outlinewidth": 0,
              "ticks": ""
             }
            },
            "type": "scattergeo"
           }
          ],
          "scattergl": [
           {
            "marker": {
             "colorbar": {
              "outlinewidth": 0,
              "ticks": ""
             }
            },
            "type": "scattergl"
           }
          ],
          "scattermapbox": [
           {
            "marker": {
             "colorbar": {
              "outlinewidth": 0,
              "ticks": ""
             }
            },
            "type": "scattermapbox"
           }
          ],
          "scatterpolar": [
           {
            "marker": {
             "colorbar": {
              "outlinewidth": 0,
              "ticks": ""
             }
            },
            "type": "scatterpolar"
           }
          ],
          "scatterpolargl": [
           {
            "marker": {
             "colorbar": {
              "outlinewidth": 0,
              "ticks": ""
             }
            },
            "type": "scatterpolargl"
           }
          ],
          "scatterternary": [
           {
            "marker": {
             "colorbar": {
              "outlinewidth": 0,
              "ticks": ""
             }
            },
            "type": "scatterternary"
           }
          ],
          "surface": [
           {
            "colorbar": {
             "outlinewidth": 0,
             "ticks": ""
            },
            "colorscale": [
             [
              0,
              "#0d0887"
             ],
             [
              0.1111111111111111,
              "#46039f"
             ],
             [
              0.2222222222222222,
              "#7201a8"
             ],
             [
              0.3333333333333333,
              "#9c179e"
             ],
             [
              0.4444444444444444,
              "#bd3786"
             ],
             [
              0.5555555555555556,
              "#d8576b"
             ],
             [
              0.6666666666666666,
              "#ed7953"
             ],
             [
              0.7777777777777778,
              "#fb9f3a"
             ],
             [
              0.8888888888888888,
              "#fdca26"
             ],
             [
              1,
              "#f0f921"
             ]
            ],
            "type": "surface"
           }
          ],
          "table": [
           {
            "cells": {
             "fill": {
              "color": "#EBF0F8"
             },
             "line": {
              "color": "white"
             }
            },
            "header": {
             "fill": {
              "color": "#C8D4E3"
             },
             "line": {
              "color": "white"
             }
            },
            "type": "table"
           }
          ]
         },
         "layout": {
          "annotationdefaults": {
           "arrowcolor": "#2a3f5f",
           "arrowhead": 0,
           "arrowwidth": 1
          },
          "autotypenumbers": "strict",
          "coloraxis": {
           "colorbar": {
            "outlinewidth": 0,
            "ticks": ""
           }
          },
          "colorscale": {
           "diverging": [
            [
             0,
             "#8e0152"
            ],
            [
             0.1,
             "#c51b7d"
            ],
            [
             0.2,
             "#de77ae"
            ],
            [
             0.3,
             "#f1b6da"
            ],
            [
             0.4,
             "#fde0ef"
            ],
            [
             0.5,
             "#f7f7f7"
            ],
            [
             0.6,
             "#e6f5d0"
            ],
            [
             0.7,
             "#b8e186"
            ],
            [
             0.8,
             "#7fbc41"
            ],
            [
             0.9,
             "#4d9221"
            ],
            [
             1,
             "#276419"
            ]
           ],
           "sequential": [
            [
             0,
             "#0d0887"
            ],
            [
             0.1111111111111111,
             "#46039f"
            ],
            [
             0.2222222222222222,
             "#7201a8"
            ],
            [
             0.3333333333333333,
             "#9c179e"
            ],
            [
             0.4444444444444444,
             "#bd3786"
            ],
            [
             0.5555555555555556,
             "#d8576b"
            ],
            [
             0.6666666666666666,
             "#ed7953"
            ],
            [
             0.7777777777777778,
             "#fb9f3a"
            ],
            [
             0.8888888888888888,
             "#fdca26"
            ],
            [
             1,
             "#f0f921"
            ]
           ],
           "sequentialminus": [
            [
             0,
             "#0d0887"
            ],
            [
             0.1111111111111111,
             "#46039f"
            ],
            [
             0.2222222222222222,
             "#7201a8"
            ],
            [
             0.3333333333333333,
             "#9c179e"
            ],
            [
             0.4444444444444444,
             "#bd3786"
            ],
            [
             0.5555555555555556,
             "#d8576b"
            ],
            [
             0.6666666666666666,
             "#ed7953"
            ],
            [
             0.7777777777777778,
             "#fb9f3a"
            ],
            [
             0.8888888888888888,
             "#fdca26"
            ],
            [
             1,
             "#f0f921"
            ]
           ]
          },
          "colorway": [
           "#636efa",
           "#EF553B",
           "#00cc96",
           "#ab63fa",
           "#FFA15A",
           "#19d3f3",
           "#FF6692",
           "#B6E880",
           "#FF97FF",
           "#FECB52"
          ],
          "font": {
           "color": "#2a3f5f"
          },
          "geo": {
           "bgcolor": "white",
           "lakecolor": "white",
           "landcolor": "#E5ECF6",
           "showlakes": true,
           "showland": true,
           "subunitcolor": "white"
          },
          "hoverlabel": {
           "align": "left"
          },
          "hovermode": "closest",
          "mapbox": {
           "style": "light"
          },
          "paper_bgcolor": "white",
          "plot_bgcolor": "#E5ECF6",
          "polar": {
           "angularaxis": {
            "gridcolor": "white",
            "linecolor": "white",
            "ticks": ""
           },
           "bgcolor": "#E5ECF6",
           "radialaxis": {
            "gridcolor": "white",
            "linecolor": "white",
            "ticks": ""
           }
          },
          "scene": {
           "xaxis": {
            "backgroundcolor": "#E5ECF6",
            "gridcolor": "white",
            "gridwidth": 2,
            "linecolor": "white",
            "showbackground": true,
            "ticks": "",
            "zerolinecolor": "white"
           },
           "yaxis": {
            "backgroundcolor": "#E5ECF6",
            "gridcolor": "white",
            "gridwidth": 2,
            "linecolor": "white",
            "showbackground": true,
            "ticks": "",
            "zerolinecolor": "white"
           },
           "zaxis": {
            "backgroundcolor": "#E5ECF6",
            "gridcolor": "white",
            "gridwidth": 2,
            "linecolor": "white",
            "showbackground": true,
            "ticks": "",
            "zerolinecolor": "white"
           }
          },
          "shapedefaults": {
           "line": {
            "color": "#2a3f5f"
           }
          },
          "ternary": {
           "aaxis": {
            "gridcolor": "white",
            "linecolor": "white",
            "ticks": ""
           },
           "baxis": {
            "gridcolor": "white",
            "linecolor": "white",
            "ticks": ""
           },
           "bgcolor": "#E5ECF6",
           "caxis": {
            "gridcolor": "white",
            "linecolor": "white",
            "ticks": ""
           }
          },
          "title": {
           "x": 0.05
          },
          "xaxis": {
           "automargin": true,
           "gridcolor": "white",
           "linecolor": "white",
           "ticks": "",
           "title": {
            "standoff": 15
           },
           "zerolinecolor": "white",
           "zerolinewidth": 2
          },
          "yaxis": {
           "automargin": true,
           "gridcolor": "white",
           "linecolor": "white",
           "ticks": "",
           "title": {
            "standoff": 15
           },
           "zerolinecolor": "white",
           "zerolinewidth": 2
          }
         }
        },
        "title": {
         "text": "Linguagens de programação utilizadas pelos usuários",
         "x": 0.5
        },
        "width": 800,
        "xaxis": {
         "title": {
          "text": "Linguagens de programação"
         }
        },
        "yaxis": {
         "title": {
          "text": "Número de usuários"
         }
        }
       }
      }
     },
     "metadata": {},
     "output_type": "display_data"
    }
   ],
   "source": [
    "linguagem_nome = ['Python', 'SQL', 'JavaScript','PHP','.NET', 'C#/C+/C++']  \n",
    "linguagens = [linguagem_python, linguagem_sql, linguagem_javascript, linguagem_php, linguagem_net, linguagem_C]\n",
    "\n",
    "\n",
    "bar_colors = ['#cab2d6', '#b2df8a', '#fdbf6f', '#a6cee3', '#ff7f00', '#33a02c'] \n",
    "# Criando o gráfico de barras\n",
    "fig = go.Figure(go.Bar(\n",
    "    x=linguagem_nome,\n",
    "    y=linguagens,\n",
    "    marker_color=bar_colors,  \n",
    "    text=linguagens,  \n",
    "    textposition='auto',  \n",
    "))\n",
    "\n",
    "\n",
    "fig.update_layout(\n",
    "    title=\"Linguagens de programação utilizadas pelos usuários\",     xaxis_title=\"Linguagens de programação\",\n",
    "    yaxis_title=\"Número de usuários\",  \n",
    "    title_x=0.5, \n",
    "    font=dict(family=\"Times New Roman\", size=18),  \n",
    "    width=800,\n",
    "    height=600,\n",
    "    showlegend=False \n",
    "    )\n",
    "\n",
    "fig.show()"
   ]
  },
  {
   "cell_type": "markdown",
   "id": "4772d5f0-7f22-40a6-a0de-ff4b2d389617",
   "metadata": {},
   "source": [
    "# Conclusões"
   ]
  },
  {
   "cell_type": "markdown",
   "id": "a016fd67",
   "metadata": {},
   "source": [
    "#### Satisfação com o emprego\n",
    "\n"
   ]
  },
  {
   "cell_type": "markdown",
   "id": "5c77dafc",
   "metadata": {},
   "source": [
    "#### Uso da correlação de cramer para indicar o percentual de influência de diversas áreas nos salários dos usuários. \n",
    "\n",
    "- A baixa correlação apresentada pelo coeficiente de Cramer (4,5%) leva a entender que não há relação entre etnia e nível de ensino.\n",
    " Entretanto na sociedade esses são fatores fortemente correlacionados. \n",
    "Será que essa baixa correlação de cramer se deve ao fato que a área de TI já é uma área que já exige formação para atuar?\n",
    "\n",
    "- A alta correlação de cramer para salário e região onde moram (86,76%) assim como salário e estado onde mora (84,78%), mostram que sim, a localidade dos usuário é um fator determinante para seus salários. \n",
    " Essa constatação levou a outra, a correlação de cramer entre salário e mudança de estado (88,66%), mostrando que, o fator geografico se demonstrou significativo o suficiente para que os usuário optasse por mudar de estado.\n",
    "\n",
    " - Área e nível de estudo também são fatores que se mostraram fortemente correlacionados e significativos para os salários dos funcionários. \n",
    " A correlação entre salário e nível de ensino (84,02%), salário e área de formação (85,96%) e salário e formação na área de computação (88,52%), também é bastante significativa. O que demonstra o peso da formação profissional na área de TI.\n",
    "\n",
    " - Entretanto, alguns fatores apresentaram uma correlção maior que 94%. \n",
    " São eles salário e tempo de experiência (95,16%), setor (94,67%) e número de funcionários (94,78%). \n",
    " Indicando que o tempo de experiência na área é um fator valorizado dentro da área de TI e, essa valorização, gera implicação direta em maiores salários. \n",
    " Assim como a escolha do setor onde irá trabalhar e a escolha por empresas de grande porte. \n",
    "\n"
   ]
  },
  {
   "cell_type": "code",
   "execution_count": null,
   "id": "40cf8df7",
   "metadata": {},
   "outputs": [],
   "source": []
  }
 ],
 "metadata": {
  "kernelspec": {
   "display_name": "Python 3 (ipykernel)",
   "language": "python",
   "name": "python3"
  },
  "language_info": {
   "codemirror_mode": {
    "name": "ipython",
    "version": 3
   },
   "file_extension": ".py",
   "mimetype": "text/x-python",
   "name": "python",
   "nbconvert_exporter": "python",
   "pygments_lexer": "ipython3",
   "version": "3.11.9"
  }
 },
 "nbformat": 4,
 "nbformat_minor": 5
}
